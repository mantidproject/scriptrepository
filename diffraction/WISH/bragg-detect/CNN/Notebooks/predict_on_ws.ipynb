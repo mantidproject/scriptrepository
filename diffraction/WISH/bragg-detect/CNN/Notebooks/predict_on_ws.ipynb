{
 "cells": [
  {
   "cell_type": "code",
   "execution_count": 1,
   "id": "64c77b4b-2980-414f-83db-315f1b2b1521",
   "metadata": {},
   "outputs": [],
   "source": [
    "import torch as tc\n",
    "import numpy as np\n",
    "import pickle\n",
    "import os\n",
    "from wish_utils import *\n",
    "from WishDataSet import WishTubeFrameDataSet, get_transform, WishWorkspaceDataSet\n",
    "import albumentations as A\n",
    "from albumentations.pytorch.transforms import ToTensorV2\n",
    "import utils\n",
    "import threading\n",
    "import multiprocessing as mp\n",
    "from tqdm.notebook import tqdm"
   ]
  },
  {
   "cell_type": "code",
   "execution_count": 2,
   "id": "2dfc5c62-9598-495f-81e3-8d3fc037bd35",
   "metadata": {},
   "outputs": [],
   "source": [
    "model_path = '/mnt/ceph/home/wj1132075/Desktop/CNN_Model_Data/TbyT_rot_ax0ax1_withneighb_fasterrcnn_resnet50_fpn.pt'"
   ]
  },
  {
   "cell_type": "code",
   "execution_count": 3,
   "id": "7b51e034-1d09-405e-977b-c0ef2efe4a2f",
   "metadata": {},
   "outputs": [
    {
     "data": {
      "text/plain": [
       "device(type='cuda')"
      ]
     },
     "execution_count": 3,
     "metadata": {},
     "output_type": "execute_result"
    }
   ],
   "source": [
    "device = tc.device('cuda') if tc.cuda.is_available() else tc.device('cpu')\n",
    "device"
   ]
  },
  {
   "cell_type": "code",
   "execution_count": 4,
   "id": "f3c6d2ad-d497-4ee2-ad2f-38c153e60702",
   "metadata": {},
   "outputs": [],
   "source": [
    "ws_name=\"WISH00044720\"\n",
    "workspace_path = f\"/mnt/ceph/home/wj1132075/Desktop/CNN_Model_Data/Inferences/RealData/{ws_name}.npz\""
   ]
  },
  {
   "cell_type": "code",
   "execution_count": 5,
   "id": "0a69afc3-2fff-4846-9642-8e335e10fc66",
   "metadata": {},
   "outputs": [
    {
     "name": "stdout",
     "output_type": "stream",
     "text": [
      "data set create for /mnt/ceph/home/wj1132075/Desktop/CNN_Model_Data/Inferences/RealData/WISH00044720.npz shape(1520, 128, 1540)\n"
     ]
    }
   ],
   "source": [
    "ds = WishWorkspaceDataSet(workspace_path)"
   ]
  },
  {
   "cell_type": "code",
   "execution_count": 6,
   "id": "642a6a4e-65dc-4b0d-a9c0-190a0e8b638c",
   "metadata": {},
   "outputs": [
    {
     "data": {
      "text/plain": [
       "1520"
      ]
     },
     "execution_count": 6,
     "metadata": {},
     "output_type": "execute_result"
    }
   ],
   "source": [
    "len(ds)"
   ]
  },
  {
   "cell_type": "code",
   "execution_count": 7,
   "id": "400ef904-7b5e-47e2-831c-124486894efe",
   "metadata": {},
   "outputs": [
    {
     "data": {
      "text/plain": [
       "(torch.Size([3, 128, 1540]), torch.Tensor, device(type='cpu'))"
      ]
     },
     "execution_count": 7,
     "metadata": {},
     "output_type": "execute_result"
    }
   ],
   "source": [
    "x = ds[0]\n",
    "x.shape, type(x), x.device"
   ]
  },
  {
   "cell_type": "code",
   "execution_count": 8,
   "id": "72619599-88a9-4357-a27a-b4f218de20db",
   "metadata": {},
   "outputs": [],
   "source": [
    "data_loader = tc.utils.data.DataLoader(ds, batch_size=8, shuffle=False, num_workers=4)"
   ]
  },
  {
   "cell_type": "code",
   "execution_count": 9,
   "id": "91581643-d423-4567-ae3f-14a65f64f194",
   "metadata": {},
   "outputs": [
    {
     "data": {
      "text/plain": [
       "190"
      ]
     },
     "execution_count": 9,
     "metadata": {},
     "output_type": "execute_result"
    }
   ],
   "source": [
    "len(data_loader)"
   ]
  },
  {
   "cell_type": "code",
   "execution_count": 10,
   "id": "12077f78-5091-432d-9ac1-df26637a6937",
   "metadata": {},
   "outputs": [
    {
     "data": {
      "text/plain": [
       "(True, 1)"
      ]
     },
     "execution_count": 10,
     "metadata": {},
     "output_type": "execute_result"
    }
   ],
   "source": [
    "tc.cuda.is_available() , tc.cuda.device_count()"
   ]
  },
  {
   "cell_type": "code",
   "execution_count": 11,
   "id": "26f48eea-09e3-41b5-abc5-1666181ae006",
   "metadata": {},
   "outputs": [
    {
     "name": "stderr",
     "output_type": "stream",
     "text": [
      "/home/wj1132075/.conda/envs/cuda_1/lib/python3.10/site-packages/torchvision/models/_utils.py:208: UserWarning: The parameter 'pretrained' is deprecated since 0.13 and may be removed in the future, please use 'weights' instead.\n",
      "  warnings.warn(\n",
      "/home/wj1132075/.conda/envs/cuda_1/lib/python3.10/site-packages/torchvision/models/_utils.py:223: UserWarning: Arguments other than a weight enum or `None` for 'weights' are deprecated since 0.13 and may be removed in the future. The current behavior is equivalent to passing `weights=FasterRCNN_ResNet50_FPN_Weights.COCO_V1`. You can also use `weights=FasterRCNN_ResNet50_FPN_Weights.DEFAULT` to get the most up-to-date weights.\n",
      "  warnings.warn(msg)\n"
     ]
    }
   ],
   "source": [
    "model = get_object_detection_model(num_classes=2)\n",
    "model.load_state_dict(tc.load(model_path, map_location=device))\n",
    "model = model.to(device)"
   ]
  },
  {
   "cell_type": "code",
   "execution_count": 12,
   "id": "0a89406e-7883-49dc-b2a7-c80e1e878976",
   "metadata": {},
   "outputs": [],
   "source": [
    "# ws = np.load(workspace_path)['arr_0']"
   ]
  },
  {
   "cell_type": "code",
   "execution_count": 13,
   "id": "ee66e2a1-d76a-4995-8d49-7ab269ebde4a",
   "metadata": {},
   "outputs": [],
   "source": [
    "# ws.shape"
   ]
  },
  {
   "cell_type": "code",
   "execution_count": 14,
   "id": "5e5d9674-f748-4c4c-a521-c7ad056cf4e7",
   "metadata": {},
   "outputs": [],
   "source": [
    "def plot_tube_detections(tube_idx, bin_data, predicted_boxes, score_threshold = 0.75):\n",
    "    fig = plt.figure(figsize=(6,6))\n",
    "    ax = fig.add_subplot(111)\n",
    "    cs = plt.contourf(bin_data)\n",
    "    plt.colorbar(cs)\n",
    "    \n",
    "    plotted_predictions = 0\n",
    "    for box, score in zip(predicted_boxes['boxes'], predicted_boxes['scores']):\n",
    "        # print(f\"prediction={box} score={score}\")\n",
    "        x_hat, y_hat = (box[0]+box[2])/2, (box[1]+box[3])/2\n",
    "        if score < score_threshold:\n",
    "            # print(f\"----->Ignoring the prediction at x={x_hat} y={y_hat} with score={score}\")\n",
    "            plt.plot(x_hat, y_hat, marker=\"x\", markersize=5, markeredgecolor=\"white\", markerfacecolor=\"white\")\n",
    "            continue\n",
    "            \n",
    "        # print(f\"Prediction coordinate x={x_hat} y={y_hat}\")\n",
    "        plt.plot(x_hat, y_hat, marker=\"x\", markersize=5, markeredgecolor=\"red\", markerfacecolor=\"red\")\n",
    "        plotted_predictions += 1\n",
    "\n",
    "    plt.title(f\"Tube-{tube_idx} Predicted-{plotted_predictions} peaks\")\n",
    "    plt.show()"
   ]
  },
  {
   "cell_type": "code",
   "execution_count": 15,
   "id": "a5bdc8d0-fca7-46db-b4ea-636af9e1e655",
   "metadata": {},
   "outputs": [],
   "source": [
    "# frame_to_tensor = A.Compose([ToTensorV2(p=1.0)])"
   ]
  },
  {
   "cell_type": "code",
   "execution_count": 16,
   "id": "7403e45f-b42a-4afa-8ba6-48156afd40f2",
   "metadata": {},
   "outputs": [],
   "source": [
    "# img = np.tile(frame_data[:, :, None], 3).astype(np.float32)"
   ]
  },
  {
   "cell_type": "code",
   "execution_count": 17,
   "id": "547825a0-7db7-4796-98bf-87a0a04050ee",
   "metadata": {},
   "outputs": [],
   "source": [
    "# b = a(image=img)"
   ]
  },
  {
   "cell_type": "code",
   "execution_count": 18,
   "id": "3dbd44eb-e54d-44b1-8cb3-6df9ebc4ff82",
   "metadata": {},
   "outputs": [],
   "source": [
    "# b['image'].shape, type(b['image'])"
   ]
  },
  {
   "cell_type": "code",
   "execution_count": 19,
   "id": "58a23012-49fb-4d7b-96d0-0e21fa6056b8",
   "metadata": {},
   "outputs": [],
   "source": [
    "# for tube in range(ws.shape[0]):\n",
    "#     frame_data = ws[tube, ...]\n",
    "#     img = np.tile(frame_data[:,:, None], 3).astype(np.float32)\n",
    "#     img = frame_to_tensor(image=img)\n",
    "#     # print(np.tile(frame_data[None,:,:], 3).shape)\n",
    "#     # img_res = tc.from_numpy(img_res)"
   ]
  },
  {
   "cell_type": "code",
   "execution_count": 20,
   "id": "34668072-4ec0-468a-bec5-66c68041dce6",
   "metadata": {},
   "outputs": [],
   "source": [
    "# img"
   ]
  },
  {
   "cell_type": "code",
   "execution_count": 21,
   "id": "033e8ec3-fb82-4f3f-9b23-55a51c34be1b",
   "metadata": {},
   "outputs": [],
   "source": [
    "# model.eval()\n",
    "\n",
    "# probe = 0\n",
    "\n",
    "# for img in range(ws.shape[0]):\n",
    "#     frame_data = ws[tube, ...]\n",
    "#     frame = np.tile(frame_data[:,:, None], 3).astype(np.float32)\n",
    "#     frame = frame_to_tensor(image=frame)\n",
    "#     with tc.no_grad():\n",
    "#         prediction = model([frame['image'].to(device)])[0]\n",
    "#         print(prediction)\n",
    "#         nms_prediction = apply_nms(prediction, iou_thresh=0.001)\n",
    "#         plot_tube_detections(frame['image'][0,:,:], nms_prediction, 0.50)\n",
    "#         probe += 1\n",
    "#         if probe > 1:\n",
    "#             break"
   ]
  },
  {
   "cell_type": "code",
   "execution_count": 22,
   "id": "7b0e44f8-7eab-4248-8d9b-750a480bc69e",
   "metadata": {},
   "outputs": [
    {
     "name": "stdout",
     "output_type": "stream",
     "text": [
      "CPU times: user 37.7 s, sys: 1.01 s, total: 38.8 s\n",
      "Wall time: 42.9 s\n"
     ]
    }
   ],
   "source": [
    "%%time\n",
    "model.eval()\n",
    "probe = 0\n",
    "predicted_indices_with_score = []\n",
    "\n",
    "for batch_idx, img_batch in enumerate(data_loader):\n",
    "    for img_idx, img in enumerate(img_batch):\n",
    "        tube_idx = batch_idx * data_loader.batch_size + img_idx\n",
    "        with tc.no_grad():\n",
    "            prediction = model([img.to(device)])[0]\n",
    "            nms_prediction = apply_nms(prediction, iou_thresh=0.001)\n",
    "            for box, score in zip(nms_prediction['boxes'], nms_prediction['scores']):\n",
    "                tof = (box[0]+box[2])/2\n",
    "                tube_res = (box[1]+box[3])/2\n",
    "                predicted_indices_with_score.append([tube_idx, tube_res, tof, score])\n",
    "            # plot_tube_detections(tube_idx, img[0,:,:], nms_prediction, 0.50)\n",
    "            probe += 1\n",
    "            \n",
    "    # if probe > 1:\n",
    "    #     break"
   ]
  },
  {
   "cell_type": "code",
   "execution_count": 23,
   "id": "2ea21818-2b2a-42e8-80eb-35bbdda0978b",
   "metadata": {},
   "outputs": [
    {
     "data": {
      "text/plain": [
       "130"
      ]
     },
     "execution_count": 23,
     "metadata": {},
     "output_type": "execute_result"
    }
   ],
   "source": [
    "len(predicted_indices_with_score)"
   ]
  },
  {
   "cell_type": "code",
   "execution_count": 24,
   "id": "ccd2cd7f-a9be-40d7-a391-7be100566fb8",
   "metadata": {},
   "outputs": [
    {
     "data": {
      "text/plain": [
       "[[94, tensor(63.9935), tensor(694.4263), tensor(0.0858)],\n",
       " [258, tensor(63.4673), tensor(613.6406), tensor(0.9007)],\n",
       " [258, tensor(63.5386), tensor(979.6720), tensor(0.8210)],\n",
       " [259, tensor(63.0234), tensor(616.9379), tensor(0.9476)],\n",
       " [259, tensor(62.8094), tensor(981.2410), tensor(0.8365)],\n",
       " [260, tensor(63.7084), tensor(617.9465), tensor(0.8917)],\n",
       " [260, tensor(63.9258), tensor(983.8971), tensor(0.8198)],\n",
       " [320, tensor(64.2576), tensor(641.8206), tensor(0.1162)],\n",
       " [367, tensor(63.4823), tensor(1004.5889), tensor(0.8016)],\n",
       " [367, tensor(63.6780), tensor(637.5804), tensor(0.7661)],\n",
       " [368, tensor(64.8655), tensor(640.4392), tensor(0.8100)],\n",
       " [368, tensor(64.7994), tensor(1005.7531), tensor(0.7299)],\n",
       " [369, tensor(63.2543), tensor(1007.6409), tensor(0.8534)],\n",
       " [369, tensor(63.0675), tensor(640.8425), tensor(0.8464)],\n",
       " [440, tensor(64.0928), tensor(965.4148), tensor(0.7139)],\n",
       " [440, tensor(64.1535), tensor(598.5773), tensor(0.4873)],\n",
       " [441, tensor(63.0361), tensor(600.3401), tensor(0.8371)],\n",
       " [441, tensor(63.2949), tensor(966.5223), tensor(0.6753)],\n",
       " [442, tensor(63.9404), tensor(967.6298), tensor(0.7598)],\n",
       " [442, tensor(63.7543), tensor(599.8881), tensor(0.5769)],\n",
       " [489, tensor(63.4446), tensor(907.4460), tensor(0.6209)],\n",
       " [490, tensor(64.7952), tensor(908.4592), tensor(0.7828)],\n",
       " [491, tensor(64.0968), tensor(909.9884), tensor(0.9843)],\n",
       " [492, tensor(64.9509), tensor(910.5029), tensor(0.7787)],\n",
       " [526, tensor(64.2007), tensor(479.6844), tensor(0.1772)],\n",
       " [527, tensor(63.4843), tensor(481.9125), tensor(0.7488)],\n",
       " [552, tensor(65.2514), tensor(789.7323), tensor(0.7703)],\n",
       " [553, tensor(64.2609), tensor(790.4592), tensor(0.8271)],\n",
       " [554, tensor(64.7860), tensor(791.6414), tensor(0.7077)],\n",
       " [555, tensor(63.0714), tensor(792.2189), tensor(0.7537)],\n",
       " [590, tensor(66.1998), tensor(684.2426), tensor(0.6346)],\n",
       " [591, tensor(65.3111), tensor(685.6659), tensor(0.7524)],\n",
       " [727, tensor(66.5292), tensor(1167.4927), tensor(0.4796)],\n",
       " [728, tensor(65.9811), tensor(1168.0825), tensor(0.8142)],\n",
       " [728, tensor(66.1222), tensor(801.5442), tensor(0.7723)],\n",
       " [728, tensor(66.2254), tensor(954.1421), tensor(0.7388)],\n",
       " [729, tensor(66.5437), tensor(1168.7275), tensor(0.9997)],\n",
       " [729, tensor(66.6725), tensor(955.5865), tensor(0.9989)],\n",
       " [729, tensor(66.2726), tensor(804.6527), tensor(0.9946)],\n",
       " [729, tensor(66.8019), tensor(1050.7841), tensor(0.9137)],\n",
       " [729, tensor(66.6399), tensor(588.5941), tensor(0.9037)],\n",
       " [729, tensor(66.5281), tensor(685.9839), tensor(0.8903)],\n",
       " [729, tensor(66.6828), tensor(740.6172), tensor(0.8643)],\n",
       " [729, tensor(66.7179), tensor(634.9275), tensor(0.8573)],\n",
       " [729, tensor(66.4756), tensor(874.0212), tensor(0.8457)],\n",
       " [729, tensor(66.7558), tensor(1320.2982), tensor(0.8255)],\n",
       " [729, tensor(66.9341), tensor(208.2424), tensor(0.6509)],\n",
       " [730, tensor(66.8969), tensor(1168.9202), tensor(0.9998)],\n",
       " [730, tensor(67.0990), tensor(955.8721), tensor(0.9996)],\n",
       " [730, tensor(67.1615), tensor(804.5186), tensor(0.9971)],\n",
       " [730, tensor(67.2116), tensor(1050.8296), tensor(0.9687)],\n",
       " [730, tensor(67.0544), tensor(589.4684), tensor(0.9637)],\n",
       " [730, tensor(66.9974), tensor(687.1415), tensor(0.9235)],\n",
       " [730, tensor(66.7982), tensor(636.0703), tensor(0.8937)],\n",
       " [730, tensor(67.2037), tensor(874.3931), tensor(0.8608)],\n",
       " [730, tensor(67.3498), tensor(1320.2380), tensor(0.8302)],\n",
       " [730, tensor(67.2461), tensor(741.6707), tensor(0.8283)],\n",
       " [730, tensor(67.2336), tensor(211.9922), tensor(0.7879)],\n",
       " [731, tensor(65.8143), tensor(1168.6919), tensor(0.9996)],\n",
       " [731, tensor(65.7030), tensor(956.3870), tensor(0.9990)],\n",
       " [731, tensor(65.8375), tensor(805.3973), tensor(0.9927)],\n",
       " [731, tensor(65.7943), tensor(589.1207), tensor(0.9199)],\n",
       " [731, tensor(65.8415), tensor(685.9656), tensor(0.8861)],\n",
       " [731, tensor(65.8183), tensor(1051.2493), tensor(0.8799)],\n",
       " [731, tensor(65.6041), tensor(634.6045), tensor(0.8556)],\n",
       " [731, tensor(65.7626), tensor(1320.7877), tensor(0.8508)],\n",
       " [731, tensor(65.6711), tensor(874.2746), tensor(0.7974)],\n",
       " [731, tensor(65.7247), tensor(741.5911), tensor(0.6653)],\n",
       " [732, tensor(66.2308), tensor(954.6953), tensor(0.7660)],\n",
       " [732, tensor(66.0290), tensor(1168.6301), tensor(0.7657)],\n",
       " [732, tensor(66.0678), tensor(802.2441), tensor(0.5772)],\n",
       " [732, tensor(65.2527), tensor(1050.3843), tensor(0.3580)],\n",
       " [733, tensor(65.0163), tensor(1167.8152), tensor(0.8167)],\n",
       " [760, tensor(117.0644), tensor(872.9248), tensor(0.4769)],\n",
       " [761, tensor(68.6081), tensor(671.8820), tensor(0.1063)],\n",
       " [773, tensor(68.7394), tensor(723.6078), tensor(0.4238)],\n",
       " [774, tensor(67.6422), tensor(725.0591), tensor(0.6275)],\n",
       " [775, tensor(68.8162), tensor(724.5928), tensor(0.6660)],\n",
       " [810, tensor(69.0097), tensor(841.5494), tensor(0.6634)],\n",
       " [811, tensor(68.0757), tensor(842.3307), tensor(0.9974)],\n",
       " [812, tensor(68.8877), tensor(842.4608), tensor(0.9989)],\n",
       " [813, tensor(68.5556), tensor(841.4819), tensor(0.8278)],\n",
       " [837, tensor(68.8583), tensor(540.6406), tensor(0.7161)],\n",
       " [838, tensor(69.2690), tensor(541.9742), tensor(0.8074)],\n",
       " [838, tensor(69.3182), tensor(908.0309), tensor(0.7594)],\n",
       " [839, tensor(68.1744), tensor(540.6111), tensor(0.7991)],\n",
       " [839, tensor(68.5920), tensor(908.0725), tensor(0.4000)],\n",
       " [840, tensor(70.1943), tensor(540.1611), tensor(0.7945)],\n",
       " [855, tensor(69.1154), tensor(576.0901), tensor(0.4671)],\n",
       " [872, tensor(69.3602), tensor(979.4539), tensor(0.1609)],\n",
       " [873, tensor(68.0875), tensor(980.0991), tensor(0.7601)],\n",
       " [874, tensor(69.5116), tensor(980.5747), tensor(0.9938)],\n",
       " [874, tensor(69.7891), tensor(612.5149), tensor(0.5446)],\n",
       " [875, tensor(68.8004), tensor(979.9399), tensor(0.9993)],\n",
       " [875, tensor(68.9639), tensor(612.5383), tensor(0.7781)],\n",
       " [876, tensor(69.7053), tensor(979.2234), tensor(0.7114)],\n",
       " [897, tensor(69.2800), tensor(650.7037), tensor(0.1521)],\n",
       " [923, tensor(69.2081), tensor(1055.1426), tensor(0.1637)],\n",
       " [923, tensor(69.0785), tensor(688.2776), tensor(0.0927)],\n",
       " [924, tensor(70.3760), tensor(1055.1541), tensor(0.8272)],\n",
       " [924, tensor(70.2613), tensor(689.1127), tensor(0.7282)],\n",
       " [925, tensor(69.0067), tensor(1054.5540), tensor(0.9370)],\n",
       " [925, tensor(68.7913), tensor(689.2629), tensor(0.9102)],\n",
       " [926, tensor(70.1598), tensor(1054.2512), tensor(0.8424)],\n",
       " [926, tensor(70.4923), tensor(687.9150), tensor(0.8087)],\n",
       " [957, tensor(69.1170), tensor(725.1317), tensor(0.3878)],\n",
       " [996, tensor(69.7401), tensor(758.9909), tensor(0.7907)],\n",
       " [996, tensor(70.0942), tensor(1124.9182), tensor(0.4245)],\n",
       " [997, tensor(69.7427), tensor(1124.3408), tensor(0.8319)],\n",
       " [997, tensor(69.6187), tensor(758.7577), tensor(0.8253)],\n",
       " [998, tensor(70.9090), tensor(1123.3938), tensor(0.7692)],\n",
       " [998, tensor(71.1015), tensor(758.0851), tensor(0.7232)],\n",
       " [999, tensor(69.4778), tensor(756.4738), tensor(0.7469)],\n",
       " [1046, tensor(71.0974), tensor(783.1727), tensor(0.4049)],\n",
       " [1047, tensor(69.4820), tensor(781.4829), tensor(0.1496)],\n",
       " [1066, tensor(70.4130), tensor(571.9507), tensor(0.2303)],\n",
       " [1105, tensor(68.7236), tensor(794.3616), tensor(0.4641)],\n",
       " [1106, tensor(70.7526), tensor(794.6183), tensor(0.9505)],\n",
       " [1106, tensor(70.7184), tensor(1159.8323), tensor(0.8194)],\n",
       " [1107, tensor(68.7057), tensor(793.8230), tensor(0.9643)],\n",
       " [1107, tensor(68.8187), tensor(1158.5620), tensor(0.8071)],\n",
       " [1108, tensor(70.1714), tensor(792.0027), tensor(0.9248)],\n",
       " [1108, tensor(70.1953), tensor(1157.0076), tensor(0.8497)],\n",
       " [1109, tensor(69.1373), tensor(790.0786), tensor(0.6847)],\n",
       " [1155, tensor(68.8134), tensor(568.0817), tensor(0.7035)],\n",
       " [1181, tensor(69.3139), tensor(772.6937), tensor(0.0555)],\n",
       " [1271, tensor(68.4301), tensor(698.5253), tensor(0.6761)],\n",
       " [1272, tensor(70.3541), tensor(696.5298), tensor(0.8219)],\n",
       " [1273, tensor(68.8554), tensor(694.0481), tensor(0.6932)],\n",
       " [1377, tensor(67.4056), tensor(509.5344), tensor(0.3309)]]"
      ]
     },
     "execution_count": 24,
     "metadata": {},
     "output_type": "execute_result"
    }
   ],
   "source": [
    "pred_on_cpu = [[tube, x.cpu(), y.cpu(), z.cpu()] for tube, x, y, z in predicted_indices_with_score]\n",
    "pred_on_cpu"
   ]
  },
  {
   "cell_type": "code",
   "execution_count": 25,
   "id": "8892a334-05e4-4397-8158-0b87807227e5",
   "metadata": {},
   "outputs": [],
   "source": [
    "savepath=f\"/mnt/ceph/home/wj1132075/Desktop/CNN_Model_Data/Inferences/RealData/{ws_name}_inferences_TbyT_Ax0Ax1.npz\"\n",
    "np.savez_compressed(savepath, pred_on_cpu)"
   ]
  },
  {
   "cell_type": "code",
   "execution_count": 26,
   "id": "1baf0112-f167-4101-addf-f15d50ef0518",
   "metadata": {},
   "outputs": [
    {
     "data": {
      "text/plain": [
       "array([[9.40000000e+01, 6.39934769e+01, 6.94426331e+02, 8.58429000e-02],\n",
       "       [2.58000000e+02, 6.34672928e+01, 6.13640564e+02, 9.00671363e-01],\n",
       "       [2.58000000e+02, 6.35386353e+01, 9.79671997e+02, 8.21025431e-01],\n",
       "       [2.59000000e+02, 6.30233536e+01, 6.16937866e+02, 9.47606087e-01],\n",
       "       [2.59000000e+02, 6.28094254e+01, 9.81240967e+02, 8.36528897e-01],\n",
       "       [2.60000000e+02, 6.37083855e+01, 6.17946533e+02, 8.91731679e-01],\n",
       "       [2.60000000e+02, 6.39257851e+01, 9.83897095e+02, 8.19848061e-01],\n",
       "       [3.20000000e+02, 6.42576447e+01, 6.41820557e+02, 1.16221152e-01],\n",
       "       [3.67000000e+02, 6.34823151e+01, 1.00458893e+03, 8.01555693e-01],\n",
       "       [3.67000000e+02, 6.36779785e+01, 6.37580444e+02, 7.66141713e-01],\n",
       "       [3.68000000e+02, 6.48654785e+01, 6.40439209e+02, 8.10019970e-01],\n",
       "       [3.68000000e+02, 6.47993774e+01, 1.00575305e+03, 7.29867995e-01],\n",
       "       [3.69000000e+02, 6.32543259e+01, 1.00764093e+03, 8.53376567e-01],\n",
       "       [3.69000000e+02, 6.30675354e+01, 6.40842529e+02, 8.46389532e-01],\n",
       "       [4.40000000e+02, 6.40928192e+01, 9.65414795e+02, 7.13923514e-01],\n",
       "       [4.40000000e+02, 6.41534653e+01, 5.98577332e+02, 4.87255692e-01],\n",
       "       [4.41000000e+02, 6.30360870e+01, 6.00340149e+02, 8.37143064e-01],\n",
       "       [4.41000000e+02, 6.32949142e+01, 9.66522339e+02, 6.75314188e-01],\n",
       "       [4.42000000e+02, 6.39404144e+01, 9.67629822e+02, 7.59805739e-01],\n",
       "       [4.42000000e+02, 6.37543030e+01, 5.99888062e+02, 5.76939166e-01],\n",
       "       [4.89000000e+02, 6.34446487e+01, 9.07446045e+02, 6.20897591e-01],\n",
       "       [4.90000000e+02, 6.47951965e+01, 9.08459229e+02, 7.82811224e-01],\n",
       "       [4.91000000e+02, 6.40968094e+01, 9.09988403e+02, 9.84271705e-01],\n",
       "       [4.92000000e+02, 6.49508896e+01, 9.10502930e+02, 7.78712451e-01],\n",
       "       [5.26000000e+02, 6.42006836e+01, 4.79684448e+02, 1.77156016e-01],\n",
       "       [5.27000000e+02, 6.34843445e+01, 4.81912476e+02, 7.48838484e-01],\n",
       "       [5.52000000e+02, 6.52514191e+01, 7.89732300e+02, 7.70330369e-01],\n",
       "       [5.53000000e+02, 6.42609024e+01, 7.90459229e+02, 8.27136934e-01],\n",
       "       [5.54000000e+02, 6.47859726e+01, 7.91641418e+02, 7.07712710e-01],\n",
       "       [5.55000000e+02, 6.30713577e+01, 7.92218872e+02, 7.53704011e-01],\n",
       "       [5.90000000e+02, 6.61998444e+01, 6.84242554e+02, 6.34560823e-01],\n",
       "       [5.91000000e+02, 6.53111038e+01, 6.85665894e+02, 7.52357006e-01],\n",
       "       [7.27000000e+02, 6.65292282e+01, 1.16749268e+03, 4.79557395e-01],\n",
       "       [7.28000000e+02, 6.59811401e+01, 1.16808252e+03, 8.14152479e-01],\n",
       "       [7.28000000e+02, 6.61221924e+01, 8.01544189e+02, 7.72307158e-01],\n",
       "       [7.28000000e+02, 6.62254486e+01, 9.54142090e+02, 7.38760233e-01],\n",
       "       [7.29000000e+02, 6.65437164e+01, 1.16872754e+03, 9.99743998e-01],\n",
       "       [7.29000000e+02, 6.66724548e+01, 9.55586548e+02, 9.98935163e-01],\n",
       "       [7.29000000e+02, 6.62726288e+01, 8.04652710e+02, 9.94551480e-01],\n",
       "       [7.29000000e+02, 6.68019028e+01, 1.05078406e+03, 9.13666487e-01],\n",
       "       [7.29000000e+02, 6.66398621e+01, 5.88594116e+02, 9.03705239e-01],\n",
       "       [7.29000000e+02, 6.65280991e+01, 6.85983887e+02, 8.90302122e-01],\n",
       "       [7.29000000e+02, 6.66828308e+01, 7.40617188e+02, 8.64334106e-01],\n",
       "       [7.29000000e+02, 6.67178955e+01, 6.34927490e+02, 8.57271910e-01],\n",
       "       [7.29000000e+02, 6.64756012e+01, 8.74021179e+02, 8.45669866e-01],\n",
       "       [7.29000000e+02, 6.67558136e+01, 1.32029822e+03, 8.25508058e-01],\n",
       "       [7.29000000e+02, 6.69341278e+01, 2.08242371e+02, 6.50941074e-01],\n",
       "       [7.30000000e+02, 6.68969193e+01, 1.16892017e+03, 9.99768674e-01],\n",
       "       [7.30000000e+02, 6.70990143e+01, 9.55872070e+02, 9.99644995e-01],\n",
       "       [7.30000000e+02, 6.71614609e+01, 8.04518616e+02, 9.97079611e-01],\n",
       "       [7.30000000e+02, 6.72115784e+01, 1.05082959e+03, 9.68715787e-01],\n",
       "       [7.30000000e+02, 6.70544052e+01, 5.89468384e+02, 9.63734508e-01],\n",
       "       [7.30000000e+02, 6.69973831e+01, 6.87141479e+02, 9.23521698e-01],\n",
       "       [7.30000000e+02, 6.67981796e+01, 6.36070312e+02, 8.93693447e-01],\n",
       "       [7.30000000e+02, 6.72036743e+01, 8.74393066e+02, 8.60832453e-01],\n",
       "       [7.30000000e+02, 6.73497849e+01, 1.32023804e+03, 8.30167234e-01],\n",
       "       [7.30000000e+02, 6.72461395e+01, 7.41670654e+02, 8.28280032e-01],\n",
       "       [7.30000000e+02, 6.72336044e+01, 2.11992203e+02, 7.87857592e-01],\n",
       "       [7.31000000e+02, 6.58142776e+01, 1.16869189e+03, 9.99641895e-01],\n",
       "       [7.31000000e+02, 6.57030182e+01, 9.56386963e+02, 9.98975635e-01],\n",
       "       [7.31000000e+02, 6.58375092e+01, 8.05397339e+02, 9.92671251e-01],\n",
       "       [7.31000000e+02, 6.57943497e+01, 5.89120728e+02, 9.19895172e-01],\n",
       "       [7.31000000e+02, 6.58415222e+01, 6.85965576e+02, 8.86139274e-01],\n",
       "       [7.31000000e+02, 6.58182678e+01, 1.05124927e+03, 8.79936874e-01],\n",
       "       [7.31000000e+02, 6.56041336e+01, 6.34604492e+02, 8.55636656e-01],\n",
       "       [7.31000000e+02, 6.57625885e+01, 1.32078772e+03, 8.50828290e-01],\n",
       "       [7.31000000e+02, 6.56710892e+01, 8.74274597e+02, 7.97381878e-01],\n",
       "       [7.31000000e+02, 6.57247009e+01, 7.41591125e+02, 6.65345192e-01],\n",
       "       [7.32000000e+02, 6.62308121e+01, 9.54695312e+02, 7.66005635e-01],\n",
       "       [7.32000000e+02, 6.60289764e+01, 1.16863013e+03, 7.65667558e-01],\n",
       "       [7.32000000e+02, 6.60677719e+01, 8.02244141e+02, 5.77195764e-01],\n",
       "       [7.32000000e+02, 6.52527008e+01, 1.05038428e+03, 3.57961506e-01],\n",
       "       [7.33000000e+02, 6.50162811e+01, 1.16781519e+03, 8.16674352e-01],\n",
       "       [7.60000000e+02, 1.17064369e+02, 8.72924805e+02, 4.76924449e-01],\n",
       "       [7.61000000e+02, 6.86081467e+01, 6.71881958e+02, 1.06308773e-01],\n",
       "       [7.73000000e+02, 6.87394028e+01, 7.23607788e+02, 4.23774213e-01],\n",
       "       [7.74000000e+02, 6.76422195e+01, 7.25059082e+02, 6.27453983e-01],\n",
       "       [7.75000000e+02, 6.88162460e+01, 7.24592834e+02, 6.65998936e-01],\n",
       "       [8.10000000e+02, 6.90096512e+01, 8.41549377e+02, 6.63369358e-01],\n",
       "       [8.11000000e+02, 6.80757141e+01, 8.42330688e+02, 9.97390985e-01],\n",
       "       [8.12000000e+02, 6.88876801e+01, 8.42460815e+02, 9.98929799e-01],\n",
       "       [8.13000000e+02, 6.85556488e+01, 8.41481873e+02, 8.27776551e-01],\n",
       "       [8.37000000e+02, 6.88583298e+01, 5.40640625e+02, 7.16138303e-01],\n",
       "       [8.38000000e+02, 6.92689667e+01, 5.41974243e+02, 8.07413101e-01],\n",
       "       [8.38000000e+02, 6.93182373e+01, 9.08030884e+02, 7.59375811e-01],\n",
       "       [8.39000000e+02, 6.81744385e+01, 5.40611084e+02, 7.99058795e-01],\n",
       "       [8.39000000e+02, 6.85919876e+01, 9.08072510e+02, 3.99980068e-01],\n",
       "       [8.40000000e+02, 7.01943359e+01, 5.40161072e+02, 7.94463038e-01],\n",
       "       [8.55000000e+02, 6.91154404e+01, 5.76090088e+02, 4.67090964e-01],\n",
       "       [8.72000000e+02, 6.93601837e+01, 9.79453857e+02, 1.60921752e-01],\n",
       "       [8.73000000e+02, 6.80875397e+01, 9.80099121e+02, 7.60096550e-01],\n",
       "       [8.74000000e+02, 6.95115814e+01, 9.80574707e+02, 9.93833303e-01],\n",
       "       [8.74000000e+02, 6.97891312e+01, 6.12514893e+02, 5.44631004e-01],\n",
       "       [8.75000000e+02, 6.88004074e+01, 9.79939941e+02, 9.99305487e-01],\n",
       "       [8.75000000e+02, 6.89638748e+01, 6.12538330e+02, 7.78139591e-01],\n",
       "       [8.76000000e+02, 6.97052841e+01, 9.79223389e+02, 7.11377800e-01],\n",
       "       [8.97000000e+02, 6.92799835e+01, 6.50703735e+02, 1.52147636e-01],\n",
       "       [9.23000000e+02, 6.92081451e+01, 1.05514258e+03, 1.63656890e-01],\n",
       "       [9.23000000e+02, 6.90785217e+01, 6.88277588e+02, 9.26842541e-02],\n",
       "       [9.24000000e+02, 7.03760071e+01, 1.05515405e+03, 8.27210128e-01],\n",
       "       [9.24000000e+02, 7.02612610e+01, 6.89112671e+02, 7.28220642e-01],\n",
       "       [9.25000000e+02, 6.90066528e+01, 1.05455396e+03, 9.36977029e-01],\n",
       "       [9.25000000e+02, 6.87913055e+01, 6.89262939e+02, 9.10210788e-01],\n",
       "       [9.26000000e+02, 7.01597519e+01, 1.05425122e+03, 8.42383921e-01],\n",
       "       [9.26000000e+02, 7.04923401e+01, 6.87915039e+02, 8.08650136e-01],\n",
       "       [9.57000000e+02, 6.91170197e+01, 7.25131653e+02, 3.87790501e-01],\n",
       "       [9.96000000e+02, 6.97400970e+01, 7.58990906e+02, 7.90687680e-01],\n",
       "       [9.96000000e+02, 7.00941849e+01, 1.12491821e+03, 4.24531877e-01],\n",
       "       [9.97000000e+02, 6.97426605e+01, 1.12434082e+03, 8.31944764e-01],\n",
       "       [9.97000000e+02, 6.96186676e+01, 7.58757690e+02, 8.25316370e-01],\n",
       "       [9.98000000e+02, 7.09090271e+01, 1.12339380e+03, 7.69159436e-01],\n",
       "       [9.98000000e+02, 7.11014633e+01, 7.58085083e+02, 7.23236799e-01],\n",
       "       [9.99000000e+02, 6.94778137e+01, 7.56473755e+02, 7.46946216e-01],\n",
       "       [1.04600000e+03, 7.10973816e+01, 7.83172729e+02, 4.04946148e-01],\n",
       "       [1.04700000e+03, 6.94819870e+01, 7.81482910e+02, 1.49570689e-01],\n",
       "       [1.06600000e+03, 7.04129639e+01, 5.71950684e+02, 2.30298102e-01],\n",
       "       [1.10500000e+03, 6.87235870e+01, 7.94361572e+02, 4.64097351e-01],\n",
       "       [1.10600000e+03, 7.07526245e+01, 7.94618286e+02, 9.50486064e-01],\n",
       "       [1.10600000e+03, 7.07184372e+01, 1.15983228e+03, 8.19442093e-01],\n",
       "       [1.10700000e+03, 6.87057190e+01, 7.93822998e+02, 9.64314580e-01],\n",
       "       [1.10700000e+03, 6.88187408e+01, 1.15856201e+03, 8.07066262e-01],\n",
       "       [1.10800000e+03, 7.01713943e+01, 7.92002686e+02, 9.24829721e-01],\n",
       "       [1.10800000e+03, 7.01953430e+01, 1.15700757e+03, 8.49722445e-01],\n",
       "       [1.10900000e+03, 6.91372833e+01, 7.90078613e+02, 6.84734523e-01],\n",
       "       [1.15500000e+03, 6.88133850e+01, 5.68081665e+02, 7.03531265e-01],\n",
       "       [1.18100000e+03, 6.93138962e+01, 7.72693726e+02, 5.54565191e-02],\n",
       "       [1.27100000e+03, 6.84301071e+01, 6.98525269e+02, 6.76110268e-01],\n",
       "       [1.27200000e+03, 7.03541260e+01, 6.96529846e+02, 8.21878731e-01],\n",
       "       [1.27300000e+03, 6.88554077e+01, 6.94048096e+02, 6.93198085e-01],\n",
       "       [1.37700000e+03, 6.74055939e+01, 5.09534424e+02, 3.30852062e-01]])"
      ]
     },
     "execution_count": 26,
     "metadata": {},
     "output_type": "execute_result"
    }
   ],
   "source": [
    "np.load(savepath)['arr_0']"
   ]
  },
  {
   "cell_type": "code",
   "execution_count": 27,
   "id": "73b786f1-3767-4dba-b1f1-be55f0ba1b98",
   "metadata": {},
   "outputs": [
    {
     "ename": "TypeError",
     "evalue": "can't convert cuda:0 device type tensor to numpy. Use Tensor.cpu() to copy the tensor to host memory first.",
     "output_type": "error",
     "traceback": [
      "\u001b[0;31m---------------------------------------------------------------------------\u001b[0m",
      "\u001b[0;31mTypeError\u001b[0m                                 Traceback (most recent call last)",
      "Cell \u001b[0;32mIn[27], line 1\u001b[0m\n\u001b[0;32m----> 1\u001b[0m arr \u001b[38;5;241m=\u001b[39m \u001b[43mnp\u001b[49m\u001b[38;5;241;43m.\u001b[39;49m\u001b[43marray\u001b[49m\u001b[43m(\u001b[49m\u001b[43mpredicted_indices_with_score\u001b[49m\u001b[43m)\u001b[49m\n\u001b[1;32m      2\u001b[0m arr\u001b[38;5;241m.\u001b[39mshape\n",
      "File \u001b[0;32m~/.conda/envs/cuda_1/lib/python3.10/site-packages/torch/_tensor.py:1062\u001b[0m, in \u001b[0;36mTensor.__array__\u001b[0;34m(self, dtype)\u001b[0m\n\u001b[1;32m   1060\u001b[0m     \u001b[38;5;28;01mreturn\u001b[39;00m handle_torch_function(Tensor\u001b[38;5;241m.\u001b[39m__array__, (\u001b[38;5;28mself\u001b[39m,), \u001b[38;5;28mself\u001b[39m, dtype\u001b[38;5;241m=\u001b[39mdtype)\n\u001b[1;32m   1061\u001b[0m \u001b[38;5;28;01mif\u001b[39;00m dtype \u001b[38;5;129;01mis\u001b[39;00m \u001b[38;5;28;01mNone\u001b[39;00m:\n\u001b[0;32m-> 1062\u001b[0m     \u001b[38;5;28;01mreturn\u001b[39;00m \u001b[38;5;28;43mself\u001b[39;49m\u001b[38;5;241;43m.\u001b[39;49m\u001b[43mnumpy\u001b[49m\u001b[43m(\u001b[49m\u001b[43m)\u001b[49m\n\u001b[1;32m   1063\u001b[0m \u001b[38;5;28;01melse\u001b[39;00m:\n\u001b[1;32m   1064\u001b[0m     \u001b[38;5;28;01mreturn\u001b[39;00m \u001b[38;5;28mself\u001b[39m\u001b[38;5;241m.\u001b[39mnumpy()\u001b[38;5;241m.\u001b[39mastype(dtype, copy\u001b[38;5;241m=\u001b[39m\u001b[38;5;28;01mFalse\u001b[39;00m)\n",
      "\u001b[0;31mTypeError\u001b[0m: can't convert cuda:0 device type tensor to numpy. Use Tensor.cpu() to copy the tensor to host memory first."
     ]
    }
   ],
   "source": [
    "arr = np.array(predicted_indices_with_score)\n",
    "arr.shape"
   ]
  },
  {
   "cell_type": "code",
   "execution_count": null,
   "id": "c91a9d18-fd38-4f99-aadf-26ad9fadfd7d",
   "metadata": {},
   "outputs": [],
   "source": [
    "len(arr[arr[:, -1]>=0.5])"
   ]
  },
  {
   "cell_type": "markdown",
   "id": "fc5bc00c-05fa-4323-9cc8-fab0c6ee84d4",
   "metadata": {},
   "source": [
    "### Data parallelism to speedup"
   ]
  },
  {
   "cell_type": "code",
   "execution_count": null,
   "id": "8198bf0d-56ba-405e-8206-2d49dd869d31",
   "metadata": {},
   "outputs": [],
   "source": [
    "def doInference(img_batch):\n",
    "    model.eval()\n",
    "    predicted_indices_with_score = []\n",
    "    batch_idx, img_batch = img_batch\n",
    "    print(f\"Starting {batch_idx}\")\n",
    "    for img_idx, img in enumerate(img_batch):\n",
    "        tube_idx = batch_idx * batch_size + img_idx\n",
    "        with tc.no_grad():\n",
    "            prediction = model([img.to(device)])[0]\n",
    "            nms_prediction = apply_nms(prediction, iou_thresh=0.001)\n",
    "            for box, score in zip(nms_prediction['boxes'], nms_prediction['scores']):\n",
    "                tof = (box[0]+box[2])/2\n",
    "                tube_res = (box[1]+box[3])/2\n",
    "                predicted_indices_with_score.append([tube_idx, tube_res, tof, score])\n",
    "                # print(f\"Inferred batch={batch_idx} tube={tube_idx}\")\n",
    "                \n",
    "    print(f\"Returning results for batch={batch_idx}...........\")\n",
    "    return predicted_indices_with_score"
   ]
  },
  {
   "cell_type": "code",
   "execution_count": null,
   "id": "ce968513-f744-4d49-9135-9ede51499454",
   "metadata": {},
   "outputs": [],
   "source": [
    "# %%time\n",
    "# data_loader = tc.utils.data.DataLoader(ds, batch_size=8, shuffle=False, num_workers=2)\n",
    "# batch_size = data_loader.batch_size\n",
    "# pool = mp.Pool(processes=2)\n",
    "\n",
    "# inferences = pool.map(doInference, enumerate(data_loader))\n",
    "\n",
    "# pool.close()\n",
    "# print(\"pool closed, waiting to join...\")\n",
    "# pool.join()\n",
    "# print(len(inferences))"
   ]
  },
  {
   "cell_type": "code",
   "execution_count": null,
   "id": "00985908-169a-4829-9635-152a229f7e5f",
   "metadata": {},
   "outputs": [],
   "source": []
  },
  {
   "cell_type": "code",
   "execution_count": null,
   "id": "dcd4233f-1fb1-410e-b72b-fa367a471d7c",
   "metadata": {},
   "outputs": [],
   "source": []
  },
  {
   "cell_type": "code",
   "execution_count": null,
   "id": "f70a2f76-9633-40f0-b60b-e6dfcc2f0d98",
   "metadata": {},
   "outputs": [],
   "source": [
    "things=[7,5,1,6,4,2]\n",
    "\n",
    "def worker(thing):\n",
    "    id, n = thing\n",
    "    # time.sleep(n)\n",
    "    print(f\"id={id} thing={n} pid={os.getpid()}\\n\")\n",
    "    return n\n",
    "    \n",
    "pool = mp.Pool(processes=mp.cpu_count())\n",
    "results = pool.map(worker, enumerate(things))\n",
    "pool.close()\n",
    "pool.join()\n",
    "for r in results:\n",
    "    print(f\"Result {r}\") "
   ]
  },
  {
   "cell_type": "code",
   "execution_count": null,
   "id": "cafa336d-bccc-41ff-bd62-22c6f3901174",
   "metadata": {},
   "outputs": [],
   "source": []
  }
 ],
 "metadata": {
  "kernelspec": {
   "display_name": "Python 3 (ipykernel)",
   "language": "python",
   "name": "python3"
  },
  "language_info": {
   "codemirror_mode": {
    "name": "ipython",
    "version": 3
   },
   "file_extension": ".py",
   "mimetype": "text/x-python",
   "name": "python",
   "nbconvert_exporter": "python",
   "pygments_lexer": "ipython3",
   "version": "3.10.13"
  }
 },
 "nbformat": 4,
 "nbformat_minor": 5
}
