{
 "cells": [
  {
   "cell_type": "code",
   "execution_count": 1,
   "id": "64c77b4b-2980-414f-83db-315f1b2b1521",
   "metadata": {},
   "outputs": [],
   "source": [
    "import torch as tc\n",
    "import numpy as np\n",
    "import pickle\n",
    "import os\n",
    "from wish_utils import *\n",
    "from WishDataSet import WishTubeFrameDataSet, get_transform, WishWorkspaceDataSet\n",
    "import albumentations as A\n",
    "from albumentations.pytorch.transforms import ToTensorV2\n",
    "import utils\n",
    "import threading\n",
    "import multiprocessing as mp\n",
    "from tqdm.notebook import tqdm"
   ]
  },
  {
   "cell_type": "code",
   "execution_count": 2,
   "id": "2dfc5c62-9598-495f-81e3-8d3fc037bd35",
   "metadata": {},
   "outputs": [],
   "source": [
    "model_path = '/mnt/ceph/home/wj1132075/Desktop/CNN_Model_Data/tube_by_tube_withneighbors_fasterrcnn_resnet50_fpn.pt'"
   ]
  },
  {
   "cell_type": "code",
   "execution_count": 3,
   "id": "7b51e034-1d09-405e-977b-c0ef2efe4a2f",
   "metadata": {},
   "outputs": [
    {
     "data": {
      "text/plain": [
       "device(type='cpu')"
      ]
     },
     "execution_count": 3,
     "metadata": {},
     "output_type": "execute_result"
    }
   ],
   "source": [
    "device = tc.device('cuda') if tc.cuda.is_available() else tc.device('cpu')\n",
    "device"
   ]
  },
  {
   "cell_type": "code",
   "execution_count": 4,
   "id": "f3c6d2ad-d497-4ee2-ad2f-38c153e60702",
   "metadata": {},
   "outputs": [],
   "source": [
    "workspace_path = '/mnt/ceph/home/wj1132075/Desktop/CNN_Model_Data/Inferences/RealData/WISH00042730.npz'"
   ]
  },
  {
   "cell_type": "code",
   "execution_count": 5,
   "id": "0a69afc3-2fff-4846-9642-8e335e10fc66",
   "metadata": {},
   "outputs": [
    {
     "name": "stdout",
     "output_type": "stream",
     "text": [
      "data set create for /mnt/ceph/home/wj1132075/Desktop/CNN_Model_Data/Inferences/RealData/WISH00042730.npz shape(1520, 128, 1540)\n"
     ]
    }
   ],
   "source": [
    "ds = WishWorkspaceDataSet(workspace_path)"
   ]
  },
  {
   "cell_type": "code",
   "execution_count": 6,
   "id": "642a6a4e-65dc-4b0d-a9c0-190a0e8b638c",
   "metadata": {},
   "outputs": [
    {
     "data": {
      "text/plain": [
       "1520"
      ]
     },
     "execution_count": 6,
     "metadata": {},
     "output_type": "execute_result"
    }
   ],
   "source": [
    "len(ds)"
   ]
  },
  {
   "cell_type": "code",
   "execution_count": 7,
   "id": "400ef904-7b5e-47e2-831c-124486894efe",
   "metadata": {},
   "outputs": [
    {
     "data": {
      "text/plain": [
       "(torch.Size([3, 128, 1540]), torch.Tensor, device(type='cpu'))"
      ]
     },
     "execution_count": 7,
     "metadata": {},
     "output_type": "execute_result"
    }
   ],
   "source": [
    "x = ds[0]\n",
    "x.shape, type(x), x.device"
   ]
  },
  {
   "cell_type": "code",
   "execution_count": 8,
   "id": "72619599-88a9-4357-a27a-b4f218de20db",
   "metadata": {},
   "outputs": [],
   "source": [
    "data_loader = tc.utils.data.DataLoader(ds, batch_size=8, shuffle=False, num_workers=4)"
   ]
  },
  {
   "cell_type": "code",
   "execution_count": 9,
   "id": "91581643-d423-4567-ae3f-14a65f64f194",
   "metadata": {},
   "outputs": [
    {
     "data": {
      "text/plain": [
       "190"
      ]
     },
     "execution_count": 9,
     "metadata": {},
     "output_type": "execute_result"
    }
   ],
   "source": [
    "len(data_loader)"
   ]
  },
  {
   "cell_type": "code",
   "execution_count": 10,
   "id": "12077f78-5091-432d-9ac1-df26637a6937",
   "metadata": {},
   "outputs": [
    {
     "data": {
      "text/plain": [
       "(False, 0)"
      ]
     },
     "execution_count": 10,
     "metadata": {},
     "output_type": "execute_result"
    }
   ],
   "source": [
    "tc.cuda.is_available() , tc.cuda.device_count()"
   ]
  },
  {
   "cell_type": "code",
   "execution_count": 11,
   "id": "26f48eea-09e3-41b5-abc5-1666181ae006",
   "metadata": {},
   "outputs": [
    {
     "name": "stderr",
     "output_type": "stream",
     "text": [
      "/home/wj1132075/.conda/envs/cuda_1/lib/python3.10/site-packages/torchvision/models/_utils.py:208: UserWarning: The parameter 'pretrained' is deprecated since 0.13 and may be removed in the future, please use 'weights' instead.\n",
      "  warnings.warn(\n",
      "/home/wj1132075/.conda/envs/cuda_1/lib/python3.10/site-packages/torchvision/models/_utils.py:223: UserWarning: Arguments other than a weight enum or `None` for 'weights' are deprecated since 0.13 and may be removed in the future. The current behavior is equivalent to passing `weights=FasterRCNN_ResNet50_FPN_Weights.COCO_V1`. You can also use `weights=FasterRCNN_ResNet50_FPN_Weights.DEFAULT` to get the most up-to-date weights.\n",
      "  warnings.warn(msg)\n"
     ]
    }
   ],
   "source": [
    "model = get_object_detection_model(num_classes=2)\n",
    "model.load_state_dict(tc.load(model_path, map_location=device))\n",
    "model = model.to(device)"
   ]
  },
  {
   "cell_type": "code",
   "execution_count": 12,
   "id": "0a89406e-7883-49dc-b2a7-c80e1e878976",
   "metadata": {},
   "outputs": [],
   "source": [
    "# ws = np.load(workspace_path)['arr_0']"
   ]
  },
  {
   "cell_type": "code",
   "execution_count": 13,
   "id": "ee66e2a1-d76a-4995-8d49-7ab269ebde4a",
   "metadata": {},
   "outputs": [],
   "source": [
    "# ws.shape"
   ]
  },
  {
   "cell_type": "code",
   "execution_count": 12,
   "id": "5e5d9674-f748-4c4c-a521-c7ad056cf4e7",
   "metadata": {},
   "outputs": [],
   "source": [
    "def plot_tube_detections(tube_idx, bin_data, predicted_boxes, score_threshold = 0.75):\n",
    "    fig = plt.figure(figsize=(6,6))\n",
    "    ax = fig.add_subplot(111)\n",
    "    cs = plt.contourf(bin_data)\n",
    "    plt.colorbar(cs)\n",
    "    \n",
    "    plotted_predictions = 0\n",
    "    for box, score in zip(predicted_boxes['boxes'], predicted_boxes['scores']):\n",
    "        # print(f\"prediction={box} score={score}\")\n",
    "        x_hat, y_hat = (box[0]+box[2])/2, (box[1]+box[3])/2\n",
    "        if score < score_threshold:\n",
    "            # print(f\"----->Ignoring the prediction at x={x_hat} y={y_hat} with score={score}\")\n",
    "            plt.plot(x_hat, y_hat, marker=\"x\", markersize=5, markeredgecolor=\"white\", markerfacecolor=\"white\")\n",
    "            continue\n",
    "            \n",
    "        # print(f\"Prediction coordinate x={x_hat} y={y_hat}\")\n",
    "        plt.plot(x_hat, y_hat, marker=\"x\", markersize=5, markeredgecolor=\"red\", markerfacecolor=\"red\")\n",
    "        plotted_predictions += 1\n",
    "\n",
    "    plt.title(f\"Tube-{tube_idx} Predicted-{plotted_predictions} peaks\")\n",
    "    plt.show()"
   ]
  },
  {
   "cell_type": "code",
   "execution_count": 15,
   "id": "a5bdc8d0-fca7-46db-b4ea-636af9e1e655",
   "metadata": {},
   "outputs": [],
   "source": [
    "# frame_to_tensor = A.Compose([ToTensorV2(p=1.0)])"
   ]
  },
  {
   "cell_type": "code",
   "execution_count": 16,
   "id": "7403e45f-b42a-4afa-8ba6-48156afd40f2",
   "metadata": {},
   "outputs": [],
   "source": [
    "# img = np.tile(frame_data[:, :, None], 3).astype(np.float32)"
   ]
  },
  {
   "cell_type": "code",
   "execution_count": 17,
   "id": "547825a0-7db7-4796-98bf-87a0a04050ee",
   "metadata": {},
   "outputs": [],
   "source": [
    "# b = a(image=img)"
   ]
  },
  {
   "cell_type": "code",
   "execution_count": 18,
   "id": "3dbd44eb-e54d-44b1-8cb3-6df9ebc4ff82",
   "metadata": {},
   "outputs": [],
   "source": [
    "# b['image'].shape, type(b['image'])"
   ]
  },
  {
   "cell_type": "code",
   "execution_count": 19,
   "id": "58a23012-49fb-4d7b-96d0-0e21fa6056b8",
   "metadata": {},
   "outputs": [],
   "source": [
    "# for tube in range(ws.shape[0]):\n",
    "#     frame_data = ws[tube, ...]\n",
    "#     img = np.tile(frame_data[:,:, None], 3).astype(np.float32)\n",
    "#     img = frame_to_tensor(image=img)\n",
    "#     # print(np.tile(frame_data[None,:,:], 3).shape)\n",
    "#     # img_res = tc.from_numpy(img_res)"
   ]
  },
  {
   "cell_type": "code",
   "execution_count": 20,
   "id": "34668072-4ec0-468a-bec5-66c68041dce6",
   "metadata": {},
   "outputs": [],
   "source": [
    "# img"
   ]
  },
  {
   "cell_type": "code",
   "execution_count": 21,
   "id": "033e8ec3-fb82-4f3f-9b23-55a51c34be1b",
   "metadata": {},
   "outputs": [],
   "source": [
    "# model.eval()\n",
    "\n",
    "# probe = 0\n",
    "\n",
    "# for img in range(ws.shape[0]):\n",
    "#     frame_data = ws[tube, ...]\n",
    "#     frame = np.tile(frame_data[:,:, None], 3).astype(np.float32)\n",
    "#     frame = frame_to_tensor(image=frame)\n",
    "#     with tc.no_grad():\n",
    "#         prediction = model([frame['image'].to(device)])[0]\n",
    "#         print(prediction)\n",
    "#         nms_prediction = apply_nms(prediction, iou_thresh=0.001)\n",
    "#         plot_tube_detections(frame['image'][0,:,:], nms_prediction, 0.50)\n",
    "#         probe += 1\n",
    "#         if probe > 1:\n",
    "#             break"
   ]
  },
  {
   "cell_type": "code",
   "execution_count": 13,
   "id": "7b0e44f8-7eab-4248-8d9b-750a480bc69e",
   "metadata": {},
   "outputs": [
    {
     "name": "stderr",
     "output_type": "stream",
     "text": [
      "[W NNPACK.cpp:64] Could not initialize NNPACK! Reason: Unsupported hardware.\n"
     ]
    },
    {
     "name": "stdout",
     "output_type": "stream",
     "text": [
      "CPU times: user 1h 24min 35s, sys: 2min 36s, total: 1h 27min 11s\n",
      "Wall time: 14min 37s\n"
     ]
    }
   ],
   "source": [
    "%%time\n",
    "model.eval()\n",
    "probe = 0\n",
    "predicted_indices_with_score = []\n",
    "\n",
    "for batch_idx, img_batch in enumerate(data_loader):\n",
    "    for img_idx, img in enumerate(img_batch):\n",
    "        tube_idx = batch_idx * data_loader.batch_size + img_idx\n",
    "        with tc.no_grad():\n",
    "            prediction = model([img.to(device)])[0]\n",
    "            nms_prediction = apply_nms(prediction, iou_thresh=0.001)\n",
    "            for box, score in zip(nms_prediction['boxes'], nms_prediction['scores']):\n",
    "                tof = (box[0]+box[2])/2\n",
    "                tube_res = (box[1]+box[3])/2\n",
    "                predicted_indices_with_score.append([tube_idx, tube_res, tof, score])\n",
    "            # plot_tube_detections(tube_idx, img[0,:,:], nms_prediction, 0.50)\n",
    "            probe += 1\n",
    "            \n",
    "    # if probe > 1:\n",
    "    #     break"
   ]
  },
  {
   "cell_type": "code",
   "execution_count": 14,
   "id": "2ea21818-2b2a-42e8-80eb-35bbdda0978b",
   "metadata": {},
   "outputs": [
    {
     "data": {
      "text/plain": [
       "391"
      ]
     },
     "execution_count": 14,
     "metadata": {},
     "output_type": "execute_result"
    }
   ],
   "source": [
    "len(predicted_indices_with_score)"
   ]
  },
  {
   "cell_type": "code",
   "execution_count": 15,
   "id": "ecf05f0e-ad7f-4f70-9763-224b916f6caa",
   "metadata": {},
   "outputs": [
    {
     "data": {
      "text/plain": [
       "[[12, tensor(56.6820), tensor(654.7282), tensor(0.8526)],\n",
       " [13, tensor(55.3395), tensor(667.3365), tensor(0.2825)],\n",
       " [40, tensor(22.5053), tensor(297.8273), tensor(0.9536)],\n",
       " [98, tensor(66.9794), tensor(433.3065), tensor(0.8417)],\n",
       " [99, tensor(67.0536), tensor(440.5806), tensor(0.1845)],\n",
       " [127, tensor(79.0471), tensor(691.3815), tensor(0.9670)],\n",
       " [128, tensor(79.6929), tensor(696.4612), tensor(0.9995)],\n",
       " [128, tensor(79.6868), tensor(327.7531), tensor(0.8914)],\n",
       " [129, tensor(78.7200), tensor(700.8126), tensor(0.9992)],\n",
       " [129, tensor(20.1835), tensor(545.9242), tensor(0.1282)],\n",
       " [130, tensor(21.7909), tensor(549.5570), tensor(0.9967)],\n",
       " [131, tensor(21.2508), tensor(553.3251), tensor(0.9985)],\n",
       " [132, tensor(23.2454), tensor(556.7203), tensor(0.9783)],\n",
       " [151, tensor(91.3288), tensor(494.7783), tensor(0.3946)],\n",
       " [152, tensor(85.9346), tensor(499.5344), tensor(0.7858)],\n",
       " [152, tensor(125.3116), tensor(1488.7744), tensor(0.1874)],\n",
       " [153, tensor(125.8554), tensor(1488.8042), tensor(0.0893)],\n",
       " [153, tensor(85.1090), tensor(502.7227), tensor(0.0850)],\n",
       " [173, tensor(4.5062), tensor(823.2066), tensor(0.9857)],\n",
       " [173, tensor(4.4437), tensor(455.7248), tensor(0.1860)],\n",
       " [174, tensor(5.3819), tensor(827.8707), tensor(0.9996)],\n",
       " [174, tensor(5.3648), tensor(458.3718), tensor(0.9935)],\n",
       " [175, tensor(5.0495), tensor(830.3418), tensor(0.9999)],\n",
       " [175, tensor(4.4309), tensor(462.2479), tensor(0.9858)],\n",
       " [176, tensor(6.1670), tensor(832.6417), tensor(0.9794)],\n",
       " [176, tensor(5.6708), tensor(465.6244), tensor(0.0804)],\n",
       " [184, tensor(117.4120), tensor(700.0829), tensor(0.9936)],\n",
       " [184, tensor(117.6864), tensor(1066.0332), tensor(0.9906)],\n",
       " [185, tensor(114.7670), tensor(1068.1501), tensor(0.9998)],\n",
       " [185, tensor(115.3923), tensor(703.0809), tensor(0.9957)],\n",
       " [186, tensor(116.0572), tensor(1071.6584), tensor(0.9981)],\n",
       " [186, tensor(115.9362), tensor(706.6906), tensor(0.9959)],\n",
       " [187, tensor(114.9010), tensor(1074.7048), tensor(0.9516)],\n",
       " [187, tensor(115.1006), tensor(708.6244), tensor(0.4098)],\n",
       " [194, tensor(72.9982), tensor(427.4950), tensor(0.0590)],\n",
       " [216, tensor(27.8717), tensor(473.6757), tensor(0.4036)],\n",
       " [217, tensor(27.0796), tensor(477.1818), tensor(0.5385)],\n",
       " [228, tensor(77.2115), tensor(581.4008), tensor(0.2259)],\n",
       " [229, tensor(75.8324), tensor(585.0078), tensor(0.2547)],\n",
       " [239, tensor(52.5796), tensor(817.7040), tensor(0.7291)],\n",
       " [240, tensor(53.3219), tensor(820.6492), tensor(0.9675)],\n",
       " [241, tensor(52.3676), tensor(823.1589), tensor(0.7103)],\n",
       " [244, tensor(49.8523), tensor(826.2436), tensor(1.0000)],\n",
       " [244, tensor(52.1509), tensor(458.2292), tensor(0.6751)],\n",
       " [245, tensor(53.3411), tensor(826.9297), tensor(1.)],\n",
       " [245, tensor(51.5201), tensor(460.9254), tensor(0.6337)],\n",
       " [246, tensor(49.9145), tensor(830.2627), tensor(0.9997)],\n",
       " [246, tensor(52.2242), tensor(463.2796), tensor(0.1096)],\n",
       " [257, tensor(24.7187), tensor(633.0945), tensor(0.7637)],\n",
       " [258, tensor(25.9732), tensor(635.9669), tensor(0.5824)],\n",
       " [261, tensor(10.2417), tensor(483.8294), tensor(0.5430)],\n",
       " [262, tensor(10.7101), tensor(486.0874), tensor(0.0704)],\n",
       " [264, tensor(123.8176), tensor(489.5096), tensor(0.6613)],\n",
       " [265, tensor(122.9874), tensor(491.8013), tensor(0.3548)],\n",
       " [331, tensor(66.2428), tensor(740.0977), tensor(0.5493)],\n",
       " [332, tensor(66.2485), tensor(742.1198), tensor(0.4411)],\n",
       " [335, tensor(65.7882), tensor(744.2093), tensor(1.0000)],\n",
       " [336, tensor(70.6395), tensor(745.0417), tensor(0.9986)],\n",
       " [336, tensor(66.9324), tensor(378.4639), tensor(0.2648)],\n",
       " [337, tensor(66.4534), tensor(746.5458), tensor(1.0000)],\n",
       " [342, tensor(90.6818), tensor(480.5961), tensor(0.1076)],\n",
       " [343, tensor(89.5447), tensor(482.5397), tensor(0.4719)],\n",
       " [364, tensor(50.2994), tensor(504.1449), tensor(0.8514)],\n",
       " [365, tensor(49.7826), tensor(505.8543), tensor(0.4955)],\n",
       " [382, tensor(104.5206), tensor(574.1477), tensor(0.1461)],\n",
       " [383, tensor(103.6387), tensor(575.4490), tensor(0.1210)],\n",
       " [398, tensor(22.5566), tensor(1015.4166), tensor(0.8466)],\n",
       " [399, tensor(22.3309), tensor(1017.2430), tensor(0.9363)],\n",
       " [402, tensor(21.1717), tensor(1019.1030), tensor(0.9041)],\n",
       " [403, tensor(16.2328), tensor(1019.0423), tensor(0.9999)],\n",
       " [403, tensor(21.0957), tensor(653.3121), tensor(0.9995)],\n",
       " [403, tensor(123.5247), tensor(803.0419), tensor(0.7644)],\n",
       " [404, tensor(22.1129), tensor(655.0463), tensor(0.9999)],\n",
       " [404, tensor(16.5276), tensor(1020.7269), tensor(0.9915)],\n",
       " [404, tensor(123.9361), tensor(804.5081), tensor(0.9160)],\n",
       " [405, tensor(21.9420), tensor(1022.4332), tensor(0.9999)],\n",
       " [405, tensor(21.9508), tensor(655.3843), tensor(0.9754)],\n",
       " [405, tensor(123.0932), tensor(806.0441), tensor(0.0776)],\n",
       " [407, tensor(55.3736), tensor(597.0996), tensor(0.0673)],\n",
       " [408, tensor(56.9301), tensor(599.0384), tensor(0.3808)],\n",
       " [430, tensor(123.6327), tensor(669.4760), tensor(0.9854)],\n",
       " [431, tensor(122.3117), tensor(669.9926), tensor(0.9951)],\n",
       " [432, tensor(122.8829), tensor(671.8291), tensor(0.9880)],\n",
       " [442, tensor(50.1373), tensor(835.2560), tensor(0.9766)],\n",
       " [443, tensor(50.4216), tensor(836.2766), tensor(0.9889)],\n",
       " [444, tensor(50.2226), tensor(837.6765), tensor(0.9695)],\n",
       " [460, tensor(65.8598), tensor(692.9226), tensor(0.9733)],\n",
       " [461, tensor(69.9870), tensor(694.1638), tensor(0.9993)],\n",
       " [462, tensor(68.5240), tensor(695.5731), tensor(0.9963)],\n",
       " [464, tensor(24.8401), tensor(761.8662), tensor(0.9988)],\n",
       " [465, tensor(23.9338), tensor(763.3772), tensor(0.9991)],\n",
       " [466, tensor(25.0901), tensor(764.4183), tensor(0.9967)],\n",
       " [476, tensor(43.6587), tensor(636.1656), tensor(0.9639)],\n",
       " [477, tensor(43.0946), tensor(637.7277), tensor(0.9832)],\n",
       " [478, tensor(44.1748), tensor(638.7357), tensor(0.9785)],\n",
       " [497, tensor(10.8382), tensor(532.0386), tensor(0.9762)],\n",
       " [498, tensor(11.4987), tensor(533.7040), tensor(0.9188)],\n",
       " [509, tensor(112.9284), tensor(706.9297), tensor(0.9784)],\n",
       " [509, tensor(112.8046), tensor(1072.8879), tensor(0.9779)],\n",
       " [509, tensor(113.1877), tensor(1437.9956), tensor(0.1734)],\n",
       " [509, tensor(113.3193), tensor(858.9325), tensor(0.0603)],\n",
       " [510, tensor(113.9373), tensor(707.8239), tensor(0.9979)],\n",
       " [510, tensor(113.5486), tensor(1074.5566), tensor(0.9960)],\n",
       " [510, tensor(113.8411), tensor(1439.6860), tensor(0.8896)],\n",
       " [510, tensor(113.7991), tensor(860.4119), tensor(0.6771)],\n",
       " [510, tensor(113.2544), tensor(492.4671), tensor(0.1734)],\n",
       " [511, tensor(112.6932), tensor(1075.6008), tensor(0.9760)],\n",
       " [511, tensor(112.3316), tensor(708.5710), tensor(0.9440)],\n",
       " [511, tensor(112.8525), tensor(1440.9122), tensor(0.2177)],\n",
       " [525, tensor(77.7251), tensor(786.3691), tensor(0.9955)],\n",
       " [526, tensor(78.5993), tensor(787.2825), tensor(0.9979)],\n",
       " [530, tensor(64.2508), tensor(964.9395), tensor(0.9986)],\n",
       " [530, tensor(64.1519), tensor(598.1564), tensor(0.7732)],\n",
       " [531, tensor(63.2094), tensor(965.0125), tensor(0.9970)],\n",
       " [531, tensor(63.4665), tensor(598.5345), tensor(0.9691)],\n",
       " [532, tensor(64.4378), tensor(966.5399), tensor(0.9981)],\n",
       " [532, tensor(64.2666), tensor(599.5025), tensor(0.7271)],\n",
       " [534, tensor(52.1114), tensor(716.3624), tensor(0.9907)],\n",
       " [535, tensor(50.6952), tensor(717.5503), tensor(0.9999)],\n",
       " [536, tensor(52.7612), tensor(718.2386), tensor(0.9996)],\n",
       " [536, tensor(31.8988), tensor(865.1965), tensor(0.9459)],\n",
       " [536, tensor(46.8502), tensor(547.3347), tensor(0.5347)],\n",
       " [537, tensor(45.7994), tensor(547.5541), tensor(0.7722)],\n",
       " [537, tensor(30.6651), tensor(866.5972), tensor(0.7298)],\n",
       " [538, tensor(47.0159), tensor(548.7603), tensor(0.1744)],\n",
       " [540, tensor(31.2050), tensor(867.4471), tensor(0.9860)],\n",
       " [541, tensor(30.9566), tensor(1233.6899), tensor(0.9931)],\n",
       " [542, tensor(31.8002), tensor(1235.3096), tensor(0.9947)],\n",
       " [542, tensor(29.6053), tensor(868.2589), tensor(0.9767)],\n",
       " [543, tensor(31.8322), tensor(869.4647), tensor(0.9960)],\n",
       " [547, tensor(5.8823), tensor(782.4642), tensor(0.9998)],\n",
       " [548, tensor(7.1803), tensor(783.5155), tensor(0.9994)],\n",
       " [549, tensor(6.8788), tensor(784.0669), tensor(0.9311)],\n",
       " [580, tensor(101.1632), tensor(717.5026), tensor(0.2007)],\n",
       " [581, tensor(100.3855), tensor(718.0579), tensor(0.9957)],\n",
       " [582, tensor(99.3603), tensor(718.7825), tensor(0.9837)],\n",
       " [585, tensor(53.1734), tensor(600.8791), tensor(0.9454)],\n",
       " [586, tensor(54.3321), tensor(601.8527), tensor(0.9420)],\n",
       " [586, tensor(36.6117), tensor(548.6028), tensor(0.6675)],\n",
       " [587, tensor(35.4461), tensor(549.8893), tensor(0.1138)],\n",
       " [600, tensor(18.6257), tensor(651.3122), tensor(0.8876)],\n",
       " [601, tensor(18.2975), tensor(652.3254), tensor(0.8921)],\n",
       " [602, tensor(62.4328), tensor(789.2028), tensor(0.9971)],\n",
       " [602, tensor(95.8210), tensor(868.2997), tensor(0.9853)],\n",
       " [602, tensor(38.2787), tensor(717.8081), tensor(0.4532)],\n",
       " [603, tensor(62.0071), tensor(788.7658), tensor(1.0000)],\n",
       " [603, tensor(94.9206), tensor(868.5845), tensor(0.9997)],\n",
       " [603, tensor(37.1406), tensor(717.9142), tensor(0.1886)],\n",
       " [603, tensor(94.5749), tensor(502.1584), tensor(0.0875)],\n",
       " [604, tensor(63.2038), tensor(789.3245), tensor(0.9998)],\n",
       " [604, tensor(96.0555), tensor(869.3464), tensor(0.9967)],\n",
       " [619, tensor(92.1320), tensor(594.8835), tensor(0.2241)],\n",
       " [620, tensor(92.5343), tensor(595.4949), tensor(0.5795)],\n",
       " [627, tensor(12.9561), tensor(859.8658), tensor(0.9947)],\n",
       " [628, tensor(13.3002), tensor(860.3596), tensor(0.9988)],\n",
       " [629, tensor(12.7875), tensor(860.9923), tensor(0.9950)],\n",
       " [634, tensor(42.5230), tensor(959.0280), tensor(0.9629)],\n",
       " [635, tensor(41.5768), tensor(959.2708), tensor(0.9999)],\n",
       " [635, tensor(41.1956), tensor(592.1754), tensor(0.8873)],\n",
       " [636, tensor(42.8932), tensor(960.0232), tensor(0.9983)],\n",
       " [636, tensor(43.0169), tensor(592.9296), tensor(0.3335)],\n",
       " [639, tensor(61.3330), tensor(647.2495), tensor(0.6034)],\n",
       " [640, tensor(62.8846), tensor(648.3141), tensor(0.5173)],\n",
       " [643, tensor(86.5381), tensor(707.5865), tensor(0.9996)],\n",
       " [643, tensor(86.3756), tensor(1073.6418), tensor(0.9964)],\n",
       " [644, tensor(87.1196), tensor(708.5206), tensor(1.0000)],\n",
       " [644, tensor(87.0785), tensor(1074.7506), tensor(0.9988)],\n",
       " [645, tensor(85.5550), tensor(708.7394), tensor(0.9998)],\n",
       " [645, tensor(85.4682), tensor(1075.3928), tensor(0.9994)],\n",
       " [661, tensor(25.2356), tensor(698.8716), tensor(0.0701)],\n",
       " [666, tensor(81.8345), tensor(581.4196), tensor(0.9228)],\n",
       " [667, tensor(80.3428), tensor(581.8981), tensor(0.9481)],\n",
       " [668, tensor(81.4640), tensor(582.1390), tensor(0.0839)],\n",
       " [669, tensor(47.5779), tensor(769.0359), tensor(0.9810)],\n",
       " [670, tensor(49.2818), tensor(769.2900), tensor(1.0000)],\n",
       " [671, tensor(48.7590), tensor(769.8575), tensor(0.9999)],\n",
       " [680, tensor(32.5191), tensor(574.0529), tensor(0.2898)],\n",
       " [694, tensor(117.6648), tensor(562.5178), tensor(0.9670)],\n",
       " [694, tensor(117.7984), tensor(930.3008), tensor(0.9492)],\n",
       " [695, tensor(116.5353), tensor(563.4324), tensor(0.9972)],\n",
       " [695, tensor(116.4889), tensor(930.4180), tensor(0.9943)],\n",
       " [696, tensor(117.7054), tensor(562.9247), tensor(0.8328)],\n",
       " [696, tensor(117.5382), tensor(930.6063), tensor(0.6106)],\n",
       " [698, tensor(73.0847), tensor(684.7795), tensor(0.9882)],\n",
       " [699, tensor(72.2249), tensor(685.4190), tensor(0.9827)],\n",
       " [708, tensor(69.6083), tensor(560.5702), tensor(0.4765)],\n",
       " [709, tensor(68.6675), tensor(560.5892), tensor(0.6525)],\n",
       " [710, tensor(100.8676), tensor(746.8291), tensor(0.2344)],\n",
       " [726, tensor(34.9650), tensor(735.3206), tensor(0.4961)],\n",
       " [727, tensor(34.7716), tensor(735.2185), tensor(1.0000)],\n",
       " [728, tensor(34.8324), tensor(735.3854), tensor(1.0000)],\n",
       " [729, tensor(35.1155), tensor(735.4131), tensor(0.5176)],\n",
       " [730, tensor(116.8893), tensor(659.4880), tensor(0.9788)],\n",
       " [731, tensor(115.7340), tensor(659.7366), tensor(0.9819)],\n",
       " [740, tensor(60.7703), tensor(1018.8451), tensor(0.0925)],\n",
       " [741, tensor(60.0840), tensor(1018.7892), tensor(0.1093)],\n",
       " [744, tensor(61.5308), tensor(1019.4934), tensor(0.9797)],\n",
       " [745, tensor(59.8129), tensor(1018.9211), tensor(1.0000)],\n",
       " [745, tensor(60.1618), tensor(653.2028), tensor(0.9614)],\n",
       " [746, tensor(60.2816), tensor(1018.8218), tensor(1.0000)],\n",
       " [746, tensor(60.6469), tensor(653.6739), tensor(0.9090)],\n",
       " [758, tensor(78.9398), tensor(578.9819), tensor(0.8625)],\n",
       " [759, tensor(77.9782), tensor(579.4436), tensor(0.2279)],\n",
       " [760, tensor(117.3724), tensor(871.9373), tensor(0.3380)],\n",
       " [766, tensor(81.1272), tensor(1034.3752), tensor(0.4762)],\n",
       " [767, tensor(81.0540), tensor(1034.0916), tensor(0.5714)],\n",
       " [770, tensor(81.9035), tensor(1034.0996), tensor(0.7195)],\n",
       " [770, tensor(82.0993), tensor(666.8362), tensor(0.0823)],\n",
       " [771, tensor(81.4601), tensor(1031.9277), tensor(1.0000)],\n",
       " [771, tensor(80.2852), tensor(666.7875), tensor(1.0000)],\n",
       " [771, tensor(81.3479), tensor(1035.5481), tensor(0.1730)],\n",
       " [772, tensor(81.6827), tensor(667.3375), tensor(0.9999)],\n",
       " [772, tensor(81.5758), tensor(1034.0256), tensor(0.9998)],\n",
       " [781, tensor(25.9960), tensor(862.9882), tensor(0.9890)],\n",
       " [782, tensor(25.8334), tensor(863.2314), tensor(0.9996)],\n",
       " [783, tensor(25.0971), tensor(862.7365), tensor(0.9979)],\n",
       " [794, tensor(122.1976), tensor(625.3765), tensor(0.6379)],\n",
       " [795, tensor(121.4129), tensor(625.6672), tensor(0.9030)],\n",
       " [796, tensor(85.8373), tensor(543.6923), tensor(0.0646)],\n",
       " [797, tensor(85.0221), tensor(543.5968), tensor(0.0602)],\n",
       " [812, tensor(88.0547), tensor(811.6011), tensor(0.9127)],\n",
       " [812, tensor(46.2542), tensor(695.0537), tensor(0.1642)],\n",
       " [813, tensor(87.3877), tensor(811.8674), tensor(0.9373)],\n",
       " [819, tensor(74.5138), tensor(500.9914), tensor(0.5580)],\n",
       " [820, tensor(75.0524), tensor(500.9744), tensor(0.6103)],\n",
       " [828, tensor(58.4961), tensor(564.1208), tensor(0.9616)],\n",
       " [828, tensor(58.3015), tensor(932.4296), tensor(0.7418)],\n",
       " [829, tensor(55.8886), tensor(564.2864), tensor(0.9889)],\n",
       " [829, tensor(56.2210), tensor(931.0441), tensor(0.9681)],\n",
       " [830, tensor(57.4469), tensor(563.3287), tensor(0.9732)],\n",
       " [830, tensor(57.3946), tensor(930.9430), tensor(0.9389)],\n",
       " [832, tensor(91.0270), tensor(653.0762), tensor(0.6550)],\n",
       " [833, tensor(90.2785), tensor(653.1007), tensor(0.9732)],\n",
       " [834, tensor(90.8381), tensor(652.9887), tensor(0.9139)],\n",
       " [848, tensor(71.5523), tensor(739.3091), tensor(0.4223)],\n",
       " [858, tensor(8.5258), tensor(710.9948), tensor(0.9942)],\n",
       " [858, tensor(8.3243), tensor(1077.6045), tensor(0.9893)],\n",
       " [859, tensor(7.8671), tensor(710.6770), tensor(1.0000)],\n",
       " [859, tensor(7.8420), tensor(1077.2068), tensor(0.9997)],\n",
       " [860, tensor(8.2083), tensor(710.5780), tensor(1.0000)],\n",
       " [860, tensor(8.5980), tensor(1076.7515), tensor(0.9984)],\n",
       " [860, tensor(123.9687), tensor(861.6752), tensor(0.9911)],\n",
       " [861, tensor(122.6617), tensor(861.0177), tensor(0.9976)],\n",
       " [862, tensor(124.0768), tensor(861.0881), tensor(0.9875)],\n",
       " [865, tensor(28.1953), tensor(578.1960), tensor(0.5548)],\n",
       " [866, tensor(30.1739), tensor(576.8287), tensor(0.9799)],\n",
       " [867, tensor(27.9010), tensor(576.7368), tensor(0.9494)],\n",
       " [874, tensor(113.2637), tensor(556.5378), tensor(0.1844)],\n",
       " [875, tensor(112.2244), tensor(555.4575), tensor(0.5530)],\n",
       " [876, tensor(58.2144), tensor(671.1193), tensor(0.9815)],\n",
       " [876, tensor(113.9165), tensor(554.9554), tensor(0.1723)],\n",
       " [877, tensor(56.5985), tensor(670.2653), tensor(0.9636)],\n",
       " [880, tensor(67.0846), tensor(543.9437), tensor(0.2355)],\n",
       " [888, tensor(100.6984), tensor(995.1196), tensor(0.2212)],\n",
       " [889, tensor(98.4765), tensor(994.3467), tensor(0.1456)],\n",
       " [892, tensor(99.5250), tensor(993.2063), tensor(0.9745)],\n",
       " [893, tensor(97.6874), tensor(992.1406), tensor(1.0000)],\n",
       " [893, tensor(98.5559), tensor(626.0266), tensor(0.5213)],\n",
       " [894, tensor(98.6155), tensor(991.6167), tensor(1.0000)],\n",
       " [894, tensor(100.3894), tensor(625.3771), tensor(0.6091)],\n",
       " [901, tensor(30.6627), tensor(753.3196), tensor(0.9994)],\n",
       " [902, tensor(31.5031), tensor(752.3147), tensor(1.0000)],\n",
       " [903, tensor(29.9462), tensor(751.9811), tensor(0.9996)],\n",
       " [918, tensor(82.8017), tensor(703.4485), tensor(0.9922)],\n",
       " [919, tensor(81.2876), tensor(702.4194), tensor(0.9846)],\n",
       " [935, tensor(122.7051), tensor(648.2947), tensor(0.2401)],\n",
       " [936, tensor(123.4240), tensor(647.1912), tensor(0.0906)],\n",
       " [949, tensor(55.7464), tensor(789.1456), tensor(0.4822)],\n",
       " [949, tensor(55.6300), tensor(1154.4302), tensor(0.3940)],\n",
       " [950, tensor(58.0316), tensor(1153.8955), tensor(0.1414)],\n",
       " [950, tensor(57.7591), tensor(787.0444), tensor(0.0918)],\n",
       " [953, tensor(57.5135), tensor(787.0068), tensor(0.9982)],\n",
       " [953, tensor(57.6406), tensor(1152.5825), tensor(0.9946)],\n",
       " [954, tensor(57.5762), tensor(1151.0841), tensor(1.)],\n",
       " [954, tensor(59.2854), tensor(785.1891), tensor(1.0000)],\n",
       " [954, tensor(58.2206), tensor(571.1230), tensor(0.6425)],\n",
       " [954, tensor(57.8574), tensor(418.7194), tensor(0.4031)],\n",
       " [955, tensor(56.4386), tensor(1151.4319), tensor(1.)],\n",
       " [955, tensor(57.7891), tensor(784.2220), tensor(0.9986)],\n",
       " [955, tensor(57.1163), tensor(570.0516), tensor(0.3382)],\n",
       " [955, tensor(56.3801), tensor(418.8334), tensor(0.0745)],\n",
       " [969, tensor(106.5976), tensor(724.9763), tensor(0.9999)],\n",
       " [970, tensor(108.2019), tensor(723.6377), tensor(1.0000)],\n",
       " [971, tensor(107.7188), tensor(722.7967), tensor(0.9980)],\n",
       " [988, tensor(36.9935), tensor(628.0153), tensor(0.9488)],\n",
       " [989, tensor(35.1025), tensor(627.1219), tensor(0.7872)],\n",
       " [1004, tensor(110.2509), tensor(906.2823), tensor(0.2961)],\n",
       " [1005, tensor(110.0918), tensor(905.0679), tensor(0.9995)],\n",
       " [1005, tensor(21.9150), tensor(873.0626), tensor(0.9258)],\n",
       " [1006, tensor(110.9401), tensor(904.2654), tensor(0.9996)],\n",
       " [1006, tensor(23.2908), tensor(871.8472), tensor(0.9165)],\n",
       " [1006, tensor(111.0990), tensor(536.8397), tensor(0.0836)],\n",
       " [1007, tensor(111.2388), tensor(904.0511), tensor(0.2913)],\n",
       " [1009, tensor(24.3211), tensor(870.7679), tensor(0.9998)],\n",
       " [1010, tensor(25.2720), tensor(869.0038), tensor(1.)],\n",
       " [1010, tensor(24.2740), tensor(502.3856), tensor(0.6232)],\n",
       " [1011, tensor(23.2627), tensor(500.8160), tensor(0.5897)],\n",
       " [1012, tensor(24.0580), tensor(868.8500), tensor(0.9302)],\n",
       " [1018, tensor(86.2799), tensor(803.4827), tensor(0.7520)],\n",
       " [1019, tensor(86.5370), tensor(802.3821), tensor(0.9997)],\n",
       " [1020, tensor(87.3063), tensor(801.4085), tensor(0.9997)],\n",
       " [1029, tensor(69.1776), tensor(714.3403), tensor(0.9951)],\n",
       " [1030, tensor(70.0152), tensor(713.3026), tensor(0.9995)],\n",
       " [1031, tensor(68.7795), tensor(712.3052), tensor(0.9925)],\n",
       " [1040, tensor(113.8286), tensor(652.0017), tensor(0.0995)],\n",
       " [1044, tensor(96.6733), tensor(586.6420), tensor(0.4382)],\n",
       " [1045, tensor(96.0829), tensor(585.9309), tensor(0.5912)],\n",
       " [1091, tensor(76.6879), tensor(997.6383), tensor(0.0939)],\n",
       " [1092, tensor(78.1980), tensor(996.3989), tensor(0.2797)],\n",
       " [1095, tensor(113.1588), tensor(791.8204), tensor(0.2652)],\n",
       " [1096, tensor(78.1672), tensor(993.9907), tensor(0.9999)],\n",
       " [1096, tensor(58.8508), tensor(867.5846), tensor(0.7945)],\n",
       " [1096, tensor(115.3691), tensor(790.3314), tensor(0.3853)],\n",
       " [1097, tensor(34.5560), tensor(676.6309), tensor(0.9992)],\n",
       " [1097, tensor(93.2424), tensor(703.0710), tensor(0.9878)],\n",
       " [1097, tensor(57.5062), tensor(865.8258), tensor(0.8453)],\n",
       " [1097, tensor(78.6771), tensor(626.4166), tensor(0.1869)],\n",
       " [1097, tensor(114.8077), tensor(789.0817), tensor(0.1337)],\n",
       " [1098, tensor(80.1145), tensor(990.3997), tensor(0.9997)],\n",
       " [1098, tensor(36.2073), tensor(675.3186), tensor(0.9985)],\n",
       " [1098, tensor(95.0936), tensor(701.1032), tensor(0.9979)],\n",
       " [1099, tensor(93.4766), tensor(699.9844), tensor(0.9948)],\n",
       " [1099, tensor(34.0863), tensor(674.0216), tensor(0.9838)],\n",
       " [1099, tensor(21.9011), tensor(533.6231), tensor(0.4202)],\n",
       " [1100, tensor(116.6192), tensor(786.2713), tensor(1.0000)],\n",
       " [1100, tensor(115.3967), tensor(1153.3125), tensor(0.9923)],\n",
       " [1100, tensor(23.1281), tensor(532.0450), tensor(0.6683)],\n",
       " [1101, tensor(116.7586), tensor(784.8036), tensor(1.)],\n",
       " [1101, tensor(107.3746), tensor(785.0365), tensor(1.0000)],\n",
       " [1101, tensor(114.3878), tensor(1152.3044), tensor(0.9993)],\n",
       " [1102, tensor(116.1538), tensor(784.4995), tensor(1.0000)],\n",
       " [1102, tensor(116.0052), tensor(1150.6379), tensor(0.9944)],\n",
       " [1146, tensor(102.7691), tensor(435.7982), tensor(0.2184)],\n",
       " [1154, tensor(85.3078), tensor(531.1194), tensor(0.2434)],\n",
       " [1155, tensor(83.4611), tensor(528.0782), tensor(0.1581)],\n",
       " [1171, tensor(8.3396), tensor(607.0156), tensor(0.8392)],\n",
       " [1172, tensor(8.7712), tensor(605.8568), tensor(0.9975)],\n",
       " [1173, tensor(6.7838), tensor(603.7375), tensor(0.9962)],\n",
       " [1177, tensor(112.8018), tensor(655.1238), tensor(0.7737)],\n",
       " [1178, tensor(115.1426), tensor(653.5577), tensor(0.9978)],\n",
       " [1179, tensor(113.5165), tensor(651.1110), tensor(0.9947)],\n",
       " [1182, tensor(72.0528), tensor(716.6060), tensor(0.9881)],\n",
       " [1183, tensor(69.7039), tensor(715.1226), tensor(0.9936)],\n",
       " [1200, tensor(18.6864), tensor(763.7714), tensor(0.5798)],\n",
       " [1201, tensor(17.6626), tensor(761.3961), tensor(0.3149)],\n",
       " [1204, tensor(93.9259), tensor(797.4386), tensor(0.3237)],\n",
       " [1220, tensor(26.9067), tensor(865.1100), tensor(0.1066)],\n",
       " [1221, tensor(25.9191), tensor(862.8010), tensor(0.1491)],\n",
       " [1224, tensor(29.1287), tensor(860.1986), tensor(0.9918)],\n",
       " [1225, tensor(30.0628), tensor(857.6851), tensor(0.9209)],\n",
       " [1226, tensor(26.0466), tensor(858.2133), tensor(1.0000)],\n",
       " [1227, tensor(26.0692), tensor(854.1940), tensor(0.9520)],\n",
       " [1234, tensor(111.6445), tensor(892.0698), tensor(0.9189)],\n",
       " [1235, tensor(110.5870), tensor(889.2170), tensor(0.9197)],\n",
       " [1238, tensor(110.7633), tensor(886.6027), tensor(0.9740)],\n",
       " [1239, tensor(110.4352), tensor(517.0963), tensor(0.9546)],\n",
       " [1239, tensor(110.6630), tensor(303.1637), tensor(0.0531)],\n",
       " [1240, tensor(112.8492), tensor(514.1577), tensor(0.9867)],\n",
       " [1241, tensor(111.4526), tensor(879.4842), tensor(1.0000)],\n",
       " [1241, tensor(111.1968), tensor(512.6683), tensor(0.2029)],\n",
       " [1243, tensor(32.9532), tensor(542.8544), tensor(0.2991)],\n",
       " [1244, tensor(33.8411), tensor(540.1719), tensor(0.8637)],\n",
       " [1245, tensor(32.2161), tensor(537.8877), tensor(0.6958)],\n",
       " [1249, tensor(77.9320), tensor(561.1855), tensor(0.9845)],\n",
       " [1250, tensor(78.9496), tensor(557.5945), tensor(0.9848)],\n",
       " [1269, tensor(39.8792), tensor(590.9445), tensor(0.9997)],\n",
       " [1269, tensor(40.2694), tensor(957.8488), tensor(0.9996)],\n",
       " [1270, tensor(41.3898), tensor(588.1735), tensor(0.9999)],\n",
       " [1270, tensor(41.2157), tensor(955.2434), tensor(0.9991)],\n",
       " [1271, tensor(39.1694), tensor(585.4869), tensor(0.9735)],\n",
       " [1271, tensor(39.2869), tensor(952.5273), tensor(0.9698)],\n",
       " [1280, tensor(91.2241), tensor(602.5513), tensor(0.2225)],\n",
       " [1281, tensor(90.0431), tensor(600.1596), tensor(0.1100)],\n",
       " [1292, tensor(47.5167), tensor(403.6403), tensor(0.0963)],\n",
       " [1306, tensor(50.9602), tensor(629.2115), tensor(0.9889)],\n",
       " [1307, tensor(50.0182), tensor(626.0217), tensor(0.9926)],\n",
       " [1307, tensor(3.8076), tensor(585.0288), tensor(0.0640)],\n",
       " [1354, tensor(12.9696), tensor(605.1644), tensor(0.0597)],\n",
       " [1355, tensor(12.2981), tensor(602.6014), tensor(0.9877)],\n",
       " [1356, tensor(12.3352), tensor(599.6747), tensor(0.9950)],\n",
       " [1357, tensor(10.4820), tensor(595.7905), tensor(0.9581)],\n",
       " [1362, tensor(63.1140), tensor(997.8137), tensor(0.4627)],\n",
       " [1363, tensor(61.5701), tensor(995.1446), tensor(1.0000)],\n",
       " [1363, tensor(61.3000), tensor(628.9196), tensor(0.9936)],\n",
       " [1364, tensor(62.9227), tensor(989.1030), tensor(1.0000)],\n",
       " [1364, tensor(62.8593), tensor(623.8247), tensor(0.9919)],\n",
       " [1365, tensor(61.5858), tensor(987.8857), tensor(0.8570)],\n",
       " [1399, tensor(107.8298), tensor(569.0698), tensor(0.9267)],\n",
       " [1400, tensor(109.6575), tensor(565.1415), tensor(0.9923)],\n",
       " [1401, tensor(109.2136), tensor(561.8984), tensor(0.9998)],\n",
       " [1402, tensor(110.8488), tensor(556.9011), tensor(0.9951)]]"
      ]
     },
     "execution_count": 15,
     "metadata": {},
     "output_type": "execute_result"
    }
   ],
   "source": [
    "pred_cpu = []\n",
    "for pred in predicted_indices_with_score:\n",
    "    pred_cpu.append([pred[0], pred[1].cpu(), pred[2].cpu(), pred[3].cpu()])\n",
    "\n",
    "pred_cpu"
   ]
  },
  {
   "cell_type": "code",
   "execution_count": 19,
   "id": "a7447ef4-9dc7-4fe6-b0b0-3a89a343eb2e",
   "metadata": {},
   "outputs": [],
   "source": [
    "pred_cpu=np.array(pred_cpu)"
   ]
  },
  {
   "cell_type": "code",
   "execution_count": 25,
   "id": "5cf5ba12-0826-4a98-899d-ee41e9177a3e",
   "metadata": {},
   "outputs": [
    {
     "data": {
      "text/plain": [
       "98"
      ]
     },
     "execution_count": 25,
     "metadata": {},
     "output_type": "execute_result"
    }
   ],
   "source": [
    "len(pred_cpu[pred_cpu[:, -1] < 0.5])"
   ]
  },
  {
   "cell_type": "code",
   "execution_count": null,
   "id": "ddedb171-ea90-416a-bcf5-6dfba8319e4a",
   "metadata": {},
   "outputs": [],
   "source": []
  },
  {
   "cell_type": "code",
   "execution_count": 28,
   "id": "8892a334-05e4-4397-8158-0b87807227e5",
   "metadata": {},
   "outputs": [],
   "source": [
    "np.savez_compressed('/mnt/ceph/home/wj1132075/Desktop/CNN_Model_Data/Inferences/RealData/WISH00042730_inferences_trained_with_neighbors.npz', predicted_indices_with_score)"
   ]
  },
  {
   "cell_type": "code",
   "execution_count": 17,
   "id": "73b786f1-3767-4dba-b1f1-be55f0ba1b98",
   "metadata": {},
   "outputs": [
    {
     "data": {
      "text/plain": [
       "(421, 4)"
      ]
     },
     "execution_count": 17,
     "metadata": {},
     "output_type": "execute_result"
    }
   ],
   "source": [
    "arr = np.array(predicted_indices_with_score)\n",
    "arr.shape"
   ]
  },
  {
   "cell_type": "code",
   "execution_count": 18,
   "id": "c91a9d18-fd38-4f99-aadf-26ad9fadfd7d",
   "metadata": {},
   "outputs": [
    {
     "data": {
      "text/plain": [
       "287"
      ]
     },
     "execution_count": 18,
     "metadata": {},
     "output_type": "execute_result"
    }
   ],
   "source": [
    "len(arr[arr[:, -1]>=0.5])"
   ]
  },
  {
   "cell_type": "markdown",
   "id": "fc5bc00c-05fa-4323-9cc8-fab0c6ee84d4",
   "metadata": {},
   "source": [
    "### Data parallelism to speedup"
   ]
  },
  {
   "cell_type": "code",
   "execution_count": 13,
   "id": "8198bf0d-56ba-405e-8206-2d49dd869d31",
   "metadata": {},
   "outputs": [],
   "source": [
    "def doInference(img_batch):\n",
    "    model.eval()\n",
    "    predicted_indices_with_score = []\n",
    "    batch_idx, img_batch = img_batch\n",
    "    print(f\"Starting {batch_idx}\")\n",
    "    for img_idx, img in enumerate(img_batch):\n",
    "        tube_idx = batch_idx * batch_size + img_idx\n",
    "        with tc.no_grad():\n",
    "            prediction = model([img.to(device)])[0]\n",
    "            nms_prediction = apply_nms(prediction, iou_thresh=0.001)\n",
    "            for box, score in zip(nms_prediction['boxes'], nms_prediction['scores']):\n",
    "                tof = (box[0]+box[2])/2\n",
    "                tube_res = (box[1]+box[3])/2\n",
    "                predicted_indices_with_score.append([tube_idx, tube_res, tof, score])\n",
    "                # print(f\"Inferred batch={batch_idx} tube={tube_idx}\")\n",
    "                \n",
    "    print(f\"Returning results for batch={batch_idx}...........\")\n",
    "    return predicted_indices_with_score"
   ]
  },
  {
   "cell_type": "code",
   "execution_count": 14,
   "id": "ce968513-f744-4d49-9135-9ede51499454",
   "metadata": {},
   "outputs": [
    {
     "name": "stdout",
     "output_type": "stream",
     "text": [
      "Starting 0Starting 24\n",
      "\n",
      "Starting 48Starting 72\n",
      "\n"
     ]
    },
    {
     "name": "stderr",
     "output_type": "stream",
     "text": [
      "[W NNPACK.cpp:64] Could not initialize NNPACK! Reason: Unsupported hardware.\n",
      "[W NNPACK.cpp:64] Could not initialize NNPACK! Reason: Unsupported hardware.\n"
     ]
    },
    {
     "name": "stdout",
     "output_type": "stream",
     "text": [
      "Returning results for batch=72...........\n",
      "Starting 73\n",
      "Returning results for batch=48...........\n",
      "Starting 49\n",
      "Returning results for batch=73...........\n",
      "Starting 74\n",
      "Returning results for batch=49...........\n",
      "Starting 50\n",
      "Returning results for batch=50...........\n",
      "Starting 51\n",
      "Returning results for batch=74...........\n",
      "Starting 75\n",
      "Returning results for batch=75...........\n",
      "Starting 76\n",
      "Returning results for batch=51...........\n",
      "Starting 52\n",
      "Returning results for batch=76...........\n",
      "Starting 77\n",
      "Returning results for batch=52...........\n",
      "Starting 53\n",
      "Returning results for batch=77...........\n",
      "Starting 78\n",
      "Returning results for batch=53...........\n",
      "Starting 54\n",
      "Returning results for batch=78...........\n",
      "Starting 79\n",
      "Returning results for batch=54...........\n",
      "Starting 55\n",
      "Returning results for batch=79...........\n",
      "Starting 80\n",
      "Returning results for batch=55...........\n",
      "Starting 56\n",
      "Returning results for batch=80...........\n",
      "Starting 81\n",
      "Returning results for batch=56...........\n",
      "Starting 57\n",
      "Returning results for batch=81...........\n",
      "Starting 82\n",
      "Returning results for batch=57...........\n",
      "Starting 58\n",
      "Returning results for batch=82...........\n",
      "Starting 83\n",
      "Returning results for batch=58...........\n",
      "Starting 59\n",
      "Returning results for batch=83...........\n",
      "Starting 84\n",
      "Returning results for batch=59...........\n",
      "Starting 60\n",
      "Returning results for batch=84...........\n",
      "Starting 85\n",
      "Returning results for batch=60...........\n",
      "Starting 61\n",
      "Returning results for batch=85...........\n",
      "Starting 86\n",
      "Returning results for batch=61...........\n",
      "Starting 62\n",
      "Returning results for batch=86...........\n",
      "Starting 87\n",
      "Returning results for batch=62...........\n",
      "Starting 63\n",
      "Returning results for batch=87...........\n",
      "Starting 88\n",
      "Returning results for batch=63...........\n",
      "Starting 64\n",
      "Returning results for batch=88...........\n",
      "Starting 89\n",
      "Returning results for batch=64...........\n",
      "Starting 65\n",
      "Returning results for batch=89...........\n",
      "Starting 90\n",
      "Returning results for batch=65...........\n",
      "Starting 66\n",
      "Returning results for batch=90...........\n",
      "Starting 91\n",
      "Returning results for batch=66...........\n",
      "Starting 67\n",
      "Returning results for batch=91...........\n",
      "Starting 92\n",
      "Returning results for batch=67...........\n",
      "Starting 68\n",
      "Returning results for batch=92...........\n",
      "Starting 93\n",
      "Returning results for batch=68...........\n",
      "Starting 69\n",
      "Returning results for batch=93...........\n",
      "Starting 94\n",
      "Returning results for batch=69...........\n",
      "Starting 70\n",
      "Returning results for batch=94...........\n",
      "Starting 95\n",
      "Returning results for batch=70...........\n",
      "Starting 71\n",
      "Returning results for batch=95...........\n",
      "Starting 96\n",
      "Returning results for batch=71...........\n",
      "Starting 120\n",
      "Returning results for batch=96...........\n",
      "Starting 97\n",
      "Returning results for batch=120...........\n",
      "Starting 121\n",
      "Returning results for batch=97...........\n",
      "Starting 98\n",
      "Returning results for batch=121...........\n",
      "Starting 122\n",
      "Returning results for batch=98...........\n",
      "Starting 99\n",
      "Returning results for batch=122...........\n",
      "Starting 123\n",
      "Returning results for batch=99...........\n",
      "Starting 100\n",
      "Returning results for batch=123...........\n",
      "Starting 124\n",
      "Returning results for batch=100...........\n",
      "Starting 101\n",
      "Returning results for batch=124...........\n",
      "Starting 125\n",
      "Returning results for batch=101...........\n",
      "Starting 102\n",
      "Returning results for batch=125...........\n",
      "Starting 126\n",
      "Returning results for batch=102...........\n",
      "Starting 103\n",
      "Returning results for batch=126...........\n",
      "Starting 127\n",
      "Returning results for batch=103...........\n",
      "Starting 104\n",
      "Returning results for batch=127...........\n",
      "Starting 128\n",
      "Returning results for batch=104...........\n",
      "Starting 105\n",
      "Returning results for batch=128...........\n",
      "Starting 129\n",
      "Returning results for batch=105...........\n",
      "Starting 106\n",
      "Returning results for batch=129...........\n",
      "Starting 130\n",
      "Returning results for batch=106...........\n",
      "Starting 107\n",
      "Returning results for batch=130...........\n",
      "Starting 131\n",
      "Returning results for batch=107...........\n",
      "Starting 108\n",
      "Returning results for batch=131...........\n",
      "Starting 132\n",
      "Returning results for batch=108...........\n",
      "Starting 109\n",
      "Returning results for batch=132...........\n",
      "Starting 133\n",
      "Returning results for batch=109...........\n",
      "Starting 110\n",
      "Returning results for batch=133...........\n",
      "Starting 134\n",
      "Returning results for batch=110...........\n",
      "Starting 111\n",
      "Returning results for batch=134...........\n",
      "Starting 135\n",
      "Returning results for batch=111...........\n",
      "Starting 112\n",
      "Returning results for batch=135...........\n",
      "Starting 136\n",
      "Returning results for batch=112...........\n",
      "Starting 113\n",
      "Returning results for batch=136...........\n",
      "Starting 137\n",
      "Returning results for batch=113...........\n",
      "Starting 114\n",
      "Returning results for batch=137...........\n",
      "Starting 138\n",
      "Returning results for batch=114...........\n",
      "Starting 115\n",
      "Returning results for batch=138...........\n",
      "Starting 139\n",
      "Returning results for batch=115...........\n",
      "Starting 116\n",
      "Returning results for batch=139...........\n",
      "Starting 140\n",
      "Returning results for batch=116...........\n",
      "Starting 117\n",
      "Returning results for batch=140...........\n",
      "Starting 141\n",
      "Returning results for batch=117...........\n",
      "Starting 118\n",
      "Returning results for batch=141...........\n",
      "Starting 142\n",
      "Returning results for batch=118...........\n",
      "Starting 119\n",
      "Returning results for batch=142...........\n",
      "Starting 143\n",
      "Returning results for batch=119...........\n",
      "Starting 144\n",
      "Returning results for batch=143...........\n",
      "Starting 168\n",
      "Returning results for batch=144...........\n",
      "Starting 145\n",
      "Returning results for batch=168...........\n",
      "Starting 169\n",
      "Returning results for batch=145...........\n",
      "Starting 146\n",
      "Returning results for batch=169...........\n",
      "Starting 170\n",
      "Returning results for batch=146...........\n",
      "Starting 147\n",
      "Returning results for batch=170...........\n",
      "Starting 171\n",
      "Returning results for batch=147...........\n",
      "Starting 148\n",
      "Returning results for batch=171...........\n",
      "Starting 172\n",
      "Returning results for batch=148...........\n",
      "Starting 149\n",
      "Returning results for batch=172...........\n",
      "Starting 173\n",
      "Returning results for batch=149...........\n",
      "Starting 150\n",
      "Returning results for batch=173...........\n",
      "Starting 174\n",
      "Returning results for batch=150...........\n",
      "Starting 151\n",
      "Returning results for batch=174...........\n",
      "Starting 175\n",
      "Returning results for batch=151...........\n",
      "Starting 152\n",
      "Returning results for batch=175...........\n",
      "Starting 176\n",
      "Returning results for batch=152...........\n",
      "Starting 153\n",
      "Returning results for batch=176...........\n",
      "Starting 177\n",
      "Returning results for batch=153...........\n",
      "Starting 154\n",
      "Returning results for batch=177...........\n",
      "Starting 178\n",
      "Returning results for batch=154...........\n",
      "Starting 155\n",
      "Returning results for batch=178...........\n",
      "Starting 179\n",
      "Returning results for batch=155...........\n",
      "Starting 156\n",
      "Returning results for batch=179...........\n",
      "Starting 180\n",
      "Returning results for batch=156...........\n",
      "Starting 157\n",
      "Returning results for batch=180...........\n",
      "Starting 181\n",
      "Returning results for batch=157...........\n",
      "Starting 158\n",
      "Returning results for batch=181...........\n",
      "Starting 182\n",
      "Returning results for batch=158...........\n",
      "Starting 159\n",
      "Returning results for batch=182...........\n",
      "Starting 183\n",
      "Returning results for batch=159...........\n",
      "Starting 160\n",
      "Returning results for batch=183...........\n",
      "Starting 184\n",
      "Returning results for batch=160...........\n",
      "Starting 161\n",
      "Returning results for batch=184...........\n",
      "Starting 185\n",
      "Returning results for batch=161...........\n",
      "Starting 162\n",
      "Returning results for batch=185...........\n",
      "Starting 186\n",
      "Returning results for batch=162...........\n",
      "Starting 163\n",
      "Returning results for batch=186...........\n",
      "Starting 187\n",
      "Returning results for batch=163...........\n",
      "Starting 164\n",
      "Returning results for batch=187...........\n",
      "Starting 188\n",
      "Returning results for batch=164...........\n",
      "Starting 165\n",
      "Returning results for batch=188...........\n",
      "Starting 189\n",
      "Returning results for batch=165...........\n",
      "Starting 166\n",
      "Returning results for batch=189...........\n",
      "Returning results for batch=166...........\n",
      "Starting 167\n",
      "Returning results for batch=167...........\n"
     ]
    },
    {
     "name": "stderr",
     "output_type": "stream",
     "text": [
      "Process ForkPoolWorker-34:\n",
      "Process ForkPoolWorker-33:\n",
      "Traceback (most recent call last):\n",
      "  File \"/home/wj1132075/.conda/envs/cuda_1/lib/python3.10/multiprocessing/process.py\", line 314, in _bootstrap\n",
      "    self.run()\n",
      "Traceback (most recent call last):\n",
      "  File \"/home/wj1132075/.conda/envs/cuda_1/lib/python3.10/multiprocessing/process.py\", line 108, in run\n",
      "    self._target(*self._args, **self._kwargs)\n"
     ]
    },
    {
     "ename": "KeyboardInterrupt",
     "evalue": "",
     "output_type": "error",
     "traceback": [
      "\u001b[0;31m---------------------------------------------------------------------------\u001b[0m",
      "\u001b[0;31mKeyboardInterrupt\u001b[0m                         Traceback (most recent call last)",
      "File \u001b[0;32m<timed exec>:5\u001b[0m\n",
      "File \u001b[0;32m~/.conda/envs/cuda_1/lib/python3.10/multiprocessing/pool.py:367\u001b[0m, in \u001b[0;36mPool.map\u001b[0;34m(self, func, iterable, chunksize)\u001b[0m\n\u001b[1;32m    362\u001b[0m \u001b[38;5;28;01mdef\u001b[39;00m \u001b[38;5;21mmap\u001b[39m(\u001b[38;5;28mself\u001b[39m, func, iterable, chunksize\u001b[38;5;241m=\u001b[39m\u001b[38;5;28;01mNone\u001b[39;00m):\n\u001b[1;32m    363\u001b[0m \u001b[38;5;250m    \u001b[39m\u001b[38;5;124;03m'''\u001b[39;00m\n\u001b[1;32m    364\u001b[0m \u001b[38;5;124;03m    Apply `func` to each element in `iterable`, collecting the results\u001b[39;00m\n\u001b[1;32m    365\u001b[0m \u001b[38;5;124;03m    in a list that is returned.\u001b[39;00m\n\u001b[1;32m    366\u001b[0m \u001b[38;5;124;03m    '''\u001b[39;00m\n\u001b[0;32m--> 367\u001b[0m     \u001b[38;5;28;01mreturn\u001b[39;00m \u001b[38;5;28;43mself\u001b[39;49m\u001b[38;5;241;43m.\u001b[39;49m\u001b[43m_map_async\u001b[49m\u001b[43m(\u001b[49m\u001b[43mfunc\u001b[49m\u001b[43m,\u001b[49m\u001b[43m \u001b[49m\u001b[43miterable\u001b[49m\u001b[43m,\u001b[49m\u001b[43m \u001b[49m\u001b[43mmapstar\u001b[49m\u001b[43m,\u001b[49m\u001b[43m \u001b[49m\u001b[43mchunksize\u001b[49m\u001b[43m)\u001b[49m\u001b[38;5;241;43m.\u001b[39;49m\u001b[43mget\u001b[49m\u001b[43m(\u001b[49m\u001b[43m)\u001b[49m\n",
      "File \u001b[0;32m~/.conda/envs/cuda_1/lib/python3.10/multiprocessing/pool.py:768\u001b[0m, in \u001b[0;36mApplyResult.get\u001b[0;34m(self, timeout)\u001b[0m\n\u001b[1;32m    767\u001b[0m \u001b[38;5;28;01mdef\u001b[39;00m \u001b[38;5;21mget\u001b[39m(\u001b[38;5;28mself\u001b[39m, timeout\u001b[38;5;241m=\u001b[39m\u001b[38;5;28;01mNone\u001b[39;00m):\n\u001b[0;32m--> 768\u001b[0m     \u001b[38;5;28;43mself\u001b[39;49m\u001b[38;5;241;43m.\u001b[39;49m\u001b[43mwait\u001b[49m\u001b[43m(\u001b[49m\u001b[43mtimeout\u001b[49m\u001b[43m)\u001b[49m\n\u001b[1;32m    769\u001b[0m     \u001b[38;5;28;01mif\u001b[39;00m \u001b[38;5;129;01mnot\u001b[39;00m \u001b[38;5;28mself\u001b[39m\u001b[38;5;241m.\u001b[39mready():\n\u001b[1;32m    770\u001b[0m         \u001b[38;5;28;01mraise\u001b[39;00m \u001b[38;5;167;01mTimeoutError\u001b[39;00m\n",
      "File \u001b[0;32m~/.conda/envs/cuda_1/lib/python3.10/multiprocessing/pool.py:765\u001b[0m, in \u001b[0;36mApplyResult.wait\u001b[0;34m(self, timeout)\u001b[0m\n\u001b[1;32m    764\u001b[0m \u001b[38;5;28;01mdef\u001b[39;00m \u001b[38;5;21mwait\u001b[39m(\u001b[38;5;28mself\u001b[39m, timeout\u001b[38;5;241m=\u001b[39m\u001b[38;5;28;01mNone\u001b[39;00m):\n\u001b[0;32m--> 765\u001b[0m     \u001b[38;5;28;43mself\u001b[39;49m\u001b[38;5;241;43m.\u001b[39;49m\u001b[43m_event\u001b[49m\u001b[38;5;241;43m.\u001b[39;49m\u001b[43mwait\u001b[49m\u001b[43m(\u001b[49m\u001b[43mtimeout\u001b[49m\u001b[43m)\u001b[49m\n",
      "File \u001b[0;32m~/.conda/envs/cuda_1/lib/python3.10/threading.py:607\u001b[0m, in \u001b[0;36mEvent.wait\u001b[0;34m(self, timeout)\u001b[0m\n\u001b[1;32m    605\u001b[0m signaled \u001b[38;5;241m=\u001b[39m \u001b[38;5;28mself\u001b[39m\u001b[38;5;241m.\u001b[39m_flag\n\u001b[1;32m    606\u001b[0m \u001b[38;5;28;01mif\u001b[39;00m \u001b[38;5;129;01mnot\u001b[39;00m signaled:\n\u001b[0;32m--> 607\u001b[0m     signaled \u001b[38;5;241m=\u001b[39m \u001b[38;5;28;43mself\u001b[39;49m\u001b[38;5;241;43m.\u001b[39;49m\u001b[43m_cond\u001b[49m\u001b[38;5;241;43m.\u001b[39;49m\u001b[43mwait\u001b[49m\u001b[43m(\u001b[49m\u001b[43mtimeout\u001b[49m\u001b[43m)\u001b[49m\n\u001b[1;32m    608\u001b[0m \u001b[38;5;28;01mreturn\u001b[39;00m signaled\n",
      "File \u001b[0;32m~/.conda/envs/cuda_1/lib/python3.10/threading.py:320\u001b[0m, in \u001b[0;36mCondition.wait\u001b[0;34m(self, timeout)\u001b[0m\n\u001b[1;32m    318\u001b[0m \u001b[38;5;28;01mtry\u001b[39;00m:    \u001b[38;5;66;03m# restore state no matter what (e.g., KeyboardInterrupt)\u001b[39;00m\n\u001b[1;32m    319\u001b[0m     \u001b[38;5;28;01mif\u001b[39;00m timeout \u001b[38;5;129;01mis\u001b[39;00m \u001b[38;5;28;01mNone\u001b[39;00m:\n\u001b[0;32m--> 320\u001b[0m         \u001b[43mwaiter\u001b[49m\u001b[38;5;241;43m.\u001b[39;49m\u001b[43macquire\u001b[49m\u001b[43m(\u001b[49m\u001b[43m)\u001b[49m\n\u001b[1;32m    321\u001b[0m         gotit \u001b[38;5;241m=\u001b[39m \u001b[38;5;28;01mTrue\u001b[39;00m\n\u001b[1;32m    322\u001b[0m     \u001b[38;5;28;01melse\u001b[39;00m:\n",
      "\u001b[0;31mKeyboardInterrupt\u001b[0m: "
     ]
    },
    {
     "name": "stderr",
     "output_type": "stream",
     "text": [
      "  File \"/home/wj1132075/.conda/envs/cuda_1/lib/python3.10/multiprocessing/process.py\", line 314, in _bootstrap\n",
      "    self.run()\n",
      "  File \"/home/wj1132075/.conda/envs/cuda_1/lib/python3.10/multiprocessing/pool.py\", line 114, in worker\n",
      "    task = get()\n",
      "  File \"/home/wj1132075/.conda/envs/cuda_1/lib/python3.10/multiprocessing/process.py\", line 108, in run\n",
      "    self._target(*self._args, **self._kwargs)\n",
      "  File \"/home/wj1132075/.conda/envs/cuda_1/lib/python3.10/multiprocessing/queues.py\", line 364, in get\n",
      "    with self._rlock:\n",
      "  File \"/home/wj1132075/.conda/envs/cuda_1/lib/python3.10/multiprocessing/pool.py\", line 114, in worker\n",
      "    task = get()\n",
      "  File \"/home/wj1132075/.conda/envs/cuda_1/lib/python3.10/multiprocessing/synchronize.py\", line 95, in __enter__\n",
      "    return self._semlock.__enter__()\n",
      "  File \"/home/wj1132075/.conda/envs/cuda_1/lib/python3.10/multiprocessing/queues.py\", line 365, in get\n",
      "    res = self._reader.recv_bytes()\n",
      "KeyboardInterrupt\n",
      "  File \"/home/wj1132075/.conda/envs/cuda_1/lib/python3.10/multiprocessing/connection.py\", line 216, in recv_bytes\n",
      "    buf = self._recv_bytes(maxlength)\n",
      "  File \"/home/wj1132075/.conda/envs/cuda_1/lib/python3.10/multiprocessing/connection.py\", line 414, in _recv_bytes\n",
      "    buf = self._recv(4)\n",
      "  File \"/home/wj1132075/.conda/envs/cuda_1/lib/python3.10/multiprocessing/connection.py\", line 379, in _recv\n",
      "    chunk = read(handle, remaining)\n",
      "KeyboardInterrupt\n"
     ]
    }
   ],
   "source": [
    "%%time\n",
    "data_loader = tc.utils.data.DataLoader(ds, batch_size=8, shuffle=False, num_workers=2)\n",
    "batch_size = data_loader.batch_size\n",
    "pool = mp.Pool(processes=2)\n",
    "\n",
    "inferences = pool.map(doInference, enumerate(data_loader))\n",
    "\n",
    "pool.close()\n",
    "print(\"pool closed, waiting to join...\")\n",
    "pool.join()\n",
    "print(len(inferences))"
   ]
  },
  {
   "cell_type": "code",
   "execution_count": null,
   "id": "00985908-169a-4829-9635-152a229f7e5f",
   "metadata": {},
   "outputs": [],
   "source": []
  },
  {
   "cell_type": "code",
   "execution_count": null,
   "id": "dcd4233f-1fb1-410e-b72b-fa367a471d7c",
   "metadata": {},
   "outputs": [],
   "source": []
  },
  {
   "cell_type": "code",
   "execution_count": 20,
   "id": "f70a2f76-9633-40f0-b60b-e6dfcc2f0d98",
   "metadata": {},
   "outputs": [
    {
     "name": "stdout",
     "output_type": "stream",
     "text": [
      "id=2 thing=1 pid=313274\n",
      "\n",
      "id=5 thing=2 pid=313278\n",
      "\n",
      "id=4 thing=4 pid=313277\n",
      "\n",
      "id=1 thing=5 pid=313273\n",
      "\n",
      "id=3 thing=6 pid=313276\n",
      "\n",
      "id=0 thing=7 pid=313272\n",
      "\n",
      "Result 7\n",
      "Result 5\n",
      "Result 1\n",
      "Result 6\n",
      "Result 4\n",
      "Result 2\n"
     ]
    }
   ],
   "source": [
    "things=[7,5,1,6,4,2]\n",
    "\n",
    "def worker(thing):\n",
    "    id, n = thing\n",
    "    # time.sleep(n)\n",
    "    print(f\"id={id} thing={n} pid={os.getpid()}\\n\")\n",
    "    return n\n",
    "    \n",
    "pool = mp.Pool(processes=mp.cpu_count())\n",
    "results = pool.map(worker, enumerate(things))\n",
    "pool.close()\n",
    "pool.join()\n",
    "for r in results:\n",
    "    print(f\"Result {r}\") "
   ]
  },
  {
   "cell_type": "code",
   "execution_count": null,
   "id": "cafa336d-bccc-41ff-bd62-22c6f3901174",
   "metadata": {},
   "outputs": [],
   "source": []
  },
  {
   "cell_type": "code",
   "execution_count": null,
   "id": "5b37e5c6-dd3b-4524-b9e0-3e6a76613d4e",
   "metadata": {},
   "outputs": [],
   "source": []
  },
  {
   "cell_type": "code",
   "execution_count": null,
   "id": "dc47b795-055f-456b-80d8-c5e60638e2c2",
   "metadata": {},
   "outputs": [],
   "source": []
  }
 ],
 "metadata": {
  "kernelspec": {
   "display_name": "Python 3 (ipykernel)",
   "language": "python",
   "name": "python3"
  },
  "language_info": {
   "codemirror_mode": {
    "name": "ipython",
    "version": 3
   },
   "file_extension": ".py",
   "mimetype": "text/x-python",
   "name": "python",
   "nbconvert_exporter": "python",
   "pygments_lexer": "ipython3",
   "version": "3.10.13"
  }
 },
 "nbformat": 4,
 "nbformat_minor": 5
}
