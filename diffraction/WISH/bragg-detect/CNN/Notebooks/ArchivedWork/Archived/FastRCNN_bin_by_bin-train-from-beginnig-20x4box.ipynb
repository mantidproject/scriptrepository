{
 "cells": [
  {
   "cell_type": "code",
   "execution_count": 1,
   "id": "796120de-bf8b-42b5-ad27-16f7b74cec9f",
   "metadata": {
    "tags": []
   },
   "outputs": [],
   "source": [
    "# !pip install pycocotools --quiet\n",
    "# !git clone https://github.com/pytorch/vision.git\n",
    "# !git checkout v0.3.0\n",
    "\n",
    "# !cp vision/references/detection/utils.py ./\n",
    "# !cp vision/references/detection/transforms.py ./\n",
    "# !cp vision/references/detection/coco_eval.py ./\n",
    "# !cp vision/references/detection/engine.py ./\n",
    "# !cp vision/references/detection/coco_utils.py ./"
   ]
  },
  {
   "cell_type": "code",
   "execution_count": 2,
   "id": "4cbb0bcf-e67f-482e-b373-1875a420410b",
   "metadata": {
    "tags": []
   },
   "outputs": [],
   "source": [
    "import os\n",
    "import numpy as np\n",
    "import torch as tc\n",
    "import torchvision\n",
    "from torchvision import transforms\n",
    "import matplotlib.pyplot as plt\n",
    "import matplotlib.patches as patches\n",
    "from tqdm.notebook import tqdm, trange\n",
    "import pickle\n",
    "\n",
    "import albumentations as A\n",
    "from albumentations.pytorch.transforms import ToTensorV2\n",
    "\n",
    "from torchvision.models.detection.faster_rcnn import FastRCNNPredictor\n",
    "\n",
    "# these are the helper libraries imported.\n",
    "from engine import train_one_epoch, evaluate\n",
    "import utils\n",
    "# import transforms as T\n",
    "#import cv2\n",
    "from WishDataSet import WishDataSet, get_transform\n",
    "from wish_utils import *"
   ]
  },
  {
   "cell_type": "code",
   "execution_count": 3,
   "id": "8977efa9-00f7-4515-9776-e8fec58d3bfa",
   "metadata": {
    "tags": []
   },
   "outputs": [
    {
     "data": {
      "text/plain": [
       "'2.2.1+cu118'"
      ]
     },
     "execution_count": 3,
     "metadata": {},
     "output_type": "execute_result"
    }
   ],
   "source": [
    "tc.__version__"
   ]
  },
  {
   "cell_type": "code",
   "execution_count": 4,
   "id": "68a29720-689f-4a3f-a716-383493c408a6",
   "metadata": {
    "tags": []
   },
   "outputs": [
    {
     "data": {
      "text/plain": [
       "(True, 2)"
      ]
     },
     "execution_count": 4,
     "metadata": {},
     "output_type": "execute_result"
    }
   ],
   "source": [
    "tc.cuda.is_available(), tc.cuda.device_count()"
   ]
  },
  {
   "cell_type": "code",
   "execution_count": 5,
   "id": "3b6f5234-04f0-43db-99cc-9d5a4aa17f89",
   "metadata": {
    "tags": []
   },
   "outputs": [
    {
     "name": "stdout",
     "output_type": "stream",
     "text": [
      "Mon Feb 26 14:11:25 2024       \n",
      "+---------------------------------------------------------------------------------------+\n",
      "| NVIDIA-SMI 535.154.05             Driver Version: 535.154.05   CUDA Version: 12.2     |\n",
      "|-----------------------------------------+----------------------+----------------------+\n",
      "| GPU  Name                 Persistence-M | Bus-Id        Disp.A | Volatile Uncorr. ECC |\n",
      "| Fan  Temp   Perf          Pwr:Usage/Cap |         Memory-Usage | GPU-Util  Compute M. |\n",
      "|                                         |                      |               MIG M. |\n",
      "|=========================================+======================+======================|\n",
      "|   0  Quadro RTX 4000                Off | 00000000:00:05.0 Off |                  N/A |\n",
      "| 30%   35C    P8              13W / 125W |    241MiB /  8192MiB |     18%      Default |\n",
      "|                                         |                      |                  N/A |\n",
      "+-----------------------------------------+----------------------+----------------------+\n",
      "|   1  Quadro RTX 4000                Off | 00000000:00:06.0 Off |                  N/A |\n",
      "| 30%   24C    P8              10W / 125W |      4MiB /  8192MiB |      0%      Default |\n",
      "|                                         |                      |                  N/A |\n",
      "+-----------------------------------------+----------------------+----------------------+\n",
      "                                                                                         \n",
      "+---------------------------------------------------------------------------------------+\n",
      "| Processes:                                                                            |\n",
      "|  GPU   GI   CI        PID   Type   Process name                            GPU Memory |\n",
      "|        ID   ID                                                             Usage      |\n",
      "|=======================================================================================|\n",
      "|    0   N/A  N/A     49366      G   /usr/libexec/Xorg                            89MiB |\n",
      "|    0   N/A  N/A     49481      G   /usr/bin/gnome-shell                          2MiB |\n",
      "|    0   N/A  N/A    203699      G   xfwm4                                         2MiB |\n",
      "|    0   N/A  N/A    204042      G   /usr/lib64/firefox/firefox                  139MiB |\n",
      "+---------------------------------------------------------------------------------------+\n"
     ]
    }
   ],
   "source": [
    "!nvidia-smi"
   ]
  },
  {
   "cell_type": "code",
   "execution_count": 6,
   "id": "c79e2dfe-7ff5-4723-9488-c11ef781851c",
   "metadata": {
    "tags": []
   },
   "outputs": [
    {
     "data": {
      "text/plain": [
       "(0, <torch.cuda.device at 0x7f1c17031ea0>, 'Quadro RTX 4000')"
      ]
     },
     "execution_count": 6,
     "metadata": {},
     "output_type": "execute_result"
    }
   ],
   "source": [
    "tc.cuda.current_device(), tc.cuda.device(0), tc.cuda.get_device_name()"
   ]
  },
  {
   "cell_type": "code",
   "execution_count": 7,
   "id": "230f63f8-12f7-4977-b24b-f3cb26b56941",
   "metadata": {},
   "outputs": [],
   "source": [
    "# f = \"/home/wj1132075/Desktop/CNN_Model_Data/Annotations/annot_56_25.pickle\"\n",
    "# with open(f, 'rb') as handle:\n",
    "#     annot_dict = pickle.load(handle)\n",
    "#     bin_data = np.load(annot_dict['nparr_path'])['arr_0']\n",
    "#     # img_res = np.tile(bin_data[:,:,None], 3)\n",
    "#     bin_data = cv2.normalize(bin_data, None, 0, 255, cv2.NORM_MINMAX, dtype=cv2.CV_8U)\n",
    "    \n",
    "#     # img_res = cv2.resize(img_res, (128, 128), cv2.INTER_AREA)"
   ]
  },
  {
   "cell_type": "code",
   "execution_count": 8,
   "id": "5d47522c-26ba-47e6-a8bf-c1db675e12ea",
   "metadata": {},
   "outputs": [],
   "source": [
    "# bin_data.shape"
   ]
  },
  {
   "cell_type": "code",
   "execution_count": 9,
   "id": "aa560669-9eec-44f7-ad76-49a4ed7525d3",
   "metadata": {},
   "outputs": [],
   "source": [
    "# np.max(bin_data), np.min(bin_data)"
   ]
  },
  {
   "cell_type": "code",
   "execution_count": 10,
   "id": "9d5904f7-16d0-46ef-a2d1-6d01a6aff692",
   "metadata": {},
   "outputs": [],
   "source": [
    "# cv2.imshow('let see', bin_data)\n",
    "# cv2.waitKey(0)\n",
    "# cv2.destroyAllWindoes()"
   ]
  },
  {
   "cell_type": "code",
   "execution_count": 11,
   "id": "09a03d76-e2c8-4743-83ef-63e8cea16bf9",
   "metadata": {},
   "outputs": [],
   "source": [
    "# img_res = cv2.resize(img_res, (128, 128), cv2.INTER_AREA)"
   ]
  },
  {
   "cell_type": "code",
   "execution_count": 12,
   "id": "67541ad8-3d03-4118-a20d-0779af1a344d",
   "metadata": {},
   "outputs": [
    {
     "data": {
      "text/plain": [
       "4065"
      ]
     },
     "execution_count": 12,
     "metadata": {},
     "output_type": "execute_result"
    }
   ],
   "source": [
    "annotations_dir = \"/home/wj1132075/Desktop/CNN_Model_Data/Annotations/\"\n",
    "ds = WishDataSet(annotations_dir)\n",
    "len(ds)"
   ]
  },
  {
   "cell_type": "code",
   "execution_count": 13,
   "id": "373b461d-6254-4568-a948-ff5818e3dac7",
   "metadata": {},
   "outputs": [
    {
     "data": {
      "text/plain": [
       "(numpy.ndarray, dict)"
      ]
     },
     "execution_count": 13,
     "metadata": {},
     "output_type": "execute_result"
    }
   ],
   "source": [
    "im, tar = ds[0]\n",
    "type(im), type(tar)"
   ]
  },
  {
   "cell_type": "code",
   "execution_count": 14,
   "id": "a39610ba-d165-423f-970b-34c6f911ee76",
   "metadata": {
    "tags": []
   },
   "outputs": [
    {
     "data": {
      "text/plain": [
       "(1520, 128, 3)"
      ]
     },
     "execution_count": 14,
     "metadata": {},
     "output_type": "execute_result"
    }
   ],
   "source": [
    "im.shape"
   ]
  },
  {
   "cell_type": "code",
   "execution_count": 15,
   "id": "f9db6f8c-5aa2-4a72-ad4e-d3667ce27f39",
   "metadata": {
    "tags": []
   },
   "outputs": [
    {
     "data": {
      "text/plain": [
       "{'boxes': tensor([[ 0., 55.,  4., 75.]]),\n",
       " 'labels': tensor([1]),\n",
       " 'area': tensor([80.]),\n",
       " 'iscrowd': tensor([0]),\n",
       " 'image_id': 0}"
      ]
     },
     "execution_count": 15,
     "metadata": {},
     "output_type": "execute_result"
    }
   ],
   "source": [
    "tar"
   ]
  },
  {
   "cell_type": "code",
   "execution_count": 16,
   "id": "80edac62-1283-4443-9aa2-4208b8f25079",
   "metadata": {
    "tags": []
   },
   "outputs": [],
   "source": [
    "# t = A.Compose([\n",
    "#                A.augmentations.geometric.resize.Resize(128, 128, p=1),\n",
    "#                A.HorizontalFlip(0.5),\n",
    "#                ToTensorV2(p=1.0)], bbox_params={'format': 'pascal_voc', 'label_fields': ['labels']})"
   ]
  },
  {
   "cell_type": "code",
   "execution_count": 17,
   "id": "3b2f02f9-ef85-4ea8-a526-a93d75d9b5a6",
   "metadata": {
    "tags": []
   },
   "outputs": [],
   "source": [
    "# new = t(image = im, bboxes = tar['boxes'], labels = tar['labels'])\n",
    "# new"
   ]
  },
  {
   "cell_type": "code",
   "execution_count": 18,
   "id": "2c012a52-9408-44f8-bcc2-38a4cde37894",
   "metadata": {
    "tags": []
   },
   "outputs": [],
   "source": [
    "# new['image'].shape"
   ]
  },
  {
   "cell_type": "code",
   "execution_count": 19,
   "id": "087e40b8-2b9a-45c7-9ffe-44e9346d2295",
   "metadata": {
    "tags": []
   },
   "outputs": [],
   "source": [
    "# transform = A.Compose(\n",
    "#     [        \n",
    "#         A.augmentations.geometric.resize.Resize(128, 128, p=1),\n",
    "#         # A.VerticalFlip(p=0.5), \n",
    "#         ToTensorV2(p=1.0)\n",
    "#     ],\n",
    "#     bbox_params=A.BboxParams(format='pascal_voc', label_fields=['labels'])\n",
    "# )"
   ]
  },
  {
   "cell_type": "code",
   "execution_count": 20,
   "id": "2ef323f2-e7c0-431a-96fe-98a7ff39f9d3",
   "metadata": {
    "tags": []
   },
   "outputs": [],
   "source": [
    "# transform = A.Compose(\n",
    "#     [       \n",
    "#         A.VerticalFlip(0.5),\n",
    "#         A.augmentations.geometric.resize.Resize(128, 128, p=1),\n",
    "#         ToTensorV2(p=1.0)\n",
    "#     ], \n",
    "#     bbox_params={'format': 'pascal_voc', 'label_fields': ['labels']})\n",
    "\n",
    "# for i in trange(5):\n",
    "#     new = transform(image = im, bboxes = tar['boxes'], labels = tar['labels'])\n",
    "#     print(new['bboxes'])\n",
    "#     plot_bin(new['image'][0,...], new['bboxes'], 0)"
   ]
  },
  {
   "cell_type": "code",
   "execution_count": 21,
   "id": "a9475ecb-25f3-4e93-9ba2-f55416b74ee4",
   "metadata": {
    "tags": []
   },
   "outputs": [],
   "source": [
    "# plot_img_bbox(im, tar)"
   ]
  },
  {
   "cell_type": "markdown",
   "id": "b2afbd39-7be8-47a8-aa08-ab9e68c19a12",
   "metadata": {},
   "source": [
    "### See bins and boxes"
   ]
  },
  {
   "cell_type": "code",
   "execution_count": 22,
   "id": "4814da2b-e298-404e-b3fd-fdce6810922a",
   "metadata": {
    "tags": []
   },
   "outputs": [],
   "source": [
    "# i=0\n",
    "# for (im, tar) in ds:\n",
    "#     plot_bin(im[:,:,0], tar['boxes'], i)\n",
    "#     i+=1\n",
    "#     if i == 5:\n",
    "#         break"
   ]
  },
  {
   "cell_type": "markdown",
   "id": "6e37e91b-b2b6-4098-8bcf-ee2951df337c",
   "metadata": {},
   "source": [
    "### Calculate the stats"
   ]
  },
  {
   "cell_type": "code",
   "execution_count": 23,
   "id": "4794f632-5b49-4efd-a180-2dbf1c0ecdc6",
   "metadata": {
    "tags": []
   },
   "outputs": [],
   "source": [
    "# dl = tc.utils.data.DataLoader(ds, batch_size=100, shuffle=False, num_workers=2, collate_fn=utils.collate_fn)\n",
    "# stats = get_stats(dl)\n",
    "# stats"
   ]
  },
  {
   "cell_type": "code",
   "execution_count": 24,
   "id": "a81bffc0-91d8-46f9-93b2-a68496369e6f",
   "metadata": {
    "tags": []
   },
   "outputs": [],
   "source": [
    "# stats = (np.array([1.26653515, 1.26653515, 1.26653515]), np.array([4.59509826, 4.59509826, 4.59509826]))\n",
    "# stats"
   ]
  },
  {
   "cell_type": "markdown",
   "id": "63b9adf2-5ae3-4864-af50-49bc2105d5f3",
   "metadata": {},
   "source": [
    "### Training and test data sets"
   ]
  },
  {
   "cell_type": "code",
   "execution_count": 25,
   "id": "74c5888e-2e47-476e-a089-9cf9f4e34e4d",
   "metadata": {},
   "outputs": [],
   "source": [
    "# use our dataset and defined transformations\n",
    "stats=None\n",
    "dataset = WishDataSet(annotations_dir, transforms=get_transform(train=True, stats=stats))\n",
    "dataset_test = WishDataSet(annotations_dir, transforms=get_transform(train=False, stats=stats))"
   ]
  },
  {
   "cell_type": "code",
   "execution_count": 26,
   "id": "ad531d92-9b8c-4be2-bcfd-445d2f90d154",
   "metadata": {},
   "outputs": [],
   "source": [
    "# a,b=dataset[800]"
   ]
  },
  {
   "cell_type": "code",
   "execution_count": 27,
   "id": "3ce8884d-cd6c-4925-bb39-0c90d5d59cdc",
   "metadata": {},
   "outputs": [],
   "source": [
    "# a.shape"
   ]
  },
  {
   "cell_type": "code",
   "execution_count": 28,
   "id": "be018e0e-0d5a-41fa-99f3-02716947e498",
   "metadata": {},
   "outputs": [],
   "source": [
    "# b"
   ]
  },
  {
   "cell_type": "code",
   "execution_count": 29,
   "id": "e4aa0b98-d5c4-490f-a936-b69f86cfac1b",
   "metadata": {},
   "outputs": [],
   "source": [
    "# split the dataset in train and test set\n",
    "tc.manual_seed(1)\n",
    "indices = tc.randperm(len(dataset)).tolist()\n",
    "\n",
    "# train test split\n",
    "test_split = 0.2\n",
    "tsize = int(len(dataset)*test_split)\n",
    "dataset = tc.utils.data.Subset(dataset, indices[:-tsize])\n",
    "dataset_test = tc.utils.data.Subset(dataset_test, indices[-tsize:])\n",
    "\n",
    "# define training and validation data loaders\n",
    "data_loader = tc.utils.data.DataLoader(dataset, batch_size=8, shuffle=True, num_workers=2, collate_fn=utils.collate_fn)\n",
    "data_loader_test = tc.utils.data.DataLoader(dataset_test, batch_size=8, shuffle=False, num_workers=2, collate_fn=utils.collate_fn)"
   ]
  },
  {
   "cell_type": "markdown",
   "id": "4ff368c7-fdb7-4e56-b04a-0080683b8c92",
   "metadata": {},
   "source": [
    "### Model Training"
   ]
  },
  {
   "cell_type": "code",
   "execution_count": 30,
   "id": "d7340fda-14ec-44ff-8302-78f8c7e0e15c",
   "metadata": {},
   "outputs": [
    {
     "name": "stderr",
     "output_type": "stream",
     "text": [
      "/home/wj1132075/.conda/envs/cuda_1/lib/python3.10/site-packages/torchvision/models/_utils.py:208: UserWarning: The parameter 'pretrained' is deprecated since 0.13 and may be removed in the future, please use 'weights' instead.\n",
      "  warnings.warn(\n",
      "/home/wj1132075/.conda/envs/cuda_1/lib/python3.10/site-packages/torchvision/models/_utils.py:223: UserWarning: Arguments other than a weight enum or `None` for 'weights' are deprecated since 0.13 and may be removed in the future. The current behavior is equivalent to passing `weights=None`.\n",
      "  warnings.warn(msg)\n"
     ]
    }
   ],
   "source": [
    "# to train on gpu if selected.\n",
    "device = tc.device('cuda') if tc.cuda.is_available() else tc.device('cpu')\n",
    "\n",
    "num_classes = 2\n",
    "\n",
    "# get the model using our helper function\n",
    "model = get_object_detection_model(num_classes, pretrained=False)"
   ]
  },
  {
   "cell_type": "markdown",
   "id": "13e34849-3f60-48b7-9ae7-930dbdb905ce",
   "metadata": {},
   "source": [
    "### Data Parallel"
   ]
  },
  {
   "cell_type": "code",
   "execution_count": 31,
   "id": "20a4f1bf-b1fc-4f36-a6e5-532cffd7c8e2",
   "metadata": {},
   "outputs": [],
   "source": [
    "# model = tc.nn.DataParallel(model, device_ids=[0,1])"
   ]
  },
  {
   "cell_type": "code",
   "execution_count": 32,
   "id": "916bc7ef-7e9d-4703-9a3f-504e13e322fb",
   "metadata": {
    "tags": []
   },
   "outputs": [],
   "source": [
    "freeze_to(model, False)"
   ]
  },
  {
   "cell_type": "code",
   "execution_count": 33,
   "id": "6e1dc8c0-44cf-42a7-a0a7-72f3f91a7360",
   "metadata": {
    "tags": []
   },
   "outputs": [
    {
     "data": {
      "text/plain": [
       "device(type='cuda')"
      ]
     },
     "execution_count": 33,
     "metadata": {},
     "output_type": "execute_result"
    }
   ],
   "source": [
    "device"
   ]
  },
  {
   "cell_type": "code",
   "execution_count": 34,
   "id": "ca239acd-98a0-40cf-81c3-a82b62702865",
   "metadata": {},
   "outputs": [
    {
     "data": {
      "text/plain": [
       "[False,\n",
       " False,\n",
       " False,\n",
       " False,\n",
       " False,\n",
       " False,\n",
       " False,\n",
       " False,\n",
       " False,\n",
       " False,\n",
       " False,\n",
       " True,\n",
       " True,\n",
       " True,\n",
       " True,\n",
       " True,\n",
       " True,\n",
       " True,\n",
       " True,\n",
       " True,\n",
       " True,\n",
       " True,\n",
       " True,\n",
       " True,\n",
       " True,\n",
       " True,\n",
       " True,\n",
       " True,\n",
       " True,\n",
       " True,\n",
       " True,\n",
       " True,\n",
       " True,\n",
       " True,\n",
       " True,\n",
       " True,\n",
       " True,\n",
       " True,\n",
       " True,\n",
       " True,\n",
       " True,\n",
       " True,\n",
       " True,\n",
       " True,\n",
       " True,\n",
       " True,\n",
       " True,\n",
       " True,\n",
       " True,\n",
       " True,\n",
       " True,\n",
       " True,\n",
       " True,\n",
       " True,\n",
       " True,\n",
       " True,\n",
       " True,\n",
       " True,\n",
       " True,\n",
       " True,\n",
       " True,\n",
       " True,\n",
       " True,\n",
       " True,\n",
       " True,\n",
       " True,\n",
       " True,\n",
       " True,\n",
       " True,\n",
       " True,\n",
       " True,\n",
       " True,\n",
       " True,\n",
       " True,\n",
       " True,\n",
       " True,\n",
       " True,\n",
       " True,\n",
       " True,\n",
       " True,\n",
       " True,\n",
       " True,\n",
       " True]"
      ]
     },
     "execution_count": 34,
     "metadata": {},
     "output_type": "execute_result"
    }
   ],
   "source": [
    "[p.requires_grad for p in model.parameters()]"
   ]
  },
  {
   "cell_type": "code",
   "execution_count": 35,
   "id": "195c068f-ea6e-4171-a4c5-0eb57ae8bb4a",
   "metadata": {},
   "outputs": [],
   "source": [
    "# move model to the right device\n",
    "model.to(device)\n",
    "\n",
    "# construct an optimizer\n",
    "params = [p for p in model.parameters() if p.requires_grad]\n",
    "optimizer = tc.optim.SGD(params, lr=0.005, momentum=0.9, weight_decay=0.0005)\n",
    "\n",
    "# and a learning rate scheduler which decreases the learning rate by\n",
    "# 10x every 3 epochs\n",
    "lr_scheduler = tc.optim.lr_scheduler.StepLR(optimizer, \n",
    "                                            step_size=3,\n",
    "                                            gamma=0.1)# to train on gpu if selected."
   ]
  },
  {
   "cell_type": "code",
   "execution_count": 36,
   "id": "0c6ed36f-3519-4d8c-88af-72cb952e6be7",
   "metadata": {},
   "outputs": [
    {
     "data": {
      "text/plain": [
       "72"
      ]
     },
     "execution_count": 36,
     "metadata": {},
     "output_type": "execute_result"
    }
   ],
   "source": [
    "len(params)"
   ]
  },
  {
   "cell_type": "code",
   "execution_count": 37,
   "id": "5a100df7-dfb8-4bc2-b6fd-3093452006dc",
   "metadata": {},
   "outputs": [
    {
     "data": {
      "text/plain": [
       "<torch.optim.lr_scheduler.StepLR at 0x7f1d7d5b9d50>"
      ]
     },
     "execution_count": 37,
     "metadata": {},
     "output_type": "execute_result"
    }
   ],
   "source": [
    "lr_scheduler"
   ]
  },
  {
   "cell_type": "markdown",
   "id": "512cda76-948d-4a9e-a952-3212c10b8537",
   "metadata": {},
   "source": [
    "### Training "
   ]
  },
  {
   "cell_type": "code",
   "execution_count": 38,
   "id": "a18a230f-9d30-4aac-8898-aee57e580cc2",
   "metadata": {
    "tags": []
   },
   "outputs": [
    {
     "data": {
      "application/vnd.jupyter.widget-view+json": {
       "model_id": "aca3d17ca99d4d0ab5c27f2591ef8301",
       "version_major": 2,
       "version_minor": 0
      },
      "text/plain": [
       "  0%|          | 0/20 [00:00<?, ?it/s]"
      ]
     },
     "metadata": {},
     "output_type": "display_data"
    },
    {
     "name": "stdout",
     "output_type": "stream",
     "text": [
      "starting epoch 0\n",
      "Epoch: [0]  [  0/407]  eta: 0:07:29  lr: 0.000017  loss: 7.9068 (7.9068)  loss_classifier: 0.4357 (0.4357)  loss_box_reg: 0.1319 (0.1319)  loss_objectness: 1.0066 (1.0066)  loss_rpn_box_reg: 6.3326 (6.3326)  time: 1.1043  data: 0.2545  max mem: 2127\n",
      "Epoch: [0]  [ 50/407]  eta: 0:02:33  lr: 0.000632  loss: 0.9458 (2.3689)  loss_classifier: 0.0313 (0.1358)  loss_box_reg: 0.0300 (0.0448)  loss_objectness: 0.5032 (0.5982)  loss_rpn_box_reg: 0.4206 (1.5900)  time: 0.4089  data: 0.0232  max mem: 2325\n",
      "Epoch: [0]  [100/407]  eta: 0:02:11  lr: 0.001248  loss: 0.4872 (1.4827)  loss_classifier: 0.0110 (0.0778)  loss_box_reg: 0.0475 (0.0511)  loss_objectness: 0.1185 (0.3834)  loss_rpn_box_reg: 0.3183 (0.9704)  time: 0.4339  data: 0.0233  max mem: 2325\n",
      "Epoch: [0]  [150/407]  eta: 0:01:51  lr: 0.001863  loss: 0.3418 (1.1381)  loss_classifier: 0.0083 (0.0550)  loss_box_reg: 0.0181 (0.0428)  loss_objectness: 0.0475 (0.2852)  loss_rpn_box_reg: 0.2457 (0.7552)  time: 0.4433  data: 0.0229  max mem: 2325\n",
      "Epoch: [0]  [200/407]  eta: 0:01:29  lr: 0.002478  loss: 0.3190 (0.9367)  loss_classifier: 0.0098 (0.0441)  loss_box_reg: 0.0191 (0.0377)  loss_objectness: 0.0488 (0.2300)  loss_rpn_box_reg: 0.2002 (0.6250)  time: 0.4258  data: 0.0224  max mem: 2325\n",
      "Epoch: [0]  [250/407]  eta: 0:01:08  lr: 0.003093  loss: 0.2548 (0.8082)  loss_classifier: 0.0097 (0.0373)  loss_box_reg: 0.0203 (0.0342)  loss_objectness: 0.0401 (0.1933)  loss_rpn_box_reg: 0.1845 (0.5433)  time: 0.4589  data: 0.0233  max mem: 2325\n",
      "Epoch: [0]  [300/407]  eta: 0:00:46  lr: 0.003708  loss: 0.1995 (0.7132)  loss_classifier: 0.0110 (0.0328)  loss_box_reg: 0.0213 (0.0320)  loss_objectness: 0.0291 (0.1673)  loss_rpn_box_reg: 0.1414 (0.4810)  time: 0.4331  data: 0.0221  max mem: 2325\n",
      "Epoch: [0]  [350/407]  eta: 0:00:24  lr: 0.004323  loss: 0.1923 (0.6431)  loss_classifier: 0.0111 (0.0299)  loss_box_reg: 0.0226 (0.0306)  loss_objectness: 0.0268 (0.1484)  loss_rpn_box_reg: 0.1263 (0.4343)  time: 0.4366  data: 0.0229  max mem: 2325\n",
      "Epoch: [0]  [400/407]  eta: 0:00:03  lr: 0.004938  loss: 0.1943 (0.5889)  loss_classifier: 0.0110 (0.0275)  loss_box_reg: 0.0187 (0.0291)  loss_objectness: 0.0241 (0.1338)  loss_rpn_box_reg: 0.1476 (0.3985)  time: 0.4434  data: 0.0240  max mem: 2325\n",
      "Epoch: [0]  [406/407]  eta: 0:00:00  lr: 0.005000  loss: 0.1800 (0.5831)  loss_classifier: 0.0110 (0.0273)  loss_box_reg: 0.0201 (0.0290)  loss_objectness: 0.0197 (0.1322)  loss_rpn_box_reg: 0.1341 (0.3946)  time: 0.4353  data: 0.0216  max mem: 2325\n",
      "Epoch: [0] Total time: 0:02:57 (0.4364 s / it)\n",
      "creating index...\n",
      "index created!\n",
      "Test:  [  0/102]  eta: 0:00:49  model_time: 0.2444 (0.2444)  evaluator_time: 0.0105 (0.0105)  time: 0.4889  data: 0.2092  max mem: 2325\n",
      "Test:  [100/102]  eta: 0:00:00  model_time: 0.1723 (0.1733)  evaluator_time: 0.0078 (0.0082)  time: 0.2074  data: 0.0206  max mem: 2325\n",
      "Test:  [101/102]  eta: 0:00:00  model_time: 0.1723 (0.1727)  evaluator_time: 0.0078 (0.0082)  time: 0.2045  data: 0.0203  max mem: 2325\n",
      "Test: Total time: 0:00:21 (0.2101 s / it)\n",
      "Averaged stats: model_time: 0.1723 (0.1727)  evaluator_time: 0.0078 (0.0082)\n",
      "Accumulating evaluation results...\n",
      "DONE (t=0.12s).\n",
      "IoU metric: bbox\n",
      " Average Precision  (AP) @[ IoU=0.50:0.95 | area=   all | maxDets=100 ] = 0.164\n",
      " Average Precision  (AP) @[ IoU=0.50      | area=   all | maxDets=100 ] = 0.418\n",
      " Average Precision  (AP) @[ IoU=0.75      | area=   all | maxDets=100 ] = 0.075\n",
      " Average Precision  (AP) @[ IoU=0.50:0.95 | area= small | maxDets=100 ] = 0.164\n",
      " Average Precision  (AP) @[ IoU=0.50:0.95 | area=medium | maxDets=100 ] = -1.000\n",
      " Average Precision  (AP) @[ IoU=0.50:0.95 | area= large | maxDets=100 ] = -1.000\n",
      " Average Recall     (AR) @[ IoU=0.50:0.95 | area=   all | maxDets=  1 ] = 0.251\n",
      " Average Recall     (AR) @[ IoU=0.50:0.95 | area=   all | maxDets= 10 ] = 0.471\n",
      " Average Recall     (AR) @[ IoU=0.50:0.95 | area=   all | maxDets=100 ] = 0.476\n",
      " Average Recall     (AR) @[ IoU=0.50:0.95 | area= small | maxDets=100 ] = 0.476\n",
      " Average Recall     (AR) @[ IoU=0.50:0.95 | area=medium | maxDets=100 ] = -1.000\n",
      " Average Recall     (AR) @[ IoU=0.50:0.95 | area= large | maxDets=100 ] = -1.000\n",
      "starting epoch 1\n",
      "Epoch: [1]  [  0/407]  eta: 0:04:09  lr: 0.005000  loss: 0.2019 (0.2019)  loss_classifier: 0.0124 (0.0124)  loss_box_reg: 0.0224 (0.0224)  loss_objectness: 0.0111 (0.0111)  loss_rpn_box_reg: 0.1560 (0.1560)  time: 0.6131  data: 0.2057  max mem: 2325\n",
      "Epoch: [1]  [ 50/407]  eta: 0:02:32  lr: 0.005000  loss: 0.1757 (0.1856)  loss_classifier: 0.0138 (0.0133)  loss_box_reg: 0.0255 (0.0241)  loss_objectness: 0.0196 (0.0253)  loss_rpn_box_reg: 0.1059 (0.1229)  time: 0.4266  data: 0.0231  max mem: 2325\n",
      "Epoch: [1]  [100/407]  eta: 0:02:11  lr: 0.005000  loss: 0.1487 (0.1761)  loss_classifier: 0.0122 (0.0134)  loss_box_reg: 0.0214 (0.0233)  loss_objectness: 0.0176 (0.0240)  loss_rpn_box_reg: 0.0913 (0.1153)  time: 0.4323  data: 0.0235  max mem: 2325\n",
      "Epoch: [1]  [150/407]  eta: 0:01:50  lr: 0.005000  loss: 0.1928 (0.1828)  loss_classifier: 0.0125 (0.0133)  loss_box_reg: 0.0184 (0.0228)  loss_objectness: 0.0310 (0.0297)  loss_rpn_box_reg: 0.1225 (0.1170)  time: 0.4298  data: 0.0227  max mem: 2325\n",
      "Epoch: [1]  [200/407]  eta: 0:01:29  lr: 0.005000  loss: 0.1354 (0.1748)  loss_classifier: 0.0129 (0.0132)  loss_box_reg: 0.0226 (0.0228)  loss_objectness: 0.0126 (0.0277)  loss_rpn_box_reg: 0.0838 (0.1111)  time: 0.4262  data: 0.0223  max mem: 2325\n",
      "Epoch: [1]  [250/407]  eta: 0:01:07  lr: 0.005000  loss: 0.1273 (0.1689)  loss_classifier: 0.0128 (0.0133)  loss_box_reg: 0.0239 (0.0231)  loss_objectness: 0.0150 (0.0266)  loss_rpn_box_reg: 0.0707 (0.1059)  time: 0.4258  data: 0.0223  max mem: 2325\n",
      "Epoch: [1]  [300/407]  eta: 0:00:45  lr: 0.005000  loss: 0.1112 (0.1615)  loss_classifier: 0.0114 (0.0135)  loss_box_reg: 0.0240 (0.0238)  loss_objectness: 0.0139 (0.0249)  loss_rpn_box_reg: 0.0667 (0.0993)  time: 0.4237  data: 0.0228  max mem: 2325\n",
      "Epoch: [1]  [350/407]  eta: 0:00:24  lr: 0.005000  loss: 0.1091 (0.1546)  loss_classifier: 0.0140 (0.0135)  loss_box_reg: 0.0240 (0.0238)  loss_objectness: 0.0153 (0.0241)  loss_rpn_box_reg: 0.0549 (0.0932)  time: 0.4298  data: 0.0227  max mem: 2325\n",
      "Epoch: [1]  [400/407]  eta: 0:00:03  lr: 0.005000  loss: 0.1206 (0.1503)  loss_classifier: 0.0130 (0.0135)  loss_box_reg: 0.0213 (0.0239)  loss_objectness: 0.0174 (0.0237)  loss_rpn_box_reg: 0.0685 (0.0892)  time: 0.4313  data: 0.0238  max mem: 2325\n",
      "Epoch: [1]  [406/407]  eta: 0:00:00  lr: 0.005000  loss: 0.1225 (0.1501)  loss_classifier: 0.0131 (0.0135)  loss_box_reg: 0.0238 (0.0239)  loss_objectness: 0.0168 (0.0238)  loss_rpn_box_reg: 0.0685 (0.0889)  time: 0.4238  data: 0.0231  max mem: 2325\n",
      "Epoch: [1] Total time: 0:02:54 (0.4290 s / it)\n",
      "creating index...\n",
      "index created!\n",
      "Test:  [  0/102]  eta: 0:00:45  model_time: 0.2261 (0.2261)  evaluator_time: 0.0092 (0.0092)  time: 0.4436  data: 0.1844  max mem: 2325\n",
      "Test:  [100/102]  eta: 0:00:00  model_time: 0.1737 (0.1744)  evaluator_time: 0.0061 (0.0060)  time: 0.2085  data: 0.0217  max mem: 2325\n",
      "Test:  [101/102]  eta: 0:00:00  model_time: 0.1735 (0.1738)  evaluator_time: 0.0061 (0.0060)  time: 0.2050  data: 0.0214  max mem: 2325\n",
      "Test: Total time: 0:00:21 (0.2099 s / it)\n",
      "Averaged stats: model_time: 0.1735 (0.1738)  evaluator_time: 0.0061 (0.0060)\n",
      "Accumulating evaluation results...\n",
      "DONE (t=0.09s).\n",
      "IoU metric: bbox\n",
      " Average Precision  (AP) @[ IoU=0.50:0.95 | area=   all | maxDets=100 ] = 0.269\n",
      " Average Precision  (AP) @[ IoU=0.50      | area=   all | maxDets=100 ] = 0.635\n",
      " Average Precision  (AP) @[ IoU=0.75      | area=   all | maxDets=100 ] = 0.122\n",
      " Average Precision  (AP) @[ IoU=0.50:0.95 | area= small | maxDets=100 ] = 0.269\n",
      " Average Precision  (AP) @[ IoU=0.50:0.95 | area=medium | maxDets=100 ] = -1.000\n",
      " Average Precision  (AP) @[ IoU=0.50:0.95 | area= large | maxDets=100 ] = -1.000\n",
      " Average Recall     (AR) @[ IoU=0.50:0.95 | area=   all | maxDets=  1 ] = 0.323\n",
      " Average Recall     (AR) @[ IoU=0.50:0.95 | area=   all | maxDets= 10 ] = 0.504\n",
      " Average Recall     (AR) @[ IoU=0.50:0.95 | area=   all | maxDets=100 ] = 0.504\n",
      " Average Recall     (AR) @[ IoU=0.50:0.95 | area= small | maxDets=100 ] = 0.504\n",
      " Average Recall     (AR) @[ IoU=0.50:0.95 | area=medium | maxDets=100 ] = -1.000\n",
      " Average Recall     (AR) @[ IoU=0.50:0.95 | area= large | maxDets=100 ] = -1.000\n",
      "starting epoch 2\n",
      "Epoch: [2]  [  0/407]  eta: 0:03:59  lr: 0.005000  loss: 0.1100 (0.1100)  loss_classifier: 0.0153 (0.0153)  loss_box_reg: 0.0239 (0.0239)  loss_objectness: 0.0142 (0.0142)  loss_rpn_box_reg: 0.0566 (0.0566)  time: 0.5873  data: 0.1821  max mem: 2325\n",
      "Epoch: [2]  [ 50/407]  eta: 0:02:33  lr: 0.005000  loss: 0.1141 (0.1330)  loss_classifier: 0.0120 (0.0140)  loss_box_reg: 0.0228 (0.0239)  loss_objectness: 0.0162 (0.0261)  loss_rpn_box_reg: 0.0618 (0.0690)  time: 0.4255  data: 0.0229  max mem: 2325\n",
      "Epoch: [2]  [100/407]  eta: 0:02:11  lr: 0.005000  loss: 0.0988 (0.1237)  loss_classifier: 0.0134 (0.0140)  loss_box_reg: 0.0246 (0.0245)  loss_objectness: 0.0110 (0.0210)  loss_rpn_box_reg: 0.0460 (0.0642)  time: 0.4211  data: 0.0223  max mem: 2325\n",
      "Epoch: [2]  [150/407]  eta: 0:01:49  lr: 0.005000  loss: 0.0965 (0.1149)  loss_classifier: 0.0137 (0.0140)  loss_box_reg: 0.0227 (0.0245)  loss_objectness: 0.0120 (0.0184)  loss_rpn_box_reg: 0.0399 (0.0580)  time: 0.4232  data: 0.0219  max mem: 2325\n",
      "Epoch: [2]  [200/407]  eta: 0:01:28  lr: 0.005000  loss: 0.0994 (0.1085)  loss_classifier: 0.0114 (0.0137)  loss_box_reg: 0.0209 (0.0241)  loss_objectness: 0.0130 (0.0172)  loss_rpn_box_reg: 0.0421 (0.0535)  time: 0.4244  data: 0.0225  max mem: 2325\n",
      "Epoch: [2]  [250/407]  eta: 0:01:06  lr: 0.005000  loss: 0.0691 (0.1034)  loss_classifier: 0.0116 (0.0134)  loss_box_reg: 0.0213 (0.0236)  loss_objectness: 0.0111 (0.0163)  loss_rpn_box_reg: 0.0256 (0.0501)  time: 0.4217  data: 0.0221  max mem: 2325\n",
      "Epoch: [2]  [300/407]  eta: 0:00:45  lr: 0.005000  loss: 0.0860 (0.1005)  loss_classifier: 0.0109 (0.0132)  loss_box_reg: 0.0197 (0.0232)  loss_objectness: 0.0174 (0.0166)  loss_rpn_box_reg: 0.0320 (0.0476)  time: 0.4267  data: 0.0230  max mem: 2326\n",
      "Epoch: [2]  [350/407]  eta: 0:00:24  lr: 0.005000  loss: 0.0847 (0.1001)  loss_classifier: 0.0120 (0.0133)  loss_box_reg: 0.0213 (0.0232)  loss_objectness: 0.0141 (0.0164)  loss_rpn_box_reg: 0.0410 (0.0473)  time: 0.4220  data: 0.0229  max mem: 2326\n",
      "Epoch: [2]  [400/407]  eta: 0:00:02  lr: 0.005000  loss: 0.0708 (0.0976)  loss_classifier: 0.0113 (0.0131)  loss_box_reg: 0.0166 (0.0227)  loss_objectness: 0.0111 (0.0167)  loss_rpn_box_reg: 0.0282 (0.0452)  time: 0.4246  data: 0.0227  max mem: 2326\n",
      "Epoch: [2]  [406/407]  eta: 0:00:00  lr: 0.005000  loss: 0.0722 (0.0972)  loss_classifier: 0.0111 (0.0130)  loss_box_reg: 0.0171 (0.0226)  loss_objectness: 0.0153 (0.0166)  loss_rpn_box_reg: 0.0282 (0.0449)  time: 0.4184  data: 0.0223  max mem: 2326\n",
      "Epoch: [2] Total time: 0:02:53 (0.4255 s / it)\n",
      "creating index...\n",
      "index created!\n",
      "Test:  [  0/102]  eta: 0:00:49  model_time: 0.2358 (0.2358)  evaluator_time: 0.0088 (0.0088)  time: 0.4864  data: 0.2146  max mem: 2326\n",
      "Test:  [100/102]  eta: 0:00:00  model_time: 0.1761 (0.1766)  evaluator_time: 0.0066 (0.0067)  time: 0.2138  data: 0.0226  max mem: 2326\n",
      "Test:  [101/102]  eta: 0:00:00  model_time: 0.1761 (0.1760)  evaluator_time: 0.0066 (0.0067)  time: 0.2104  data: 0.0222  max mem: 2326\n",
      "Test: Total time: 0:00:21 (0.2144 s / it)\n",
      "Averaged stats: model_time: 0.1761 (0.1760)  evaluator_time: 0.0066 (0.0067)\n",
      "Accumulating evaluation results...\n",
      "DONE (t=0.09s).\n",
      "IoU metric: bbox\n",
      " Average Precision  (AP) @[ IoU=0.50:0.95 | area=   all | maxDets=100 ] = 0.361\n",
      " Average Precision  (AP) @[ IoU=0.50      | area=   all | maxDets=100 ] = 0.653\n",
      " Average Precision  (AP) @[ IoU=0.75      | area=   all | maxDets=100 ] = 0.377\n",
      " Average Precision  (AP) @[ IoU=0.50:0.95 | area= small | maxDets=100 ] = 0.361\n",
      " Average Precision  (AP) @[ IoU=0.50:0.95 | area=medium | maxDets=100 ] = -1.000\n",
      " Average Precision  (AP) @[ IoU=0.50:0.95 | area= large | maxDets=100 ] = -1.000\n",
      " Average Recall     (AR) @[ IoU=0.50:0.95 | area=   all | maxDets=  1 ] = 0.437\n",
      " Average Recall     (AR) @[ IoU=0.50:0.95 | area=   all | maxDets= 10 ] = 0.654\n",
      " Average Recall     (AR) @[ IoU=0.50:0.95 | area=   all | maxDets=100 ] = 0.654\n",
      " Average Recall     (AR) @[ IoU=0.50:0.95 | area= small | maxDets=100 ] = 0.654\n",
      " Average Recall     (AR) @[ IoU=0.50:0.95 | area=medium | maxDets=100 ] = -1.000\n",
      " Average Recall     (AR) @[ IoU=0.50:0.95 | area= large | maxDets=100 ] = -1.000\n",
      "starting epoch 3\n",
      "Epoch: [3]  [  0/407]  eta: 0:04:15  lr: 0.000500  loss: 0.0843 (0.0843)  loss_classifier: 0.0136 (0.0136)  loss_box_reg: 0.0199 (0.0199)  loss_objectness: 0.0197 (0.0197)  loss_rpn_box_reg: 0.0311 (0.0311)  time: 0.6280  data: 0.2052  max mem: 2326\n",
      "Epoch: [3]  [ 50/407]  eta: 0:02:32  lr: 0.000500  loss: 0.0516 (0.0616)  loss_classifier: 0.0110 (0.0112)  loss_box_reg: 0.0155 (0.0167)  loss_objectness: 0.0109 (0.0134)  loss_rpn_box_reg: 0.0151 (0.0203)  time: 0.4213  data: 0.0193  max mem: 2326\n",
      "Epoch: [3]  [100/407]  eta: 0:02:11  lr: 0.000500  loss: 0.0499 (0.0562)  loss_classifier: 0.0091 (0.0106)  loss_box_reg: 0.0135 (0.0154)  loss_objectness: 0.0115 (0.0124)  loss_rpn_box_reg: 0.0146 (0.0177)  time: 0.4244  data: 0.0224  max mem: 2326\n",
      "Epoch: [3]  [150/407]  eta: 0:01:49  lr: 0.000500  loss: 0.0457 (0.0543)  loss_classifier: 0.0088 (0.0105)  loss_box_reg: 0.0126 (0.0150)  loss_objectness: 0.0084 (0.0119)  loss_rpn_box_reg: 0.0128 (0.0169)  time: 0.4240  data: 0.0223  max mem: 2326\n",
      "Epoch: [3]  [200/407]  eta: 0:01:28  lr: 0.000500  loss: 0.0461 (0.0535)  loss_classifier: 0.0093 (0.0104)  loss_box_reg: 0.0145 (0.0149)  loss_objectness: 0.0094 (0.0118)  loss_rpn_box_reg: 0.0133 (0.0164)  time: 0.4231  data: 0.0222  max mem: 2326\n",
      "Epoch: [3]  [250/407]  eta: 0:01:06  lr: 0.000500  loss: 0.0472 (0.0527)  loss_classifier: 0.0101 (0.0104)  loss_box_reg: 0.0119 (0.0146)  loss_objectness: 0.0117 (0.0117)  loss_rpn_box_reg: 0.0149 (0.0160)  time: 0.4255  data: 0.0227  max mem: 2326\n",
      "Epoch: [3]  [300/407]  eta: 0:00:45  lr: 0.000500  loss: 0.0498 (0.0524)  loss_classifier: 0.0098 (0.0104)  loss_box_reg: 0.0151 (0.0145)  loss_objectness: 0.0103 (0.0117)  loss_rpn_box_reg: 0.0162 (0.0157)  time: 0.4238  data: 0.0225  max mem: 2326\n",
      "Epoch: [3]  [350/407]  eta: 0:00:24  lr: 0.000500  loss: 0.0464 (0.0518)  loss_classifier: 0.0097 (0.0103)  loss_box_reg: 0.0122 (0.0143)  loss_objectness: 0.0087 (0.0117)  loss_rpn_box_reg: 0.0138 (0.0155)  time: 0.4258  data: 0.0229  max mem: 2326\n",
      "Epoch: [3]  [400/407]  eta: 0:00:02  lr: 0.000500  loss: 0.0428 (0.0511)  loss_classifier: 0.0095 (0.0102)  loss_box_reg: 0.0119 (0.0141)  loss_objectness: 0.0106 (0.0116)  loss_rpn_box_reg: 0.0110 (0.0152)  time: 0.4230  data: 0.0227  max mem: 2326\n",
      "Epoch: [3]  [406/407]  eta: 0:00:00  lr: 0.000500  loss: 0.0433 (0.0512)  loss_classifier: 0.0099 (0.0102)  loss_box_reg: 0.0118 (0.0141)  loss_objectness: 0.0113 (0.0116)  loss_rpn_box_reg: 0.0116 (0.0152)  time: 0.4160  data: 0.0223  max mem: 2326\n",
      "Epoch: [3] Total time: 0:02:53 (0.4258 s / it)\n",
      "creating index...\n",
      "index created!\n",
      "Test:  [  0/102]  eta: 0:00:47  model_time: 0.2423 (0.2423)  evaluator_time: 0.0091 (0.0091)  time: 0.4664  data: 0.1887  max mem: 2326\n",
      "Test:  [100/102]  eta: 0:00:00  model_time: 0.1743 (0.1755)  evaluator_time: 0.0062 (0.0062)  time: 0.2101  data: 0.0219  max mem: 2326\n",
      "Test:  [101/102]  eta: 0:00:00  model_time: 0.1742 (0.1749)  evaluator_time: 0.0062 (0.0062)  time: 0.2063  data: 0.0214  max mem: 2326\n",
      "Test: Total time: 0:00:21 (0.2121 s / it)\n",
      "Averaged stats: model_time: 0.1742 (0.1749)  evaluator_time: 0.0062 (0.0062)\n",
      "Accumulating evaluation results...\n",
      "DONE (t=0.08s).\n",
      "IoU metric: bbox\n",
      " Average Precision  (AP) @[ IoU=0.50:0.95 | area=   all | maxDets=100 ] = 0.480\n",
      " Average Precision  (AP) @[ IoU=0.50      | area=   all | maxDets=100 ] = 0.796\n",
      " Average Precision  (AP) @[ IoU=0.75      | area=   all | maxDets=100 ] = 0.560\n",
      " Average Precision  (AP) @[ IoU=0.50:0.95 | area= small | maxDets=100 ] = 0.480\n",
      " Average Precision  (AP) @[ IoU=0.50:0.95 | area=medium | maxDets=100 ] = -1.000\n",
      " Average Precision  (AP) @[ IoU=0.50:0.95 | area= large | maxDets=100 ] = -1.000\n",
      " Average Recall     (AR) @[ IoU=0.50:0.95 | area=   all | maxDets=  1 ] = 0.483\n",
      " Average Recall     (AR) @[ IoU=0.50:0.95 | area=   all | maxDets= 10 ] = 0.669\n",
      " Average Recall     (AR) @[ IoU=0.50:0.95 | area=   all | maxDets=100 ] = 0.669\n",
      " Average Recall     (AR) @[ IoU=0.50:0.95 | area= small | maxDets=100 ] = 0.669\n",
      " Average Recall     (AR) @[ IoU=0.50:0.95 | area=medium | maxDets=100 ] = -1.000\n",
      " Average Recall     (AR) @[ IoU=0.50:0.95 | area= large | maxDets=100 ] = -1.000\n",
      "starting epoch 4\n",
      "Epoch: [4]  [  0/407]  eta: 0:04:06  lr: 0.000500  loss: 0.0410 (0.0410)  loss_classifier: 0.0073 (0.0073)  loss_box_reg: 0.0108 (0.0108)  loss_objectness: 0.0079 (0.0079)  loss_rpn_box_reg: 0.0150 (0.0150)  time: 0.6048  data: 0.1938  max mem: 2326\n",
      "Epoch: [4]  [ 50/407]  eta: 0:02:32  lr: 0.000500  loss: 0.0470 (0.0464)  loss_classifier: 0.0099 (0.0096)  loss_box_reg: 0.0121 (0.0131)  loss_objectness: 0.0117 (0.0106)  loss_rpn_box_reg: 0.0131 (0.0131)  time: 0.4234  data: 0.0233  max mem: 2326\n",
      "Epoch: [4]  [100/407]  eta: 0:02:10  lr: 0.000500  loss: 0.0412 (0.0450)  loss_classifier: 0.0084 (0.0093)  loss_box_reg: 0.0120 (0.0127)  loss_objectness: 0.0080 (0.0102)  loss_rpn_box_reg: 0.0118 (0.0129)  time: 0.4254  data: 0.0234  max mem: 2326\n",
      "Epoch: [4]  [150/407]  eta: 0:01:49  lr: 0.000500  loss: 0.0450 (0.0460)  loss_classifier: 0.0099 (0.0096)  loss_box_reg: 0.0116 (0.0127)  loss_objectness: 0.0088 (0.0106)  loss_rpn_box_reg: 0.0109 (0.0131)  time: 0.4258  data: 0.0227  max mem: 2326\n",
      "Epoch: [4]  [200/407]  eta: 0:01:28  lr: 0.000500  loss: 0.0435 (0.0456)  loss_classifier: 0.0100 (0.0095)  loss_box_reg: 0.0116 (0.0126)  loss_objectness: 0.0089 (0.0103)  loss_rpn_box_reg: 0.0108 (0.0130)  time: 0.4232  data: 0.0226  max mem: 2326\n",
      "Epoch: [4]  [250/407]  eta: 0:01:06  lr: 0.000500  loss: 0.0423 (0.0454)  loss_classifier: 0.0084 (0.0095)  loss_box_reg: 0.0100 (0.0125)  loss_objectness: 0.0090 (0.0105)  loss_rpn_box_reg: 0.0115 (0.0129)  time: 0.4222  data: 0.0224  max mem: 2326\n",
      "Epoch: [4]  [300/407]  eta: 0:00:45  lr: 0.000500  loss: 0.0432 (0.0451)  loss_classifier: 0.0093 (0.0096)  loss_box_reg: 0.0107 (0.0124)  loss_objectness: 0.0081 (0.0103)  loss_rpn_box_reg: 0.0125 (0.0128)  time: 0.4237  data: 0.0228  max mem: 2326\n",
      "Epoch: [4]  [350/407]  eta: 0:00:24  lr: 0.000500  loss: 0.0369 (0.0447)  loss_classifier: 0.0076 (0.0095)  loss_box_reg: 0.0104 (0.0123)  loss_objectness: 0.0104 (0.0102)  loss_rpn_box_reg: 0.0101 (0.0126)  time: 0.4218  data: 0.0224  max mem: 2326\n",
      "Epoch: [4]  [400/407]  eta: 0:00:02  lr: 0.000500  loss: 0.0393 (0.0445)  loss_classifier: 0.0091 (0.0095)  loss_box_reg: 0.0115 (0.0122)  loss_objectness: 0.0071 (0.0103)  loss_rpn_box_reg: 0.0100 (0.0125)  time: 0.4222  data: 0.0226  max mem: 2326\n",
      "Epoch: [4]  [406/407]  eta: 0:00:00  lr: 0.000500  loss: 0.0400 (0.0444)  loss_classifier: 0.0091 (0.0095)  loss_box_reg: 0.0110 (0.0121)  loss_objectness: 0.0083 (0.0103)  loss_rpn_box_reg: 0.0100 (0.0124)  time: 0.4148  data: 0.0220  max mem: 2326\n",
      "Epoch: [4] Total time: 0:02:52 (0.4250 s / it)\n",
      "creating index...\n",
      "index created!\n",
      "Test:  [  0/102]  eta: 0:00:46  model_time: 0.2363 (0.2363)  evaluator_time: 0.0086 (0.0086)  time: 0.4606  data: 0.1908  max mem: 2326\n",
      "Test:  [100/102]  eta: 0:00:00  model_time: 0.1744 (0.1749)  evaluator_time: 0.0060 (0.0062)  time: 0.2087  data: 0.0216  max mem: 2326\n",
      "Test:  [101/102]  eta: 0:00:00  model_time: 0.1743 (0.1743)  evaluator_time: 0.0059 (0.0062)  time: 0.2052  data: 0.0213  max mem: 2326\n",
      "Test: Total time: 0:00:21 (0.2108 s / it)\n",
      "Averaged stats: model_time: 0.1743 (0.1743)  evaluator_time: 0.0059 (0.0062)\n",
      "Accumulating evaluation results...\n",
      "DONE (t=0.08s).\n",
      "IoU metric: bbox\n",
      " Average Precision  (AP) @[ IoU=0.50:0.95 | area=   all | maxDets=100 ] = 0.495\n",
      " Average Precision  (AP) @[ IoU=0.50      | area=   all | maxDets=100 ] = 0.800\n",
      " Average Precision  (AP) @[ IoU=0.75      | area=   all | maxDets=100 ] = 0.595\n",
      " Average Precision  (AP) @[ IoU=0.50:0.95 | area= small | maxDets=100 ] = 0.495\n",
      " Average Precision  (AP) @[ IoU=0.50:0.95 | area=medium | maxDets=100 ] = -1.000\n",
      " Average Precision  (AP) @[ IoU=0.50:0.95 | area= large | maxDets=100 ] = -1.000\n",
      " Average Recall     (AR) @[ IoU=0.50:0.95 | area=   all | maxDets=  1 ] = 0.498\n",
      " Average Recall     (AR) @[ IoU=0.50:0.95 | area=   all | maxDets= 10 ] = 0.686\n",
      " Average Recall     (AR) @[ IoU=0.50:0.95 | area=   all | maxDets=100 ] = 0.686\n",
      " Average Recall     (AR) @[ IoU=0.50:0.95 | area= small | maxDets=100 ] = 0.686\n",
      " Average Recall     (AR) @[ IoU=0.50:0.95 | area=medium | maxDets=100 ] = -1.000\n",
      " Average Recall     (AR) @[ IoU=0.50:0.95 | area= large | maxDets=100 ] = -1.000\n",
      "starting epoch 5\n",
      "Epoch: [5]  [  0/407]  eta: 0:04:05  lr: 0.000500  loss: 0.0317 (0.0317)  loss_classifier: 0.0067 (0.0067)  loss_box_reg: 0.0099 (0.0099)  loss_objectness: 0.0050 (0.0050)  loss_rpn_box_reg: 0.0101 (0.0101)  time: 0.6026  data: 0.1843  max mem: 2326\n",
      "Epoch: [5]  [ 50/407]  eta: 0:02:31  lr: 0.000500  loss: 0.0435 (0.0437)  loss_classifier: 0.0095 (0.0094)  loss_box_reg: 0.0118 (0.0120)  loss_objectness: 0.0088 (0.0103)  loss_rpn_box_reg: 0.0127 (0.0120)  time: 0.4216  data: 0.0233  max mem: 2326\n",
      "Epoch: [5]  [100/407]  eta: 0:02:10  lr: 0.000500  loss: 0.0440 (0.0425)  loss_classifier: 0.0093 (0.0090)  loss_box_reg: 0.0115 (0.0118)  loss_objectness: 0.0105 (0.0099)  loss_rpn_box_reg: 0.0101 (0.0118)  time: 0.4220  data: 0.0226  max mem: 2326\n",
      "Epoch: [5]  [150/407]  eta: 0:01:48  lr: 0.000500  loss: 0.0417 (0.0425)  loss_classifier: 0.0097 (0.0092)  loss_box_reg: 0.0094 (0.0115)  loss_objectness: 0.0095 (0.0102)  loss_rpn_box_reg: 0.0112 (0.0117)  time: 0.4207  data: 0.0218  max mem: 2326\n",
      "Epoch: [5]  [200/407]  eta: 0:01:27  lr: 0.000500  loss: 0.0384 (0.0422)  loss_classifier: 0.0083 (0.0091)  loss_box_reg: 0.0106 (0.0114)  loss_objectness: 0.0104 (0.0102)  loss_rpn_box_reg: 0.0090 (0.0115)  time: 0.4224  data: 0.0227  max mem: 2326\n",
      "Epoch: [5]  [250/407]  eta: 0:01:06  lr: 0.000500  loss: 0.0417 (0.0423)  loss_classifier: 0.0085 (0.0091)  loss_box_reg: 0.0108 (0.0114)  loss_objectness: 0.0107 (0.0104)  loss_rpn_box_reg: 0.0115 (0.0115)  time: 0.4247  data: 0.0231  max mem: 2326\n",
      "Epoch: [5]  [300/407]  eta: 0:00:45  lr: 0.000500  loss: 0.0388 (0.0419)  loss_classifier: 0.0081 (0.0091)  loss_box_reg: 0.0120 (0.0114)  loss_objectness: 0.0071 (0.0101)  loss_rpn_box_reg: 0.0096 (0.0113)  time: 0.4243  data: 0.0229  max mem: 2326\n",
      "Epoch: [5]  [350/407]  eta: 0:00:24  lr: 0.000500  loss: 0.0391 (0.0416)  loss_classifier: 0.0093 (0.0091)  loss_box_reg: 0.0109 (0.0113)  loss_objectness: 0.0074 (0.0099)  loss_rpn_box_reg: 0.0103 (0.0113)  time: 0.4227  data: 0.0232  max mem: 2326\n",
      "Epoch: [5]  [400/407]  eta: 0:00:02  lr: 0.000500  loss: 0.0392 (0.0416)  loss_classifier: 0.0089 (0.0091)  loss_box_reg: 0.0102 (0.0113)  loss_objectness: 0.0091 (0.0099)  loss_rpn_box_reg: 0.0118 (0.0113)  time: 0.4248  data: 0.0231  max mem: 2326\n",
      "Epoch: [5]  [406/407]  eta: 0:00:00  lr: 0.000500  loss: 0.0392 (0.0415)  loss_classifier: 0.0094 (0.0091)  loss_box_reg: 0.0105 (0.0113)  loss_objectness: 0.0091 (0.0099)  loss_rpn_box_reg: 0.0103 (0.0112)  time: 0.4183  data: 0.0229  max mem: 2326\n",
      "Epoch: [5] Total time: 0:02:52 (0.4243 s / it)\n",
      "creating index...\n",
      "index created!\n",
      "Test:  [  0/102]  eta: 0:00:50  model_time: 0.2420 (0.2420)  evaluator_time: 0.0096 (0.0096)  time: 0.4984  data: 0.2251  max mem: 2326\n",
      "Test:  [100/102]  eta: 0:00:00  model_time: 0.1744 (0.1754)  evaluator_time: 0.0060 (0.0062)  time: 0.2113  data: 0.0230  max mem: 2326\n",
      "Test:  [101/102]  eta: 0:00:00  model_time: 0.1744 (0.1748)  evaluator_time: 0.0060 (0.0062)  time: 0.2077  data: 0.0225  max mem: 2326\n",
      "Test: Total time: 0:00:22 (0.2160 s / it)\n",
      "Averaged stats: model_time: 0.1744 (0.1748)  evaluator_time: 0.0060 (0.0062)\n",
      "Accumulating evaluation results...\n",
      "DONE (t=0.09s).\n",
      "IoU metric: bbox\n",
      " Average Precision  (AP) @[ IoU=0.50:0.95 | area=   all | maxDets=100 ] = 0.505\n",
      " Average Precision  (AP) @[ IoU=0.50      | area=   all | maxDets=100 ] = 0.808\n",
      " Average Precision  (AP) @[ IoU=0.75      | area=   all | maxDets=100 ] = 0.629\n",
      " Average Precision  (AP) @[ IoU=0.50:0.95 | area= small | maxDets=100 ] = 0.505\n",
      " Average Precision  (AP) @[ IoU=0.50:0.95 | area=medium | maxDets=100 ] = -1.000\n",
      " Average Precision  (AP) @[ IoU=0.50:0.95 | area= large | maxDets=100 ] = -1.000\n",
      " Average Recall     (AR) @[ IoU=0.50:0.95 | area=   all | maxDets=  1 ] = 0.502\n",
      " Average Recall     (AR) @[ IoU=0.50:0.95 | area=   all | maxDets= 10 ] = 0.687\n",
      " Average Recall     (AR) @[ IoU=0.50:0.95 | area=   all | maxDets=100 ] = 0.687\n",
      " Average Recall     (AR) @[ IoU=0.50:0.95 | area= small | maxDets=100 ] = 0.687\n",
      " Average Recall     (AR) @[ IoU=0.50:0.95 | area=medium | maxDets=100 ] = -1.000\n",
      " Average Recall     (AR) @[ IoU=0.50:0.95 | area= large | maxDets=100 ] = -1.000\n",
      "starting epoch 6\n",
      "Epoch: [6]  [  0/407]  eta: 0:04:16  lr: 0.000050  loss: 0.0509 (0.0509)  loss_classifier: 0.0098 (0.0098)  loss_box_reg: 0.0179 (0.0179)  loss_objectness: 0.0146 (0.0146)  loss_rpn_box_reg: 0.0086 (0.0086)  time: 0.6299  data: 0.2148  max mem: 2326\n",
      "Epoch: [6]  [ 50/407]  eta: 0:02:31  lr: 0.000050  loss: 0.0350 (0.0383)  loss_classifier: 0.0087 (0.0092)  loss_box_reg: 0.0101 (0.0106)  loss_objectness: 0.0055 (0.0087)  loss_rpn_box_reg: 0.0085 (0.0098)  time: 0.4187  data: 0.0224  max mem: 2326\n",
      "Epoch: [6]  [100/407]  eta: 0:02:10  lr: 0.000050  loss: 0.0347 (0.0384)  loss_classifier: 0.0083 (0.0089)  loss_box_reg: 0.0103 (0.0105)  loss_objectness: 0.0078 (0.0089)  loss_rpn_box_reg: 0.0100 (0.0101)  time: 0.4220  data: 0.0228  max mem: 2326\n",
      "Epoch: [6]  [150/407]  eta: 0:01:49  lr: 0.000050  loss: 0.0366 (0.0388)  loss_classifier: 0.0081 (0.0088)  loss_box_reg: 0.0103 (0.0106)  loss_objectness: 0.0078 (0.0092)  loss_rpn_box_reg: 0.0087 (0.0102)  time: 0.4230  data: 0.0226  max mem: 2326\n",
      "Epoch: [6]  [200/407]  eta: 0:01:27  lr: 0.000050  loss: 0.0380 (0.0387)  loss_classifier: 0.0075 (0.0088)  loss_box_reg: 0.0104 (0.0105)  loss_objectness: 0.0082 (0.0093)  loss_rpn_box_reg: 0.0095 (0.0101)  time: 0.4230  data: 0.0227  max mem: 2326\n",
      "Epoch: [6]  [250/407]  eta: 0:01:06  lr: 0.000050  loss: 0.0393 (0.0388)  loss_classifier: 0.0101 (0.0089)  loss_box_reg: 0.0106 (0.0105)  loss_objectness: 0.0103 (0.0094)  loss_rpn_box_reg: 0.0093 (0.0101)  time: 0.4229  data: 0.0227  max mem: 2326\n",
      "Epoch: [6]  [300/407]  eta: 0:00:45  lr: 0.000050  loss: 0.0368 (0.0390)  loss_classifier: 0.0087 (0.0089)  loss_box_reg: 0.0115 (0.0106)  loss_objectness: 0.0074 (0.0094)  loss_rpn_box_reg: 0.0093 (0.0101)  time: 0.4241  data: 0.0234  max mem: 2326\n",
      "Epoch: [6]  [350/407]  eta: 0:00:24  lr: 0.000050  loss: 0.0344 (0.0390)  loss_classifier: 0.0082 (0.0089)  loss_box_reg: 0.0095 (0.0106)  loss_objectness: 0.0068 (0.0094)  loss_rpn_box_reg: 0.0095 (0.0102)  time: 0.4256  data: 0.0240  max mem: 2326\n",
      "Epoch: [6]  [400/407]  eta: 0:00:02  lr: 0.000050  loss: 0.0396 (0.0391)  loss_classifier: 0.0089 (0.0089)  loss_box_reg: 0.0088 (0.0105)  loss_objectness: 0.0109 (0.0095)  loss_rpn_box_reg: 0.0113 (0.0102)  time: 0.4233  data: 0.0232  max mem: 2326\n",
      "Epoch: [6]  [406/407]  eta: 0:00:00  lr: 0.000050  loss: 0.0384 (0.0392)  loss_classifier: 0.0089 (0.0089)  loss_box_reg: 0.0099 (0.0105)  loss_objectness: 0.0097 (0.0095)  loss_rpn_box_reg: 0.0114 (0.0102)  time: 0.4165  data: 0.0228  max mem: 2326\n",
      "Epoch: [6] Total time: 0:02:52 (0.4240 s / it)\n",
      "creating index...\n",
      "index created!\n",
      "Test:  [  0/102]  eta: 0:00:45  model_time: 0.2252 (0.2252)  evaluator_time: 0.0090 (0.0090)  time: 0.4502  data: 0.1954  max mem: 2326\n",
      "Test:  [100/102]  eta: 0:00:00  model_time: 0.1740 (0.1752)  evaluator_time: 0.0060 (0.0062)  time: 0.2073  data: 0.0199  max mem: 2326\n",
      "Test:  [101/102]  eta: 0:00:00  model_time: 0.1738 (0.1747)  evaluator_time: 0.0059 (0.0062)  time: 0.2040  data: 0.0197  max mem: 2326\n",
      "Test: Total time: 0:00:21 (0.2117 s / it)\n",
      "Averaged stats: model_time: 0.1738 (0.1747)  evaluator_time: 0.0059 (0.0062)\n",
      "Accumulating evaluation results...\n",
      "DONE (t=0.08s).\n",
      "IoU metric: bbox\n",
      " Average Precision  (AP) @[ IoU=0.50:0.95 | area=   all | maxDets=100 ] = 0.505\n",
      " Average Precision  (AP) @[ IoU=0.50      | area=   all | maxDets=100 ] = 0.810\n",
      " Average Precision  (AP) @[ IoU=0.75      | area=   all | maxDets=100 ] = 0.614\n",
      " Average Precision  (AP) @[ IoU=0.50:0.95 | area= small | maxDets=100 ] = 0.505\n",
      " Average Precision  (AP) @[ IoU=0.50:0.95 | area=medium | maxDets=100 ] = -1.000\n",
      " Average Precision  (AP) @[ IoU=0.50:0.95 | area= large | maxDets=100 ] = -1.000\n",
      " Average Recall     (AR) @[ IoU=0.50:0.95 | area=   all | maxDets=  1 ] = 0.501\n",
      " Average Recall     (AR) @[ IoU=0.50:0.95 | area=   all | maxDets= 10 ] = 0.685\n",
      " Average Recall     (AR) @[ IoU=0.50:0.95 | area=   all | maxDets=100 ] = 0.685\n",
      " Average Recall     (AR) @[ IoU=0.50:0.95 | area= small | maxDets=100 ] = 0.685\n",
      " Average Recall     (AR) @[ IoU=0.50:0.95 | area=medium | maxDets=100 ] = -1.000\n",
      " Average Recall     (AR) @[ IoU=0.50:0.95 | area= large | maxDets=100 ] = -1.000\n",
      "starting epoch 7\n",
      "Epoch: [7]  [  0/407]  eta: 0:04:07  lr: 0.000050  loss: 0.0294 (0.0294)  loss_classifier: 0.0043 (0.0043)  loss_box_reg: 0.0075 (0.0075)  loss_objectness: 0.0055 (0.0055)  loss_rpn_box_reg: 0.0120 (0.0120)  time: 0.6076  data: 0.2082  max mem: 2326\n",
      "Epoch: [7]  [ 50/407]  eta: 0:02:30  lr: 0.000050  loss: 0.0400 (0.0387)  loss_classifier: 0.0083 (0.0084)  loss_box_reg: 0.0112 (0.0103)  loss_objectness: 0.0109 (0.0096)  loss_rpn_box_reg: 0.0088 (0.0103)  time: 0.4186  data: 0.0224  max mem: 2326\n",
      "Epoch: [7]  [100/407]  eta: 0:02:09  lr: 0.000050  loss: 0.0367 (0.0385)  loss_classifier: 0.0086 (0.0085)  loss_box_reg: 0.0096 (0.0103)  loss_objectness: 0.0089 (0.0096)  loss_rpn_box_reg: 0.0095 (0.0102)  time: 0.4216  data: 0.0228  max mem: 2326\n",
      "Epoch: [7]  [150/407]  eta: 0:01:48  lr: 0.000050  loss: 0.0396 (0.0395)  loss_classifier: 0.0097 (0.0090)  loss_box_reg: 0.0114 (0.0105)  loss_objectness: 0.0093 (0.0096)  loss_rpn_box_reg: 0.0107 (0.0104)  time: 0.4230  data: 0.0230  max mem: 2326\n",
      "Epoch: [7]  [200/407]  eta: 0:01:27  lr: 0.000050  loss: 0.0391 (0.0399)  loss_classifier: 0.0090 (0.0091)  loss_box_reg: 0.0099 (0.0104)  loss_objectness: 0.0112 (0.0100)  loss_rpn_box_reg: 0.0087 (0.0104)  time: 0.4235  data: 0.0229  max mem: 2326\n",
      "Epoch: [7]  [250/407]  eta: 0:01:06  lr: 0.000050  loss: 0.0368 (0.0397)  loss_classifier: 0.0089 (0.0091)  loss_box_reg: 0.0105 (0.0105)  loss_objectness: 0.0075 (0.0098)  loss_rpn_box_reg: 0.0091 (0.0103)  time: 0.4235  data: 0.0234  max mem: 2326\n",
      "Epoch: [7]  [300/407]  eta: 0:00:45  lr: 0.000050  loss: 0.0358 (0.0394)  loss_classifier: 0.0086 (0.0090)  loss_box_reg: 0.0093 (0.0105)  loss_objectness: 0.0077 (0.0098)  loss_rpn_box_reg: 0.0098 (0.0101)  time: 0.4225  data: 0.0228  max mem: 2326\n",
      "Epoch: [7]  [350/407]  eta: 0:00:24  lr: 0.000050  loss: 0.0384 (0.0393)  loss_classifier: 0.0084 (0.0089)  loss_box_reg: 0.0099 (0.0105)  loss_objectness: 0.0092 (0.0098)  loss_rpn_box_reg: 0.0091 (0.0101)  time: 0.4215  data: 0.0227  max mem: 2326\n",
      "Epoch: [7]  [400/407]  eta: 0:00:02  lr: 0.000050  loss: 0.0410 (0.0393)  loss_classifier: 0.0087 (0.0089)  loss_box_reg: 0.0109 (0.0105)  loss_objectness: 0.0112 (0.0099)  loss_rpn_box_reg: 0.0098 (0.0100)  time: 0.4240  data: 0.0227  max mem: 2326\n",
      "Epoch: [7]  [406/407]  eta: 0:00:00  lr: 0.000050  loss: 0.0399 (0.0394)  loss_classifier: 0.0086 (0.0089)  loss_box_reg: 0.0100 (0.0105)  loss_objectness: 0.0112 (0.0099)  loss_rpn_box_reg: 0.0095 (0.0101)  time: 0.4167  data: 0.0223  max mem: 2326\n",
      "Epoch: [7] Total time: 0:02:52 (0.4234 s / it)\n",
      "creating index...\n",
      "index created!\n",
      "Test:  [  0/102]  eta: 0:00:49  model_time: 0.2447 (0.2447)  evaluator_time: 0.0081 (0.0081)  time: 0.4875  data: 0.2105  max mem: 2326\n",
      "Test:  [100/102]  eta: 0:00:00  model_time: 0.1739 (0.1747)  evaluator_time: 0.0058 (0.0059)  time: 0.2092  data: 0.0221  max mem: 2326\n",
      "Test:  [101/102]  eta: 0:00:00  model_time: 0.1738 (0.1742)  evaluator_time: 0.0058 (0.0059)  time: 0.2063  data: 0.0218  max mem: 2326\n",
      "Test: Total time: 0:00:21 (0.2131 s / it)\n",
      "Averaged stats: model_time: 0.1738 (0.1742)  evaluator_time: 0.0058 (0.0059)\n",
      "Accumulating evaluation results...\n",
      "DONE (t=0.08s).\n",
      "IoU metric: bbox\n",
      " Average Precision  (AP) @[ IoU=0.50:0.95 | area=   all | maxDets=100 ] = 0.506\n",
      " Average Precision  (AP) @[ IoU=0.50      | area=   all | maxDets=100 ] = 0.808\n",
      " Average Precision  (AP) @[ IoU=0.75      | area=   all | maxDets=100 ] = 0.624\n",
      " Average Precision  (AP) @[ IoU=0.50:0.95 | area= small | maxDets=100 ] = 0.506\n",
      " Average Precision  (AP) @[ IoU=0.50:0.95 | area=medium | maxDets=100 ] = -1.000\n",
      " Average Precision  (AP) @[ IoU=0.50:0.95 | area= large | maxDets=100 ] = -1.000\n",
      " Average Recall     (AR) @[ IoU=0.50:0.95 | area=   all | maxDets=  1 ] = 0.502\n",
      " Average Recall     (AR) @[ IoU=0.50:0.95 | area=   all | maxDets= 10 ] = 0.690\n",
      " Average Recall     (AR) @[ IoU=0.50:0.95 | area=   all | maxDets=100 ] = 0.690\n",
      " Average Recall     (AR) @[ IoU=0.50:0.95 | area= small | maxDets=100 ] = 0.690\n",
      " Average Recall     (AR) @[ IoU=0.50:0.95 | area=medium | maxDets=100 ] = -1.000\n",
      " Average Recall     (AR) @[ IoU=0.50:0.95 | area= large | maxDets=100 ] = -1.000\n",
      "starting epoch 8\n",
      "Epoch: [8]  [  0/407]  eta: 0:04:15  lr: 0.000050  loss: 0.0341 (0.0341)  loss_classifier: 0.0079 (0.0079)  loss_box_reg: 0.0084 (0.0084)  loss_objectness: 0.0084 (0.0084)  loss_rpn_box_reg: 0.0094 (0.0094)  time: 0.6270  data: 0.2173  max mem: 2326\n",
      "Epoch: [8]  [ 50/407]  eta: 0:02:30  lr: 0.000050  loss: 0.0363 (0.0384)  loss_classifier: 0.0090 (0.0089)  loss_box_reg: 0.0103 (0.0102)  loss_objectness: 0.0097 (0.0098)  loss_rpn_box_reg: 0.0093 (0.0094)  time: 0.4185  data: 0.0224  max mem: 2326\n",
      "Epoch: [8]  [100/407]  eta: 0:02:09  lr: 0.000050  loss: 0.0386 (0.0379)  loss_classifier: 0.0085 (0.0089)  loss_box_reg: 0.0100 (0.0102)  loss_objectness: 0.0093 (0.0096)  loss_rpn_box_reg: 0.0078 (0.0093)  time: 0.4195  data: 0.0221  max mem: 2326\n",
      "Epoch: [8]  [150/407]  eta: 0:01:48  lr: 0.000050  loss: 0.0365 (0.0384)  loss_classifier: 0.0082 (0.0089)  loss_box_reg: 0.0103 (0.0103)  loss_objectness: 0.0078 (0.0098)  loss_rpn_box_reg: 0.0088 (0.0094)  time: 0.4227  data: 0.0228  max mem: 2326\n",
      "Epoch: [8]  [200/407]  eta: 0:01:27  lr: 0.000050  loss: 0.0375 (0.0388)  loss_classifier: 0.0085 (0.0089)  loss_box_reg: 0.0108 (0.0104)  loss_objectness: 0.0075 (0.0098)  loss_rpn_box_reg: 0.0093 (0.0097)  time: 0.4245  data: 0.0231  max mem: 2326\n",
      "Epoch: [8]  [250/407]  eta: 0:01:06  lr: 0.000050  loss: 0.0406 (0.0390)  loss_classifier: 0.0081 (0.0089)  loss_box_reg: 0.0106 (0.0104)  loss_objectness: 0.0105 (0.0098)  loss_rpn_box_reg: 0.0102 (0.0099)  time: 0.4228  data: 0.0226  max mem: 2326\n",
      "Epoch: [8]  [300/407]  eta: 0:00:45  lr: 0.000050  loss: 0.0324 (0.0387)  loss_classifier: 0.0073 (0.0088)  loss_box_reg: 0.0094 (0.0104)  loss_objectness: 0.0072 (0.0096)  loss_rpn_box_reg: 0.0089 (0.0099)  time: 0.4220  data: 0.0227  max mem: 2326\n",
      "Epoch: [8]  [350/407]  eta: 0:00:24  lr: 0.000050  loss: 0.0387 (0.0389)  loss_classifier: 0.0094 (0.0089)  loss_box_reg: 0.0101 (0.0104)  loss_objectness: 0.0086 (0.0097)  loss_rpn_box_reg: 0.0096 (0.0100)  time: 0.4200  data: 0.0220  max mem: 2326\n",
      "Epoch: [8]  [400/407]  eta: 0:00:02  lr: 0.000050  loss: 0.0363 (0.0390)  loss_classifier: 0.0087 (0.0089)  loss_box_reg: 0.0101 (0.0104)  loss_objectness: 0.0067 (0.0097)  loss_rpn_box_reg: 0.0102 (0.0100)  time: 0.4198  data: 0.0222  max mem: 2326\n",
      "Epoch: [8]  [406/407]  eta: 0:00:00  lr: 0.000050  loss: 0.0359 (0.0389)  loss_classifier: 0.0085 (0.0089)  loss_box_reg: 0.0097 (0.0104)  loss_objectness: 0.0067 (0.0096)  loss_rpn_box_reg: 0.0097 (0.0100)  time: 0.4136  data: 0.0218  max mem: 2326\n",
      "Epoch: [8] Total time: 0:02:51 (0.4226 s / it)\n",
      "creating index...\n",
      "index created!\n",
      "Test:  [  0/102]  eta: 0:00:52  model_time: 0.2284 (0.2284)  evaluator_time: 0.0098 (0.0098)  time: 0.5138  data: 0.2485  max mem: 2326\n",
      "Test:  [100/102]  eta: 0:00:00  model_time: 0.1736 (0.1749)  evaluator_time: 0.0058 (0.0062)  time: 0.2097  data: 0.0224  max mem: 2326\n",
      "Test:  [101/102]  eta: 0:00:00  model_time: 0.1735 (0.1743)  evaluator_time: 0.0058 (0.0062)  time: 0.2062  data: 0.0220  max mem: 2326\n",
      "Test: Total time: 0:00:21 (0.2117 s / it)\n",
      "Averaged stats: model_time: 0.1735 (0.1743)  evaluator_time: 0.0058 (0.0062)\n",
      "Accumulating evaluation results...\n",
      "DONE (t=0.08s).\n",
      "IoU metric: bbox\n",
      " Average Precision  (AP) @[ IoU=0.50:0.95 | area=   all | maxDets=100 ] = 0.511\n",
      " Average Precision  (AP) @[ IoU=0.50      | area=   all | maxDets=100 ] = 0.810\n",
      " Average Precision  (AP) @[ IoU=0.75      | area=   all | maxDets=100 ] = 0.627\n",
      " Average Precision  (AP) @[ IoU=0.50:0.95 | area= small | maxDets=100 ] = 0.511\n",
      " Average Precision  (AP) @[ IoU=0.50:0.95 | area=medium | maxDets=100 ] = -1.000\n",
      " Average Precision  (AP) @[ IoU=0.50:0.95 | area= large | maxDets=100 ] = -1.000\n",
      " Average Recall     (AR) @[ IoU=0.50:0.95 | area=   all | maxDets=  1 ] = 0.507\n",
      " Average Recall     (AR) @[ IoU=0.50:0.95 | area=   all | maxDets= 10 ] = 0.690\n",
      " Average Recall     (AR) @[ IoU=0.50:0.95 | area=   all | maxDets=100 ] = 0.690\n",
      " Average Recall     (AR) @[ IoU=0.50:0.95 | area= small | maxDets=100 ] = 0.690\n",
      " Average Recall     (AR) @[ IoU=0.50:0.95 | area=medium | maxDets=100 ] = -1.000\n",
      " Average Recall     (AR) @[ IoU=0.50:0.95 | area= large | maxDets=100 ] = -1.000\n",
      "starting epoch 9\n",
      "Epoch: [9]  [  0/407]  eta: 0:04:07  lr: 0.000005  loss: 0.0455 (0.0455)  loss_classifier: 0.0103 (0.0103)  loss_box_reg: 0.0081 (0.0081)  loss_objectness: 0.0119 (0.0119)  loss_rpn_box_reg: 0.0152 (0.0152)  time: 0.6073  data: 0.1968  max mem: 2326\n",
      "Epoch: [9]  [ 50/407]  eta: 0:02:30  lr: 0.000005  loss: 0.0397 (0.0394)  loss_classifier: 0.0079 (0.0091)  loss_box_reg: 0.0089 (0.0105)  loss_objectness: 0.0092 (0.0096)  loss_rpn_box_reg: 0.0090 (0.0101)  time: 0.4196  data: 0.0226  max mem: 2326\n",
      "Epoch: [9]  [100/407]  eta: 0:02:09  lr: 0.000005  loss: 0.0363 (0.0384)  loss_classifier: 0.0077 (0.0087)  loss_box_reg: 0.0100 (0.0102)  loss_objectness: 0.0080 (0.0097)  loss_rpn_box_reg: 0.0085 (0.0098)  time: 0.4212  data: 0.0220  max mem: 2326\n",
      "Epoch: [9]  [150/407]  eta: 0:01:48  lr: 0.000005  loss: 0.0333 (0.0382)  loss_classifier: 0.0077 (0.0086)  loss_box_reg: 0.0089 (0.0102)  loss_objectness: 0.0074 (0.0095)  loss_rpn_box_reg: 0.0078 (0.0099)  time: 0.4244  data: 0.0233  max mem: 2326\n",
      "Epoch: [9]  [200/407]  eta: 0:01:27  lr: 0.000005  loss: 0.0389 (0.0383)  loss_classifier: 0.0082 (0.0087)  loss_box_reg: 0.0105 (0.0102)  loss_objectness: 0.0101 (0.0097)  loss_rpn_box_reg: 0.0087 (0.0098)  time: 0.4226  data: 0.0227  max mem: 2326\n",
      "Epoch: [9]  [250/407]  eta: 0:01:06  lr: 0.000005  loss: 0.0345 (0.0382)  loss_classifier: 0.0085 (0.0087)  loss_box_reg: 0.0099 (0.0102)  loss_objectness: 0.0083 (0.0096)  loss_rpn_box_reg: 0.0099 (0.0098)  time: 0.4232  data: 0.0228  max mem: 2326\n",
      "Epoch: [9]  [300/407]  eta: 0:00:45  lr: 0.000005  loss: 0.0418 (0.0388)  loss_classifier: 0.0092 (0.0088)  loss_box_reg: 0.0102 (0.0103)  loss_objectness: 0.0103 (0.0097)  loss_rpn_box_reg: 0.0108 (0.0100)  time: 0.4216  data: 0.0222  max mem: 2326\n",
      "Epoch: [9]  [350/407]  eta: 0:00:24  lr: 0.000005  loss: 0.0393 (0.0389)  loss_classifier: 0.0087 (0.0089)  loss_box_reg: 0.0106 (0.0104)  loss_objectness: 0.0092 (0.0096)  loss_rpn_box_reg: 0.0086 (0.0100)  time: 0.4230  data: 0.0226  max mem: 2326\n",
      "Epoch: [9]  [400/407]  eta: 0:00:02  lr: 0.000005  loss: 0.0355 (0.0385)  loss_classifier: 0.0082 (0.0088)  loss_box_reg: 0.0091 (0.0103)  loss_objectness: 0.0105 (0.0095)  loss_rpn_box_reg: 0.0079 (0.0099)  time: 0.4225  data: 0.0231  max mem: 2326\n",
      "Epoch: [9]  [406/407]  eta: 0:00:00  lr: 0.000005  loss: 0.0360 (0.0385)  loss_classifier: 0.0082 (0.0088)  loss_box_reg: 0.0091 (0.0103)  loss_objectness: 0.0105 (0.0095)  loss_rpn_box_reg: 0.0068 (0.0099)  time: 0.4147  data: 0.0225  max mem: 2326\n",
      "Epoch: [9] Total time: 0:02:52 (0.4232 s / it)\n",
      "creating index...\n",
      "index created!\n",
      "Test:  [  0/102]  eta: 0:00:49  model_time: 0.2400 (0.2400)  evaluator_time: 0.0085 (0.0085)  time: 0.4899  data: 0.2179  max mem: 2326\n",
      "Test:  [100/102]  eta: 0:00:00  model_time: 0.1737 (0.1749)  evaluator_time: 0.0058 (0.0060)  time: 0.2085  data: 0.0218  max mem: 2326\n",
      "Test:  [101/102]  eta: 0:00:00  model_time: 0.1737 (0.1744)  evaluator_time: 0.0058 (0.0059)  time: 0.2051  data: 0.0215  max mem: 2326\n",
      "Test: Total time: 0:00:21 (0.2107 s / it)\n",
      "Averaged stats: model_time: 0.1737 (0.1744)  evaluator_time: 0.0058 (0.0059)\n",
      "Accumulating evaluation results...\n",
      "DONE (t=0.27s).\n",
      "IoU metric: bbox\n",
      " Average Precision  (AP) @[ IoU=0.50:0.95 | area=   all | maxDets=100 ] = 0.514\n",
      " Average Precision  (AP) @[ IoU=0.50      | area=   all | maxDets=100 ] = 0.810\n",
      " Average Precision  (AP) @[ IoU=0.75      | area=   all | maxDets=100 ] = 0.634\n",
      " Average Precision  (AP) @[ IoU=0.50:0.95 | area= small | maxDets=100 ] = 0.514\n",
      " Average Precision  (AP) @[ IoU=0.50:0.95 | area=medium | maxDets=100 ] = -1.000\n",
      " Average Precision  (AP) @[ IoU=0.50:0.95 | area= large | maxDets=100 ] = -1.000\n",
      " Average Recall     (AR) @[ IoU=0.50:0.95 | area=   all | maxDets=  1 ] = 0.509\n",
      " Average Recall     (AR) @[ IoU=0.50:0.95 | area=   all | maxDets= 10 ] = 0.691\n",
      " Average Recall     (AR) @[ IoU=0.50:0.95 | area=   all | maxDets=100 ] = 0.691\n",
      " Average Recall     (AR) @[ IoU=0.50:0.95 | area= small | maxDets=100 ] = 0.691\n",
      " Average Recall     (AR) @[ IoU=0.50:0.95 | area=medium | maxDets=100 ] = -1.000\n",
      " Average Recall     (AR) @[ IoU=0.50:0.95 | area= large | maxDets=100 ] = -1.000\n",
      "starting epoch 10\n",
      "Epoch: [10]  [  0/407]  eta: 0:04:12  lr: 0.000005  loss: 0.0414 (0.0414)  loss_classifier: 0.0080 (0.0080)  loss_box_reg: 0.0115 (0.0115)  loss_objectness: 0.0131 (0.0131)  loss_rpn_box_reg: 0.0088 (0.0088)  time: 0.6195  data: 0.2146  max mem: 2326\n",
      "Epoch: [10]  [ 50/407]  eta: 0:02:31  lr: 0.000005  loss: 0.0349 (0.0384)  loss_classifier: 0.0072 (0.0086)  loss_box_reg: 0.0107 (0.0105)  loss_objectness: 0.0083 (0.0098)  loss_rpn_box_reg: 0.0090 (0.0095)  time: 0.4177  data: 0.0224  max mem: 2326\n",
      "Epoch: [10]  [100/407]  eta: 0:02:09  lr: 0.000005  loss: 0.0388 (0.0381)  loss_classifier: 0.0093 (0.0087)  loss_box_reg: 0.0109 (0.0104)  loss_objectness: 0.0070 (0.0093)  loss_rpn_box_reg: 0.0111 (0.0097)  time: 0.4224  data: 0.0235  max mem: 2326\n",
      "Epoch: [10]  [150/407]  eta: 0:01:48  lr: 0.000005  loss: 0.0358 (0.0385)  loss_classifier: 0.0082 (0.0088)  loss_box_reg: 0.0095 (0.0104)  loss_objectness: 0.0064 (0.0095)  loss_rpn_box_reg: 0.0093 (0.0099)  time: 0.4212  data: 0.0222  max mem: 2326\n",
      "Epoch: [10]  [200/407]  eta: 0:01:27  lr: 0.000005  loss: 0.0338 (0.0389)  loss_classifier: 0.0082 (0.0088)  loss_box_reg: 0.0106 (0.0104)  loss_objectness: 0.0069 (0.0095)  loss_rpn_box_reg: 0.0101 (0.0101)  time: 0.4218  data: 0.0227  max mem: 2326\n",
      "Epoch: [10]  [250/407]  eta: 0:01:06  lr: 0.000005  loss: 0.0364 (0.0386)  loss_classifier: 0.0083 (0.0088)  loss_box_reg: 0.0095 (0.0104)  loss_objectness: 0.0092 (0.0095)  loss_rpn_box_reg: 0.0090 (0.0100)  time: 0.4232  data: 0.0227  max mem: 2326\n",
      "Epoch: [10]  [300/407]  eta: 0:00:45  lr: 0.000005  loss: 0.0371 (0.0387)  loss_classifier: 0.0091 (0.0088)  loss_box_reg: 0.0101 (0.0103)  loss_objectness: 0.0101 (0.0096)  loss_rpn_box_reg: 0.0081 (0.0099)  time: 0.4203  data: 0.0220  max mem: 2326\n",
      "Epoch: [10]  [350/407]  eta: 0:00:24  lr: 0.000005  loss: 0.0353 (0.0386)  loss_classifier: 0.0086 (0.0089)  loss_box_reg: 0.0093 (0.0103)  loss_objectness: 0.0065 (0.0096)  loss_rpn_box_reg: 0.0095 (0.0099)  time: 0.4205  data: 0.0220  max mem: 2326\n",
      "Epoch: [10]  [400/407]  eta: 0:00:02  lr: 0.000005  loss: 0.0372 (0.0386)  loss_classifier: 0.0083 (0.0088)  loss_box_reg: 0.0101 (0.0103)  loss_objectness: 0.0087 (0.0096)  loss_rpn_box_reg: 0.0098 (0.0099)  time: 0.4227  data: 0.0227  max mem: 2326\n",
      "Epoch: [10]  [406/407]  eta: 0:00:00  lr: 0.000005  loss: 0.0360 (0.0385)  loss_classifier: 0.0095 (0.0088)  loss_box_reg: 0.0093 (0.0103)  loss_objectness: 0.0090 (0.0095)  loss_rpn_box_reg: 0.0091 (0.0099)  time: 0.4165  data: 0.0227  max mem: 2326\n",
      "Epoch: [10] Total time: 0:02:52 (0.4228 s / it)\n",
      "creating index...\n",
      "index created!\n",
      "Test:  [  0/102]  eta: 0:00:51  model_time: 0.2457 (0.2457)  evaluator_time: 0.0134 (0.0134)  time: 0.5007  data: 0.2180  max mem: 2326\n",
      "Test:  [100/102]  eta: 0:00:00  model_time: 0.1741 (0.1750)  evaluator_time: 0.0057 (0.0060)  time: 0.2085  data: 0.0211  max mem: 2326\n",
      "Test:  [101/102]  eta: 0:00:00  model_time: 0.1740 (0.1744)  evaluator_time: 0.0056 (0.0060)  time: 0.2052  data: 0.0209  max mem: 2326\n",
      "Test: Total time: 0:00:21 (0.2112 s / it)\n",
      "Averaged stats: model_time: 0.1740 (0.1744)  evaluator_time: 0.0056 (0.0060)\n",
      "Accumulating evaluation results...\n",
      "DONE (t=0.08s).\n",
      "IoU metric: bbox\n",
      " Average Precision  (AP) @[ IoU=0.50:0.95 | area=   all | maxDets=100 ] = 0.513\n",
      " Average Precision  (AP) @[ IoU=0.50      | area=   all | maxDets=100 ] = 0.813\n",
      " Average Precision  (AP) @[ IoU=0.75      | area=   all | maxDets=100 ] = 0.639\n",
      " Average Precision  (AP) @[ IoU=0.50:0.95 | area= small | maxDets=100 ] = 0.513\n",
      " Average Precision  (AP) @[ IoU=0.50:0.95 | area=medium | maxDets=100 ] = -1.000\n",
      " Average Precision  (AP) @[ IoU=0.50:0.95 | area= large | maxDets=100 ] = -1.000\n",
      " Average Recall     (AR) @[ IoU=0.50:0.95 | area=   all | maxDets=  1 ] = 0.505\n",
      " Average Recall     (AR) @[ IoU=0.50:0.95 | area=   all | maxDets= 10 ] = 0.691\n",
      " Average Recall     (AR) @[ IoU=0.50:0.95 | area=   all | maxDets=100 ] = 0.691\n",
      " Average Recall     (AR) @[ IoU=0.50:0.95 | area= small | maxDets=100 ] = 0.691\n",
      " Average Recall     (AR) @[ IoU=0.50:0.95 | area=medium | maxDets=100 ] = -1.000\n",
      " Average Recall     (AR) @[ IoU=0.50:0.95 | area= large | maxDets=100 ] = -1.000\n",
      "starting epoch 11\n",
      "Epoch: [11]  [  0/407]  eta: 0:04:04  lr: 0.000005  loss: 0.0325 (0.0325)  loss_classifier: 0.0092 (0.0092)  loss_box_reg: 0.0105 (0.0105)  loss_objectness: 0.0026 (0.0026)  loss_rpn_box_reg: 0.0102 (0.0102)  time: 0.5997  data: 0.1951  max mem: 2326\n",
      "Epoch: [11]  [ 50/407]  eta: 0:02:30  lr: 0.000005  loss: 0.0407 (0.0380)  loss_classifier: 0.0088 (0.0087)  loss_box_reg: 0.0101 (0.0106)  loss_objectness: 0.0079 (0.0083)  loss_rpn_box_reg: 0.0110 (0.0105)  time: 0.4171  data: 0.0218  max mem: 2326\n",
      "Epoch: [11]  [100/407]  eta: 0:02:09  lr: 0.000005  loss: 0.0412 (0.0389)  loss_classifier: 0.0086 (0.0088)  loss_box_reg: 0.0094 (0.0105)  loss_objectness: 0.0091 (0.0088)  loss_rpn_box_reg: 0.0104 (0.0107)  time: 0.4199  data: 0.0217  max mem: 2326\n",
      "Epoch: [11]  [150/407]  eta: 0:01:48  lr: 0.000005  loss: 0.0384 (0.0385)  loss_classifier: 0.0086 (0.0089)  loss_box_reg: 0.0094 (0.0103)  loss_objectness: 0.0076 (0.0090)  loss_rpn_box_reg: 0.0101 (0.0103)  time: 0.4212  data: 0.0222  max mem: 2326\n",
      "Epoch: [11]  [200/407]  eta: 0:01:27  lr: 0.000005  loss: 0.0355 (0.0387)  loss_classifier: 0.0085 (0.0088)  loss_box_reg: 0.0100 (0.0104)  loss_objectness: 0.0086 (0.0093)  loss_rpn_box_reg: 0.0083 (0.0103)  time: 0.4224  data: 0.0224  max mem: 2326\n",
      "Epoch: [11]  [250/407]  eta: 0:01:06  lr: 0.000005  loss: 0.0347 (0.0385)  loss_classifier: 0.0078 (0.0086)  loss_box_reg: 0.0090 (0.0103)  loss_objectness: 0.0084 (0.0095)  loss_rpn_box_reg: 0.0087 (0.0101)  time: 0.4196  data: 0.0216  max mem: 2326\n",
      "Epoch: [11]  [300/407]  eta: 0:00:45  lr: 0.000005  loss: 0.0360 (0.0384)  loss_classifier: 0.0089 (0.0087)  loss_box_reg: 0.0092 (0.0103)  loss_objectness: 0.0075 (0.0094)  loss_rpn_box_reg: 0.0088 (0.0101)  time: 0.4209  data: 0.0219  max mem: 2326\n",
      "Epoch: [11]  [350/407]  eta: 0:00:24  lr: 0.000005  loss: 0.0359 (0.0385)  loss_classifier: 0.0080 (0.0088)  loss_box_reg: 0.0097 (0.0103)  loss_objectness: 0.0113 (0.0095)  loss_rpn_box_reg: 0.0072 (0.0100)  time: 0.4194  data: 0.0220  max mem: 2326\n",
      "Epoch: [11]  [400/407]  eta: 0:00:02  lr: 0.000005  loss: 0.0373 (0.0386)  loss_classifier: 0.0083 (0.0088)  loss_box_reg: 0.0096 (0.0102)  loss_objectness: 0.0096 (0.0097)  loss_rpn_box_reg: 0.0092 (0.0099)  time: 0.4201  data: 0.0223  max mem: 2326\n",
      "Epoch: [11]  [406/407]  eta: 0:00:00  lr: 0.000005  loss: 0.0376 (0.0385)  loss_classifier: 0.0087 (0.0088)  loss_box_reg: 0.0103 (0.0102)  loss_objectness: 0.0091 (0.0096)  loss_rpn_box_reg: 0.0090 (0.0099)  time: 0.4149  data: 0.0221  max mem: 2326\n",
      "Epoch: [11] Total time: 0:02:51 (0.4217 s / it)\n",
      "creating index...\n",
      "index created!\n",
      "Test:  [  0/102]  eta: 0:00:53  model_time: 0.2597 (0.2597)  evaluator_time: 0.0159 (0.0159)  time: 0.5283  data: 0.2291  max mem: 2326\n",
      "Test:  [100/102]  eta: 0:00:00  model_time: 0.1748 (0.1757)  evaluator_time: 0.0058 (0.0064)  time: 0.2102  data: 0.0219  max mem: 2326\n",
      "Test:  [101/102]  eta: 0:00:00  model_time: 0.1748 (0.1752)  evaluator_time: 0.0058 (0.0064)  time: 0.2070  data: 0.0217  max mem: 2326\n",
      "Test: Total time: 0:00:21 (0.2134 s / it)\n",
      "Averaged stats: model_time: 0.1748 (0.1752)  evaluator_time: 0.0058 (0.0064)\n",
      "Accumulating evaluation results...\n",
      "DONE (t=0.09s).\n",
      "IoU metric: bbox\n",
      " Average Precision  (AP) @[ IoU=0.50:0.95 | area=   all | maxDets=100 ] = 0.509\n",
      " Average Precision  (AP) @[ IoU=0.50      | area=   all | maxDets=100 ] = 0.812\n",
      " Average Precision  (AP) @[ IoU=0.75      | area=   all | maxDets=100 ] = 0.623\n",
      " Average Precision  (AP) @[ IoU=0.50:0.95 | area= small | maxDets=100 ] = 0.509\n",
      " Average Precision  (AP) @[ IoU=0.50:0.95 | area=medium | maxDets=100 ] = -1.000\n",
      " Average Precision  (AP) @[ IoU=0.50:0.95 | area= large | maxDets=100 ] = -1.000\n",
      " Average Recall     (AR) @[ IoU=0.50:0.95 | area=   all | maxDets=  1 ] = 0.504\n",
      " Average Recall     (AR) @[ IoU=0.50:0.95 | area=   all | maxDets= 10 ] = 0.688\n",
      " Average Recall     (AR) @[ IoU=0.50:0.95 | area=   all | maxDets=100 ] = 0.688\n",
      " Average Recall     (AR) @[ IoU=0.50:0.95 | area= small | maxDets=100 ] = 0.688\n",
      " Average Recall     (AR) @[ IoU=0.50:0.95 | area=medium | maxDets=100 ] = -1.000\n",
      " Average Recall     (AR) @[ IoU=0.50:0.95 | area= large | maxDets=100 ] = -1.000\n",
      "starting epoch 12\n",
      "Epoch: [12]  [  0/407]  eta: 0:04:06  lr: 0.000001  loss: 0.0372 (0.0372)  loss_classifier: 0.0083 (0.0083)  loss_box_reg: 0.0132 (0.0132)  loss_objectness: 0.0098 (0.0098)  loss_rpn_box_reg: 0.0059 (0.0059)  time: 0.6064  data: 0.1979  max mem: 2326\n",
      "Epoch: [12]  [ 50/407]  eta: 0:02:30  lr: 0.000001  loss: 0.0397 (0.0386)  loss_classifier: 0.0094 (0.0088)  loss_box_reg: 0.0101 (0.0102)  loss_objectness: 0.0073 (0.0098)  loss_rpn_box_reg: 0.0098 (0.0098)  time: 0.4166  data: 0.0220  max mem: 2326\n",
      "Epoch: [12]  [100/407]  eta: 0:02:09  lr: 0.000001  loss: 0.0323 (0.0386)  loss_classifier: 0.0079 (0.0087)  loss_box_reg: 0.0092 (0.0100)  loss_objectness: 0.0078 (0.0099)  loss_rpn_box_reg: 0.0095 (0.0100)  time: 0.4212  data: 0.0222  max mem: 2326\n",
      "Epoch: [12]  [150/407]  eta: 0:01:48  lr: 0.000001  loss: 0.0332 (0.0382)  loss_classifier: 0.0074 (0.0087)  loss_box_reg: 0.0090 (0.0101)  loss_objectness: 0.0068 (0.0096)  loss_rpn_box_reg: 0.0070 (0.0098)  time: 0.4230  data: 0.0223  max mem: 2326\n",
      "Epoch: [12]  [200/407]  eta: 0:01:27  lr: 0.000001  loss: 0.0397 (0.0380)  loss_classifier: 0.0089 (0.0087)  loss_box_reg: 0.0093 (0.0101)  loss_objectness: 0.0112 (0.0095)  loss_rpn_box_reg: 0.0090 (0.0097)  time: 0.4200  data: 0.0214  max mem: 2326\n",
      "Epoch: [12]  [250/407]  eta: 0:01:06  lr: 0.000001  loss: 0.0370 (0.0382)  loss_classifier: 0.0086 (0.0088)  loss_box_reg: 0.0109 (0.0103)  loss_objectness: 0.0094 (0.0093)  loss_rpn_box_reg: 0.0101 (0.0098)  time: 0.4210  data: 0.0221  max mem: 2326\n",
      "Epoch: [12]  [300/407]  eta: 0:00:45  lr: 0.000001  loss: 0.0353 (0.0384)  loss_classifier: 0.0080 (0.0088)  loss_box_reg: 0.0094 (0.0103)  loss_objectness: 0.0074 (0.0094)  loss_rpn_box_reg: 0.0091 (0.0098)  time: 0.4206  data: 0.0221  max mem: 2326\n",
      "Epoch: [12]  [350/407]  eta: 0:00:24  lr: 0.000001  loss: 0.0354 (0.0380)  loss_classifier: 0.0077 (0.0087)  loss_box_reg: 0.0092 (0.0102)  loss_objectness: 0.0065 (0.0092)  loss_rpn_box_reg: 0.0086 (0.0098)  time: 0.4216  data: 0.0224  max mem: 2326\n",
      "Epoch: [12]  [400/407]  eta: 0:00:02  lr: 0.000001  loss: 0.0381 (0.0384)  loss_classifier: 0.0079 (0.0088)  loss_box_reg: 0.0097 (0.0103)  loss_objectness: 0.0090 (0.0094)  loss_rpn_box_reg: 0.0093 (0.0099)  time: 0.4214  data: 0.0222  max mem: 2326\n",
      "Epoch: [12]  [406/407]  eta: 0:00:00  lr: 0.000001  loss: 0.0340 (0.0383)  loss_classifier: 0.0075 (0.0088)  loss_box_reg: 0.0090 (0.0103)  loss_objectness: 0.0086 (0.0093)  loss_rpn_box_reg: 0.0088 (0.0099)  time: 0.4148  data: 0.0217  max mem: 2326\n",
      "Epoch: [12] Total time: 0:02:51 (0.4223 s / it)\n",
      "creating index...\n",
      "index created!\n",
      "Test:  [  0/102]  eta: 0:00:51  model_time: 0.2477 (0.2477)  evaluator_time: 0.0094 (0.0094)  time: 0.5027  data: 0.2230  max mem: 2326\n",
      "Test:  [100/102]  eta: 0:00:00  model_time: 0.1742 (0.1752)  evaluator_time: 0.0057 (0.0060)  time: 0.2091  data: 0.0217  max mem: 2326\n",
      "Test:  [101/102]  eta: 0:00:00  model_time: 0.1742 (0.1746)  evaluator_time: 0.0058 (0.0060)  time: 0.2060  data: 0.0214  max mem: 2326\n",
      "Test: Total time: 0:00:21 (0.2096 s / it)\n",
      "Averaged stats: model_time: 0.1742 (0.1746)  evaluator_time: 0.0058 (0.0060)\n",
      "Accumulating evaluation results...\n",
      "DONE (t=0.08s).\n",
      "IoU metric: bbox\n",
      " Average Precision  (AP) @[ IoU=0.50:0.95 | area=   all | maxDets=100 ] = 0.512\n",
      " Average Precision  (AP) @[ IoU=0.50      | area=   all | maxDets=100 ] = 0.814\n",
      " Average Precision  (AP) @[ IoU=0.75      | area=   all | maxDets=100 ] = 0.626\n",
      " Average Precision  (AP) @[ IoU=0.50:0.95 | area= small | maxDets=100 ] = 0.512\n",
      " Average Precision  (AP) @[ IoU=0.50:0.95 | area=medium | maxDets=100 ] = -1.000\n",
      " Average Precision  (AP) @[ IoU=0.50:0.95 | area= large | maxDets=100 ] = -1.000\n",
      " Average Recall     (AR) @[ IoU=0.50:0.95 | area=   all | maxDets=  1 ] = 0.504\n",
      " Average Recall     (AR) @[ IoU=0.50:0.95 | area=   all | maxDets= 10 ] = 0.688\n",
      " Average Recall     (AR) @[ IoU=0.50:0.95 | area=   all | maxDets=100 ] = 0.688\n",
      " Average Recall     (AR) @[ IoU=0.50:0.95 | area= small | maxDets=100 ] = 0.688\n",
      " Average Recall     (AR) @[ IoU=0.50:0.95 | area=medium | maxDets=100 ] = -1.000\n",
      " Average Recall     (AR) @[ IoU=0.50:0.95 | area= large | maxDets=100 ] = -1.000\n",
      "starting epoch 13\n",
      "Epoch: [13]  [  0/407]  eta: 0:04:03  lr: 0.000001  loss: 0.0438 (0.0438)  loss_classifier: 0.0099 (0.0099)  loss_box_reg: 0.0071 (0.0071)  loss_objectness: 0.0145 (0.0145)  loss_rpn_box_reg: 0.0124 (0.0124)  time: 0.5988  data: 0.1932  max mem: 2326\n",
      "Epoch: [13]  [ 50/407]  eta: 0:02:31  lr: 0.000001  loss: 0.0322 (0.0371)  loss_classifier: 0.0082 (0.0086)  loss_box_reg: 0.0093 (0.0099)  loss_objectness: 0.0075 (0.0085)  loss_rpn_box_reg: 0.0084 (0.0101)  time: 0.4178  data: 0.0222  max mem: 2326\n",
      "Epoch: [13]  [100/407]  eta: 0:02:09  lr: 0.000001  loss: 0.0362 (0.0379)  loss_classifier: 0.0086 (0.0088)  loss_box_reg: 0.0103 (0.0103)  loss_objectness: 0.0080 (0.0087)  loss_rpn_box_reg: 0.0097 (0.0101)  time: 0.4190  data: 0.0219  max mem: 2326\n",
      "Epoch: [13]  [150/407]  eta: 0:01:48  lr: 0.000001  loss: 0.0353 (0.0381)  loss_classifier: 0.0086 (0.0089)  loss_box_reg: 0.0099 (0.0104)  loss_objectness: 0.0081 (0.0088)  loss_rpn_box_reg: 0.0096 (0.0101)  time: 0.4244  data: 0.0232  max mem: 2326\n",
      "Epoch: [13]  [200/407]  eta: 0:01:27  lr: 0.000001  loss: 0.0393 (0.0382)  loss_classifier: 0.0089 (0.0089)  loss_box_reg: 0.0102 (0.0105)  loss_objectness: 0.0093 (0.0087)  loss_rpn_box_reg: 0.0090 (0.0100)  time: 0.4228  data: 0.0231  max mem: 2326\n",
      "Epoch: [13]  [250/407]  eta: 0:01:06  lr: 0.000001  loss: 0.0351 (0.0381)  loss_classifier: 0.0078 (0.0088)  loss_box_reg: 0.0097 (0.0104)  loss_objectness: 0.0092 (0.0089)  loss_rpn_box_reg: 0.0087 (0.0100)  time: 0.4222  data: 0.0224  max mem: 2326\n",
      "Epoch: [13]  [300/407]  eta: 0:00:45  lr: 0.000001  loss: 0.0351 (0.0381)  loss_classifier: 0.0081 (0.0088)  loss_box_reg: 0.0087 (0.0103)  loss_objectness: 0.0071 (0.0090)  loss_rpn_box_reg: 0.0086 (0.0099)  time: 0.4202  data: 0.0223  max mem: 2326\n",
      "Epoch: [13]  [350/407]  eta: 0:00:24  lr: 0.000001  loss: 0.0361 (0.0381)  loss_classifier: 0.0078 (0.0088)  loss_box_reg: 0.0102 (0.0103)  loss_objectness: 0.0099 (0.0091)  loss_rpn_box_reg: 0.0092 (0.0099)  time: 0.4225  data: 0.0227  max mem: 2326\n",
      "Epoch: [13]  [400/407]  eta: 0:00:02  lr: 0.000001  loss: 0.0368 (0.0382)  loss_classifier: 0.0085 (0.0088)  loss_box_reg: 0.0085 (0.0103)  loss_objectness: 0.0096 (0.0092)  loss_rpn_box_reg: 0.0100 (0.0099)  time: 0.4218  data: 0.0233  max mem: 2326\n",
      "Epoch: [13]  [406/407]  eta: 0:00:00  lr: 0.000001  loss: 0.0385 (0.0381)  loss_classifier: 0.0081 (0.0088)  loss_box_reg: 0.0083 (0.0103)  loss_objectness: 0.0096 (0.0092)  loss_rpn_box_reg: 0.0097 (0.0099)  time: 0.4153  data: 0.0225  max mem: 2326\n",
      "Epoch: [13] Total time: 0:02:52 (0.4231 s / it)\n",
      "creating index...\n",
      "index created!\n",
      "Test:  [  0/102]  eta: 0:00:48  model_time: 0.2526 (0.2526)  evaluator_time: 0.0084 (0.0084)  time: 0.4714  data: 0.1843  max mem: 2326\n",
      "Test:  [100/102]  eta: 0:00:00  model_time: 0.1736 (0.1745)  evaluator_time: 0.0058 (0.0060)  time: 0.2087  data: 0.0215  max mem: 2326\n",
      "Test:  [101/102]  eta: 0:00:00  model_time: 0.1736 (0.1739)  evaluator_time: 0.0058 (0.0060)  time: 0.2054  data: 0.0212  max mem: 2326\n",
      "Test: Total time: 0:00:21 (0.2091 s / it)\n",
      "Averaged stats: model_time: 0.1736 (0.1739)  evaluator_time: 0.0058 (0.0060)\n",
      "Accumulating evaluation results...\n",
      "DONE (t=0.07s).\n",
      "IoU metric: bbox\n",
      " Average Precision  (AP) @[ IoU=0.50:0.95 | area=   all | maxDets=100 ] = 0.513\n",
      " Average Precision  (AP) @[ IoU=0.50      | area=   all | maxDets=100 ] = 0.813\n",
      " Average Precision  (AP) @[ IoU=0.75      | area=   all | maxDets=100 ] = 0.630\n",
      " Average Precision  (AP) @[ IoU=0.50:0.95 | area= small | maxDets=100 ] = 0.513\n",
      " Average Precision  (AP) @[ IoU=0.50:0.95 | area=medium | maxDets=100 ] = -1.000\n",
      " Average Precision  (AP) @[ IoU=0.50:0.95 | area= large | maxDets=100 ] = -1.000\n",
      " Average Recall     (AR) @[ IoU=0.50:0.95 | area=   all | maxDets=  1 ] = 0.505\n",
      " Average Recall     (AR) @[ IoU=0.50:0.95 | area=   all | maxDets= 10 ] = 0.689\n",
      " Average Recall     (AR) @[ IoU=0.50:0.95 | area=   all | maxDets=100 ] = 0.689\n",
      " Average Recall     (AR) @[ IoU=0.50:0.95 | area= small | maxDets=100 ] = 0.689\n",
      " Average Recall     (AR) @[ IoU=0.50:0.95 | area=medium | maxDets=100 ] = -1.000\n",
      " Average Recall     (AR) @[ IoU=0.50:0.95 | area= large | maxDets=100 ] = -1.000\n",
      "starting epoch 14\n",
      "Epoch: [14]  [  0/407]  eta: 0:04:15  lr: 0.000001  loss: 0.0364 (0.0364)  loss_classifier: 0.0070 (0.0070)  loss_box_reg: 0.0081 (0.0081)  loss_objectness: 0.0118 (0.0118)  loss_rpn_box_reg: 0.0096 (0.0096)  time: 0.6279  data: 0.2215  max mem: 2326\n",
      "Epoch: [14]  [ 50/407]  eta: 0:02:30  lr: 0.000001  loss: 0.0425 (0.0382)  loss_classifier: 0.0090 (0.0090)  loss_box_reg: 0.0108 (0.0100)  loss_objectness: 0.0086 (0.0091)  loss_rpn_box_reg: 0.0101 (0.0101)  time: 0.4174  data: 0.0222  max mem: 2326\n",
      "Epoch: [14]  [100/407]  eta: 0:02:09  lr: 0.000001  loss: 0.0417 (0.0390)  loss_classifier: 0.0089 (0.0091)  loss_box_reg: 0.0106 (0.0102)  loss_objectness: 0.0101 (0.0094)  loss_rpn_box_reg: 0.0103 (0.0102)  time: 0.4203  data: 0.0214  max mem: 2326\n",
      "Epoch: [14]  [150/407]  eta: 0:01:48  lr: 0.000001  loss: 0.0355 (0.0385)  loss_classifier: 0.0078 (0.0089)  loss_box_reg: 0.0095 (0.0100)  loss_objectness: 0.0095 (0.0097)  loss_rpn_box_reg: 0.0075 (0.0099)  time: 0.4210  data: 0.0220  max mem: 2326\n",
      "Epoch: [14]  [200/407]  eta: 0:01:27  lr: 0.000001  loss: 0.0407 (0.0389)  loss_classifier: 0.0086 (0.0089)  loss_box_reg: 0.0100 (0.0101)  loss_objectness: 0.0091 (0.0097)  loss_rpn_box_reg: 0.0119 (0.0101)  time: 0.4231  data: 0.0223  max mem: 2326\n",
      "Epoch: [14]  [250/407]  eta: 0:01:06  lr: 0.000001  loss: 0.0364 (0.0387)  loss_classifier: 0.0089 (0.0089)  loss_box_reg: 0.0098 (0.0102)  loss_objectness: 0.0088 (0.0097)  loss_rpn_box_reg: 0.0077 (0.0099)  time: 0.4267  data: 0.0256  max mem: 2326\n",
      "Epoch: [14]  [300/407]  eta: 0:00:45  lr: 0.000001  loss: 0.0397 (0.0387)  loss_classifier: 0.0086 (0.0089)  loss_box_reg: 0.0111 (0.0101)  loss_objectness: 0.0081 (0.0098)  loss_rpn_box_reg: 0.0109 (0.0099)  time: 0.4195  data: 0.0216  max mem: 2326\n",
      "Epoch: [14]  [350/407]  eta: 0:00:24  lr: 0.000001  loss: 0.0356 (0.0386)  loss_classifier: 0.0073 (0.0089)  loss_box_reg: 0.0098 (0.0102)  loss_objectness: 0.0078 (0.0097)  loss_rpn_box_reg: 0.0089 (0.0098)  time: 0.4205  data: 0.0220  max mem: 2326\n",
      "Epoch: [14]  [400/407]  eta: 0:00:02  lr: 0.000001  loss: 0.0380 (0.0386)  loss_classifier: 0.0087 (0.0089)  loss_box_reg: 0.0100 (0.0103)  loss_objectness: 0.0082 (0.0097)  loss_rpn_box_reg: 0.0085 (0.0098)  time: 0.4196  data: 0.0218  max mem: 2326\n",
      "Epoch: [14]  [406/407]  eta: 0:00:00  lr: 0.000001  loss: 0.0393 (0.0387)  loss_classifier: 0.0087 (0.0089)  loss_box_reg: 0.0098 (0.0103)  loss_objectness: 0.0094 (0.0097)  loss_rpn_box_reg: 0.0086 (0.0099)  time: 0.4134  data: 0.0215  max mem: 2326\n",
      "Epoch: [14] Total time: 0:02:51 (0.4221 s / it)\n",
      "creating index...\n",
      "index created!\n",
      "Test:  [  0/102]  eta: 0:00:45  model_time: 0.2336 (0.2336)  evaluator_time: 0.0089 (0.0089)  time: 0.4498  data: 0.1825  max mem: 2326\n",
      "Test:  [100/102]  eta: 0:00:00  model_time: 0.1743 (0.1750)  evaluator_time: 0.0056 (0.0060)  time: 0.2095  data: 0.0216  max mem: 2326\n",
      "Test:  [101/102]  eta: 0:00:00  model_time: 0.1743 (0.1744)  evaluator_time: 0.0056 (0.0059)  time: 0.2060  data: 0.0212  max mem: 2326\n",
      "Test: Total time: 0:00:21 (0.2110 s / it)\n",
      "Averaged stats: model_time: 0.1743 (0.1744)  evaluator_time: 0.0056 (0.0059)\n",
      "Accumulating evaluation results...\n",
      "DONE (t=0.08s).\n",
      "IoU metric: bbox\n",
      " Average Precision  (AP) @[ IoU=0.50:0.95 | area=   all | maxDets=100 ] = 0.513\n",
      " Average Precision  (AP) @[ IoU=0.50      | area=   all | maxDets=100 ] = 0.814\n",
      " Average Precision  (AP) @[ IoU=0.75      | area=   all | maxDets=100 ] = 0.626\n",
      " Average Precision  (AP) @[ IoU=0.50:0.95 | area= small | maxDets=100 ] = 0.513\n",
      " Average Precision  (AP) @[ IoU=0.50:0.95 | area=medium | maxDets=100 ] = -1.000\n",
      " Average Precision  (AP) @[ IoU=0.50:0.95 | area= large | maxDets=100 ] = -1.000\n",
      " Average Recall     (AR) @[ IoU=0.50:0.95 | area=   all | maxDets=  1 ] = 0.504\n",
      " Average Recall     (AR) @[ IoU=0.50:0.95 | area=   all | maxDets= 10 ] = 0.688\n",
      " Average Recall     (AR) @[ IoU=0.50:0.95 | area=   all | maxDets=100 ] = 0.688\n",
      " Average Recall     (AR) @[ IoU=0.50:0.95 | area= small | maxDets=100 ] = 0.688\n",
      " Average Recall     (AR) @[ IoU=0.50:0.95 | area=medium | maxDets=100 ] = -1.000\n",
      " Average Recall     (AR) @[ IoU=0.50:0.95 | area= large | maxDets=100 ] = -1.000\n",
      "starting epoch 15\n",
      "Epoch: [15]  [  0/407]  eta: 0:04:11  lr: 0.000000  loss: 0.0595 (0.0595)  loss_classifier: 0.0128 (0.0128)  loss_box_reg: 0.0079 (0.0079)  loss_objectness: 0.0244 (0.0244)  loss_rpn_box_reg: 0.0145 (0.0145)  time: 0.6177  data: 0.2153  max mem: 2326\n",
      "Epoch: [15]  [ 50/407]  eta: 0:02:30  lr: 0.000000  loss: 0.0400 (0.0406)  loss_classifier: 0.0086 (0.0091)  loss_box_reg: 0.0096 (0.0104)  loss_objectness: 0.0107 (0.0106)  loss_rpn_box_reg: 0.0105 (0.0105)  time: 0.4199  data: 0.0226  max mem: 2326\n",
      "Epoch: [15]  [100/407]  eta: 0:02:09  lr: 0.000000  loss: 0.0369 (0.0401)  loss_classifier: 0.0098 (0.0091)  loss_box_reg: 0.0097 (0.0102)  loss_objectness: 0.0092 (0.0107)  loss_rpn_box_reg: 0.0096 (0.0101)  time: 0.4204  data: 0.0224  max mem: 2326\n",
      "Epoch: [15]  [150/407]  eta: 0:01:48  lr: 0.000000  loss: 0.0391 (0.0395)  loss_classifier: 0.0078 (0.0090)  loss_box_reg: 0.0106 (0.0103)  loss_objectness: 0.0076 (0.0101)  loss_rpn_box_reg: 0.0102 (0.0101)  time: 0.4218  data: 0.0228  max mem: 2326\n",
      "Epoch: [15]  [200/407]  eta: 0:01:27  lr: 0.000000  loss: 0.0432 (0.0396)  loss_classifier: 0.0086 (0.0090)  loss_box_reg: 0.0100 (0.0103)  loss_objectness: 0.0115 (0.0104)  loss_rpn_box_reg: 0.0104 (0.0100)  time: 0.4213  data: 0.0223  max mem: 2326\n",
      "Epoch: [15]  [250/407]  eta: 0:01:06  lr: 0.000000  loss: 0.0333 (0.0389)  loss_classifier: 0.0082 (0.0089)  loss_box_reg: 0.0088 (0.0101)  loss_objectness: 0.0076 (0.0099)  loss_rpn_box_reg: 0.0095 (0.0100)  time: 0.4224  data: 0.0229  max mem: 2326\n",
      "Epoch: [15]  [300/407]  eta: 0:00:45  lr: 0.000000  loss: 0.0384 (0.0391)  loss_classifier: 0.0084 (0.0089)  loss_box_reg: 0.0096 (0.0102)  loss_objectness: 0.0103 (0.0100)  loss_rpn_box_reg: 0.0092 (0.0100)  time: 0.4208  data: 0.0220  max mem: 2326\n",
      "Epoch: [15]  [350/407]  eta: 0:00:24  lr: 0.000000  loss: 0.0331 (0.0387)  loss_classifier: 0.0080 (0.0088)  loss_box_reg: 0.0097 (0.0102)  loss_objectness: 0.0074 (0.0098)  loss_rpn_box_reg: 0.0079 (0.0098)  time: 0.4196  data: 0.0217  max mem: 2326\n",
      "Epoch: [15]  [400/407]  eta: 0:00:02  lr: 0.000000  loss: 0.0390 (0.0389)  loss_classifier: 0.0088 (0.0089)  loss_box_reg: 0.0100 (0.0102)  loss_objectness: 0.0085 (0.0099)  loss_rpn_box_reg: 0.0105 (0.0099)  time: 0.4211  data: 0.0228  max mem: 2326\n",
      "Epoch: [15]  [406/407]  eta: 0:00:00  lr: 0.000000  loss: 0.0377 (0.0388)  loss_classifier: 0.0086 (0.0089)  loss_box_reg: 0.0101 (0.0102)  loss_objectness: 0.0085 (0.0099)  loss_rpn_box_reg: 0.0088 (0.0098)  time: 0.4151  data: 0.0222  max mem: 2326\n",
      "Epoch: [15] Total time: 0:02:51 (0.4218 s / it)\n",
      "creating index...\n",
      "index created!\n",
      "Test:  [  0/102]  eta: 0:00:47  model_time: 0.2230 (0.2230)  evaluator_time: 0.0086 (0.0086)  time: 0.4692  data: 0.2017  max mem: 2326\n",
      "Test:  [100/102]  eta: 0:00:00  model_time: 0.1740 (0.1746)  evaluator_time: 0.0058 (0.0061)  time: 0.2063  data: 0.0189  max mem: 2326\n",
      "Test:  [101/102]  eta: 0:00:00  model_time: 0.1740 (0.1740)  evaluator_time: 0.0057 (0.0061)  time: 0.2032  data: 0.0189  max mem: 2326\n",
      "Test: Total time: 0:00:21 (0.2089 s / it)\n",
      "Averaged stats: model_time: 0.1740 (0.1740)  evaluator_time: 0.0057 (0.0061)\n",
      "Accumulating evaluation results...\n",
      "DONE (t=0.08s).\n",
      "IoU metric: bbox\n",
      " Average Precision  (AP) @[ IoU=0.50:0.95 | area=   all | maxDets=100 ] = 0.513\n",
      " Average Precision  (AP) @[ IoU=0.50      | area=   all | maxDets=100 ] = 0.814\n",
      " Average Precision  (AP) @[ IoU=0.75      | area=   all | maxDets=100 ] = 0.626\n",
      " Average Precision  (AP) @[ IoU=0.50:0.95 | area= small | maxDets=100 ] = 0.513\n",
      " Average Precision  (AP) @[ IoU=0.50:0.95 | area=medium | maxDets=100 ] = -1.000\n",
      " Average Precision  (AP) @[ IoU=0.50:0.95 | area= large | maxDets=100 ] = -1.000\n",
      " Average Recall     (AR) @[ IoU=0.50:0.95 | area=   all | maxDets=  1 ] = 0.505\n",
      " Average Recall     (AR) @[ IoU=0.50:0.95 | area=   all | maxDets= 10 ] = 0.688\n",
      " Average Recall     (AR) @[ IoU=0.50:0.95 | area=   all | maxDets=100 ] = 0.688\n",
      " Average Recall     (AR) @[ IoU=0.50:0.95 | area= small | maxDets=100 ] = 0.688\n",
      " Average Recall     (AR) @[ IoU=0.50:0.95 | area=medium | maxDets=100 ] = -1.000\n",
      " Average Recall     (AR) @[ IoU=0.50:0.95 | area= large | maxDets=100 ] = -1.000\n",
      "starting epoch 16\n",
      "Epoch: [16]  [  0/407]  eta: 0:04:05  lr: 0.000000  loss: 0.0298 (0.0298)  loss_classifier: 0.0064 (0.0064)  loss_box_reg: 0.0086 (0.0086)  loss_objectness: 0.0092 (0.0092)  loss_rpn_box_reg: 0.0056 (0.0056)  time: 0.6035  data: 0.2009  max mem: 2326\n",
      "Epoch: [16]  [ 50/407]  eta: 0:02:30  lr: 0.000000  loss: 0.0347 (0.0354)  loss_classifier: 0.0084 (0.0086)  loss_box_reg: 0.0101 (0.0099)  loss_objectness: 0.0055 (0.0081)  loss_rpn_box_reg: 0.0081 (0.0089)  time: 0.4173  data: 0.0222  max mem: 2326\n",
      "Epoch: [16]  [100/407]  eta: 0:02:09  lr: 0.000000  loss: 0.0419 (0.0376)  loss_classifier: 0.0089 (0.0088)  loss_box_reg: 0.0097 (0.0100)  loss_objectness: 0.0105 (0.0091)  loss_rpn_box_reg: 0.0104 (0.0097)  time: 0.4208  data: 0.0217  max mem: 2326\n",
      "Epoch: [16]  [150/407]  eta: 0:01:48  lr: 0.000000  loss: 0.0353 (0.0373)  loss_classifier: 0.0091 (0.0088)  loss_box_reg: 0.0094 (0.0100)  loss_objectness: 0.0055 (0.0087)  loss_rpn_box_reg: 0.0095 (0.0098)  time: 0.4235  data: 0.0229  max mem: 2326\n",
      "Epoch: [16]  [200/407]  eta: 0:01:27  lr: 0.000000  loss: 0.0378 (0.0376)  loss_classifier: 0.0081 (0.0088)  loss_box_reg: 0.0109 (0.0102)  loss_objectness: 0.0078 (0.0087)  loss_rpn_box_reg: 0.0086 (0.0098)  time: 0.4237  data: 0.0231  max mem: 2326\n",
      "Epoch: [16]  [250/407]  eta: 0:01:06  lr: 0.000000  loss: 0.0411 (0.0380)  loss_classifier: 0.0090 (0.0089)  loss_box_reg: 0.0109 (0.0102)  loss_objectness: 0.0100 (0.0091)  loss_rpn_box_reg: 0.0110 (0.0098)  time: 0.4227  data: 0.0223  max mem: 2326\n",
      "Epoch: [16]  [300/407]  eta: 0:00:45  lr: 0.000000  loss: 0.0353 (0.0379)  loss_classifier: 0.0085 (0.0088)  loss_box_reg: 0.0101 (0.0102)  loss_objectness: 0.0080 (0.0091)  loss_rpn_box_reg: 0.0095 (0.0098)  time: 0.4218  data: 0.0224  max mem: 2326\n",
      "Epoch: [16]  [350/407]  eta: 0:00:24  lr: 0.000000  loss: 0.0386 (0.0379)  loss_classifier: 0.0085 (0.0088)  loss_box_reg: 0.0096 (0.0101)  loss_objectness: 0.0085 (0.0091)  loss_rpn_box_reg: 0.0095 (0.0098)  time: 0.4213  data: 0.0223  max mem: 2326\n",
      "Epoch: [16]  [400/407]  eta: 0:00:02  lr: 0.000000  loss: 0.0377 (0.0381)  loss_classifier: 0.0085 (0.0088)  loss_box_reg: 0.0108 (0.0102)  loss_objectness: 0.0074 (0.0092)  loss_rpn_box_reg: 0.0091 (0.0099)  time: 0.4205  data: 0.0221  max mem: 2326\n",
      "Epoch: [16]  [406/407]  eta: 0:00:00  lr: 0.000000  loss: 0.0367 (0.0381)  loss_classifier: 0.0080 (0.0088)  loss_box_reg: 0.0108 (0.0102)  loss_objectness: 0.0084 (0.0092)  loss_rpn_box_reg: 0.0081 (0.0098)  time: 0.4134  data: 0.0216  max mem: 2326\n",
      "Epoch: [16] Total time: 0:02:52 (0.4226 s / it)\n",
      "creating index...\n",
      "index created!\n",
      "Test:  [  0/102]  eta: 0:00:45  model_time: 0.2270 (0.2270)  evaluator_time: 0.0087 (0.0087)  time: 0.4429  data: 0.1861  max mem: 2326\n",
      "Test:  [100/102]  eta: 0:00:00  model_time: 0.1737 (0.1747)  evaluator_time: 0.0058 (0.0060)  time: 0.2091  data: 0.0214  max mem: 2326\n",
      "Test:  [101/102]  eta: 0:00:00  model_time: 0.1737 (0.1742)  evaluator_time: 0.0058 (0.0060)  time: 0.2058  data: 0.0211  max mem: 2326\n",
      "Test: Total time: 0:00:21 (0.2104 s / it)\n",
      "Averaged stats: model_time: 0.1737 (0.1742)  evaluator_time: 0.0058 (0.0060)\n",
      "Accumulating evaluation results...\n",
      "DONE (t=0.08s).\n",
      "IoU metric: bbox\n",
      " Average Precision  (AP) @[ IoU=0.50:0.95 | area=   all | maxDets=100 ] = 0.513\n",
      " Average Precision  (AP) @[ IoU=0.50      | area=   all | maxDets=100 ] = 0.814\n",
      " Average Precision  (AP) @[ IoU=0.75      | area=   all | maxDets=100 ] = 0.625\n",
      " Average Precision  (AP) @[ IoU=0.50:0.95 | area= small | maxDets=100 ] = 0.513\n",
      " Average Precision  (AP) @[ IoU=0.50:0.95 | area=medium | maxDets=100 ] = -1.000\n",
      " Average Precision  (AP) @[ IoU=0.50:0.95 | area= large | maxDets=100 ] = -1.000\n",
      " Average Recall     (AR) @[ IoU=0.50:0.95 | area=   all | maxDets=  1 ] = 0.505\n",
      " Average Recall     (AR) @[ IoU=0.50:0.95 | area=   all | maxDets= 10 ] = 0.688\n",
      " Average Recall     (AR) @[ IoU=0.50:0.95 | area=   all | maxDets=100 ] = 0.688\n",
      " Average Recall     (AR) @[ IoU=0.50:0.95 | area= small | maxDets=100 ] = 0.688\n",
      " Average Recall     (AR) @[ IoU=0.50:0.95 | area=medium | maxDets=100 ] = -1.000\n",
      " Average Recall     (AR) @[ IoU=0.50:0.95 | area= large | maxDets=100 ] = -1.000\n",
      "starting epoch 17\n",
      "Epoch: [17]  [  0/407]  eta: 0:04:15  lr: 0.000000  loss: 0.0491 (0.0491)  loss_classifier: 0.0117 (0.0117)  loss_box_reg: 0.0127 (0.0127)  loss_objectness: 0.0122 (0.0122)  loss_rpn_box_reg: 0.0125 (0.0125)  time: 0.6273  data: 0.2098  max mem: 2326\n",
      "Epoch: [17]  [ 50/407]  eta: 0:02:30  lr: 0.000000  loss: 0.0371 (0.0394)  loss_classifier: 0.0087 (0.0090)  loss_box_reg: 0.0099 (0.0101)  loss_objectness: 0.0099 (0.0102)  loss_rpn_box_reg: 0.0099 (0.0102)  time: 0.4175  data: 0.0217  max mem: 2326\n",
      "Epoch: [17]  [100/407]  eta: 0:02:09  lr: 0.000000  loss: 0.0316 (0.0382)  loss_classifier: 0.0079 (0.0088)  loss_box_reg: 0.0098 (0.0100)  loss_objectness: 0.0069 (0.0098)  loss_rpn_box_reg: 0.0068 (0.0096)  time: 0.4197  data: 0.0219  max mem: 2326\n",
      "Epoch: [17]  [150/407]  eta: 0:01:48  lr: 0.000000  loss: 0.0389 (0.0382)  loss_classifier: 0.0085 (0.0087)  loss_box_reg: 0.0098 (0.0101)  loss_objectness: 0.0100 (0.0097)  loss_rpn_box_reg: 0.0092 (0.0097)  time: 0.4205  data: 0.0218  max mem: 2326\n",
      "Epoch: [17]  [200/407]  eta: 0:01:27  lr: 0.000000  loss: 0.0381 (0.0389)  loss_classifier: 0.0086 (0.0088)  loss_box_reg: 0.0094 (0.0102)  loss_objectness: 0.0081 (0.0100)  loss_rpn_box_reg: 0.0098 (0.0098)  time: 0.4192  data: 0.0210  max mem: 2326\n",
      "Epoch: [17]  [250/407]  eta: 0:01:06  lr: 0.000000  loss: 0.0310 (0.0381)  loss_classifier: 0.0064 (0.0087)  loss_box_reg: 0.0095 (0.0102)  loss_objectness: 0.0073 (0.0097)  loss_rpn_box_reg: 0.0071 (0.0095)  time: 0.4196  data: 0.0216  max mem: 2326\n",
      "Epoch: [17]  [300/407]  eta: 0:00:45  lr: 0.000000  loss: 0.0341 (0.0380)  loss_classifier: 0.0072 (0.0086)  loss_box_reg: 0.0100 (0.0102)  loss_objectness: 0.0071 (0.0096)  loss_rpn_box_reg: 0.0083 (0.0096)  time: 0.4239  data: 0.0228  max mem: 2326\n",
      "Epoch: [17]  [350/407]  eta: 0:00:24  lr: 0.000000  loss: 0.0374 (0.0383)  loss_classifier: 0.0090 (0.0087)  loss_box_reg: 0.0090 (0.0101)  loss_objectness: 0.0112 (0.0098)  loss_rpn_box_reg: 0.0096 (0.0096)  time: 0.4200  data: 0.0220  max mem: 2326\n",
      "Epoch: [17]  [400/407]  eta: 0:00:02  lr: 0.000000  loss: 0.0402 (0.0388)  loss_classifier: 0.0085 (0.0088)  loss_box_reg: 0.0101 (0.0102)  loss_objectness: 0.0086 (0.0100)  loss_rpn_box_reg: 0.0121 (0.0098)  time: 0.4203  data: 0.0223  max mem: 2326\n",
      "Epoch: [17]  [406/407]  eta: 0:00:00  lr: 0.000000  loss: 0.0386 (0.0389)  loss_classifier: 0.0085 (0.0088)  loss_box_reg: 0.0101 (0.0102)  loss_objectness: 0.0085 (0.0100)  loss_rpn_box_reg: 0.0114 (0.0098)  time: 0.4141  data: 0.0220  max mem: 2326\n",
      "Epoch: [17] Total time: 0:02:51 (0.4217 s / it)\n",
      "creating index...\n",
      "index created!\n",
      "Test:  [  0/102]  eta: 0:00:50  model_time: 0.2494 (0.2494)  evaluator_time: 0.0089 (0.0089)  time: 0.4985  data: 0.2158  max mem: 2326\n",
      "Test:  [100/102]  eta: 0:00:00  model_time: 0.1743 (0.1751)  evaluator_time: 0.0059 (0.0060)  time: 0.2062  data: 0.0191  max mem: 2326\n",
      "Test:  [101/102]  eta: 0:00:00  model_time: 0.1743 (0.1746)  evaluator_time: 0.0059 (0.0060)  time: 0.2032  data: 0.0191  max mem: 2326\n",
      "Test: Total time: 0:00:21 (0.2087 s / it)\n",
      "Averaged stats: model_time: 0.1743 (0.1746)  evaluator_time: 0.0059 (0.0060)\n",
      "Accumulating evaluation results...\n",
      "DONE (t=0.08s).\n",
      "IoU metric: bbox\n",
      " Average Precision  (AP) @[ IoU=0.50:0.95 | area=   all | maxDets=100 ] = 0.513\n",
      " Average Precision  (AP) @[ IoU=0.50      | area=   all | maxDets=100 ] = 0.814\n",
      " Average Precision  (AP) @[ IoU=0.75      | area=   all | maxDets=100 ] = 0.625\n",
      " Average Precision  (AP) @[ IoU=0.50:0.95 | area= small | maxDets=100 ] = 0.513\n",
      " Average Precision  (AP) @[ IoU=0.50:0.95 | area=medium | maxDets=100 ] = -1.000\n",
      " Average Precision  (AP) @[ IoU=0.50:0.95 | area= large | maxDets=100 ] = -1.000\n",
      " Average Recall     (AR) @[ IoU=0.50:0.95 | area=   all | maxDets=  1 ] = 0.505\n",
      " Average Recall     (AR) @[ IoU=0.50:0.95 | area=   all | maxDets= 10 ] = 0.688\n",
      " Average Recall     (AR) @[ IoU=0.50:0.95 | area=   all | maxDets=100 ] = 0.688\n",
      " Average Recall     (AR) @[ IoU=0.50:0.95 | area= small | maxDets=100 ] = 0.688\n",
      " Average Recall     (AR) @[ IoU=0.50:0.95 | area=medium | maxDets=100 ] = -1.000\n",
      " Average Recall     (AR) @[ IoU=0.50:0.95 | area= large | maxDets=100 ] = -1.000\n",
      "starting epoch 18\n",
      "Epoch: [18]  [  0/407]  eta: 0:03:53  lr: 0.000000  loss: 0.0347 (0.0347)  loss_classifier: 0.0074 (0.0074)  loss_box_reg: 0.0124 (0.0124)  loss_objectness: 0.0028 (0.0028)  loss_rpn_box_reg: 0.0121 (0.0121)  time: 0.5729  data: 0.1814  max mem: 2326\n",
      "Epoch: [18]  [ 50/407]  eta: 0:02:31  lr: 0.000000  loss: 0.0355 (0.0376)  loss_classifier: 0.0080 (0.0086)  loss_box_reg: 0.0086 (0.0096)  loss_objectness: 0.0090 (0.0099)  loss_rpn_box_reg: 0.0085 (0.0095)  time: 0.4203  data: 0.0226  max mem: 2326\n",
      "Epoch: [18]  [100/407]  eta: 0:02:10  lr: 0.000000  loss: 0.0358 (0.0383)  loss_classifier: 0.0080 (0.0087)  loss_box_reg: 0.0108 (0.0100)  loss_objectness: 0.0093 (0.0096)  loss_rpn_box_reg: 0.0105 (0.0099)  time: 0.4228  data: 0.0230  max mem: 2326\n",
      "Epoch: [18]  [150/407]  eta: 0:01:48  lr: 0.000000  loss: 0.0344 (0.0386)  loss_classifier: 0.0091 (0.0087)  loss_box_reg: 0.0096 (0.0101)  loss_objectness: 0.0080 (0.0099)  loss_rpn_box_reg: 0.0086 (0.0099)  time: 0.4217  data: 0.0222  max mem: 2326\n",
      "Epoch: [18]  [200/407]  eta: 0:01:27  lr: 0.000000  loss: 0.0420 (0.0388)  loss_classifier: 0.0094 (0.0088)  loss_box_reg: 0.0103 (0.0102)  loss_objectness: 0.0088 (0.0098)  loss_rpn_box_reg: 0.0094 (0.0100)  time: 0.4206  data: 0.0222  max mem: 2326\n",
      "Epoch: [18]  [250/407]  eta: 0:01:06  lr: 0.000000  loss: 0.0412 (0.0387)  loss_classifier: 0.0086 (0.0087)  loss_box_reg: 0.0104 (0.0103)  loss_objectness: 0.0112 (0.0097)  loss_rpn_box_reg: 0.0098 (0.0099)  time: 0.4231  data: 0.0226  max mem: 2326\n",
      "Epoch: [18]  [300/407]  eta: 0:00:45  lr: 0.000000  loss: 0.0349 (0.0385)  loss_classifier: 0.0089 (0.0087)  loss_box_reg: 0.0087 (0.0102)  loss_objectness: 0.0107 (0.0098)  loss_rpn_box_reg: 0.0088 (0.0098)  time: 0.4201  data: 0.0218  max mem: 2326\n",
      "Epoch: [18]  [350/407]  eta: 0:00:24  lr: 0.000000  loss: 0.0349 (0.0384)  loss_classifier: 0.0082 (0.0087)  loss_box_reg: 0.0100 (0.0102)  loss_objectness: 0.0076 (0.0096)  loss_rpn_box_reg: 0.0082 (0.0098)  time: 0.4209  data: 0.0219  max mem: 2326\n",
      "Epoch: [18]  [400/407]  eta: 0:00:02  lr: 0.000000  loss: 0.0343 (0.0386)  loss_classifier: 0.0072 (0.0088)  loss_box_reg: 0.0099 (0.0103)  loss_objectness: 0.0092 (0.0097)  loss_rpn_box_reg: 0.0107 (0.0099)  time: 0.4196  data: 0.0221  max mem: 2326\n",
      "Epoch: [18]  [406/407]  eta: 0:00:00  lr: 0.000000  loss: 0.0337 (0.0385)  loss_classifier: 0.0072 (0.0088)  loss_box_reg: 0.0094 (0.0102)  loss_objectness: 0.0058 (0.0097)  loss_rpn_box_reg: 0.0097 (0.0098)  time: 0.4131  data: 0.0216  max mem: 2326\n",
      "Epoch: [18] Total time: 0:02:51 (0.4224 s / it)\n",
      "creating index...\n",
      "index created!\n",
      "Test:  [  0/102]  eta: 0:00:48  model_time: 0.2369 (0.2369)  evaluator_time: 0.0086 (0.0086)  time: 0.4738  data: 0.2030  max mem: 2326\n",
      "Test:  [100/102]  eta: 0:00:00  model_time: 0.1739 (0.1746)  evaluator_time: 0.0058 (0.0060)  time: 0.2095  data: 0.0220  max mem: 2326\n",
      "Test:  [101/102]  eta: 0:00:00  model_time: 0.1739 (0.1740)  evaluator_time: 0.0058 (0.0060)  time: 0.2062  data: 0.0218  max mem: 2326\n",
      "Test: Total time: 0:00:21 (0.2115 s / it)\n",
      "Averaged stats: model_time: 0.1739 (0.1740)  evaluator_time: 0.0058 (0.0060)\n",
      "Accumulating evaluation results...\n",
      "DONE (t=0.08s).\n",
      "IoU metric: bbox\n",
      " Average Precision  (AP) @[ IoU=0.50:0.95 | area=   all | maxDets=100 ] = 0.513\n",
      " Average Precision  (AP) @[ IoU=0.50      | area=   all | maxDets=100 ] = 0.814\n",
      " Average Precision  (AP) @[ IoU=0.75      | area=   all | maxDets=100 ] = 0.625\n",
      " Average Precision  (AP) @[ IoU=0.50:0.95 | area= small | maxDets=100 ] = 0.513\n",
      " Average Precision  (AP) @[ IoU=0.50:0.95 | area=medium | maxDets=100 ] = -1.000\n",
      " Average Precision  (AP) @[ IoU=0.50:0.95 | area= large | maxDets=100 ] = -1.000\n",
      " Average Recall     (AR) @[ IoU=0.50:0.95 | area=   all | maxDets=  1 ] = 0.505\n",
      " Average Recall     (AR) @[ IoU=0.50:0.95 | area=   all | maxDets= 10 ] = 0.688\n",
      " Average Recall     (AR) @[ IoU=0.50:0.95 | area=   all | maxDets=100 ] = 0.688\n",
      " Average Recall     (AR) @[ IoU=0.50:0.95 | area= small | maxDets=100 ] = 0.688\n",
      " Average Recall     (AR) @[ IoU=0.50:0.95 | area=medium | maxDets=100 ] = -1.000\n",
      " Average Recall     (AR) @[ IoU=0.50:0.95 | area= large | maxDets=100 ] = -1.000\n",
      "starting epoch 19\n",
      "Epoch: [19]  [  0/407]  eta: 0:04:02  lr: 0.000000  loss: 0.0289 (0.0289)  loss_classifier: 0.0086 (0.0086)  loss_box_reg: 0.0092 (0.0092)  loss_objectness: 0.0047 (0.0047)  loss_rpn_box_reg: 0.0065 (0.0065)  time: 0.5954  data: 0.1906  max mem: 2326\n",
      "Epoch: [19]  [ 50/407]  eta: 0:02:31  lr: 0.000000  loss: 0.0375 (0.0397)  loss_classifier: 0.0083 (0.0094)  loss_box_reg: 0.0099 (0.0106)  loss_objectness: 0.0077 (0.0094)  loss_rpn_box_reg: 0.0077 (0.0103)  time: 0.4185  data: 0.0222  max mem: 2327\n",
      "Epoch: [19]  [100/407]  eta: 0:02:09  lr: 0.000000  loss: 0.0350 (0.0388)  loss_classifier: 0.0081 (0.0089)  loss_box_reg: 0.0094 (0.0104)  loss_objectness: 0.0080 (0.0095)  loss_rpn_box_reg: 0.0086 (0.0100)  time: 0.4189  data: 0.0219  max mem: 2327\n",
      "Epoch: [19]  [150/407]  eta: 0:01:48  lr: 0.000000  loss: 0.0373 (0.0385)  loss_classifier: 0.0085 (0.0088)  loss_box_reg: 0.0094 (0.0102)  loss_objectness: 0.0082 (0.0095)  loss_rpn_box_reg: 0.0089 (0.0099)  time: 0.4224  data: 0.0227  max mem: 2327\n",
      "Epoch: [19]  [200/407]  eta: 0:01:27  lr: 0.000000  loss: 0.0424 (0.0388)  loss_classifier: 0.0091 (0.0089)  loss_box_reg: 0.0103 (0.0103)  loss_objectness: 0.0097 (0.0095)  loss_rpn_box_reg: 0.0125 (0.0102)  time: 0.4237  data: 0.0230  max mem: 2327\n",
      "Epoch: [19]  [250/407]  eta: 0:01:06  lr: 0.000000  loss: 0.0351 (0.0388)  loss_classifier: 0.0088 (0.0089)  loss_box_reg: 0.0094 (0.0102)  loss_objectness: 0.0078 (0.0097)  loss_rpn_box_reg: 0.0089 (0.0101)  time: 0.4208  data: 0.0219  max mem: 2327\n",
      "Epoch: [19]  [300/407]  eta: 0:00:45  lr: 0.000000  loss: 0.0369 (0.0387)  loss_classifier: 0.0079 (0.0088)  loss_box_reg: 0.0091 (0.0102)  loss_objectness: 0.0088 (0.0096)  loss_rpn_box_reg: 0.0090 (0.0101)  time: 0.4202  data: 0.0216  max mem: 2327\n",
      "Epoch: [19]  [350/407]  eta: 0:00:24  lr: 0.000000  loss: 0.0392 (0.0390)  loss_classifier: 0.0090 (0.0089)  loss_box_reg: 0.0102 (0.0103)  loss_objectness: 0.0093 (0.0098)  loss_rpn_box_reg: 0.0079 (0.0100)  time: 0.4193  data: 0.0216  max mem: 2327\n",
      "Epoch: [19]  [400/407]  eta: 0:00:02  lr: 0.000000  loss: 0.0359 (0.0386)  loss_classifier: 0.0080 (0.0088)  loss_box_reg: 0.0084 (0.0102)  loss_objectness: 0.0089 (0.0097)  loss_rpn_box_reg: 0.0101 (0.0099)  time: 0.4213  data: 0.0222  max mem: 2327\n",
      "Epoch: [19]  [406/407]  eta: 0:00:00  lr: 0.000000  loss: 0.0359 (0.0386)  loss_classifier: 0.0083 (0.0088)  loss_box_reg: 0.0093 (0.0102)  loss_objectness: 0.0089 (0.0097)  loss_rpn_box_reg: 0.0099 (0.0098)  time: 0.4149  data: 0.0217  max mem: 2327\n",
      "Epoch: [19] Total time: 0:02:51 (0.4221 s / it)\n",
      "creating index...\n",
      "index created!\n",
      "Test:  [  0/102]  eta: 0:00:48  model_time: 0.2408 (0.2408)  evaluator_time: 0.0086 (0.0086)  time: 0.4742  data: 0.2041  max mem: 2327\n",
      "Test:  [100/102]  eta: 0:00:00  model_time: 0.1738 (0.1752)  evaluator_time: 0.0057 (0.0060)  time: 0.2076  data: 0.0210  max mem: 2327\n",
      "Test:  [101/102]  eta: 0:00:00  model_time: 0.1738 (0.1746)  evaluator_time: 0.0055 (0.0060)  time: 0.2043  data: 0.0207  max mem: 2327\n",
      "Test: Total time: 0:00:21 (0.2112 s / it)\n",
      "Averaged stats: model_time: 0.1738 (0.1746)  evaluator_time: 0.0055 (0.0060)\n",
      "Accumulating evaluation results...\n",
      "DONE (t=0.09s).\n",
      "IoU metric: bbox\n",
      " Average Precision  (AP) @[ IoU=0.50:0.95 | area=   all | maxDets=100 ] = 0.513\n",
      " Average Precision  (AP) @[ IoU=0.50      | area=   all | maxDets=100 ] = 0.814\n",
      " Average Precision  (AP) @[ IoU=0.75      | area=   all | maxDets=100 ] = 0.625\n",
      " Average Precision  (AP) @[ IoU=0.50:0.95 | area= small | maxDets=100 ] = 0.513\n",
      " Average Precision  (AP) @[ IoU=0.50:0.95 | area=medium | maxDets=100 ] = -1.000\n",
      " Average Precision  (AP) @[ IoU=0.50:0.95 | area= large | maxDets=100 ] = -1.000\n",
      " Average Recall     (AR) @[ IoU=0.50:0.95 | area=   all | maxDets=  1 ] = 0.505\n",
      " Average Recall     (AR) @[ IoU=0.50:0.95 | area=   all | maxDets= 10 ] = 0.688\n",
      " Average Recall     (AR) @[ IoU=0.50:0.95 | area=   all | maxDets=100 ] = 0.688\n",
      " Average Recall     (AR) @[ IoU=0.50:0.95 | area= small | maxDets=100 ] = 0.688\n",
      " Average Recall     (AR) @[ IoU=0.50:0.95 | area=medium | maxDets=100 ] = -1.000\n",
      " Average Recall     (AR) @[ IoU=0.50:0.95 | area= large | maxDets=100 ] = -1.000\n"
     ]
    }
   ],
   "source": [
    "num_epochs = 20\n",
    "for epoch in trange(num_epochs):\n",
    "    # training for one epoch\n",
    "    print(f\"starting epoch {epoch}\")\n",
    "    train_one_epoch(model, optimizer, data_loader, device, epoch, print_freq=50)\n",
    "    # update the learning rate\n",
    "    lr_scheduler.step()\n",
    "    # evaluate on the test dataset\n",
    "    evaluate(model, data_loader_test, device=device)"
   ]
  },
  {
   "cell_type": "markdown",
   "id": "f4f61c30-a2f6-46b3-9ebd-e1ddc6d4054d",
   "metadata": {},
   "source": [
    "#### Save the trained model"
   ]
  },
  {
   "cell_type": "code",
   "execution_count": 39,
   "id": "55436fd2-bcf4-451d-a1ba-82e0cd65ee5b",
   "metadata": {},
   "outputs": [],
   "source": [
    "model_save_path = '/mnt/ceph/home/wj1132075/Desktop/CNN_Model_Data/fasterrcnn_resnet50_fpn_trained_from_beginning.pt'"
   ]
  },
  {
   "cell_type": "code",
   "execution_count": 40,
   "id": "f27cd633-3dd9-46b0-8ae4-60f9e6194075",
   "metadata": {},
   "outputs": [],
   "source": [
    "tc.save(model.state_dict(), model_save_path)"
   ]
  },
  {
   "cell_type": "code",
   "execution_count": 41,
   "id": "93dd71e2-dc2a-467d-a423-7eb292881057",
   "metadata": {},
   "outputs": [
    {
     "name": "stdout",
     "output_type": "stream",
     "text": [
      "predicted #boxes:  2\n",
      "real #boxes:  1\n"
     ]
    }
   ],
   "source": [
    "# pick one image from the test set\n",
    "img, target = dataset_test[5]\n",
    "# put the model in evaluation mode\n",
    "model.eval()\n",
    "with tc.no_grad():\n",
    "    prediction = model([img.to(device)])[0]\n",
    "    \n",
    "print('predicted #boxes: ', len(prediction['labels']))\n",
    "print('real #boxes: ', len(target['labels']))"
   ]
  },
  {
   "cell_type": "code",
   "execution_count": 42,
   "id": "2108cabc-3774-4fd1-be37-5c9a2281bf77",
   "metadata": {},
   "outputs": [
    {
     "data": {
      "text/plain": [
       "{'boxes': tensor([[  91.8619, 1164.8572,   95.9106, 1184.7878],\n",
       "         [  16.0818, 1159.8302,   19.7514, 1179.4700]], device='cuda:0'),\n",
       " 'labels': tensor([1, 1], device='cuda:0'),\n",
       " 'scores': tensor([0.9607, 0.9529], device='cuda:0')}"
      ]
     },
     "execution_count": 42,
     "metadata": {},
     "output_type": "execute_result"
    }
   ],
   "source": [
    "prediction"
   ]
  },
  {
   "cell_type": "code",
   "execution_count": 43,
   "id": "9f5f0515-c301-4b23-9a89-2194606e3e58",
   "metadata": {},
   "outputs": [
    {
     "data": {
      "text/plain": [
       "{'boxes': tensor([[  92., 1163.,   96., 1183.]]),\n",
       " 'labels': tensor([1]),\n",
       " 'area': tensor([80.]),\n",
       " 'iscrowd': tensor([0]),\n",
       " 'image_id': 1164}"
      ]
     },
     "execution_count": 43,
     "metadata": {},
     "output_type": "execute_result"
    }
   ],
   "source": [
    "target"
   ]
  },
  {
   "cell_type": "code",
   "execution_count": 44,
   "id": "eba50a49-7b7b-4dbb-b810-c64d62f10d42",
   "metadata": {},
   "outputs": [
    {
     "data": {
      "text/plain": [
       "{'boxes': tensor([[  91.8619, 1164.8572,   95.9106, 1184.7878],\n",
       "         [  16.0818, 1159.8302,   19.7514, 1179.4700]], device='cuda:0'),\n",
       " 'labels': tensor([1, 1], device='cuda:0'),\n",
       " 'scores': tensor([0.9607, 0.9529], device='cuda:0')}"
      ]
     },
     "execution_count": 44,
     "metadata": {},
     "output_type": "execute_result"
    }
   ],
   "source": [
    "nms_prediction = apply_nms(prediction, iou_thresh=0.2)\n",
    "nms_prediction"
   ]
  },
  {
   "cell_type": "code",
   "execution_count": 45,
   "id": "6edfbc53-54bc-49f6-91d2-59992da8cf2b",
   "metadata": {},
   "outputs": [
    {
     "data": {
      "text/plain": [
       "torch.Size([3, 1520, 128])"
      ]
     },
     "execution_count": 45,
     "metadata": {},
     "output_type": "execute_result"
    }
   ],
   "source": [
    "img.shape"
   ]
  },
  {
   "cell_type": "code",
   "execution_count": 46,
   "id": "e4af5bf9-b57d-4e25-b72d-7b1708e30d49",
   "metadata": {},
   "outputs": [
    {
     "data": {
      "image/png": "[encoded data removed]",
      "text/plain": [
       "<Figure size 600x600 with 2 Axes>"
      ]
     },
     "metadata": {},
     "output_type": "display_data"
    }
   ],
   "source": [
    "plot_bin(img[0,:,:], target['boxes'], 0)"
   ]
  },
  {
   "cell_type": "code",
   "execution_count": 47,
   "id": "71026d88-3a7b-4b4e-a824-c2b2dc21e153",
   "metadata": {},
   "outputs": [
    {
     "data": {
      "image/png": "[encoded data removed]",
      "text/plain": [
       "<Figure size 600x600 with 2 Axes>"
      ]
     },
     "metadata": {},
     "output_type": "display_data"
    }
   ],
   "source": [
    "plot_bin(img[0,:,:], nms_prediction['boxes'].cpu(), 0)"
   ]
  },
  {
   "cell_type": "markdown",
   "id": "65c9ac42-4cc9-460f-a102-31785fb8af4a",
   "metadata": {},
   "source": [
    "### Load the model from disk"
   ]
  },
  {
   "cell_type": "code",
   "execution_count": 48,
   "id": "64fd5ac7-4dfa-4197-8cfa-13211f367396",
   "metadata": {},
   "outputs": [
    {
     "name": "stderr",
     "output_type": "stream",
     "text": [
      "/home/wj1132075/.conda/envs/cuda_1/lib/python3.10/site-packages/torchvision/models/_utils.py:223: UserWarning: Arguments other than a weight enum or `None` for 'weights' are deprecated since 0.13 and may be removed in the future. The current behavior is equivalent to passing `weights=FasterRCNN_ResNet50_FPN_Weights.COCO_V1`. You can also use `weights=FasterRCNN_ResNet50_FPN_Weights.DEFAULT` to get the most up-to-date weights.\n",
      "  warnings.warn(msg)\n"
     ]
    }
   ],
   "source": [
    "r_model = get_object_detection_model(num_classes)\n",
    "# r_model.load_state_dict(tc.load(model_save_path))\n",
    "r_model.load_state_dict(tc.load(model_save_path, map_location=tc.device('cpu')))\n",
    "r_model = r_model.to(device)"
   ]
  },
  {
   "cell_type": "code",
   "execution_count": 49,
   "id": "fe2eda71-c235-4d18-b9a3-263f6a0f6811",
   "metadata": {
    "scrolled": true
   },
   "outputs": [
    {
     "data": {
      "text/plain": [
       "{'boxes': tensor([[101.0581, 530.6974, 104.5550, 550.7758]], device='cuda:0'),\n",
       " 'labels': tensor([1], device='cuda:0'),\n",
       " 'scores': tensor([0.9593], device='cuda:0')}"
      ]
     },
     "execution_count": 49,
     "metadata": {},
     "output_type": "execute_result"
    }
   ],
   "source": [
    "img, target = dataset_test[100]\n",
    "r_model.eval()\n",
    "with tc.no_grad():\n",
    "    prediction = r_model([img.to(device)])[0]\n",
    "prediction"
   ]
  },
  {
   "cell_type": "code",
   "execution_count": 50,
   "id": "40ae0dc9-51b9-4cbb-8eff-6a551cefa762",
   "metadata": {},
   "outputs": [
    {
     "data": {
      "text/plain": [
       "{'boxes': tensor([[101.0581, 530.6974, 104.5550, 550.7758]], device='cuda:0'),\n",
       " 'labels': tensor([1], device='cuda:0'),\n",
       " 'scores': tensor([0.9593], device='cuda:0')}"
      ]
     },
     "execution_count": 50,
     "metadata": {},
     "output_type": "execute_result"
    }
   ],
   "source": [
    "nms_prediction = apply_nms(prediction, iou_thresh=0.2)\n",
    "nms_prediction"
   ]
  },
  {
   "cell_type": "code",
   "execution_count": 51,
   "id": "5e784f96-91ee-4c7b-8815-25aa7fe1017f",
   "metadata": {},
   "outputs": [
    {
     "data": {
      "image/png": "[encoded data removed]",
      "text/plain": [
       "<Figure size 600x600 with 2 Axes>"
      ]
     },
     "metadata": {},
     "output_type": "display_data"
    }
   ],
   "source": [
    "plot_bin(img[0,:,:], nms_prediction['boxes'].cpu(), 0)"
   ]
  },
  {
   "cell_type": "code",
   "execution_count": 52,
   "id": "df8fe284-9e96-42f2-8492-5e49f509fba5",
   "metadata": {},
   "outputs": [
    {
     "name": "stdout",
     "output_type": "stream",
     "text": [
      "{'boxes': tensor([[ 104.9527, 1249.8673,  108.8800, 1270.0131],\n",
      "        [   3.3800, 1256.7267,    7.3418, 1276.8212]], device='cuda:0'), 'labels': tensor([1, 1], device='cuda:0'), 'scores': tensor([0.9763, 0.5133], device='cuda:0')}\n",
      "{'boxes': tensor([[ 104.9527, 1249.8673,  108.8800, 1270.0131],\n",
      "        [   3.3800, 1256.7267,    7.3418, 1276.8212]], device='cuda:0'), 'labels': tensor([1, 1], device='cuda:0'), 'scores': tensor([0.9763, 0.5133], device='cuda:0')}\n"
     ]
    },
    {
     "ename": "IndexError",
     "evalue": "too many indices for tensor of dimension 2",
     "output_type": "error",
     "traceback": [
      "\u001b[0;31m---------------------------------------------------------------------------\u001b[0m",
      "\u001b[0;31mIndexError\u001b[0m                                Traceback (most recent call last)",
      "Cell \u001b[0;32mIn[52], line 12\u001b[0m\n\u001b[1;32m     10\u001b[0m         nms_prediction \u001b[38;5;241m=\u001b[39m apply_nms(prediction, iou_thresh\u001b[38;5;241m=\u001b[39m\u001b[38;5;241m0.001\u001b[39m)\n\u001b[1;32m     11\u001b[0m         \u001b[38;5;28mprint\u001b[39m(nms_prediction)\n\u001b[0;32m---> 12\u001b[0m         \u001b[43mplot_bin_detections\u001b[49m\u001b[43m(\u001b[49m\u001b[43mimg\u001b[49m\u001b[43m[\u001b[49m\u001b[38;5;241;43m0\u001b[39;49m\u001b[43m,\u001b[49m\u001b[43m:\u001b[49m\u001b[43m,\u001b[49m\u001b[43m:\u001b[49m\u001b[43m]\u001b[49m\u001b[43m,\u001b[49m\u001b[43m \u001b[49m\u001b[43mtarget\u001b[49m\u001b[43m[\u001b[49m\u001b[38;5;124;43m'\u001b[39;49m\u001b[38;5;124;43mboxes\u001b[39;49m\u001b[38;5;124;43m'\u001b[39;49m\u001b[43m]\u001b[49m\u001b[43m,\u001b[49m\u001b[43m \u001b[49m\u001b[43mnms_prediction\u001b[49m\u001b[43m[\u001b[49m\u001b[38;5;124;43m'\u001b[39;49m\u001b[38;5;124;43mboxes\u001b[39;49m\u001b[38;5;124;43m'\u001b[39;49m\u001b[43m]\u001b[49m\u001b[38;5;241;43m.\u001b[39;49m\u001b[43mcpu\u001b[49m\u001b[43m(\u001b[49m\u001b[43m)\u001b[49m\u001b[43m)\u001b[49m\n\u001b[1;32m     13\u001b[0m         probe \u001b[38;5;241m+\u001b[39m\u001b[38;5;241m=\u001b[39m \u001b[38;5;241m1\u001b[39m\n\u001b[1;32m     15\u001b[0m \u001b[38;5;28;01mif\u001b[39;00m probe \u001b[38;5;241m==\u001b[39m \u001b[38;5;241m1\u001b[39m:\n",
      "File \u001b[0;32m/mnt/ceph/home/wj1132075/Desktop/CNN_Model_Data/wish_utils.py:96\u001b[0m, in \u001b[0;36mplot_bin_detections\u001b[0;34m(bin_data, real_boxes, predicted_boxes, score_threshold)\u001b[0m\n\u001b[1;32m     93\u001b[0m     ax\u001b[38;5;241m.\u001b[39madd_patch(rect)\n\u001b[1;32m     95\u001b[0m plotted_predictions \u001b[38;5;241m=\u001b[39m \u001b[38;5;241m0\u001b[39m\n\u001b[0;32m---> 96\u001b[0m \u001b[38;5;28;01mfor\u001b[39;00m pred, score \u001b[38;5;129;01min\u001b[39;00m \u001b[38;5;28mzip\u001b[39m(\u001b[43mpredicted_boxes\u001b[49m\u001b[43m[\u001b[49m\u001b[38;5;124;43m'\u001b[39;49m\u001b[38;5;124;43mboxes\u001b[39;49m\u001b[38;5;124;43m'\u001b[39;49m\u001b[43m]\u001b[49m, predicted_boxes[\u001b[38;5;124m'\u001b[39m\u001b[38;5;124mscores\u001b[39m\u001b[38;5;124m'\u001b[39m]):\n\u001b[1;32m     97\u001b[0m     \u001b[38;5;28mprint\u001b[39m(pred, score)\n\u001b[1;32m     98\u001b[0m     \u001b[38;5;28;01mif\u001b[39;00m score \u001b[38;5;241m<\u001b[39m score_threshold:\n",
      "\u001b[0;31mIndexError\u001b[0m: too many indices for tensor of dimension 2"
     ]
    },
    {
     "data": {
      "image/png": "[encoded data removed]",
      "text/plain": [
       "<Figure size 600x600 with 2 Axes>"
      ]
     },
     "metadata": {},
     "output_type": "display_data"
    }
   ],
   "source": [
    "r_model.eval()\n",
    "probe = 0\n",
    "for img, target in data_loader_test:\n",
    "    imgs = list(img)\n",
    "    targets = list(target)\n",
    "    with tc.no_grad():\n",
    "        for img, target in zip(imgs, targets):\n",
    "            prediction = r_model([img.to(device)])[0]\n",
    "            print(prediction)\n",
    "            nms_prediction = apply_nms(prediction, iou_thresh=0.001)\n",
    "            print(nms_prediction)\n",
    "            plot_bin_detections(img[0,:,:], target['boxes'], nms_prediction)\n",
    "            probe += 1\n",
    "\n",
    "    if probe == 1:\n",
    "        break"
   ]
  },
  {
   "cell_type": "code",
   "execution_count": null,
   "id": "f2e582c5-37f4-48d5-b197-3810c795d53e",
   "metadata": {},
   "outputs": [],
   "source": [
    "for a,b in data_loader_test:\n",
    "    a = list(a)\n",
    "    b = list(b)\n",
    "    print(a)\n",
    "    print(b)\n",
    "    break"
   ]
  }
 ],
 "metadata": {
  "kernelspec": {
   "display_name": "Python 3 (ipykernel)",
   "language": "python",
   "name": "python3"
  },
  "language_info": {
   "codemirror_mode": {
    "name": "ipython",
    "version": 3
   },
   "file_extension": ".py",
   "mimetype": "text/x-python",
   "name": "python",
   "nbconvert_exporter": "python",
   "pygments_lexer": "ipython3",
   "version": "3.10.13"
  }
 },
 "nbformat": 4,
 "nbformat_minor": 5
}
