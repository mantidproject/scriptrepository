{
 "cells": [
  {
   "cell_type": "code",
   "execution_count": 1,
   "id": "796120de-bf8b-42b5-ad27-16f7b74cec9f",
   "metadata": {
    "tags": []
   },
   "outputs": [],
   "source": [
    "# !pip install pycocotools --quiet\n",
    "# !git clone https://github.com/pytorch/vision.git\n",
    "# !git checkout v0.3.0\n",
    "\n",
    "# !cp vision/references/detection/utils.py ./\n",
    "# !cp vision/references/detection/transforms.py ./\n",
    "# !cp vision/references/detection/coco_eval.py ./\n",
    "# !cp vision/references/detection/engine.py ./\n",
    "# !cp vision/references/detection/coco_utils.py ./"
   ]
  },
  {
   "cell_type": "code",
   "execution_count": 2,
   "id": "4cbb0bcf-e67f-482e-b373-1875a420410b",
   "metadata": {
    "tags": []
   },
   "outputs": [],
   "source": [
    "import os\n",
    "import numpy as np\n",
    "import torch as tc\n",
    "import torchvision\n",
    "from torchvision import transforms\n",
    "import matplotlib.pyplot as plt\n",
    "import matplotlib.patches as patches\n",
    "from tqdm.notebook import tqdm, trange\n",
    "import pickle\n",
    "\n",
    "import albumentations as A\n",
    "from albumentations.pytorch.transforms import ToTensorV2\n",
    "\n",
    "from torchvision.models.detection.faster_rcnn import FastRCNNPredictor\n",
    "\n",
    "# these are the helper libraries imported.\n",
    "from engine import train_one_epoch, evaluate\n",
    "import utils\n",
    "# import transforms as T\n",
    "#import cv2\n",
    "from WishDataSet import WishDataSet, get_transform\n",
    "from wish_utils import *"
   ]
  },
  {
   "cell_type": "code",
   "execution_count": 3,
   "id": "8977efa9-00f7-4515-9776-e8fec58d3bfa",
   "metadata": {
    "tags": []
   },
   "outputs": [
    {
     "data": {
      "text/plain": [
       "'2.2.1+cu118'"
      ]
     },
     "execution_count": 3,
     "metadata": {},
     "output_type": "execute_result"
    }
   ],
   "source": [
    "tc.__version__"
   ]
  },
  {
   "cell_type": "code",
   "execution_count": 4,
   "id": "68a29720-689f-4a3f-a716-383493c408a6",
   "metadata": {
    "tags": []
   },
   "outputs": [
    {
     "data": {
      "text/plain": [
       "(True, 2)"
      ]
     },
     "execution_count": 4,
     "metadata": {},
     "output_type": "execute_result"
    }
   ],
   "source": [
    "tc.cuda.is_available(), tc.cuda.device_count()"
   ]
  },
  {
   "cell_type": "code",
   "execution_count": 5,
   "id": "3b6f5234-04f0-43db-99cc-9d5a4aa17f89",
   "metadata": {
    "tags": []
   },
   "outputs": [
    {
     "name": "stdout",
     "output_type": "stream",
     "text": [
      "Thu Mar  7 16:24:28 2024       \n",
      "+-----------------------------------------------------------------------------------------+\n",
      "| NVIDIA-SMI 550.54.14              Driver Version: 550.54.14      CUDA Version: 12.4     |\n",
      "|-----------------------------------------+------------------------+----------------------+\n",
      "| GPU  Name                 Persistence-M | Bus-Id          Disp.A | Volatile Uncorr. ECC |\n",
      "| Fan  Temp   Perf          Pwr:Usage/Cap |           Memory-Usage | GPU-Util  Compute M. |\n",
      "|                                         |                        |               MIG M. |\n",
      "|=========================================+========================+======================|\n",
      "|   0  Quadro RTX 4000                Off |   00000000:04:00.0 Off |                  N/A |\n",
      "| 31%   49C    P8             15W /  125W |    3355MiB /   8192MiB |      7%      Default |\n",
      "|                                         |                        |                  N/A |\n",
      "+-----------------------------------------+------------------------+----------------------+\n",
      "|   1  Quadro RTX 4000                Off |   00000000:05:00.0 Off |                  N/A |\n",
      "| 30%   26C    P8              9W /  125W |       4MiB /   8192MiB |      0%      Default |\n",
      "|                                         |                        |                  N/A |\n",
      "+-----------------------------------------+------------------------+----------------------+\n",
      "                                                                                         \n",
      "+-----------------------------------------------------------------------------------------+\n",
      "| Processes:                                                                              |\n",
      "|  GPU   GI   CI        PID   Type   Process name                              GPU Memory |\n",
      "|        ID   ID                                                               Usage      |\n",
      "|=========================================================================================|\n",
      "|    0   N/A  N/A     49955      G   /usr/libexec/Xorg                              89MiB |\n",
      "|    0   N/A  N/A     50065      G   /usr/bin/gnome-shell                            2MiB |\n",
      "|    0   N/A  N/A    195810      G   xfwm4                                           2MiB |\n",
      "|    0   N/A  N/A    196410      G   /usr/lib64/firefox/firefox                    151MiB |\n",
      "|    0   N/A  N/A    196882      C   ...5/.conda/envs/cuda_1/bin/python3.10       3102MiB |\n",
      "+-----------------------------------------------------------------------------------------+\n"
     ]
    }
   ],
   "source": [
    "!nvidia-smi"
   ]
  },
  {
   "cell_type": "code",
   "execution_count": 6,
   "id": "c79e2dfe-7ff5-4723-9488-c11ef781851c",
   "metadata": {
    "tags": []
   },
   "outputs": [
    {
     "data": {
      "text/plain": [
       "(0, <torch.cuda.device at 0x7f4fdfaca4d0>, 'Quadro RTX 4000')"
      ]
     },
     "execution_count": 6,
     "metadata": {},
     "output_type": "execute_result"
    }
   ],
   "source": [
    "tc.cuda.current_device(), tc.cuda.device(0), tc.cuda.get_device_name()"
   ]
  },
  {
   "cell_type": "code",
   "execution_count": 7,
   "id": "230f63f8-12f7-4977-b24b-f3cb26b56941",
   "metadata": {},
   "outputs": [],
   "source": [
    "# f = \"/home/wj1132075/Desktop/CNN_Model_Data/Annotations/annot_56_25.pickle\"\n",
    "# with open(f, 'rb') as handle:\n",
    "#     annot_dict = pickle.load(handle)\n",
    "#     bin_data = np.load(annot_dict['nparr_path'])['arr_0']\n",
    "#     # img_res = np.tile(bin_data[:,:,None], 3)\n",
    "#     bin_data = cv2.normalize(bin_data, None, 0, 255, cv2.NORM_MINMAX, dtype=cv2.CV_8U)\n",
    "    \n",
    "#     # img_res = cv2.resize(img_res, (128, 128), cv2.INTER_AREA)"
   ]
  },
  {
   "cell_type": "code",
   "execution_count": 8,
   "id": "67541ad8-3d03-4118-a20d-0779af1a344d",
   "metadata": {},
   "outputs": [
    {
     "data": {
      "text/plain": [
       "2000"
      ]
     },
     "execution_count": 8,
     "metadata": {},
     "output_type": "execute_result"
    }
   ],
   "source": [
    "# annotations_dir = \"/home/wj1132075/Desktop/CNN_Model_Data/PeakDataInFullRange/Annotations/\"\n",
    "annotations_dir = \"/home/wj1132075/Desktop/CNN_Model_Data/PeakDataOnlyAtCenter/Annotations/\"\n",
    "ds = WishDataSet(annotations_dir)\n",
    "len(ds)"
   ]
  },
  {
   "cell_type": "code",
   "execution_count": 9,
   "id": "373b461d-6254-4568-a948-ff5818e3dac7",
   "metadata": {},
   "outputs": [
    {
     "data": {
      "text/plain": [
       "(numpy.ndarray, dict)"
      ]
     },
     "execution_count": 9,
     "metadata": {},
     "output_type": "execute_result"
    }
   ],
   "source": [
    "im, tar = ds[0]\n",
    "type(im), type(tar)"
   ]
  },
  {
   "cell_type": "code",
   "execution_count": 10,
   "id": "a39610ba-d165-423f-970b-34c6f911ee76",
   "metadata": {
    "tags": []
   },
   "outputs": [
    {
     "data": {
      "text/plain": [
       "(1520, 128, 3)"
      ]
     },
     "execution_count": 10,
     "metadata": {},
     "output_type": "execute_result"
    }
   ],
   "source": [
    "im.shape"
   ]
  },
  {
   "cell_type": "code",
   "execution_count": 11,
   "id": "f9db6f8c-5aa2-4a72-ad4e-d3667ce27f39",
   "metadata": {
    "tags": []
   },
   "outputs": [
    {
     "data": {
      "text/plain": [
       "{'boxes': tensor([[ 0., 62.,  7., 68.]]),\n",
       " 'labels': tensor([1]),\n",
       " 'area': tensor([42.]),\n",
       " 'iscrowd': tensor([0]),\n",
       " 'image_id': 0}"
      ]
     },
     "execution_count": 11,
     "metadata": {},
     "output_type": "execute_result"
    }
   ],
   "source": [
    "tar"
   ]
  },
  {
   "cell_type": "markdown",
   "id": "b2afbd39-7be8-47a8-aa08-ab9e68c19a12",
   "metadata": {},
   "source": [
    "### See bins and boxes"
   ]
  },
  {
   "cell_type": "code",
   "execution_count": 12,
   "id": "4814da2b-e298-404e-b3fd-fdce6810922a",
   "metadata": {
    "tags": []
   },
   "outputs": [
    {
     "data": {
      "image/png": "[encoded data removed]",
      "text/plain": [
       "<Figure size 600x600 with 2 Axes>"
      ]
     },
     "metadata": {},
     "output_type": "display_data"
    },
    {
     "data": {
      "image/png": "[encoded data removed]",
      "text/plain": [
       "<Figure size 600x600 with 2 Axes>"
      ]
     },
     "metadata": {},
     "output_type": "display_data"
    },
    {
     "data": {
      "image/png": "[encoded data removed]",
      "text/plain": [
       "<Figure size 600x600 with 2 Axes>"
      ]
     },
     "metadata": {},
     "output_type": "display_data"
    },
    {
     "data": {
      "image/png": "[encoded data removed]",
      "text/plain": [
       "<Figure size 600x600 with 2 Axes>"
      ]
     },
     "metadata": {},
     "output_type": "display_data"
    },
    {
     "data": {
      "image/png": "[encoded data removed]",
      "text/plain": [
       "<Figure size 600x600 with 2 Axes>"
      ]
     },
     "metadata": {},
     "output_type": "display_data"
    }
   ],
   "source": [
    "i=0\n",
    "for (im, tar) in ds:\n",
    "    plot_bin(im[:,:,0], tar['boxes'], i)\n",
    "    i+=1\n",
    "    if i == 5:\n",
    "        break"
   ]
  },
  {
   "cell_type": "markdown",
   "id": "6e37e91b-b2b6-4098-8bcf-ee2951df337c",
   "metadata": {},
   "source": [
    "### Calculate the stats"
   ]
  },
  {
   "cell_type": "markdown",
   "id": "3948cd47-1b06-46eb-8062-ec167beeccfd",
   "metadata": {
    "tags": []
   },
   "source": [
    "dl = tc.utils.data.DataLoader(ds, batch_size=100, shuffle=False, num_workers=2, collate_fn=utils.collate_fn)\n",
    "stats = get_stats(dl)\n",
    "stats"
   ]
  },
  {
   "cell_type": "code",
   "execution_count": 13,
   "id": "a81bffc0-91d8-46f9-93b2-a68496369e6f",
   "metadata": {
    "tags": []
   },
   "outputs": [
    {
     "data": {
      "text/plain": [
       "(array([1.47101333, 1.47101333, 1.47101333]),\n",
       " array([4.50738405, 4.50738405, 4.50738405]))"
      ]
     },
     "execution_count": 13,
     "metadata": {},
     "output_type": "execute_result"
    }
   ],
   "source": [
    "# statsold = (np.array([1.26653515, 1.26653515, 1.26653515]), np.array([4.59509826, 4.59509826, 4.59509826]))\n",
    "stats = (np.array([1.47101333, 1.47101333, 1.47101333]), np.array([4.50738405, 4.50738405, 4.50738405]))\n",
    "stats"
   ]
  },
  {
   "cell_type": "markdown",
   "id": "63b9adf2-5ae3-4864-af50-49bc2105d5f3",
   "metadata": {},
   "source": [
    "### Training and test data sets"
   ]
  },
  {
   "cell_type": "code",
   "execution_count": 14,
   "id": "74c5888e-2e47-476e-a089-9cf9f4e34e4d",
   "metadata": {},
   "outputs": [],
   "source": [
    "# stats=None\n",
    "dataset = WishDataSet(annotations_dir, transforms=get_transform(train=True))\n",
    "dataset_test = WishDataSet(annotations_dir, transforms=get_transform(train=False))"
   ]
  },
  {
   "cell_type": "code",
   "execution_count": 15,
   "id": "e4aa0b98-d5c4-490f-a936-b69f86cfac1b",
   "metadata": {},
   "outputs": [],
   "source": [
    "# split the dataset in train and test set\n",
    "tc.manual_seed(1)\n",
    "indices = tc.randperm(len(dataset)).tolist()\n",
    "\n",
    "# train test split\n",
    "test_split = 0.2\n",
    "tsize = int(len(dataset)*test_split)\n",
    "dataset = tc.utils.data.Subset(dataset, indices[:-tsize])\n",
    "dataset_test = tc.utils.data.Subset(dataset_test, indices[-tsize:])\n",
    "\n",
    "# define training and validation data loaders\n",
    "data_loader = tc.utils.data.DataLoader(dataset, batch_size=8, shuffle=True, num_workers=2, collate_fn=utils.collate_fn)\n",
    "data_loader_test = tc.utils.data.DataLoader(dataset_test, batch_size=8, shuffle=False, num_workers=2, collate_fn=utils.collate_fn)"
   ]
  },
  {
   "cell_type": "markdown",
   "id": "4ff368c7-fdb7-4e56-b04a-0080683b8c92",
   "metadata": {},
   "source": [
    "### Model Training"
   ]
  },
  {
   "cell_type": "code",
   "execution_count": 16,
   "id": "d7340fda-14ec-44ff-8302-78f8c7e0e15c",
   "metadata": {},
   "outputs": [],
   "source": [
    "# to train on gpu if selected.\n",
    "device = tc.device('cuda:1') if tc.cuda.is_available() else tc.device('cpu')\n",
    "\n",
    "num_classes = 2\n",
    "\n",
    "# model = get_model(model=torchvision.models.detection.fasterrcnn_mobilenet_v3_large_320_fpn(weights=torchvision.models.detection.FasterRCNN_MobileNet_V3_Large_320_FPN_Weights.DEFAULT),\n",
    "#                  num_classes=2,\n",
    "#                  stats=None)\n",
    "# model = torchvision.models.detection.fasterrcnn_resnet50_fpn(weights=torchvision.models.detection.FasterRCNN_ResNet50_FPN_Weights.DEFAULT)\n",
    "model = torchvision.models.detection.fasterrcnn_resnet50_fpn(weights=None)\n",
    "\n",
    "in_features = model.roi_heads.box_predictor.cls_score.in_features\n",
    "model.roi_heads.box_predictor = FastRCNNPredictor(in_features, num_classes)"
   ]
  },
  {
   "cell_type": "code",
   "execution_count": 17,
   "id": "bcf567b3-838d-4b94-b16e-997f25c6a781",
   "metadata": {
    "scrolled": true
   },
   "outputs": [
    {
     "data": {
      "text/plain": [
       "FasterRCNN(\n",
       "  (transform): GeneralizedRCNNTransform(\n",
       "      Normalize(mean=[0.485, 0.456, 0.406], std=[0.229, 0.224, 0.225])\n",
       "      Resize(min_size=(800,), max_size=1333, mode='bilinear')\n",
       "  )\n",
       "  (backbone): BackboneWithFPN(\n",
       "    (body): IntermediateLayerGetter(\n",
       "      (conv1): Conv2d(3, 64, kernel_size=(7, 7), stride=(2, 2), padding=(3, 3), bias=False)\n",
       "      (bn1): FrozenBatchNorm2d(64, eps=1e-05)\n",
       "      (relu): ReLU(inplace=True)\n",
       "      (maxpool): MaxPool2d(kernel_size=3, stride=2, padding=1, dilation=1, ceil_mode=False)\n",
       "      (layer1): Sequential(\n",
       "        (0): Bottleneck(\n",
       "          (conv1): Conv2d(64, 64, kernel_size=(1, 1), stride=(1, 1), bias=False)\n",
       "          (bn1): FrozenBatchNorm2d(64, eps=1e-05)\n",
       "          (conv2): Conv2d(64, 64, kernel_size=(3, 3), stride=(1, 1), padding=(1, 1), bias=False)\n",
       "          (bn2): FrozenBatchNorm2d(64, eps=1e-05)\n",
       "          (conv3): Conv2d(64, 256, kernel_size=(1, 1), stride=(1, 1), bias=False)\n",
       "          (bn3): FrozenBatchNorm2d(256, eps=1e-05)\n",
       "          (relu): ReLU(inplace=True)\n",
       "          (downsample): Sequential(\n",
       "            (0): Conv2d(64, 256, kernel_size=(1, 1), stride=(1, 1), bias=False)\n",
       "            (1): FrozenBatchNorm2d(256, eps=1e-05)\n",
       "          )\n",
       "        )\n",
       "        (1): Bottleneck(\n",
       "          (conv1): Conv2d(256, 64, kernel_size=(1, 1), stride=(1, 1), bias=False)\n",
       "          (bn1): FrozenBatchNorm2d(64, eps=1e-05)\n",
       "          (conv2): Conv2d(64, 64, kernel_size=(3, 3), stride=(1, 1), padding=(1, 1), bias=False)\n",
       "          (bn2): FrozenBatchNorm2d(64, eps=1e-05)\n",
       "          (conv3): Conv2d(64, 256, kernel_size=(1, 1), stride=(1, 1), bias=False)\n",
       "          (bn3): FrozenBatchNorm2d(256, eps=1e-05)\n",
       "          (relu): ReLU(inplace=True)\n",
       "        )\n",
       "        (2): Bottleneck(\n",
       "          (conv1): Conv2d(256, 64, kernel_size=(1, 1), stride=(1, 1), bias=False)\n",
       "          (bn1): FrozenBatchNorm2d(64, eps=1e-05)\n",
       "          (conv2): Conv2d(64, 64, kernel_size=(3, 3), stride=(1, 1), padding=(1, 1), bias=False)\n",
       "          (bn2): FrozenBatchNorm2d(64, eps=1e-05)\n",
       "          (conv3): Conv2d(64, 256, kernel_size=(1, 1), stride=(1, 1), bias=False)\n",
       "          (bn3): FrozenBatchNorm2d(256, eps=1e-05)\n",
       "          (relu): ReLU(inplace=True)\n",
       "        )\n",
       "      )\n",
       "      (layer2): Sequential(\n",
       "        (0): Bottleneck(\n",
       "          (conv1): Conv2d(256, 128, kernel_size=(1, 1), stride=(1, 1), bias=False)\n",
       "          (bn1): FrozenBatchNorm2d(128, eps=1e-05)\n",
       "          (conv2): Conv2d(128, 128, kernel_size=(3, 3), stride=(2, 2), padding=(1, 1), bias=False)\n",
       "          (bn2): FrozenBatchNorm2d(128, eps=1e-05)\n",
       "          (conv3): Conv2d(128, 512, kernel_size=(1, 1), stride=(1, 1), bias=False)\n",
       "          (bn3): FrozenBatchNorm2d(512, eps=1e-05)\n",
       "          (relu): ReLU(inplace=True)\n",
       "          (downsample): Sequential(\n",
       "            (0): Conv2d(256, 512, kernel_size=(1, 1), stride=(2, 2), bias=False)\n",
       "            (1): FrozenBatchNorm2d(512, eps=1e-05)\n",
       "          )\n",
       "        )\n",
       "        (1): Bottleneck(\n",
       "          (conv1): Conv2d(512, 128, kernel_size=(1, 1), stride=(1, 1), bias=False)\n",
       "          (bn1): FrozenBatchNorm2d(128, eps=1e-05)\n",
       "          (conv2): Conv2d(128, 128, kernel_size=(3, 3), stride=(1, 1), padding=(1, 1), bias=False)\n",
       "          (bn2): FrozenBatchNorm2d(128, eps=1e-05)\n",
       "          (conv3): Conv2d(128, 512, kernel_size=(1, 1), stride=(1, 1), bias=False)\n",
       "          (bn3): FrozenBatchNorm2d(512, eps=1e-05)\n",
       "          (relu): ReLU(inplace=True)\n",
       "        )\n",
       "        (2): Bottleneck(\n",
       "          (conv1): Conv2d(512, 128, kernel_size=(1, 1), stride=(1, 1), bias=False)\n",
       "          (bn1): FrozenBatchNorm2d(128, eps=1e-05)\n",
       "          (conv2): Conv2d(128, 128, kernel_size=(3, 3), stride=(1, 1), padding=(1, 1), bias=False)\n",
       "          (bn2): FrozenBatchNorm2d(128, eps=1e-05)\n",
       "          (conv3): Conv2d(128, 512, kernel_size=(1, 1), stride=(1, 1), bias=False)\n",
       "          (bn3): FrozenBatchNorm2d(512, eps=1e-05)\n",
       "          (relu): ReLU(inplace=True)\n",
       "        )\n",
       "        (3): Bottleneck(\n",
       "          (conv1): Conv2d(512, 128, kernel_size=(1, 1), stride=(1, 1), bias=False)\n",
       "          (bn1): FrozenBatchNorm2d(128, eps=1e-05)\n",
       "          (conv2): Conv2d(128, 128, kernel_size=(3, 3), stride=(1, 1), padding=(1, 1), bias=False)\n",
       "          (bn2): FrozenBatchNorm2d(128, eps=1e-05)\n",
       "          (conv3): Conv2d(128, 512, kernel_size=(1, 1), stride=(1, 1), bias=False)\n",
       "          (bn3): FrozenBatchNorm2d(512, eps=1e-05)\n",
       "          (relu): ReLU(inplace=True)\n",
       "        )\n",
       "      )\n",
       "      (layer3): Sequential(\n",
       "        (0): Bottleneck(\n",
       "          (conv1): Conv2d(512, 256, kernel_size=(1, 1), stride=(1, 1), bias=False)\n",
       "          (bn1): FrozenBatchNorm2d(256, eps=1e-05)\n",
       "          (conv2): Conv2d(256, 256, kernel_size=(3, 3), stride=(2, 2), padding=(1, 1), bias=False)\n",
       "          (bn2): FrozenBatchNorm2d(256, eps=1e-05)\n",
       "          (conv3): Conv2d(256, 1024, kernel_size=(1, 1), stride=(1, 1), bias=False)\n",
       "          (bn3): FrozenBatchNorm2d(1024, eps=1e-05)\n",
       "          (relu): ReLU(inplace=True)\n",
       "          (downsample): Sequential(\n",
       "            (0): Conv2d(512, 1024, kernel_size=(1, 1), stride=(2, 2), bias=False)\n",
       "            (1): FrozenBatchNorm2d(1024, eps=1e-05)\n",
       "          )\n",
       "        )\n",
       "        (1): Bottleneck(\n",
       "          (conv1): Conv2d(1024, 256, kernel_size=(1, 1), stride=(1, 1), bias=False)\n",
       "          (bn1): FrozenBatchNorm2d(256, eps=1e-05)\n",
       "          (conv2): Conv2d(256, 256, kernel_size=(3, 3), stride=(1, 1), padding=(1, 1), bias=False)\n",
       "          (bn2): FrozenBatchNorm2d(256, eps=1e-05)\n",
       "          (conv3): Conv2d(256, 1024, kernel_size=(1, 1), stride=(1, 1), bias=False)\n",
       "          (bn3): FrozenBatchNorm2d(1024, eps=1e-05)\n",
       "          (relu): ReLU(inplace=True)\n",
       "        )\n",
       "        (2): Bottleneck(\n",
       "          (conv1): Conv2d(1024, 256, kernel_size=(1, 1), stride=(1, 1), bias=False)\n",
       "          (bn1): FrozenBatchNorm2d(256, eps=1e-05)\n",
       "          (conv2): Conv2d(256, 256, kernel_size=(3, 3), stride=(1, 1), padding=(1, 1), bias=False)\n",
       "          (bn2): FrozenBatchNorm2d(256, eps=1e-05)\n",
       "          (conv3): Conv2d(256, 1024, kernel_size=(1, 1), stride=(1, 1), bias=False)\n",
       "          (bn3): FrozenBatchNorm2d(1024, eps=1e-05)\n",
       "          (relu): ReLU(inplace=True)\n",
       "        )\n",
       "        (3): Bottleneck(\n",
       "          (conv1): Conv2d(1024, 256, kernel_size=(1, 1), stride=(1, 1), bias=False)\n",
       "          (bn1): FrozenBatchNorm2d(256, eps=1e-05)\n",
       "          (conv2): Conv2d(256, 256, kernel_size=(3, 3), stride=(1, 1), padding=(1, 1), bias=False)\n",
       "          (bn2): FrozenBatchNorm2d(256, eps=1e-05)\n",
       "          (conv3): Conv2d(256, 1024, kernel_size=(1, 1), stride=(1, 1), bias=False)\n",
       "          (bn3): FrozenBatchNorm2d(1024, eps=1e-05)\n",
       "          (relu): ReLU(inplace=True)\n",
       "        )\n",
       "        (4): Bottleneck(\n",
       "          (conv1): Conv2d(1024, 256, kernel_size=(1, 1), stride=(1, 1), bias=False)\n",
       "          (bn1): FrozenBatchNorm2d(256, eps=1e-05)\n",
       "          (conv2): Conv2d(256, 256, kernel_size=(3, 3), stride=(1, 1), padding=(1, 1), bias=False)\n",
       "          (bn2): FrozenBatchNorm2d(256, eps=1e-05)\n",
       "          (conv3): Conv2d(256, 1024, kernel_size=(1, 1), stride=(1, 1), bias=False)\n",
       "          (bn3): FrozenBatchNorm2d(1024, eps=1e-05)\n",
       "          (relu): ReLU(inplace=True)\n",
       "        )\n",
       "        (5): Bottleneck(\n",
       "          (conv1): Conv2d(1024, 256, kernel_size=(1, 1), stride=(1, 1), bias=False)\n",
       "          (bn1): FrozenBatchNorm2d(256, eps=1e-05)\n",
       "          (conv2): Conv2d(256, 256, kernel_size=(3, 3), stride=(1, 1), padding=(1, 1), bias=False)\n",
       "          (bn2): FrozenBatchNorm2d(256, eps=1e-05)\n",
       "          (conv3): Conv2d(256, 1024, kernel_size=(1, 1), stride=(1, 1), bias=False)\n",
       "          (bn3): FrozenBatchNorm2d(1024, eps=1e-05)\n",
       "          (relu): ReLU(inplace=True)\n",
       "        )\n",
       "      )\n",
       "      (layer4): Sequential(\n",
       "        (0): Bottleneck(\n",
       "          (conv1): Conv2d(1024, 512, kernel_size=(1, 1), stride=(1, 1), bias=False)\n",
       "          (bn1): FrozenBatchNorm2d(512, eps=1e-05)\n",
       "          (conv2): Conv2d(512, 512, kernel_size=(3, 3), stride=(2, 2), padding=(1, 1), bias=False)\n",
       "          (bn2): FrozenBatchNorm2d(512, eps=1e-05)\n",
       "          (conv3): Conv2d(512, 2048, kernel_size=(1, 1), stride=(1, 1), bias=False)\n",
       "          (bn3): FrozenBatchNorm2d(2048, eps=1e-05)\n",
       "          (relu): ReLU(inplace=True)\n",
       "          (downsample): Sequential(\n",
       "            (0): Conv2d(1024, 2048, kernel_size=(1, 1), stride=(2, 2), bias=False)\n",
       "            (1): FrozenBatchNorm2d(2048, eps=1e-05)\n",
       "          )\n",
       "        )\n",
       "        (1): Bottleneck(\n",
       "          (conv1): Conv2d(2048, 512, kernel_size=(1, 1), stride=(1, 1), bias=False)\n",
       "          (bn1): FrozenBatchNorm2d(512, eps=1e-05)\n",
       "          (conv2): Conv2d(512, 512, kernel_size=(3, 3), stride=(1, 1), padding=(1, 1), bias=False)\n",
       "          (bn2): FrozenBatchNorm2d(512, eps=1e-05)\n",
       "          (conv3): Conv2d(512, 2048, kernel_size=(1, 1), stride=(1, 1), bias=False)\n",
       "          (bn3): FrozenBatchNorm2d(2048, eps=1e-05)\n",
       "          (relu): ReLU(inplace=True)\n",
       "        )\n",
       "        (2): Bottleneck(\n",
       "          (conv1): Conv2d(2048, 512, kernel_size=(1, 1), stride=(1, 1), bias=False)\n",
       "          (bn1): FrozenBatchNorm2d(512, eps=1e-05)\n",
       "          (conv2): Conv2d(512, 512, kernel_size=(3, 3), stride=(1, 1), padding=(1, 1), bias=False)\n",
       "          (bn2): FrozenBatchNorm2d(512, eps=1e-05)\n",
       "          (conv3): Conv2d(512, 2048, kernel_size=(1, 1), stride=(1, 1), bias=False)\n",
       "          (bn3): FrozenBatchNorm2d(2048, eps=1e-05)\n",
       "          (relu): ReLU(inplace=True)\n",
       "        )\n",
       "      )\n",
       "    )\n",
       "    (fpn): FeaturePyramidNetwork(\n",
       "      (inner_blocks): ModuleList(\n",
       "        (0): Conv2dNormActivation(\n",
       "          (0): Conv2d(256, 256, kernel_size=(1, 1), stride=(1, 1))\n",
       "        )\n",
       "        (1): Conv2dNormActivation(\n",
       "          (0): Conv2d(512, 256, kernel_size=(1, 1), stride=(1, 1))\n",
       "        )\n",
       "        (2): Conv2dNormActivation(\n",
       "          (0): Conv2d(1024, 256, kernel_size=(1, 1), stride=(1, 1))\n",
       "        )\n",
       "        (3): Conv2dNormActivation(\n",
       "          (0): Conv2d(2048, 256, kernel_size=(1, 1), stride=(1, 1))\n",
       "        )\n",
       "      )\n",
       "      (layer_blocks): ModuleList(\n",
       "        (0-3): 4 x Conv2dNormActivation(\n",
       "          (0): Conv2d(256, 256, kernel_size=(3, 3), stride=(1, 1), padding=(1, 1))\n",
       "        )\n",
       "      )\n",
       "      (extra_blocks): LastLevelMaxPool()\n",
       "    )\n",
       "  )\n",
       "  (rpn): RegionProposalNetwork(\n",
       "    (anchor_generator): AnchorGenerator()\n",
       "    (head): RPNHead(\n",
       "      (conv): Sequential(\n",
       "        (0): Conv2dNormActivation(\n",
       "          (0): Conv2d(256, 256, kernel_size=(3, 3), stride=(1, 1), padding=(1, 1))\n",
       "          (1): ReLU(inplace=True)\n",
       "        )\n",
       "      )\n",
       "      (cls_logits): Conv2d(256, 3, kernel_size=(1, 1), stride=(1, 1))\n",
       "      (bbox_pred): Conv2d(256, 12, kernel_size=(1, 1), stride=(1, 1))\n",
       "    )\n",
       "  )\n",
       "  (roi_heads): RoIHeads(\n",
       "    (box_roi_pool): MultiScaleRoIAlign(featmap_names=['0', '1', '2', '3'], output_size=(7, 7), sampling_ratio=2)\n",
       "    (box_head): TwoMLPHead(\n",
       "      (fc6): Linear(in_features=12544, out_features=1024, bias=True)\n",
       "      (fc7): Linear(in_features=1024, out_features=1024, bias=True)\n",
       "    )\n",
       "    (box_predictor): FastRCNNPredictor(\n",
       "      (cls_score): Linear(in_features=1024, out_features=2, bias=True)\n",
       "      (bbox_pred): Linear(in_features=1024, out_features=8, bias=True)\n",
       "    )\n",
       "  )\n",
       ")"
      ]
     },
     "execution_count": 17,
     "metadata": {},
     "output_type": "execute_result"
    }
   ],
   "source": [
    "model"
   ]
  },
  {
   "cell_type": "code",
   "execution_count": 18,
   "id": "916bc7ef-7e9d-4703-9a3f-504e13e322fb",
   "metadata": {
    "tags": []
   },
   "outputs": [],
   "source": [
    "freeze_to(model, False)"
   ]
  },
  {
   "cell_type": "code",
   "execution_count": 19,
   "id": "6e1dc8c0-44cf-42a7-a0a7-72f3f91a7360",
   "metadata": {
    "tags": []
   },
   "outputs": [
    {
     "data": {
      "text/plain": [
       "device(type='cuda', index=1)"
      ]
     },
     "execution_count": 19,
     "metadata": {},
     "output_type": "execute_result"
    }
   ],
   "source": [
    "device"
   ]
  },
  {
   "cell_type": "code",
   "execution_count": 20,
   "id": "ca239acd-98a0-40cf-81c3-a82b62702865",
   "metadata": {
    "scrolled": true
   },
   "outputs": [
    {
     "data": {
      "text/plain": [
       "[False,\n",
       " False,\n",
       " False,\n",
       " False,\n",
       " False,\n",
       " False,\n",
       " False,\n",
       " False,\n",
       " False,\n",
       " False,\n",
       " False,\n",
       " True,\n",
       " True,\n",
       " True,\n",
       " True,\n",
       " True,\n",
       " True,\n",
       " True,\n",
       " True,\n",
       " True,\n",
       " True,\n",
       " True,\n",
       " True,\n",
       " True,\n",
       " True,\n",
       " True,\n",
       " True,\n",
       " True,\n",
       " True,\n",
       " True,\n",
       " True,\n",
       " True,\n",
       " True,\n",
       " True,\n",
       " True,\n",
       " True,\n",
       " True,\n",
       " True,\n",
       " True,\n",
       " True,\n",
       " True,\n",
       " True,\n",
       " True,\n",
       " True,\n",
       " True,\n",
       " True,\n",
       " True,\n",
       " True,\n",
       " True,\n",
       " True,\n",
       " True,\n",
       " True,\n",
       " True,\n",
       " True,\n",
       " True,\n",
       " True,\n",
       " True,\n",
       " True,\n",
       " True,\n",
       " True,\n",
       " True,\n",
       " True,\n",
       " True,\n",
       " True,\n",
       " True,\n",
       " True,\n",
       " True,\n",
       " True,\n",
       " True,\n",
       " True,\n",
       " True,\n",
       " True,\n",
       " True,\n",
       " True,\n",
       " True,\n",
       " True,\n",
       " True,\n",
       " True,\n",
       " True,\n",
       " True,\n",
       " True,\n",
       " True,\n",
       " True]"
      ]
     },
     "execution_count": 20,
     "metadata": {},
     "output_type": "execute_result"
    }
   ],
   "source": [
    "[p.requires_grad for p in model.parameters()]"
   ]
  },
  {
   "cell_type": "code",
   "execution_count": 21,
   "id": "195c068f-ea6e-4171-a4c5-0eb57ae8bb4a",
   "metadata": {},
   "outputs": [],
   "source": [
    "# move model to the right device\n",
    "model.to(device)\n",
    "\n",
    "# construct an optimizer\n",
    "params = [p for p in model.parameters() if p.requires_grad]\n",
    "\n",
    "optimizer = tc.optim.SGD(params, lr=0.005, momentum=0.9, weight_decay=0.0005)\n",
    "# optimizer = tc.optim.Adam(params, lr=0.005, weight_decay=0.0005)\n",
    "\n",
    "# and a learning rate scheduler which decreases the learning rate by\n",
    "# 10x every 3 epochs\n",
    "lr_scheduler = tc.optim.lr_scheduler.StepLR(optimizer, \n",
    "                                            step_size=3,\n",
    "                                            gamma=0.1)# to train on gpu if selected."
   ]
  },
  {
   "cell_type": "code",
   "execution_count": 22,
   "id": "0c6ed36f-3519-4d8c-88af-72cb952e6be7",
   "metadata": {},
   "outputs": [
    {
     "data": {
      "text/plain": [
       "72"
      ]
     },
     "execution_count": 22,
     "metadata": {},
     "output_type": "execute_result"
    }
   ],
   "source": [
    "len(params)"
   ]
  },
  {
   "cell_type": "code",
   "execution_count": 23,
   "id": "5a100df7-dfb8-4bc2-b6fd-3093452006dc",
   "metadata": {},
   "outputs": [
    {
     "data": {
      "text/plain": [
       "<torch.optim.lr_scheduler.StepLR at 0x7f501ee61e10>"
      ]
     },
     "execution_count": 23,
     "metadata": {},
     "output_type": "execute_result"
    }
   ],
   "source": [
    "lr_scheduler"
   ]
  },
  {
   "cell_type": "markdown",
   "id": "512cda76-948d-4a9e-a952-3212c10b8537",
   "metadata": {},
   "source": [
    "### Training "
   ]
  },
  {
   "cell_type": "code",
   "execution_count": 24,
   "id": "a18a230f-9d30-4aac-8898-aee57e580cc2",
   "metadata": {
    "tags": []
   },
   "outputs": [
    {
     "data": {
      "application/vnd.jupyter.widget-view+json": {
       "model_id": "85bdcb4e4a9e418d94a6ef2d6af5f1c5",
       "version_major": 2,
       "version_minor": 0
      },
      "text/plain": [
       "  0%|          | 0/20 [00:00<?, ?it/s]"
      ]
     },
     "metadata": {},
     "output_type": "display_data"
    },
    {
     "name": "stdout",
     "output_type": "stream",
     "text": [
      "starting epoch 0\n",
      "Epoch: [0]  [  0/200]  eta: 0:05:24  lr: 0.000030  loss: 12.2844 (12.2844)  loss_classifier: 2.2291 (2.2291)  loss_box_reg: 0.0667 (0.0667)  loss_objectness: 0.9492 (0.9492)  loss_rpn_box_reg: 9.0395 (9.0395)  time: 1.6249  data: 0.4389  max mem: 0\n",
      "Epoch: [0]  [ 50/200]  eta: 0:01:09  lr: 0.001285  loss: 1.3709 (2.9614)  loss_classifier: 0.0111 (0.2234)  loss_box_reg: 0.0319 (0.0486)  loss_objectness: 0.5678 (0.6260)  loss_rpn_box_reg: 0.7412 (2.0634)  time: 0.4407  data: 0.0295  max mem: 0\n",
      "Epoch: [0]  [100/200]  eta: 0:00:45  lr: 0.002540  loss: 0.8561 (2.0409)  loss_classifier: 0.0051 (0.1170)  loss_box_reg: 0.0187 (0.0420)  loss_objectness: 0.2647 (0.5023)  loss_rpn_box_reg: 0.6131 (1.3796)  time: 0.4410  data: 0.0271  max mem: 0\n",
      "Epoch: [0]  [150/200]  eta: 0:00:22  lr: 0.003795  loss: 0.7386 (1.6393)  loss_classifier: 0.0051 (0.0819)  loss_box_reg: 0.0156 (0.0348)  loss_objectness: 0.1145 (0.3905)  loss_rpn_box_reg: 0.5986 (1.1321)  time: 0.4406  data: 0.0267  max mem: 0\n",
      "Epoch: [0]  [199/200]  eta: 0:00:00  lr: 0.005000  loss: 0.5998 (1.4102)  loss_classifier: 0.0046 (0.0633)  loss_box_reg: 0.0116 (0.0297)  loss_objectness: 0.0927 (0.3231)  loss_rpn_box_reg: 0.4710 (0.9941)  time: 0.4431  data: 0.0285  max mem: 0\n",
      "Epoch: [0] Total time: 0:01:29 (0.4488 s / it)\n",
      "creating index...\n",
      "index created!\n",
      "Test:  [ 0/50]  eta: 0:00:43  model_time: 0.2691 (0.2691)  evaluator_time: 0.0095 (0.0095)  time: 0.8733  data: 0.3549  max mem: 0\n",
      "Test:  [49/50]  eta: 0:00:00  model_time: 0.1774 (0.1842)  evaluator_time: 0.0079 (0.0102)  time: 0.2261  data: 0.0279  max mem: 0\n",
      "Test: Total time: 0:00:12 (0.2426 s / it)\n",
      "Averaged stats: model_time: 0.1774 (0.1842)  evaluator_time: 0.0079 (0.0102)\n",
      "Accumulating evaluation results...\n",
      "DONE (t=0.07s).\n",
      "IoU metric: bbox\n",
      " Average Precision  (AP) @[ IoU=0.50:0.95 | area=   all | maxDets=100 ] = 0.007\n",
      " Average Precision  (AP) @[ IoU=0.50      | area=   all | maxDets=100 ] = 0.036\n",
      " Average Precision  (AP) @[ IoU=0.75      | area=   all | maxDets=100 ] = 0.001\n",
      " Average Precision  (AP) @[ IoU=0.50:0.95 | area= small | maxDets=100 ] = 0.007\n",
      " Average Precision  (AP) @[ IoU=0.50:0.95 | area=medium | maxDets=100 ] = -1.000\n",
      " Average Precision  (AP) @[ IoU=0.50:0.95 | area= large | maxDets=100 ] = -1.000\n",
      " Average Recall     (AR) @[ IoU=0.50:0.95 | area=   all | maxDets=  1 ] = 0.037\n",
      " Average Recall     (AR) @[ IoU=0.50:0.95 | area=   all | maxDets= 10 ] = 0.076\n",
      " Average Recall     (AR) @[ IoU=0.50:0.95 | area=   all | maxDets=100 ] = 0.076\n",
      " Average Recall     (AR) @[ IoU=0.50:0.95 | area= small | maxDets=100 ] = 0.076\n",
      " Average Recall     (AR) @[ IoU=0.50:0.95 | area=medium | maxDets=100 ] = -1.000\n",
      " Average Recall     (AR) @[ IoU=0.50:0.95 | area= large | maxDets=100 ] = -1.000\n",
      "starting epoch 1\n",
      "Epoch: [1]  [  0/200]  eta: 0:02:26  lr: 0.005000  loss: 0.4356 (0.4356)  loss_classifier: 0.0136 (0.0136)  loss_box_reg: 0.0060 (0.0060)  loss_objectness: 0.0489 (0.0489)  loss_rpn_box_reg: 0.3672 (0.3672)  time: 0.7326  data: 0.3141  max mem: 0\n",
      "Epoch: [1]  [ 50/200]  eta: 0:01:10  lr: 0.005000  loss: 0.4817 (0.5517)  loss_classifier: 0.0048 (0.0058)  loss_box_reg: 0.0133 (0.0132)  loss_objectness: 0.0623 (0.0925)  loss_rpn_box_reg: 0.4040 (0.4403)  time: 0.4611  data: 0.0342  max mem: 0\n",
      "Epoch: [1]  [100/200]  eta: 0:00:46  lr: 0.005000  loss: 0.3595 (0.4795)  loss_classifier: 0.0107 (0.0071)  loss_box_reg: 0.0201 (0.0149)  loss_objectness: 0.0579 (0.0849)  loss_rpn_box_reg: 0.2406 (0.3726)  time: 0.4647  data: 0.0299  max mem: 0\n",
      "Epoch: [1]  [150/200]  eta: 0:00:22  lr: 0.005000  loss: 0.2731 (0.4320)  loss_classifier: 0.0095 (0.0083)  loss_box_reg: 0.0197 (0.0172)  loss_objectness: 0.0383 (0.0757)  loss_rpn_box_reg: 0.1953 (0.3308)  time: 0.4496  data: 0.0282  max mem: 0\n",
      "Epoch: [1]  [199/200]  eta: 0:00:00  lr: 0.005000  loss: 0.1955 (0.3873)  loss_classifier: 0.0145 (0.0097)  loss_box_reg: 0.0260 (0.0207)  loss_objectness: 0.0293 (0.0674)  loss_rpn_box_reg: 0.1226 (0.2895)  time: 0.4481  data: 0.0280  max mem: 0\n",
      "Epoch: [1] Total time: 0:01:31 (0.4564 s / it)\n",
      "creating index...\n",
      "index created!\n",
      "Test:  [ 0/50]  eta: 0:00:33  model_time: 0.3139 (0.3139)  evaluator_time: 0.0209 (0.0209)  time: 0.6752  data: 0.3234  max mem: 0\n",
      "Test:  [49/50]  eta: 0:00:00  model_time: 0.1809 (0.1872)  evaluator_time: 0.0082 (0.0102)  time: 0.2373  data: 0.0296  max mem: 0\n",
      "Test: Total time: 0:00:12 (0.2401 s / it)\n",
      "Averaged stats: model_time: 0.1809 (0.1872)  evaluator_time: 0.0082 (0.0102)\n",
      "Accumulating evaluation results...\n",
      "DONE (t=0.06s).\n",
      "IoU metric: bbox\n",
      " Average Precision  (AP) @[ IoU=0.50:0.95 | area=   all | maxDets=100 ] = 0.150\n",
      " Average Precision  (AP) @[ IoU=0.50      | area=   all | maxDets=100 ] = 0.626\n",
      " Average Precision  (AP) @[ IoU=0.75      | area=   all | maxDets=100 ] = 0.005\n",
      " Average Precision  (AP) @[ IoU=0.50:0.95 | area= small | maxDets=100 ] = 0.150\n",
      " Average Precision  (AP) @[ IoU=0.50:0.95 | area=medium | maxDets=100 ] = -1.000\n",
      " Average Precision  (AP) @[ IoU=0.50:0.95 | area= large | maxDets=100 ] = -1.000\n",
      " Average Recall     (AR) @[ IoU=0.50:0.95 | area=   all | maxDets=  1 ] = 0.196\n",
      " Average Recall     (AR) @[ IoU=0.50:0.95 | area=   all | maxDets= 10 ] = 0.330\n",
      " Average Recall     (AR) @[ IoU=0.50:0.95 | area=   all | maxDets=100 ] = 0.333\n",
      " Average Recall     (AR) @[ IoU=0.50:0.95 | area= small | maxDets=100 ] = 0.333\n",
      " Average Recall     (AR) @[ IoU=0.50:0.95 | area=medium | maxDets=100 ] = -1.000\n",
      " Average Recall     (AR) @[ IoU=0.50:0.95 | area= large | maxDets=100 ] = -1.000\n",
      "starting epoch 2\n",
      "Epoch: [2]  [  0/200]  eta: 0:02:38  lr: 0.005000  loss: 0.2475 (0.2475)  loss_classifier: 0.0194 (0.0194)  loss_box_reg: 0.0359 (0.0359)  loss_objectness: 0.0289 (0.0289)  loss_rpn_box_reg: 0.1633 (0.1633)  time: 0.7907  data: 0.3767  max mem: 0\n",
      "Epoch: [2]  [ 50/200]  eta: 0:01:07  lr: 0.005000  loss: 0.1605 (0.2137)  loss_classifier: 0.0141 (0.0148)  loss_box_reg: 0.0342 (0.0350)  loss_objectness: 0.0200 (0.0282)  loss_rpn_box_reg: 0.0880 (0.1358)  time: 0.4363  data: 0.0259  max mem: 0\n",
      "Epoch: [2]  [100/200]  eta: 0:00:44  lr: 0.005000  loss: 0.1821 (0.2003)  loss_classifier: 0.0169 (0.0159)  loss_box_reg: 0.0320 (0.0341)  loss_objectness: 0.0309 (0.0303)  loss_rpn_box_reg: 0.1016 (0.1200)  time: 0.4432  data: 0.0261  max mem: 0\n",
      "Epoch: [2]  [150/200]  eta: 0:00:22  lr: 0.005000  loss: 0.1561 (0.1873)  loss_classifier: 0.0144 (0.0156)  loss_box_reg: 0.0265 (0.0326)  loss_objectness: 0.0301 (0.0322)  loss_rpn_box_reg: 0.0802 (0.1070)  time: 0.4368  data: 0.0259  max mem: 0\n",
      "Epoch: [2]  [199/200]  eta: 0:00:00  lr: 0.005000  loss: 0.1370 (0.1819)  loss_classifier: 0.0141 (0.0154)  loss_box_reg: 0.0256 (0.0309)  loss_objectness: 0.0224 (0.0304)  loss_rpn_box_reg: 0.0770 (0.1051)  time: 0.4372  data: 0.0260  max mem: 0\n",
      "Epoch: [2] Total time: 0:01:28 (0.4428 s / it)\n",
      "creating index...\n",
      "index created!\n",
      "Test:  [ 0/50]  eta: 0:00:24  model_time: 0.2413 (0.2413)  evaluator_time: 0.0087 (0.0087)  time: 0.4910  data: 0.2327  max mem: 0\n",
      "Test:  [49/50]  eta: 0:00:00  model_time: 0.1779 (0.1808)  evaluator_time: 0.0062 (0.0065)  time: 0.2209  data: 0.0274  max mem: 0\n",
      "Test: Total time: 0:00:11 (0.2278 s / it)\n",
      "Averaged stats: model_time: 0.1779 (0.1808)  evaluator_time: 0.0062 (0.0065)\n",
      "Accumulating evaluation results...\n",
      "DONE (t=0.11s).\n",
      "IoU metric: bbox\n",
      " Average Precision  (AP) @[ IoU=0.50:0.95 | area=   all | maxDets=100 ] = 0.130\n",
      " Average Precision  (AP) @[ IoU=0.50      | area=   all | maxDets=100 ] = 0.590\n",
      " Average Precision  (AP) @[ IoU=0.75      | area=   all | maxDets=100 ] = 0.004\n",
      " Average Precision  (AP) @[ IoU=0.50:0.95 | area= small | maxDets=100 ] = 0.130\n",
      " Average Precision  (AP) @[ IoU=0.50:0.95 | area=medium | maxDets=100 ] = -1.000\n",
      " Average Precision  (AP) @[ IoU=0.50:0.95 | area= large | maxDets=100 ] = -1.000\n",
      " Average Recall     (AR) @[ IoU=0.50:0.95 | area=   all | maxDets=  1 ] = 0.182\n",
      " Average Recall     (AR) @[ IoU=0.50:0.95 | area=   all | maxDets= 10 ] = 0.293\n",
      " Average Recall     (AR) @[ IoU=0.50:0.95 | area=   all | maxDets=100 ] = 0.293\n",
      " Average Recall     (AR) @[ IoU=0.50:0.95 | area= small | maxDets=100 ] = 0.293\n",
      " Average Recall     (AR) @[ IoU=0.50:0.95 | area=medium | maxDets=100 ] = -1.000\n",
      " Average Recall     (AR) @[ IoU=0.50:0.95 | area= large | maxDets=100 ] = -1.000\n",
      "starting epoch 3\n",
      "Epoch: [3]  [  0/200]  eta: 0:02:23  lr: 0.000500  loss: 0.1255 (0.1255)  loss_classifier: 0.0173 (0.0173)  loss_box_reg: 0.0333 (0.0333)  loss_objectness: 0.0188 (0.0188)  loss_rpn_box_reg: 0.0561 (0.0561)  time: 0.7168  data: 0.2977  max mem: 0\n",
      "Epoch: [3]  [ 50/200]  eta: 0:01:06  lr: 0.000500  loss: 0.0860 (0.0984)  loss_classifier: 0.0131 (0.0141)  loss_box_reg: 0.0179 (0.0226)  loss_objectness: 0.0176 (0.0195)  loss_rpn_box_reg: 0.0375 (0.0423)  time: 0.4422  data: 0.0269  max mem: 0\n",
      "Epoch: [3]  [100/200]  eta: 0:00:44  lr: 0.000500  loss: 0.0804 (0.0942)  loss_classifier: 0.0121 (0.0140)  loss_box_reg: 0.0171 (0.0207)  loss_objectness: 0.0199 (0.0200)  loss_rpn_box_reg: 0.0319 (0.0394)  time: 0.4332  data: 0.0252  max mem: 0\n",
      "Epoch: [3]  [150/200]  eta: 0:00:21  lr: 0.000500  loss: 0.0848 (0.0932)  loss_classifier: 0.0122 (0.0135)  loss_box_reg: 0.0164 (0.0198)  loss_objectness: 0.0207 (0.0216)  loss_rpn_box_reg: 0.0285 (0.0384)  time: 0.4364  data: 0.0253  max mem: 0\n",
      "Epoch: [3]  [199/200]  eta: 0:00:00  lr: 0.000500  loss: 0.0727 (0.0897)  loss_classifier: 0.0109 (0.0131)  loss_box_reg: 0.0164 (0.0191)  loss_objectness: 0.0167 (0.0205)  loss_rpn_box_reg: 0.0283 (0.0370)  time: 0.4417  data: 0.0266  max mem: 0\n",
      "Epoch: [3] Total time: 0:01:28 (0.4406 s / it)\n",
      "creating index...\n",
      "index created!\n",
      "Test:  [ 0/50]  eta: 0:00:32  model_time: 0.2517 (0.2517)  evaluator_time: 0.0106 (0.0106)  time: 0.6500  data: 0.3755  max mem: 0\n",
      "Test:  [49/50]  eta: 0:00:00  model_time: 0.1784 (0.1839)  evaluator_time: 0.0056 (0.0072)  time: 0.2244  data: 0.0273  max mem: 0\n",
      "Test: Total time: 0:00:11 (0.2365 s / it)\n",
      "Averaged stats: model_time: 0.1784 (0.1839)  evaluator_time: 0.0056 (0.0072)\n",
      "Accumulating evaluation results...\n",
      "DONE (t=0.09s).\n",
      "IoU metric: bbox\n",
      " Average Precision  (AP) @[ IoU=0.50:0.95 | area=   all | maxDets=100 ] = 0.129\n",
      " Average Precision  (AP) @[ IoU=0.50      | area=   all | maxDets=100 ] = 0.647\n",
      " Average Precision  (AP) @[ IoU=0.75      | area=   all | maxDets=100 ] = 0.002\n",
      " Average Precision  (AP) @[ IoU=0.50:0.95 | area= small | maxDets=100 ] = 0.129\n",
      " Average Precision  (AP) @[ IoU=0.50:0.95 | area=medium | maxDets=100 ] = -1.000\n",
      " Average Precision  (AP) @[ IoU=0.50:0.95 | area= large | maxDets=100 ] = -1.000\n",
      " Average Recall     (AR) @[ IoU=0.50:0.95 | area=   all | maxDets=  1 ] = 0.172\n",
      " Average Recall     (AR) @[ IoU=0.50:0.95 | area=   all | maxDets= 10 ] = 0.247\n",
      " Average Recall     (AR) @[ IoU=0.50:0.95 | area=   all | maxDets=100 ] = 0.247\n",
      " Average Recall     (AR) @[ IoU=0.50:0.95 | area= small | maxDets=100 ] = 0.247\n",
      " Average Recall     (AR) @[ IoU=0.50:0.95 | area=medium | maxDets=100 ] = -1.000\n",
      " Average Recall     (AR) @[ IoU=0.50:0.95 | area= large | maxDets=100 ] = -1.000\n",
      "starting epoch 4\n",
      "Epoch: [4]  [  0/200]  eta: 0:02:27  lr: 0.000500  loss: 0.1393 (0.1393)  loss_classifier: 0.0160 (0.0160)  loss_box_reg: 0.0219 (0.0219)  loss_objectness: 0.0362 (0.0362)  loss_rpn_box_reg: 0.0653 (0.0653)  time: 0.7399  data: 0.3260  max mem: 0\n",
      "Epoch: [4]  [ 50/200]  eta: 0:01:10  lr: 0.000500  loss: 0.0737 (0.0767)  loss_classifier: 0.0111 (0.0116)  loss_box_reg: 0.0163 (0.0164)  loss_objectness: 0.0169 (0.0181)  loss_rpn_box_reg: 0.0273 (0.0306)  time: 0.4601  data: 0.0328  max mem: 0\n",
      "Epoch: [4]  [100/200]  eta: 0:00:46  lr: 0.000500  loss: 0.0723 (0.0760)  loss_classifier: 0.0113 (0.0115)  loss_box_reg: 0.0145 (0.0158)  loss_objectness: 0.0189 (0.0190)  loss_rpn_box_reg: 0.0262 (0.0298)  time: 0.4481  data: 0.0276  max mem: 0\n",
      "Epoch: [4]  [150/200]  eta: 0:00:22  lr: 0.000500  loss: 0.0735 (0.0770)  loss_classifier: 0.0134 (0.0120)  loss_box_reg: 0.0153 (0.0159)  loss_objectness: 0.0185 (0.0191)  loss_rpn_box_reg: 0.0259 (0.0301)  time: 0.4378  data: 0.0274  max mem: 0\n",
      "Epoch: [4]  [199/200]  eta: 0:00:00  lr: 0.000500  loss: 0.0742 (0.0769)  loss_classifier: 0.0108 (0.0121)  loss_box_reg: 0.0156 (0.0159)  loss_objectness: 0.0159 (0.0188)  loss_rpn_box_reg: 0.0290 (0.0302)  time: 0.4438  data: 0.0270  max mem: 0\n",
      "Epoch: [4] Total time: 0:01:30 (0.4519 s / it)\n",
      "creating index...\n",
      "index created!\n",
      "Test:  [ 0/50]  eta: 0:00:29  model_time: 0.2427 (0.2427)  evaluator_time: 0.0091 (0.0091)  time: 0.5886  data: 0.3288  max mem: 0\n",
      "Test:  [49/50]  eta: 0:00:00  model_time: 0.1789 (0.1806)  evaluator_time: 0.0058 (0.0060)  time: 0.2202  data: 0.0264  max mem: 0\n",
      "Test: Total time: 0:00:11 (0.2287 s / it)\n",
      "Averaged stats: model_time: 0.1789 (0.1806)  evaluator_time: 0.0058 (0.0060)\n",
      "Accumulating evaluation results...\n",
      "DONE (t=0.05s).\n",
      "IoU metric: bbox\n",
      " Average Precision  (AP) @[ IoU=0.50:0.95 | area=   all | maxDets=100 ] = 0.136\n",
      " Average Precision  (AP) @[ IoU=0.50      | area=   all | maxDets=100 ] = 0.686\n",
      " Average Precision  (AP) @[ IoU=0.75      | area=   all | maxDets=100 ] = 0.002\n",
      " Average Precision  (AP) @[ IoU=0.50:0.95 | area= small | maxDets=100 ] = 0.136\n",
      " Average Precision  (AP) @[ IoU=0.50:0.95 | area=medium | maxDets=100 ] = -1.000\n",
      " Average Precision  (AP) @[ IoU=0.50:0.95 | area= large | maxDets=100 ] = -1.000\n",
      " Average Recall     (AR) @[ IoU=0.50:0.95 | area=   all | maxDets=  1 ] = 0.173\n",
      " Average Recall     (AR) @[ IoU=0.50:0.95 | area=   all | maxDets= 10 ] = 0.253\n",
      " Average Recall     (AR) @[ IoU=0.50:0.95 | area=   all | maxDets=100 ] = 0.253\n",
      " Average Recall     (AR) @[ IoU=0.50:0.95 | area= small | maxDets=100 ] = 0.253\n",
      " Average Recall     (AR) @[ IoU=0.50:0.95 | area=medium | maxDets=100 ] = -1.000\n",
      " Average Recall     (AR) @[ IoU=0.50:0.95 | area= large | maxDets=100 ] = -1.000\n",
      "starting epoch 5\n",
      "Epoch: [5]  [  0/200]  eta: 0:02:15  lr: 0.000500  loss: 0.0661 (0.0661)  loss_classifier: 0.0136 (0.0136)  loss_box_reg: 0.0134 (0.0134)  loss_objectness: 0.0161 (0.0161)  loss_rpn_box_reg: 0.0231 (0.0231)  time: 0.6788  data: 0.2366  max mem: 0\n",
      "Epoch: [5]  [ 50/200]  eta: 0:01:06  lr: 0.000500  loss: 0.0670 (0.0709)  loss_classifier: 0.0121 (0.0116)  loss_box_reg: 0.0139 (0.0145)  loss_objectness: 0.0158 (0.0176)  loss_rpn_box_reg: 0.0234 (0.0271)  time: 0.4360  data: 0.0260  max mem: 0\n",
      "Epoch: [5]  [100/200]  eta: 0:00:44  lr: 0.000500  loss: 0.0723 (0.0729)  loss_classifier: 0.0116 (0.0117)  loss_box_reg: 0.0148 (0.0148)  loss_objectness: 0.0194 (0.0185)  loss_rpn_box_reg: 0.0289 (0.0280)  time: 0.4525  data: 0.0311  max mem: 0\n",
      "Epoch: [5]  [150/200]  eta: 0:00:22  lr: 0.000500  loss: 0.0634 (0.0724)  loss_classifier: 0.0103 (0.0117)  loss_box_reg: 0.0137 (0.0147)  loss_objectness: 0.0146 (0.0180)  loss_rpn_box_reg: 0.0249 (0.0281)  time: 0.4386  data: 0.0263  max mem: 0\n",
      "Epoch: [5]  [199/200]  eta: 0:00:00  lr: 0.000500  loss: 0.0663 (0.0715)  loss_classifier: 0.0108 (0.0116)  loss_box_reg: 0.0145 (0.0146)  loss_objectness: 0.0147 (0.0175)  loss_rpn_box_reg: 0.0225 (0.0278)  time: 0.4473  data: 0.0272  max mem: 0\n",
      "Epoch: [5] Total time: 0:01:29 (0.4468 s / it)\n",
      "creating index...\n",
      "index created!\n",
      "Test:  [ 0/50]  eta: 0:00:35  model_time: 0.2964 (0.2964)  evaluator_time: 0.0199 (0.0199)  time: 0.7133  data: 0.3719  max mem: 0\n",
      "Test:  [49/50]  eta: 0:00:00  model_time: 0.1778 (0.1852)  evaluator_time: 0.0059 (0.0075)  time: 0.2217  data: 0.0275  max mem: 0\n",
      "Test: Total time: 0:00:11 (0.2379 s / it)\n",
      "Averaged stats: model_time: 0.1778 (0.1852)  evaluator_time: 0.0059 (0.0075)\n",
      "Accumulating evaluation results...\n",
      "DONE (t=0.05s).\n",
      "IoU metric: bbox\n",
      " Average Precision  (AP) @[ IoU=0.50:0.95 | area=   all | maxDets=100 ] = 0.121\n",
      " Average Precision  (AP) @[ IoU=0.50      | area=   all | maxDets=100 ] = 0.679\n",
      " Average Precision  (AP) @[ IoU=0.75      | area=   all | maxDets=100 ] = 0.000\n",
      " Average Precision  (AP) @[ IoU=0.50:0.95 | area= small | maxDets=100 ] = 0.121\n",
      " Average Precision  (AP) @[ IoU=0.50:0.95 | area=medium | maxDets=100 ] = -1.000\n",
      " Average Precision  (AP) @[ IoU=0.50:0.95 | area= large | maxDets=100 ] = -1.000\n",
      " Average Recall     (AR) @[ IoU=0.50:0.95 | area=   all | maxDets=  1 ] = 0.158\n",
      " Average Recall     (AR) @[ IoU=0.50:0.95 | area=   all | maxDets= 10 ] = 0.233\n",
      " Average Recall     (AR) @[ IoU=0.50:0.95 | area=   all | maxDets=100 ] = 0.233\n",
      " Average Recall     (AR) @[ IoU=0.50:0.95 | area= small | maxDets=100 ] = 0.233\n",
      " Average Recall     (AR) @[ IoU=0.50:0.95 | area=medium | maxDets=100 ] = -1.000\n",
      " Average Recall     (AR) @[ IoU=0.50:0.95 | area= large | maxDets=100 ] = -1.000\n",
      "starting epoch 6\n",
      "Epoch: [6]  [  0/200]  eta: 0:02:39  lr: 0.000050  loss: 0.0499 (0.0499)  loss_classifier: 0.0112 (0.0112)  loss_box_reg: 0.0084 (0.0084)  loss_objectness: 0.0134 (0.0134)  loss_rpn_box_reg: 0.0169 (0.0169)  time: 0.7967  data: 0.3686  max mem: 0\n",
      "Epoch: [6]  [ 50/200]  eta: 0:01:07  lr: 0.000050  loss: 0.0661 (0.0651)  loss_classifier: 0.0108 (0.0115)  loss_box_reg: 0.0129 (0.0131)  loss_objectness: 0.0187 (0.0170)  loss_rpn_box_reg: 0.0237 (0.0235)  time: 0.4494  data: 0.0295  max mem: 0\n",
      "Epoch: [6]  [100/200]  eta: 0:00:44  lr: 0.000050  loss: 0.0689 (0.0668)  loss_classifier: 0.0114 (0.0117)  loss_box_reg: 0.0146 (0.0135)  loss_objectness: 0.0158 (0.0173)  loss_rpn_box_reg: 0.0236 (0.0243)  time: 0.4468  data: 0.0289  max mem: 0\n",
      "Epoch: [6]  [150/200]  eta: 0:00:22  lr: 0.000050  loss: 0.0640 (0.0674)  loss_classifier: 0.0093 (0.0115)  loss_box_reg: 0.0116 (0.0135)  loss_objectness: 0.0177 (0.0176)  loss_rpn_box_reg: 0.0235 (0.0249)  time: 0.4527  data: 0.0281  max mem: 0\n",
      "Epoch: [6]  [199/200]  eta: 0:00:00  lr: 0.000050  loss: 0.0665 (0.0675)  loss_classifier: 0.0106 (0.0115)  loss_box_reg: 0.0128 (0.0135)  loss_objectness: 0.0164 (0.0175)  loss_rpn_box_reg: 0.0203 (0.0251)  time: 0.4463  data: 0.0283  max mem: 0\n",
      "Epoch: [6] Total time: 0:01:29 (0.4479 s / it)\n",
      "creating index...\n",
      "index created!\n",
      "Test:  [ 0/50]  eta: 0:00:56  model_time: 0.2425 (0.2425)  evaluator_time: 0.0082 (0.0082)  time: 1.1332  data: 0.8663  max mem: 0\n",
      "Test:  [49/50]  eta: 0:00:00  model_time: 0.1779 (0.1808)  evaluator_time: 0.0055 (0.0062)  time: 0.2185  data: 0.0260  max mem: 0\n",
      "Test: Total time: 0:00:11 (0.2384 s / it)\n",
      "Averaged stats: model_time: 0.1779 (0.1808)  evaluator_time: 0.0055 (0.0062)\n",
      "Accumulating evaluation results...\n",
      "DONE (t=0.04s).\n",
      "IoU metric: bbox\n",
      " Average Precision  (AP) @[ IoU=0.50:0.95 | area=   all | maxDets=100 ] = 0.136\n",
      " Average Precision  (AP) @[ IoU=0.50      | area=   all | maxDets=100 ] = 0.715\n",
      " Average Precision  (AP) @[ IoU=0.75      | area=   all | maxDets=100 ] = 0.001\n",
      " Average Precision  (AP) @[ IoU=0.50:0.95 | area= small | maxDets=100 ] = 0.136\n",
      " Average Precision  (AP) @[ IoU=0.50:0.95 | area=medium | maxDets=100 ] = -1.000\n",
      " Average Precision  (AP) @[ IoU=0.50:0.95 | area= large | maxDets=100 ] = -1.000\n",
      " Average Recall     (AR) @[ IoU=0.50:0.95 | area=   all | maxDets=  1 ] = 0.176\n",
      " Average Recall     (AR) @[ IoU=0.50:0.95 | area=   all | maxDets= 10 ] = 0.252\n",
      " Average Recall     (AR) @[ IoU=0.50:0.95 | area=   all | maxDets=100 ] = 0.252\n",
      " Average Recall     (AR) @[ IoU=0.50:0.95 | area= small | maxDets=100 ] = 0.252\n",
      " Average Recall     (AR) @[ IoU=0.50:0.95 | area=medium | maxDets=100 ] = -1.000\n",
      " Average Recall     (AR) @[ IoU=0.50:0.95 | area= large | maxDets=100 ] = -1.000\n",
      "starting epoch 7\n",
      "Epoch: [7]  [  0/200]  eta: 0:02:25  lr: 0.000050  loss: 0.0617 (0.0617)  loss_classifier: 0.0113 (0.0113)  loss_box_reg: 0.0128 (0.0128)  loss_objectness: 0.0207 (0.0207)  loss_rpn_box_reg: 0.0169 (0.0169)  time: 0.7292  data: 0.2826  max mem: 0\n",
      "Epoch: [7]  [ 50/200]  eta: 0:01:06  lr: 0.000050  loss: 0.0614 (0.0680)  loss_classifier: 0.0120 (0.0114)  loss_box_reg: 0.0128 (0.0128)  loss_objectness: 0.0152 (0.0187)  loss_rpn_box_reg: 0.0190 (0.0252)  time: 0.4361  data: 0.0266  max mem: 0\n",
      "Epoch: [7]  [100/200]  eta: 0:00:44  lr: 0.000050  loss: 0.0593 (0.0667)  loss_classifier: 0.0106 (0.0113)  loss_box_reg: 0.0121 (0.0132)  loss_objectness: 0.0165 (0.0175)  loss_rpn_box_reg: 0.0205 (0.0247)  time: 0.4404  data: 0.0269  max mem: 0\n",
      "Epoch: [7]  [150/200]  eta: 0:00:22  lr: 0.000050  loss: 0.0671 (0.0670)  loss_classifier: 0.0107 (0.0112)  loss_box_reg: 0.0129 (0.0132)  loss_objectness: 0.0159 (0.0174)  loss_rpn_box_reg: 0.0251 (0.0252)  time: 0.4353  data: 0.0250  max mem: 0\n",
      "Epoch: [7]  [199/200]  eta: 0:00:00  lr: 0.000050  loss: 0.0651 (0.0672)  loss_classifier: 0.0107 (0.0114)  loss_box_reg: 0.0135 (0.0133)  loss_objectness: 0.0148 (0.0177)  loss_rpn_box_reg: 0.0218 (0.0248)  time: 0.4448  data: 0.0277  max mem: 0\n",
      "Epoch: [7] Total time: 0:01:28 (0.4427 s / it)\n",
      "creating index...\n",
      "index created!\n",
      "Test:  [ 0/50]  eta: 0:00:33  model_time: 0.2449 (0.2449)  evaluator_time: 0.0090 (0.0090)  time: 0.6601  data: 0.3934  max mem: 0\n",
      "Test:  [49/50]  eta: 0:00:00  model_time: 0.1799 (0.1814)  evaluator_time: 0.0059 (0.0062)  time: 0.2194  data: 0.0261  max mem: 0\n",
      "Test: Total time: 0:00:11 (0.2317 s / it)\n",
      "Averaged stats: model_time: 0.1799 (0.1814)  evaluator_time: 0.0059 (0.0062)\n",
      "Accumulating evaluation results...\n",
      "DONE (t=0.04s).\n",
      "IoU metric: bbox\n",
      " Average Precision  (AP) @[ IoU=0.50:0.95 | area=   all | maxDets=100 ] = 0.150\n",
      " Average Precision  (AP) @[ IoU=0.50      | area=   all | maxDets=100 ] = 0.709\n",
      " Average Precision  (AP) @[ IoU=0.75      | area=   all | maxDets=100 ] = 0.001\n",
      " Average Precision  (AP) @[ IoU=0.50:0.95 | area= small | maxDets=100 ] = 0.150\n",
      " Average Precision  (AP) @[ IoU=0.50:0.95 | area=medium | maxDets=100 ] = -1.000\n",
      " Average Precision  (AP) @[ IoU=0.50:0.95 | area= large | maxDets=100 ] = -1.000\n",
      " Average Recall     (AR) @[ IoU=0.50:0.95 | area=   all | maxDets=  1 ] = 0.183\n",
      " Average Recall     (AR) @[ IoU=0.50:0.95 | area=   all | maxDets= 10 ] = 0.262\n",
      " Average Recall     (AR) @[ IoU=0.50:0.95 | area=   all | maxDets=100 ] = 0.262\n",
      " Average Recall     (AR) @[ IoU=0.50:0.95 | area= small | maxDets=100 ] = 0.262\n",
      " Average Recall     (AR) @[ IoU=0.50:0.95 | area=medium | maxDets=100 ] = -1.000\n",
      " Average Recall     (AR) @[ IoU=0.50:0.95 | area= large | maxDets=100 ] = -1.000\n",
      "starting epoch 8\n",
      "Epoch: [8]  [  0/200]  eta: 0:02:23  lr: 0.000050  loss: 0.0602 (0.0602)  loss_classifier: 0.0113 (0.0113)  loss_box_reg: 0.0113 (0.0113)  loss_objectness: 0.0186 (0.0186)  loss_rpn_box_reg: 0.0189 (0.0189)  time: 0.7168  data: 0.2839  max mem: 0\n",
      "Epoch: [8]  [ 50/200]  eta: 0:01:07  lr: 0.000050  loss: 0.0683 (0.0668)  loss_classifier: 0.0109 (0.0115)  loss_box_reg: 0.0130 (0.0135)  loss_objectness: 0.0176 (0.0171)  loss_rpn_box_reg: 0.0222 (0.0248)  time: 0.4411  data: 0.0271  max mem: 0\n",
      "Epoch: [8]  [100/200]  eta: 0:00:44  lr: 0.000050  loss: 0.0684 (0.0661)  loss_classifier: 0.0119 (0.0115)  loss_box_reg: 0.0115 (0.0131)  loss_objectness: 0.0206 (0.0179)  loss_rpn_box_reg: 0.0201 (0.0236)  time: 0.4363  data: 0.0257  max mem: 0\n",
      "Epoch: [8]  [150/200]  eta: 0:00:22  lr: 0.000050  loss: 0.0613 (0.0661)  loss_classifier: 0.0122 (0.0116)  loss_box_reg: 0.0117 (0.0131)  loss_objectness: 0.0153 (0.0176)  loss_rpn_box_reg: 0.0200 (0.0238)  time: 0.4387  data: 0.0261  max mem: 0\n",
      "Epoch: [8]  [199/200]  eta: 0:00:00  lr: 0.000050  loss: 0.0720 (0.0670)  loss_classifier: 0.0104 (0.0116)  loss_box_reg: 0.0123 (0.0132)  loss_objectness: 0.0184 (0.0176)  loss_rpn_box_reg: 0.0281 (0.0246)  time: 0.4463  data: 0.0265  max mem: 0\n",
      "Epoch: [8] Total time: 0:01:28 (0.4419 s / it)\n",
      "creating index...\n",
      "index created!\n",
      "Test:  [ 0/50]  eta: 0:00:29  model_time: 0.2501 (0.2501)  evaluator_time: 0.0095 (0.0095)  time: 0.5834  data: 0.3157  max mem: 0\n",
      "Test:  [49/50]  eta: 0:00:00  model_time: 0.1797 (0.1845)  evaluator_time: 0.0062 (0.0069)  time: 0.2179  data: 0.0232  max mem: 0\n",
      "Test: Total time: 0:00:11 (0.2324 s / it)\n",
      "Averaged stats: model_time: 0.1797 (0.1845)  evaluator_time: 0.0062 (0.0069)\n",
      "Accumulating evaluation results...\n",
      "DONE (t=0.04s).\n",
      "IoU metric: bbox\n",
      " Average Precision  (AP) @[ IoU=0.50:0.95 | area=   all | maxDets=100 ] = 0.147\n",
      " Average Precision  (AP) @[ IoU=0.50      | area=   all | maxDets=100 ] = 0.712\n",
      " Average Precision  (AP) @[ IoU=0.75      | area=   all | maxDets=100 ] = 0.001\n",
      " Average Precision  (AP) @[ IoU=0.50:0.95 | area= small | maxDets=100 ] = 0.147\n",
      " Average Precision  (AP) @[ IoU=0.50:0.95 | area=medium | maxDets=100 ] = -1.000\n",
      " Average Precision  (AP) @[ IoU=0.50:0.95 | area= large | maxDets=100 ] = -1.000\n",
      " Average Recall     (AR) @[ IoU=0.50:0.95 | area=   all | maxDets=  1 ] = 0.182\n",
      " Average Recall     (AR) @[ IoU=0.50:0.95 | area=   all | maxDets= 10 ] = 0.259\n",
      " Average Recall     (AR) @[ IoU=0.50:0.95 | area=   all | maxDets=100 ] = 0.259\n",
      " Average Recall     (AR) @[ IoU=0.50:0.95 | area= small | maxDets=100 ] = 0.259\n",
      " Average Recall     (AR) @[ IoU=0.50:0.95 | area=medium | maxDets=100 ] = -1.000\n",
      " Average Recall     (AR) @[ IoU=0.50:0.95 | area= large | maxDets=100 ] = -1.000\n",
      "starting epoch 9\n",
      "Epoch: [9]  [  0/200]  eta: 0:02:18  lr: 0.000005  loss: 0.1036 (0.1036)  loss_classifier: 0.0222 (0.0222)  loss_box_reg: 0.0207 (0.0207)  loss_objectness: 0.0315 (0.0315)  loss_rpn_box_reg: 0.0293 (0.0293)  time: 0.6910  data: 0.2457  max mem: 0\n",
      "Epoch: [9]  [ 50/200]  eta: 0:01:07  lr: 0.000005  loss: 0.0679 (0.0659)  loss_classifier: 0.0113 (0.0117)  loss_box_reg: 0.0129 (0.0129)  loss_objectness: 0.0163 (0.0176)  loss_rpn_box_reg: 0.0234 (0.0236)  time: 0.4462  data: 0.0272  max mem: 0\n",
      "Epoch: [9]  [100/200]  eta: 0:00:45  lr: 0.000005  loss: 0.0608 (0.0649)  loss_classifier: 0.0106 (0.0114)  loss_box_reg: 0.0134 (0.0131)  loss_objectness: 0.0136 (0.0167)  loss_rpn_box_reg: 0.0219 (0.0238)  time: 0.4474  data: 0.0266  max mem: 0\n",
      "Epoch: [9]  [150/200]  eta: 0:00:22  lr: 0.000005  loss: 0.0635 (0.0651)  loss_classifier: 0.0118 (0.0115)  loss_box_reg: 0.0119 (0.0130)  loss_objectness: 0.0177 (0.0170)  loss_rpn_box_reg: 0.0218 (0.0236)  time: 0.4371  data: 0.0267  max mem: 0\n",
      "Epoch: [9]  [199/200]  eta: 0:00:00  lr: 0.000005  loss: 0.0665 (0.0661)  loss_classifier: 0.0104 (0.0114)  loss_box_reg: 0.0129 (0.0131)  loss_objectness: 0.0182 (0.0172)  loss_rpn_box_reg: 0.0203 (0.0244)  time: 0.4385  data: 0.0268  max mem: 0\n",
      "Epoch: [9] Total time: 0:01:29 (0.4463 s / it)\n",
      "creating index...\n",
      "index created!\n",
      "Test:  [ 0/50]  eta: 0:00:28  model_time: 0.2515 (0.2515)  evaluator_time: 0.0098 (0.0098)  time: 0.5688  data: 0.2944  max mem: 0\n",
      "Test:  [49/50]  eta: 0:00:00  model_time: 0.1800 (0.1852)  evaluator_time: 0.0063 (0.0072)  time: 0.2298  data: 0.0284  max mem: 0\n",
      "Test: Total time: 0:00:11 (0.2361 s / it)\n",
      "Averaged stats: model_time: 0.1800 (0.1852)  evaluator_time: 0.0063 (0.0072)\n",
      "Accumulating evaluation results...\n",
      "DONE (t=0.08s).\n",
      "IoU metric: bbox\n",
      " Average Precision  (AP) @[ IoU=0.50:0.95 | area=   all | maxDets=100 ] = 0.148\n",
      " Average Precision  (AP) @[ IoU=0.50      | area=   all | maxDets=100 ] = 0.716\n",
      " Average Precision  (AP) @[ IoU=0.75      | area=   all | maxDets=100 ] = 0.001\n",
      " Average Precision  (AP) @[ IoU=0.50:0.95 | area= small | maxDets=100 ] = 0.148\n",
      " Average Precision  (AP) @[ IoU=0.50:0.95 | area=medium | maxDets=100 ] = -1.000\n",
      " Average Precision  (AP) @[ IoU=0.50:0.95 | area= large | maxDets=100 ] = -1.000\n",
      " Average Recall     (AR) @[ IoU=0.50:0.95 | area=   all | maxDets=  1 ] = 0.179\n",
      " Average Recall     (AR) @[ IoU=0.50:0.95 | area=   all | maxDets= 10 ] = 0.261\n",
      " Average Recall     (AR) @[ IoU=0.50:0.95 | area=   all | maxDets=100 ] = 0.261\n",
      " Average Recall     (AR) @[ IoU=0.50:0.95 | area= small | maxDets=100 ] = 0.261\n",
      " Average Recall     (AR) @[ IoU=0.50:0.95 | area=medium | maxDets=100 ] = -1.000\n",
      " Average Recall     (AR) @[ IoU=0.50:0.95 | area= large | maxDets=100 ] = -1.000\n",
      "starting epoch 10\n",
      "Epoch: [10]  [  0/200]  eta: 0:02:28  lr: 0.000005  loss: 0.0491 (0.0491)  loss_classifier: 0.0083 (0.0083)  loss_box_reg: 0.0074 (0.0074)  loss_objectness: 0.0178 (0.0178)  loss_rpn_box_reg: 0.0156 (0.0156)  time: 0.7414  data: 0.3141  max mem: 0\n",
      "Epoch: [10]  [ 50/200]  eta: 0:01:08  lr: 0.000005  loss: 0.0646 (0.0643)  loss_classifier: 0.0104 (0.0110)  loss_box_reg: 0.0120 (0.0125)  loss_objectness: 0.0154 (0.0162)  loss_rpn_box_reg: 0.0233 (0.0246)  time: 0.4424  data: 0.0286  max mem: 0\n",
      "Epoch: [10]  [100/200]  eta: 0:00:44  lr: 0.000005  loss: 0.0662 (0.0646)  loss_classifier: 0.0111 (0.0113)  loss_box_reg: 0.0127 (0.0128)  loss_objectness: 0.0170 (0.0165)  loss_rpn_box_reg: 0.0236 (0.0239)  time: 0.4428  data: 0.0278  max mem: 0\n",
      "Epoch: [10]  [150/200]  eta: 0:00:22  lr: 0.000005  loss: 0.0657 (0.0650)  loss_classifier: 0.0105 (0.0114)  loss_box_reg: 0.0126 (0.0130)  loss_objectness: 0.0150 (0.0166)  loss_rpn_box_reg: 0.0247 (0.0241)  time: 0.4446  data: 0.0276  max mem: 0\n",
      "Epoch: [10]  [199/200]  eta: 0:00:00  lr: 0.000005  loss: 0.0657 (0.0653)  loss_classifier: 0.0125 (0.0115)  loss_box_reg: 0.0136 (0.0131)  loss_objectness: 0.0170 (0.0164)  loss_rpn_box_reg: 0.0241 (0.0244)  time: 0.4479  data: 0.0278  max mem: 0\n",
      "Epoch: [10] Total time: 0:01:29 (0.4483 s / it)\n",
      "creating index...\n",
      "index created!\n",
      "Test:  [ 0/50]  eta: 0:00:31  model_time: 0.2296 (0.2296)  evaluator_time: 0.0237 (0.0237)  time: 0.6230  data: 0.3437  max mem: 0\n",
      "Test:  [49/50]  eta: 0:00:00  model_time: 0.1794 (0.1816)  evaluator_time: 0.0056 (0.0068)  time: 0.2206  data: 0.0239  max mem: 0\n",
      "Test: Total time: 0:00:11 (0.2304 s / it)\n",
      "Averaged stats: model_time: 0.1794 (0.1816)  evaluator_time: 0.0056 (0.0068)\n",
      "Accumulating evaluation results...\n",
      "DONE (t=0.04s).\n",
      "IoU metric: bbox\n",
      " Average Precision  (AP) @[ IoU=0.50:0.95 | area=   all | maxDets=100 ] = 0.145\n",
      " Average Precision  (AP) @[ IoU=0.50      | area=   all | maxDets=100 ] = 0.705\n",
      " Average Precision  (AP) @[ IoU=0.75      | area=   all | maxDets=100 ] = 0.001\n",
      " Average Precision  (AP) @[ IoU=0.50:0.95 | area= small | maxDets=100 ] = 0.145\n",
      " Average Precision  (AP) @[ IoU=0.50:0.95 | area=medium | maxDets=100 ] = -1.000\n",
      " Average Precision  (AP) @[ IoU=0.50:0.95 | area= large | maxDets=100 ] = -1.000\n",
      " Average Recall     (AR) @[ IoU=0.50:0.95 | area=   all | maxDets=  1 ] = 0.176\n",
      " Average Recall     (AR) @[ IoU=0.50:0.95 | area=   all | maxDets= 10 ] = 0.256\n",
      " Average Recall     (AR) @[ IoU=0.50:0.95 | area=   all | maxDets=100 ] = 0.256\n",
      " Average Recall     (AR) @[ IoU=0.50:0.95 | area= small | maxDets=100 ] = 0.256\n",
      " Average Recall     (AR) @[ IoU=0.50:0.95 | area=medium | maxDets=100 ] = -1.000\n",
      " Average Recall     (AR) @[ IoU=0.50:0.95 | area= large | maxDets=100 ] = -1.000\n",
      "starting epoch 11\n",
      "Epoch: [11]  [  0/200]  eta: 0:02:38  lr: 0.000005  loss: 0.0478 (0.0478)  loss_classifier: 0.0093 (0.0093)  loss_box_reg: 0.0124 (0.0124)  loss_objectness: 0.0161 (0.0161)  loss_rpn_box_reg: 0.0100 (0.0100)  time: 0.7950  data: 0.2870  max mem: 0\n",
      "Epoch: [11]  [ 50/200]  eta: 0:01:07  lr: 0.000005  loss: 0.0571 (0.0647)  loss_classifier: 0.0101 (0.0110)  loss_box_reg: 0.0132 (0.0138)  loss_objectness: 0.0148 (0.0155)  loss_rpn_box_reg: 0.0182 (0.0245)  time: 0.4379  data: 0.0267  max mem: 0\n",
      "Epoch: [11]  [100/200]  eta: 0:00:44  lr: 0.000005  loss: 0.0602 (0.0659)  loss_classifier: 0.0112 (0.0115)  loss_box_reg: 0.0132 (0.0136)  loss_objectness: 0.0156 (0.0164)  loss_rpn_box_reg: 0.0222 (0.0243)  time: 0.4443  data: 0.0270  max mem: 0\n",
      "Epoch: [11]  [150/200]  eta: 0:00:22  lr: 0.000005  loss: 0.0607 (0.0661)  loss_classifier: 0.0105 (0.0114)  loss_box_reg: 0.0117 (0.0133)  loss_objectness: 0.0167 (0.0172)  loss_rpn_box_reg: 0.0205 (0.0242)  time: 0.4399  data: 0.0266  max mem: 0\n",
      "Epoch: [11]  [199/200]  eta: 0:00:00  lr: 0.000005  loss: 0.0653 (0.0659)  loss_classifier: 0.0103 (0.0114)  loss_box_reg: 0.0115 (0.0131)  loss_objectness: 0.0177 (0.0171)  loss_rpn_box_reg: 0.0253 (0.0243)  time: 0.4395  data: 0.0258  max mem: 0\n",
      "Epoch: [11] Total time: 0:01:28 (0.4427 s / it)\n",
      "creating index...\n",
      "index created!\n",
      "Test:  [ 0/50]  eta: 0:00:26  model_time: 0.2379 (0.2379)  evaluator_time: 0.0095 (0.0095)  time: 0.5384  data: 0.2812  max mem: 0\n",
      "Test:  [49/50]  eta: 0:00:00  model_time: 0.1788 (0.1823)  evaluator_time: 0.0057 (0.0071)  time: 0.2210  data: 0.0253  max mem: 0\n",
      "Test: Total time: 0:00:11 (0.2299 s / it)\n",
      "Averaged stats: model_time: 0.1788 (0.1823)  evaluator_time: 0.0057 (0.0071)\n",
      "Accumulating evaluation results...\n",
      "DONE (t=0.06s).\n",
      "IoU metric: bbox\n",
      " Average Precision  (AP) @[ IoU=0.50:0.95 | area=   all | maxDets=100 ] = 0.145\n",
      " Average Precision  (AP) @[ IoU=0.50      | area=   all | maxDets=100 ] = 0.713\n",
      " Average Precision  (AP) @[ IoU=0.75      | area=   all | maxDets=100 ] = 0.001\n",
      " Average Precision  (AP) @[ IoU=0.50:0.95 | area= small | maxDets=100 ] = 0.145\n",
      " Average Precision  (AP) @[ IoU=0.50:0.95 | area=medium | maxDets=100 ] = -1.000\n",
      " Average Precision  (AP) @[ IoU=0.50:0.95 | area= large | maxDets=100 ] = -1.000\n",
      " Average Recall     (AR) @[ IoU=0.50:0.95 | area=   all | maxDets=  1 ] = 0.178\n",
      " Average Recall     (AR) @[ IoU=0.50:0.95 | area=   all | maxDets= 10 ] = 0.256\n",
      " Average Recall     (AR) @[ IoU=0.50:0.95 | area=   all | maxDets=100 ] = 0.256\n",
      " Average Recall     (AR) @[ IoU=0.50:0.95 | area= small | maxDets=100 ] = 0.256\n",
      " Average Recall     (AR) @[ IoU=0.50:0.95 | area=medium | maxDets=100 ] = -1.000\n",
      " Average Recall     (AR) @[ IoU=0.50:0.95 | area= large | maxDets=100 ] = -1.000\n",
      "starting epoch 12\n",
      "Epoch: [12]  [  0/200]  eta: 0:02:29  lr: 0.000000  loss: 0.0761 (0.0761)  loss_classifier: 0.0125 (0.0125)  loss_box_reg: 0.0108 (0.0108)  loss_objectness: 0.0172 (0.0172)  loss_rpn_box_reg: 0.0356 (0.0356)  time: 0.7465  data: 0.3238  max mem: 0\n",
      "Epoch: [12]  [ 50/200]  eta: 0:01:07  lr: 0.000000  loss: 0.0633 (0.0648)  loss_classifier: 0.0114 (0.0115)  loss_box_reg: 0.0138 (0.0129)  loss_objectness: 0.0170 (0.0178)  loss_rpn_box_reg: 0.0233 (0.0225)  time: 0.4389  data: 0.0281  max mem: 0\n",
      "Epoch: [12]  [100/200]  eta: 0:00:44  lr: 0.000000  loss: 0.0672 (0.0668)  loss_classifier: 0.0116 (0.0116)  loss_box_reg: 0.0132 (0.0132)  loss_objectness: 0.0160 (0.0178)  loss_rpn_box_reg: 0.0267 (0.0242)  time: 0.4479  data: 0.0290  max mem: 0\n",
      "Epoch: [12]  [150/200]  eta: 0:00:22  lr: 0.000000  loss: 0.0617 (0.0658)  loss_classifier: 0.0102 (0.0116)  loss_box_reg: 0.0115 (0.0130)  loss_objectness: 0.0167 (0.0175)  loss_rpn_box_reg: 0.0214 (0.0237)  time: 0.4627  data: 0.0342  max mem: 0\n",
      "Epoch: [12]  [199/200]  eta: 0:00:00  lr: 0.000000  loss: 0.0665 (0.0660)  loss_classifier: 0.0109 (0.0114)  loss_box_reg: 0.0128 (0.0130)  loss_objectness: 0.0184 (0.0173)  loss_rpn_box_reg: 0.0217 (0.0243)  time: 0.4504  data: 0.0280  max mem: 0\n",
      "Epoch: [12] Total time: 0:01:30 (0.4526 s / it)\n",
      "creating index...\n",
      "index created!\n",
      "Test:  [ 0/50]  eta: 0:00:30  model_time: 0.2639 (0.2639)  evaluator_time: 0.0225 (0.0225)  time: 0.6180  data: 0.3154  max mem: 0\n",
      "Test:  [49/50]  eta: 0:00:00  model_time: 0.1825 (0.1866)  evaluator_time: 0.0061 (0.0076)  time: 0.2276  data: 0.0268  max mem: 0\n",
      "Test: Total time: 0:00:11 (0.2390 s / it)\n",
      "Averaged stats: model_time: 0.1825 (0.1866)  evaluator_time: 0.0061 (0.0076)\n",
      "Accumulating evaluation results...\n",
      "DONE (t=0.04s).\n",
      "IoU metric: bbox\n",
      " Average Precision  (AP) @[ IoU=0.50:0.95 | area=   all | maxDets=100 ] = 0.144\n",
      " Average Precision  (AP) @[ IoU=0.50      | area=   all | maxDets=100 ] = 0.711\n",
      " Average Precision  (AP) @[ IoU=0.75      | area=   all | maxDets=100 ] = 0.001\n",
      " Average Precision  (AP) @[ IoU=0.50:0.95 | area= small | maxDets=100 ] = 0.144\n",
      " Average Precision  (AP) @[ IoU=0.50:0.95 | area=medium | maxDets=100 ] = -1.000\n",
      " Average Precision  (AP) @[ IoU=0.50:0.95 | area= large | maxDets=100 ] = -1.000\n",
      " Average Recall     (AR) @[ IoU=0.50:0.95 | area=   all | maxDets=  1 ] = 0.176\n",
      " Average Recall     (AR) @[ IoU=0.50:0.95 | area=   all | maxDets= 10 ] = 0.256\n",
      " Average Recall     (AR) @[ IoU=0.50:0.95 | area=   all | maxDets=100 ] = 0.256\n",
      " Average Recall     (AR) @[ IoU=0.50:0.95 | area= small | maxDets=100 ] = 0.256\n",
      " Average Recall     (AR) @[ IoU=0.50:0.95 | area=medium | maxDets=100 ] = -1.000\n",
      " Average Recall     (AR) @[ IoU=0.50:0.95 | area= large | maxDets=100 ] = -1.000\n",
      "starting epoch 13\n",
      "Epoch: [13]  [  0/200]  eta: 0:02:49  lr: 0.000000  loss: 0.0502 (0.0502)  loss_classifier: 0.0089 (0.0089)  loss_box_reg: 0.0107 (0.0107)  loss_objectness: 0.0181 (0.0181)  loss_rpn_box_reg: 0.0125 (0.0125)  time: 0.8486  data: 0.3368  max mem: 0\n",
      "Epoch: [13]  [ 50/200]  eta: 0:01:09  lr: 0.000000  loss: 0.0601 (0.0647)  loss_classifier: 0.0113 (0.0115)  loss_box_reg: 0.0116 (0.0130)  loss_objectness: 0.0165 (0.0162)  loss_rpn_box_reg: 0.0215 (0.0240)  time: 0.4610  data: 0.0303  max mem: 0\n",
      "Epoch: [13]  [100/200]  eta: 0:00:45  lr: 0.000000  loss: 0.0636 (0.0659)  loss_classifier: 0.0110 (0.0115)  loss_box_reg: 0.0117 (0.0129)  loss_objectness: 0.0179 (0.0172)  loss_rpn_box_reg: 0.0202 (0.0243)  time: 0.4555  data: 0.0293  max mem: 0\n",
      "Epoch: [13]  [150/200]  eta: 0:00:22  lr: 0.000000  loss: 0.0677 (0.0660)  loss_classifier: 0.0110 (0.0115)  loss_box_reg: 0.0123 (0.0129)  loss_objectness: 0.0185 (0.0176)  loss_rpn_box_reg: 0.0205 (0.0241)  time: 0.4626  data: 0.0299  max mem: 0\n",
      "Epoch: [13]  [199/200]  eta: 0:00:00  lr: 0.000000  loss: 0.0649 (0.0663)  loss_classifier: 0.0112 (0.0115)  loss_box_reg: 0.0126 (0.0130)  loss_objectness: 0.0174 (0.0175)  loss_rpn_box_reg: 0.0222 (0.0243)  time: 0.4443  data: 0.0273  max mem: 0\n",
      "Epoch: [13] Total time: 0:01:31 (0.4551 s / it)\n",
      "creating index...\n",
      "index created!\n",
      "Test:  [ 0/50]  eta: 0:00:25  model_time: 0.2316 (0.2316)  evaluator_time: 0.0091 (0.0091)  time: 0.5092  data: 0.2491  max mem: 0\n",
      "Test:  [49/50]  eta: 0:00:00  model_time: 0.1799 (0.1818)  evaluator_time: 0.0061 (0.0066)  time: 0.2208  data: 0.0251  max mem: 0\n",
      "Test: Total time: 0:00:11 (0.2310 s / it)\n",
      "Averaged stats: model_time: 0.1799 (0.1818)  evaluator_time: 0.0061 (0.0066)\n",
      "Accumulating evaluation results...\n",
      "DONE (t=0.07s).\n",
      "IoU metric: bbox\n",
      " Average Precision  (AP) @[ IoU=0.50:0.95 | area=   all | maxDets=100 ] = 0.143\n",
      " Average Precision  (AP) @[ IoU=0.50      | area=   all | maxDets=100 ] = 0.708\n",
      " Average Precision  (AP) @[ IoU=0.75      | area=   all | maxDets=100 ] = 0.001\n",
      " Average Precision  (AP) @[ IoU=0.50:0.95 | area= small | maxDets=100 ] = 0.143\n",
      " Average Precision  (AP) @[ IoU=0.50:0.95 | area=medium | maxDets=100 ] = -1.000\n",
      " Average Precision  (AP) @[ IoU=0.50:0.95 | area= large | maxDets=100 ] = -1.000\n",
      " Average Recall     (AR) @[ IoU=0.50:0.95 | area=   all | maxDets=  1 ] = 0.176\n",
      " Average Recall     (AR) @[ IoU=0.50:0.95 | area=   all | maxDets= 10 ] = 0.258\n",
      " Average Recall     (AR) @[ IoU=0.50:0.95 | area=   all | maxDets=100 ] = 0.258\n",
      " Average Recall     (AR) @[ IoU=0.50:0.95 | area= small | maxDets=100 ] = 0.258\n",
      " Average Recall     (AR) @[ IoU=0.50:0.95 | area=medium | maxDets=100 ] = -1.000\n",
      " Average Recall     (AR) @[ IoU=0.50:0.95 | area= large | maxDets=100 ] = -1.000\n",
      "starting epoch 14\n",
      "Epoch: [14]  [  0/200]  eta: 0:02:38  lr: 0.000000  loss: 0.0933 (0.0933)  loss_classifier: 0.0130 (0.0130)  loss_box_reg: 0.0132 (0.0132)  loss_objectness: 0.0189 (0.0189)  loss_rpn_box_reg: 0.0482 (0.0482)  time: 0.7915  data: 0.3690  max mem: 0\n",
      "Epoch: [14]  [ 50/200]  eta: 0:01:06  lr: 0.000000  loss: 0.0649 (0.0642)  loss_classifier: 0.0105 (0.0108)  loss_box_reg: 0.0113 (0.0131)  loss_objectness: 0.0143 (0.0162)  loss_rpn_box_reg: 0.0214 (0.0242)  time: 0.4362  data: 0.0258  max mem: 0\n",
      "Epoch: [14]  [100/200]  eta: 0:00:44  lr: 0.000000  loss: 0.0609 (0.0635)  loss_classifier: 0.0115 (0.0109)  loss_box_reg: 0.0122 (0.0128)  loss_objectness: 0.0163 (0.0165)  loss_rpn_box_reg: 0.0201 (0.0233)  time: 0.4369  data: 0.0265  max mem: 0\n",
      "Epoch: [14]  [150/200]  eta: 0:00:22  lr: 0.000000  loss: 0.0612 (0.0644)  loss_classifier: 0.0118 (0.0112)  loss_box_reg: 0.0116 (0.0128)  loss_objectness: 0.0158 (0.0164)  loss_rpn_box_reg: 0.0202 (0.0240)  time: 0.4448  data: 0.0262  max mem: 0\n",
      "Epoch: [14]  [199/200]  eta: 0:00:00  lr: 0.000000  loss: 0.0642 (0.0655)  loss_classifier: 0.0110 (0.0113)  loss_box_reg: 0.0128 (0.0130)  loss_objectness: 0.0173 (0.0168)  loss_rpn_box_reg: 0.0215 (0.0243)  time: 0.4389  data: 0.0267  max mem: 0\n",
      "Epoch: [14] Total time: 0:01:28 (0.4424 s / it)\n",
      "creating index...\n",
      "index created!\n",
      "Test:  [ 0/50]  eta: 0:00:29  model_time: 0.2588 (0.2588)  evaluator_time: 0.0104 (0.0104)  time: 0.5965  data: 0.3037  max mem: 0\n",
      "Test:  [49/50]  eta: 0:00:00  model_time: 0.1773 (0.1813)  evaluator_time: 0.0054 (0.0060)  time: 0.2184  data: 0.0266  max mem: 0\n",
      "Test: Total time: 0:00:11 (0.2295 s / it)\n",
      "Averaged stats: model_time: 0.1773 (0.1813)  evaluator_time: 0.0054 (0.0060)\n",
      "Accumulating evaluation results...\n",
      "DONE (t=0.04s).\n",
      "IoU metric: bbox\n",
      " Average Precision  (AP) @[ IoU=0.50:0.95 | area=   all | maxDets=100 ] = 0.145\n",
      " Average Precision  (AP) @[ IoU=0.50      | area=   all | maxDets=100 ] = 0.710\n",
      " Average Precision  (AP) @[ IoU=0.75      | area=   all | maxDets=100 ] = 0.001\n",
      " Average Precision  (AP) @[ IoU=0.50:0.95 | area= small | maxDets=100 ] = 0.145\n",
      " Average Precision  (AP) @[ IoU=0.50:0.95 | area=medium | maxDets=100 ] = -1.000\n",
      " Average Precision  (AP) @[ IoU=0.50:0.95 | area= large | maxDets=100 ] = -1.000\n",
      " Average Recall     (AR) @[ IoU=0.50:0.95 | area=   all | maxDets=  1 ] = 0.177\n",
      " Average Recall     (AR) @[ IoU=0.50:0.95 | area=   all | maxDets= 10 ] = 0.259\n",
      " Average Recall     (AR) @[ IoU=0.50:0.95 | area=   all | maxDets=100 ] = 0.259\n",
      " Average Recall     (AR) @[ IoU=0.50:0.95 | area= small | maxDets=100 ] = 0.259\n",
      " Average Recall     (AR) @[ IoU=0.50:0.95 | area=medium | maxDets=100 ] = -1.000\n",
      " Average Recall     (AR) @[ IoU=0.50:0.95 | area= large | maxDets=100 ] = -1.000\n",
      "starting epoch 15\n",
      "Epoch: [15]  [  0/200]  eta: 0:02:15  lr: 0.000000  loss: 0.0630 (0.0630)  loss_classifier: 0.0141 (0.0141)  loss_box_reg: 0.0122 (0.0122)  loss_objectness: 0.0207 (0.0207)  loss_rpn_box_reg: 0.0160 (0.0160)  time: 0.6767  data: 0.2536  max mem: 0\n",
      "Epoch: [15]  [ 50/200]  eta: 0:01:06  lr: 0.000000  loss: 0.0640 (0.0645)  loss_classifier: 0.0111 (0.0117)  loss_box_reg: 0.0124 (0.0123)  loss_objectness: 0.0166 (0.0179)  loss_rpn_box_reg: 0.0239 (0.0226)  time: 0.4405  data: 0.0287  max mem: 0\n",
      "Epoch: [15]  [100/200]  eta: 0:00:44  lr: 0.000000  loss: 0.0718 (0.0662)  loss_classifier: 0.0116 (0.0116)  loss_box_reg: 0.0122 (0.0128)  loss_objectness: 0.0176 (0.0178)  loss_rpn_box_reg: 0.0244 (0.0240)  time: 0.4424  data: 0.0269  max mem: 0\n",
      "Epoch: [15]  [150/200]  eta: 0:00:22  lr: 0.000000  loss: 0.0645 (0.0657)  loss_classifier: 0.0112 (0.0115)  loss_box_reg: 0.0144 (0.0129)  loss_objectness: 0.0159 (0.0173)  loss_rpn_box_reg: 0.0255 (0.0240)  time: 0.4483  data: 0.0289  max mem: 0\n",
      "Epoch: [15]  [199/200]  eta: 0:00:00  lr: 0.000000  loss: 0.0671 (0.0660)  loss_classifier: 0.0113 (0.0115)  loss_box_reg: 0.0129 (0.0130)  loss_objectness: 0.0165 (0.0172)  loss_rpn_box_reg: 0.0207 (0.0243)  time: 0.4455  data: 0.0273  max mem: 0\n",
      "Epoch: [15] Total time: 0:01:29 (0.4467 s / it)\n",
      "creating index...\n",
      "index created!\n",
      "Test:  [ 0/50]  eta: 0:00:26  model_time: 0.2322 (0.2322)  evaluator_time: 0.0097 (0.0097)  time: 0.5244  data: 0.2729  max mem: 0\n",
      "Test:  [49/50]  eta: 0:00:00  model_time: 0.1800 (0.1818)  evaluator_time: 0.0058 (0.0068)  time: 0.2208  data: 0.0257  max mem: 0\n",
      "Test: Total time: 0:00:11 (0.2312 s / it)\n",
      "Averaged stats: model_time: 0.1800 (0.1818)  evaluator_time: 0.0058 (0.0068)\n",
      "Accumulating evaluation results...\n",
      "DONE (t=0.05s).\n",
      "IoU metric: bbox\n",
      " Average Precision  (AP) @[ IoU=0.50:0.95 | area=   all | maxDets=100 ] = 0.145\n",
      " Average Precision  (AP) @[ IoU=0.50      | area=   all | maxDets=100 ] = 0.710\n",
      " Average Precision  (AP) @[ IoU=0.75      | area=   all | maxDets=100 ] = 0.001\n",
      " Average Precision  (AP) @[ IoU=0.50:0.95 | area= small | maxDets=100 ] = 0.145\n",
      " Average Precision  (AP) @[ IoU=0.50:0.95 | area=medium | maxDets=100 ] = -1.000\n",
      " Average Precision  (AP) @[ IoU=0.50:0.95 | area= large | maxDets=100 ] = -1.000\n",
      " Average Recall     (AR) @[ IoU=0.50:0.95 | area=   all | maxDets=  1 ] = 0.177\n",
      " Average Recall     (AR) @[ IoU=0.50:0.95 | area=   all | maxDets= 10 ] = 0.258\n",
      " Average Recall     (AR) @[ IoU=0.50:0.95 | area=   all | maxDets=100 ] = 0.258\n",
      " Average Recall     (AR) @[ IoU=0.50:0.95 | area= small | maxDets=100 ] = 0.258\n",
      " Average Recall     (AR) @[ IoU=0.50:0.95 | area=medium | maxDets=100 ] = -1.000\n",
      " Average Recall     (AR) @[ IoU=0.50:0.95 | area= large | maxDets=100 ] = -1.000\n",
      "starting epoch 16\n",
      "Epoch: [16]  [  0/200]  eta: 0:02:34  lr: 0.000000  loss: 0.0579 (0.0579)  loss_classifier: 0.0142 (0.0142)  loss_box_reg: 0.0113 (0.0113)  loss_objectness: 0.0114 (0.0114)  loss_rpn_box_reg: 0.0210 (0.0210)  time: 0.7719  data: 0.3587  max mem: 0\n",
      "Epoch: [16]  [ 50/200]  eta: 0:01:07  lr: 0.000000  loss: 0.0624 (0.0656)  loss_classifier: 0.0111 (0.0116)  loss_box_reg: 0.0123 (0.0135)  loss_objectness: 0.0179 (0.0174)  loss_rpn_box_reg: 0.0178 (0.0231)  time: 0.4439  data: 0.0284  max mem: 0\n",
      "Epoch: [16]  [100/200]  eta: 0:00:44  lr: 0.000000  loss: 0.0611 (0.0664)  loss_classifier: 0.0117 (0.0115)  loss_box_reg: 0.0124 (0.0131)  loss_objectness: 0.0152 (0.0174)  loss_rpn_box_reg: 0.0218 (0.0244)  time: 0.4399  data: 0.0273  max mem: 0\n",
      "Epoch: [16]  [150/200]  eta: 0:00:22  lr: 0.000000  loss: 0.0631 (0.0655)  loss_classifier: 0.0110 (0.0115)  loss_box_reg: 0.0124 (0.0131)  loss_objectness: 0.0150 (0.0169)  loss_rpn_box_reg: 0.0211 (0.0240)  time: 0.4397  data: 0.0246  max mem: 0\n",
      "Epoch: [16]  [199/200]  eta: 0:00:00  lr: 0.000000  loss: 0.0664 (0.0658)  loss_classifier: 0.0125 (0.0115)  loss_box_reg: 0.0140 (0.0130)  loss_objectness: 0.0167 (0.0170)  loss_rpn_box_reg: 0.0238 (0.0243)  time: 0.4431  data: 0.0268  max mem: 0\n",
      "Epoch: [16] Total time: 0:01:28 (0.4434 s / it)\n",
      "creating index...\n",
      "index created!\n",
      "Test:  [ 0/50]  eta: 0:01:05  model_time: 0.2587 (0.2587)  evaluator_time: 0.0095 (0.0095)  time: 1.3159  data: 1.0384  max mem: 0\n",
      "Test:  [49/50]  eta: 0:00:00  model_time: 0.1793 (0.1823)  evaluator_time: 0.0056 (0.0063)  time: 0.2204  data: 0.0269  max mem: 0\n",
      "Test: Total time: 0:00:12 (0.2525 s / it)\n",
      "Averaged stats: model_time: 0.1793 (0.1823)  evaluator_time: 0.0056 (0.0063)\n",
      "Accumulating evaluation results...\n",
      "DONE (t=0.05s).\n",
      "IoU metric: bbox\n",
      " Average Precision  (AP) @[ IoU=0.50:0.95 | area=   all | maxDets=100 ] = 0.145\n",
      " Average Precision  (AP) @[ IoU=0.50      | area=   all | maxDets=100 ] = 0.710\n",
      " Average Precision  (AP) @[ IoU=0.75      | area=   all | maxDets=100 ] = 0.001\n",
      " Average Precision  (AP) @[ IoU=0.50:0.95 | area= small | maxDets=100 ] = 0.145\n",
      " Average Precision  (AP) @[ IoU=0.50:0.95 | area=medium | maxDets=100 ] = -1.000\n",
      " Average Precision  (AP) @[ IoU=0.50:0.95 | area= large | maxDets=100 ] = -1.000\n",
      " Average Recall     (AR) @[ IoU=0.50:0.95 | area=   all | maxDets=  1 ] = 0.177\n",
      " Average Recall     (AR) @[ IoU=0.50:0.95 | area=   all | maxDets= 10 ] = 0.259\n",
      " Average Recall     (AR) @[ IoU=0.50:0.95 | area=   all | maxDets=100 ] = 0.259\n",
      " Average Recall     (AR) @[ IoU=0.50:0.95 | area= small | maxDets=100 ] = 0.259\n",
      " Average Recall     (AR) @[ IoU=0.50:0.95 | area=medium | maxDets=100 ] = -1.000\n",
      " Average Recall     (AR) @[ IoU=0.50:0.95 | area= large | maxDets=100 ] = -1.000\n",
      "starting epoch 17\n",
      "Epoch: [17]  [  0/200]  eta: 0:02:22  lr: 0.000000  loss: 0.0856 (0.0856)  loss_classifier: 0.0119 (0.0119)  loss_box_reg: 0.0153 (0.0153)  loss_objectness: 0.0235 (0.0235)  loss_rpn_box_reg: 0.0349 (0.0349)  time: 0.7122  data: 0.2676  max mem: 0\n",
      "Epoch: [17]  [ 50/200]  eta: 0:01:07  lr: 0.000000  loss: 0.0595 (0.0665)  loss_classifier: 0.0102 (0.0117)  loss_box_reg: 0.0124 (0.0130)  loss_objectness: 0.0127 (0.0184)  loss_rpn_box_reg: 0.0183 (0.0235)  time: 0.4411  data: 0.0277  max mem: 0\n",
      "Epoch: [17]  [100/200]  eta: 0:00:44  lr: 0.000000  loss: 0.0593 (0.0670)  loss_classifier: 0.0113 (0.0115)  loss_box_reg: 0.0137 (0.0133)  loss_objectness: 0.0145 (0.0174)  loss_rpn_box_reg: 0.0217 (0.0248)  time: 0.4482  data: 0.0287  max mem: 0\n",
      "Epoch: [17]  [150/200]  eta: 0:00:22  lr: 0.000000  loss: 0.0592 (0.0663)  loss_classifier: 0.0098 (0.0113)  loss_box_reg: 0.0125 (0.0131)  loss_objectness: 0.0186 (0.0174)  loss_rpn_box_reg: 0.0172 (0.0245)  time: 0.4459  data: 0.0287  max mem: 0\n",
      "Epoch: [17]  [199/200]  eta: 0:00:00  lr: 0.000000  loss: 0.0633 (0.0659)  loss_classifier: 0.0113 (0.0114)  loss_box_reg: 0.0124 (0.0130)  loss_objectness: 0.0162 (0.0173)  loss_rpn_box_reg: 0.0220 (0.0243)  time: 0.4414  data: 0.0272  max mem: 0\n",
      "Epoch: [17] Total time: 0:01:29 (0.4470 s / it)\n",
      "creating index...\n",
      "index created!\n",
      "Test:  [ 0/50]  eta: 0:00:28  model_time: 0.2292 (0.2292)  evaluator_time: 0.0086 (0.0086)  time: 0.5675  data: 0.3209  max mem: 0\n",
      "Test:  [49/50]  eta: 0:00:00  model_time: 0.1788 (0.1808)  evaluator_time: 0.0058 (0.0061)  time: 0.2198  data: 0.0265  max mem: 0\n",
      "Test: Total time: 0:00:11 (0.2295 s / it)\n",
      "Averaged stats: model_time: 0.1788 (0.1808)  evaluator_time: 0.0058 (0.0061)\n",
      "Accumulating evaluation results...\n",
      "DONE (t=0.05s).\n",
      "IoU metric: bbox\n",
      " Average Precision  (AP) @[ IoU=0.50:0.95 | area=   all | maxDets=100 ] = 0.145\n",
      " Average Precision  (AP) @[ IoU=0.50      | area=   all | maxDets=100 ] = 0.710\n",
      " Average Precision  (AP) @[ IoU=0.75      | area=   all | maxDets=100 ] = 0.001\n",
      " Average Precision  (AP) @[ IoU=0.50:0.95 | area= small | maxDets=100 ] = 0.145\n",
      " Average Precision  (AP) @[ IoU=0.50:0.95 | area=medium | maxDets=100 ] = -1.000\n",
      " Average Precision  (AP) @[ IoU=0.50:0.95 | area= large | maxDets=100 ] = -1.000\n",
      " Average Recall     (AR) @[ IoU=0.50:0.95 | area=   all | maxDets=  1 ] = 0.177\n",
      " Average Recall     (AR) @[ IoU=0.50:0.95 | area=   all | maxDets= 10 ] = 0.258\n",
      " Average Recall     (AR) @[ IoU=0.50:0.95 | area=   all | maxDets=100 ] = 0.258\n",
      " Average Recall     (AR) @[ IoU=0.50:0.95 | area= small | maxDets=100 ] = 0.258\n",
      " Average Recall     (AR) @[ IoU=0.50:0.95 | area=medium | maxDets=100 ] = -1.000\n",
      " Average Recall     (AR) @[ IoU=0.50:0.95 | area= large | maxDets=100 ] = -1.000\n",
      "starting epoch 18\n",
      "Epoch: [18]  [  0/200]  eta: 0:02:31  lr: 0.000000  loss: 0.0655 (0.0655)  loss_classifier: 0.0100 (0.0100)  loss_box_reg: 0.0140 (0.0140)  loss_objectness: 0.0150 (0.0150)  loss_rpn_box_reg: 0.0264 (0.0264)  time: 0.7562  data: 0.3300  max mem: 0\n",
      "Epoch: [18]  [ 50/200]  eta: 0:01:06  lr: 0.000000  loss: 0.0632 (0.0677)  loss_classifier: 0.0115 (0.0122)  loss_box_reg: 0.0133 (0.0134)  loss_objectness: 0.0155 (0.0170)  loss_rpn_box_reg: 0.0220 (0.0251)  time: 0.4419  data: 0.0255  max mem: 0\n",
      "Epoch: [18]  [100/200]  eta: 0:00:44  lr: 0.000000  loss: 0.0569 (0.0666)  loss_classifier: 0.0109 (0.0118)  loss_box_reg: 0.0118 (0.0131)  loss_objectness: 0.0153 (0.0169)  loss_rpn_box_reg: 0.0186 (0.0248)  time: 0.4490  data: 0.0285  max mem: 0\n",
      "Epoch: [18]  [150/200]  eta: 0:00:22  lr: 0.000000  loss: 0.0586 (0.0666)  loss_classifier: 0.0122 (0.0117)  loss_box_reg: 0.0118 (0.0130)  loss_objectness: 0.0137 (0.0171)  loss_rpn_box_reg: 0.0195 (0.0248)  time: 0.4558  data: 0.0284  max mem: 0\n",
      "Epoch: [18]  [199/200]  eta: 0:00:00  lr: 0.000000  loss: 0.0580 (0.0659)  loss_classifier: 0.0099 (0.0115)  loss_box_reg: 0.0119 (0.0130)  loss_objectness: 0.0168 (0.0171)  loss_rpn_box_reg: 0.0196 (0.0243)  time: 0.4480  data: 0.0280  max mem: 0\n",
      "Epoch: [18] Total time: 0:01:29 (0.4484 s / it)\n",
      "creating index...\n",
      "index created!\n",
      "Test:  [ 0/50]  eta: 0:00:28  model_time: 0.2507 (0.2507)  evaluator_time: 0.0232 (0.0232)  time: 0.5794  data: 0.2744  max mem: 0\n",
      "Test:  [49/50]  eta: 0:00:00  model_time: 0.1791 (0.1825)  evaluator_time: 0.0061 (0.0070)  time: 0.2207  data: 0.0270  max mem: 0\n",
      "Test: Total time: 0:00:11 (0.2319 s / it)\n",
      "Averaged stats: model_time: 0.1791 (0.1825)  evaluator_time: 0.0061 (0.0070)\n",
      "Accumulating evaluation results...\n",
      "DONE (t=0.04s).\n",
      "IoU metric: bbox\n",
      " Average Precision  (AP) @[ IoU=0.50:0.95 | area=   all | maxDets=100 ] = 0.145\n",
      " Average Precision  (AP) @[ IoU=0.50      | area=   all | maxDets=100 ] = 0.710\n",
      " Average Precision  (AP) @[ IoU=0.75      | area=   all | maxDets=100 ] = 0.001\n",
      " Average Precision  (AP) @[ IoU=0.50:0.95 | area= small | maxDets=100 ] = 0.145\n",
      " Average Precision  (AP) @[ IoU=0.50:0.95 | area=medium | maxDets=100 ] = -1.000\n",
      " Average Precision  (AP) @[ IoU=0.50:0.95 | area= large | maxDets=100 ] = -1.000\n",
      " Average Recall     (AR) @[ IoU=0.50:0.95 | area=   all | maxDets=  1 ] = 0.177\n",
      " Average Recall     (AR) @[ IoU=0.50:0.95 | area=   all | maxDets= 10 ] = 0.258\n",
      " Average Recall     (AR) @[ IoU=0.50:0.95 | area=   all | maxDets=100 ] = 0.258\n",
      " Average Recall     (AR) @[ IoU=0.50:0.95 | area= small | maxDets=100 ] = 0.258\n",
      " Average Recall     (AR) @[ IoU=0.50:0.95 | area=medium | maxDets=100 ] = -1.000\n",
      " Average Recall     (AR) @[ IoU=0.50:0.95 | area= large | maxDets=100 ] = -1.000\n",
      "starting epoch 19\n",
      "Epoch: [19]  [  0/200]  eta: 0:02:24  lr: 0.000000  loss: 0.0735 (0.0735)  loss_classifier: 0.0130 (0.0130)  loss_box_reg: 0.0130 (0.0130)  loss_objectness: 0.0253 (0.0253)  loss_rpn_box_reg: 0.0222 (0.0222)  time: 0.7239  data: 0.3065  max mem: 0\n",
      "Epoch: [19]  [ 50/200]  eta: 0:01:07  lr: 0.000000  loss: 0.0546 (0.0637)  loss_classifier: 0.0105 (0.0114)  loss_box_reg: 0.0106 (0.0123)  loss_objectness: 0.0137 (0.0172)  loss_rpn_box_reg: 0.0187 (0.0227)  time: 0.4390  data: 0.0284  max mem: 0\n",
      "Epoch: [19]  [100/200]  eta: 0:00:44  lr: 0.000000  loss: 0.0590 (0.0638)  loss_classifier: 0.0104 (0.0114)  loss_box_reg: 0.0122 (0.0126)  loss_objectness: 0.0114 (0.0171)  loss_rpn_box_reg: 0.0223 (0.0228)  time: 0.4463  data: 0.0282  max mem: 0\n",
      "Epoch: [19]  [150/200]  eta: 0:00:22  lr: 0.000000  loss: 0.0742 (0.0664)  loss_classifier: 0.0132 (0.0116)  loss_box_reg: 0.0135 (0.0129)  loss_objectness: 0.0186 (0.0180)  loss_rpn_box_reg: 0.0264 (0.0239)  time: 0.4479  data: 0.0276  max mem: 0\n",
      "Epoch: [19]  [199/200]  eta: 0:00:00  lr: 0.000000  loss: 0.0651 (0.0664)  loss_classifier: 0.0109 (0.0115)  loss_box_reg: 0.0124 (0.0130)  loss_objectness: 0.0154 (0.0177)  loss_rpn_box_reg: 0.0235 (0.0243)  time: 0.4479  data: 0.0282  max mem: 0\n",
      "Epoch: [19] Total time: 0:01:29 (0.4473 s / it)\n",
      "creating index...\n",
      "index created!\n",
      "Test:  [ 0/50]  eta: 0:00:26  model_time: 0.2493 (0.2493)  evaluator_time: 0.0091 (0.0091)  time: 0.5273  data: 0.2615  max mem: 0\n",
      "Test:  [49/50]  eta: 0:00:00  model_time: 0.1814 (0.1837)  evaluator_time: 0.0055 (0.0067)  time: 0.2233  data: 0.0260  max mem: 0\n",
      "Test: Total time: 0:00:11 (0.2318 s / it)\n",
      "Averaged stats: model_time: 0.1814 (0.1837)  evaluator_time: 0.0055 (0.0067)\n",
      "Accumulating evaluation results...\n",
      "DONE (t=0.05s).\n",
      "IoU metric: bbox\n",
      " Average Precision  (AP) @[ IoU=0.50:0.95 | area=   all | maxDets=100 ] = 0.145\n",
      " Average Precision  (AP) @[ IoU=0.50      | area=   all | maxDets=100 ] = 0.710\n",
      " Average Precision  (AP) @[ IoU=0.75      | area=   all | maxDets=100 ] = 0.001\n",
      " Average Precision  (AP) @[ IoU=0.50:0.95 | area= small | maxDets=100 ] = 0.145\n",
      " Average Precision  (AP) @[ IoU=0.50:0.95 | area=medium | maxDets=100 ] = -1.000\n",
      " Average Precision  (AP) @[ IoU=0.50:0.95 | area= large | maxDets=100 ] = -1.000\n",
      " Average Recall     (AR) @[ IoU=0.50:0.95 | area=   all | maxDets=  1 ] = 0.177\n",
      " Average Recall     (AR) @[ IoU=0.50:0.95 | area=   all | maxDets= 10 ] = 0.258\n",
      " Average Recall     (AR) @[ IoU=0.50:0.95 | area=   all | maxDets=100 ] = 0.258\n",
      " Average Recall     (AR) @[ IoU=0.50:0.95 | area= small | maxDets=100 ] = 0.258\n",
      " Average Recall     (AR) @[ IoU=0.50:0.95 | area=medium | maxDets=100 ] = -1.000\n",
      " Average Recall     (AR) @[ IoU=0.50:0.95 | area= large | maxDets=100 ] = -1.000\n"
     ]
    }
   ],
   "source": [
    "num_epochs = 20\n",
    "for epoch in trange(num_epochs):\n",
    "    # training for one epoch\n",
    "    print(f\"starting epoch {epoch}\")\n",
    "    train_one_epoch(model, optimizer, data_loader, device, epoch, print_freq=50)\n",
    "    # update the learning rate\n",
    "    lr_scheduler.step()\n",
    "    # evaluate on the test dataset\n",
    "    evaluate(model, data_loader_test, device=device)"
   ]
  },
  {
   "cell_type": "code",
   "execution_count": 25,
   "id": "f08b2bd6-aa50-42ea-8ac1-4fb465a85615",
   "metadata": {},
   "outputs": [
    {
     "name": "stderr",
     "output_type": "stream",
     "text": [
      "No traceback available to show.\n"
     ]
    }
   ],
   "source": [
    "%tb"
   ]
  },
  {
   "cell_type": "markdown",
   "id": "f4f61c30-a2f6-46b3-9ebd-e1ddc6d4054d",
   "metadata": {},
   "source": [
    "#### Save the trained model"
   ]
  },
  {
   "cell_type": "code",
   "execution_count": 26,
   "id": "55436fd2-bcf4-451d-a1ba-82e0cd65ee5b",
   "metadata": {},
   "outputs": [],
   "source": [
    "model_save_path = '/mnt/ceph/home/wj1132075/Desktop/CNN_Model_Data/temp_fasterrcnn_mobilenet_v3_large_320_fpn_pretrained_retrained_full_4x10box.pt'"
   ]
  },
  {
   "cell_type": "code",
   "execution_count": 27,
   "id": "f27cd633-3dd9-46b0-8ae4-60f9e6194075",
   "metadata": {},
   "outputs": [],
   "source": [
    "tc.save(model.state_dict(), model_save_path)"
   ]
  },
  {
   "cell_type": "code",
   "execution_count": 28,
   "id": "93dd71e2-dc2a-467d-a423-7eb292881057",
   "metadata": {},
   "outputs": [
    {
     "name": "stdout",
     "output_type": "stream",
     "text": [
      "predicted #boxes:  2\n",
      "real #boxes:  1\n"
     ]
    }
   ],
   "source": [
    "img, target = dataset_test[5]\n",
    "# put the model in evaluation mode\n",
    "model.eval()\n",
    "with tc.no_grad():\n",
    "    prediction = model([img.to(device)])[0]\n",
    "    \n",
    "print('predicted #boxes: ', len(prediction['labels']))\n",
    "print('real #boxes: ', len(target['labels']))"
   ]
  },
  {
   "cell_type": "code",
   "execution_count": 29,
   "id": "2108cabc-3774-4fd1-be37-5c9a2281bf77",
   "metadata": {},
   "outputs": [
    {
     "data": {
      "text/plain": [
       "{'boxes': tensor([[  41.2605, 1072.9861,   50.8589, 1078.9846],\n",
       "         [ 108.7947, 1074.6990,  119.1324, 1080.7069]], device='cuda:1'),\n",
       " 'labels': tensor([1, 1], device='cuda:1'),\n",
       " 'scores': tensor([0.9801, 0.8968], device='cuda:1')}"
      ]
     },
     "execution_count": 29,
     "metadata": {},
     "output_type": "execute_result"
    }
   ],
   "source": [
    "prediction"
   ]
  },
  {
   "cell_type": "code",
   "execution_count": 30,
   "id": "9f5f0515-c301-4b23-9a89-2194606e3e58",
   "metadata": {},
   "outputs": [
    {
     "data": {
      "text/plain": [
       "{'boxes': tensor([[  40., 1072.,   50., 1078.]]),\n",
       " 'labels': tensor([1]),\n",
       " 'area': tensor([60.]),\n",
       " 'iscrowd': tensor([0]),\n",
       " 'image_id': 1786}"
      ]
     },
     "execution_count": 30,
     "metadata": {},
     "output_type": "execute_result"
    }
   ],
   "source": [
    "target"
   ]
  },
  {
   "cell_type": "code",
   "execution_count": 31,
   "id": "eba50a49-7b7b-4dbb-b810-c64d62f10d42",
   "metadata": {},
   "outputs": [
    {
     "data": {
      "text/plain": [
       "{'boxes': tensor([[  41.2605, 1072.9861,   50.8589, 1078.9846],\n",
       "         [ 108.7947, 1074.6990,  119.1324, 1080.7069]], device='cuda:1'),\n",
       " 'labels': tensor([1, 1], device='cuda:1'),\n",
       " 'scores': tensor([0.9801, 0.8968], device='cuda:1')}"
      ]
     },
     "execution_count": 31,
     "metadata": {},
     "output_type": "execute_result"
    }
   ],
   "source": [
    "nms_prediction = apply_nms(prediction, iou_thresh=0.2)\n",
    "nms_prediction"
   ]
  },
  {
   "cell_type": "code",
   "execution_count": 32,
   "id": "6edfbc53-54bc-49f6-91d2-59992da8cf2b",
   "metadata": {},
   "outputs": [
    {
     "data": {
      "text/plain": [
       "torch.Size([3, 1520, 128])"
      ]
     },
     "execution_count": 32,
     "metadata": {},
     "output_type": "execute_result"
    }
   ],
   "source": [
    "img.shape"
   ]
  },
  {
   "cell_type": "code",
   "execution_count": 33,
   "id": "e4af5bf9-b57d-4e25-b72d-7b1708e30d49",
   "metadata": {},
   "outputs": [
    {
     "data": {
      "image/png": "[encoded data removed]",
      "text/plain": [
       "<Figure size 600x600 with 2 Axes>"
      ]
     },
     "metadata": {},
     "output_type": "display_data"
    }
   ],
   "source": [
    "plot_bin(img[0,:,:], target['boxes'], 0)"
   ]
  },
  {
   "cell_type": "code",
   "execution_count": 34,
   "id": "71026d88-3a7b-4b4e-a824-c2b2dc21e153",
   "metadata": {},
   "outputs": [
    {
     "data": {
      "image/png": "[encoded data removed]",
      "text/plain": [
       "<Figure size 600x600 with 2 Axes>"
      ]
     },
     "metadata": {},
     "output_type": "display_data"
    }
   ],
   "source": [
    "plot_bin(img[0,:,:], nms_prediction['boxes'].cpu(), 0)"
   ]
  },
  {
   "cell_type": "markdown",
   "id": "65c9ac42-4cc9-460f-a102-31785fb8af4a",
   "metadata": {},
   "source": [
    "### Load the model from disk"
   ]
  },
  {
   "cell_type": "code",
   "execution_count": 35,
   "id": "64fd5ac7-4dfa-4197-8cfa-13211f367396",
   "metadata": {},
   "outputs": [
    {
     "ename": "RuntimeError",
     "evalue": "Error(s) in loading state_dict for FasterRCNN:\n\tMissing key(s) in state_dict: \"backbone.body.0.0.weight\", \"backbone.body.0.1.weight\", \"backbone.body.0.1.bias\", \"backbone.body.0.1.running_mean\", \"backbone.body.0.1.running_var\", \"backbone.body.1.block.0.0.weight\", \"backbone.body.1.block.0.1.weight\", \"backbone.body.1.block.0.1.bias\", \"backbone.body.1.block.0.1.running_mean\", \"backbone.body.1.block.0.1.running_var\", \"backbone.body.1.block.1.0.weight\", \"backbone.body.1.block.1.1.weight\", \"backbone.body.1.block.1.1.bias\", \"backbone.body.1.block.1.1.running_mean\", \"backbone.body.1.block.1.1.running_var\", \"backbone.body.2.block.0.0.weight\", \"backbone.body.2.block.0.1.weight\", \"backbone.body.2.block.0.1.bias\", \"backbone.body.2.block.0.1.running_mean\", \"backbone.body.2.block.0.1.running_var\", \"backbone.body.2.block.1.0.weight\", \"backbone.body.2.block.1.1.weight\", \"backbone.body.2.block.1.1.bias\", \"backbone.body.2.block.1.1.running_mean\", \"backbone.body.2.block.1.1.running_var\", \"backbone.body.2.block.2.0.weight\", \"backbone.body.2.block.2.1.weight\", \"backbone.body.2.block.2.1.bias\", \"backbone.body.2.block.2.1.running_mean\", \"backbone.body.2.block.2.1.running_var\", \"backbone.body.3.block.0.0.weight\", \"backbone.body.3.block.0.1.weight\", \"backbone.body.3.block.0.1.bias\", \"backbone.body.3.block.0.1.running_mean\", \"backbone.body.3.block.0.1.running_var\", \"backbone.body.3.block.1.0.weight\", \"backbone.body.3.block.1.1.weight\", \"backbone.body.3.block.1.1.bias\", \"backbone.body.3.block.1.1.running_mean\", \"backbone.body.3.block.1.1.running_var\", \"backbone.body.3.block.2.0.weight\", \"backbone.body.3.block.2.1.weight\", \"backbone.body.3.block.2.1.bias\", \"backbone.body.3.block.2.1.running_mean\", \"backbone.body.3.block.2.1.running_var\", \"backbone.body.4.block.0.0.weight\", \"backbone.body.4.block.0.1.weight\", \"backbone.body.4.block.0.1.bias\", \"backbone.body.4.block.0.1.running_mean\", \"backbone.body.4.block.0.1.running_var\", \"backbone.body.4.block.1.0.weight\", \"backbone.body.4.block.1.1.weight\", \"backbone.body.4.block.1.1.bias\", \"backbone.body.4.block.1.1.running_mean\", \"backbone.body.4.block.1.1.running_var\", \"backbone.body.4.block.2.fc1.weight\", \"backbone.body.4.block.2.fc1.bias\", \"backbone.body.4.block.2.fc2.weight\", \"backbone.body.4.block.2.fc2.bias\", \"backbone.body.4.block.3.0.weight\", \"backbone.body.4.block.3.1.weight\", \"backbone.body.4.block.3.1.bias\", \"backbone.body.4.block.3.1.running_mean\", \"backbone.body.4.block.3.1.running_var\", \"backbone.body.5.block.0.0.weight\", \"backbone.body.5.block.0.1.weight\", \"backbone.body.5.block.0.1.bias\", \"backbone.body.5.block.0.1.running_mean\", \"backbone.body.5.block.0.1.running_var\", \"backbone.body.5.block.1.0.weight\", \"backbone.body.5.block.1.1.weight\", \"backbone.body.5.block.1.1.bias\", \"backbone.body.5.block.1.1.running_mean\", \"backbone.body.5.block.1.1.running_var\", \"backbone.body.5.block.2.fc1.weight\", \"backbone.body.5.block.2.fc1.bias\", \"backbone.body.5.block.2.fc2.weight\", \"backbone.body.5.block.2.fc2.bias\", \"backbone.body.5.block.3.0.weight\", \"backbone.body.5.block.3.1.weight\", \"backbone.body.5.block.3.1.bias\", \"backbone.body.5.block.3.1.running_mean\", \"backbone.body.5.block.3.1.running_var\", \"backbone.body.6.block.0.0.weight\", \"backbone.body.6.block.0.1.weight\", \"backbone.body.6.block.0.1.bias\", \"backbone.body.6.block.0.1.running_mean\", \"backbone.body.6.block.0.1.running_var\", \"backbone.body.6.block.1.0.weight\", \"backbone.body.6.block.1.1.weight\", \"backbone.body.6.block.1.1.bias\", \"backbone.body.6.block.1.1.running_mean\", \"backbone.body.6.block.1.1.running_var\", \"backbone.body.6.block.2.fc1.weight\", \"backbone.body.6.block.2.fc1.bias\", \"backbone.body.6.block.2.fc2.weight\", \"backbone.body.6.block.2.fc2.bias\", \"backbone.body.6.block.3.0.weight\", \"backbone.body.6.block.3.1.weight\", \"backbone.body.6.block.3.1.bias\", \"backbone.body.6.block.3.1.running_mean\", \"backbone.body.6.block.3.1.running_var\", \"backbone.body.7.block.0.0.weight\", \"backbone.body.7.block.0.1.weight\", \"backbone.body.7.block.0.1.bias\", \"backbone.body.7.block.0.1.running_mean\", \"backbone.body.7.block.0.1.running_var\", \"backbone.body.7.block.1.0.weight\", \"backbone.body.7.block.1.1.weight\", \"backbone.body.7.block.1.1.bias\", \"backbone.body.7.block.1.1.running_mean\", \"backbone.body.7.block.1.1.running_var\", \"backbone.body.7.block.2.0.weight\", \"backbone.body.7.block.2.1.weight\", \"backbone.body.7.block.2.1.bias\", \"backbone.body.7.block.2.1.running_mean\", \"backbone.body.7.block.2.1.running_var\", \"backbone.body.8.block.0.0.weight\", \"backbone.body.8.block.0.1.weight\", \"backbone.body.8.block.0.1.bias\", \"backbone.body.8.block.0.1.running_mean\", \"backbone.body.8.block.0.1.running_var\", \"backbone.body.8.block.1.0.weight\", \"backbone.body.8.block.1.1.weight\", \"backbone.body.8.block.1.1.bias\", \"backbone.body.8.block.1.1.running_mean\", \"backbone.body.8.block.1.1.running_var\", \"backbone.body.8.block.2.0.weight\", \"backbone.body.8.block.2.1.weight\", \"backbone.body.8.block.2.1.bias\", \"backbone.body.8.block.2.1.running_mean\", \"backbone.body.8.block.2.1.running_var\", \"backbone.body.9.block.0.0.weight\", \"backbone.body.9.block.0.1.weight\", \"backbone.body.9.block.0.1.bias\", \"backbone.body.9.block.0.1.running_mean\", \"backbone.body.9.block.0.1.running_var\", \"backbone.body.9.block.1.0.weight\", \"backbone.body.9.block.1.1.weight\", \"backbone.body.9.block.1.1.bias\", \"backbone.body.9.block.1.1.running_mean\", \"backbone.body.9.block.1.1.running_var\", \"backbone.body.9.block.2.0.weight\", \"backbone.body.9.block.2.1.weight\", \"backbone.body.9.block.2.1.bias\", \"backbone.body.9.block.2.1.running_mean\", \"backbone.body.9.block.2.1.running_var\", \"backbone.body.10.block.0.0.weight\", \"backbone.body.10.block.0.1.weight\", \"backbone.body.10.block.0.1.bias\", \"backbone.body.10.block.0.1.running_mean\", \"backbone.body.10.block.0.1.running_var\", \"backbone.body.10.block.1.0.weight\", \"backbone.body.10.block.1.1.weight\", \"backbone.body.10.block.1.1.bias\", \"backbone.body.10.block.1.1.running_mean\", \"backbone.body.10.block.1.1.running_var\", \"backbone.body.10.block.2.0.weight\", \"backbone.body.10.block.2.1.weight\", \"backbone.body.10.block.2.1.bias\", \"backbone.body.10.block.2.1.running_mean\", \"backbone.body.10.block.2.1.running_var\", \"backbone.body.11.block.0.0.weight\", \"backbone.body.11.block.0.1.weight\", \"backbone.body.11.block.0.1.bias\", \"backbone.body.11.block.0.1.running_mean\", \"backbone.body.11.block.0.1.running_var\", \"backbone.body.11.block.1.0.weight\", \"backbone.body.11.block.1.1.weight\", \"backbone.body.11.block.1.1.bias\", \"backbone.body.11.block.1.1.running_mean\", \"backbone.body.11.block.1.1.running_var\", \"backbone.body.11.block.2.fc1.weight\", \"backbone.body.11.block.2.fc1.bias\", \"backbone.body.11.block.2.fc2.weight\", \"backbone.body.11.block.2.fc2.bias\", \"backbone.body.11.block.3.0.weight\", \"backbone.body.11.block.3.1.weight\", \"backbone.body.11.block.3.1.bias\", \"backbone.body.11.block.3.1.running_mean\", \"backbone.body.11.block.3.1.running_var\", \"backbone.body.12.block.0.0.weight\", \"backbone.body.12.block.0.1.weight\", \"backbone.body.12.block.0.1.bias\", \"backbone.body.12.block.0.1.running_mean\", \"backbone.body.12.block.0.1.running_var\", \"backbone.body.12.block.1.0.weight\", \"backbone.body.12.block.1.1.weight\", \"backbone.body.12.block.1.1.bias\", \"backbone.body.12.block.1.1.running_mean\", \"backbone.body.12.block.1.1.running_var\", \"backbone.body.12.block.2.fc1.weight\", \"backbone.body.12.block.2.fc1.bias\", \"backbone.body.12.block.2.fc2.weight\", \"backbone.body.12.block.2.fc2.bias\", \"backbone.body.12.block.3.0.weight\", \"backbone.body.12.block.3.1.weight\", \"backbone.body.12.block.3.1.bias\", \"backbone.body.12.block.3.1.running_mean\", \"backbone.body.12.block.3.1.running_var\", \"backbone.body.13.block.0.0.weight\", \"backbone.body.13.block.0.1.weight\", \"backbone.body.13.block.0.1.bias\", \"backbone.body.13.block.0.1.running_mean\", \"backbone.body.13.block.0.1.running_var\", \"backbone.body.13.block.1.0.weight\", \"backbone.body.13.block.1.1.weight\", \"backbone.body.13.block.1.1.bias\", \"backbone.body.13.block.1.1.running_mean\", \"backbone.body.13.block.1.1.running_var\", \"backbone.body.13.block.2.fc1.weight\", \"backbone.body.13.block.2.fc1.bias\", \"backbone.body.13.block.2.fc2.weight\", \"backbone.body.13.block.2.fc2.bias\", \"backbone.body.13.block.3.0.weight\", \"backbone.body.13.block.3.1.weight\", \"backbone.body.13.block.3.1.bias\", \"backbone.body.13.block.3.1.running_mean\", \"backbone.body.13.block.3.1.running_var\", \"backbone.body.14.block.0.0.weight\", \"backbone.body.14.block.0.1.weight\", \"backbone.body.14.block.0.1.bias\", \"backbone.body.14.block.0.1.running_mean\", \"backbone.body.14.block.0.1.running_var\", \"backbone.body.14.block.1.0.weight\", \"backbone.body.14.block.1.1.weight\", \"backbone.body.14.block.1.1.bias\", \"backbone.body.14.block.1.1.running_mean\", \"backbone.body.14.block.1.1.running_var\", \"backbone.body.14.block.2.fc1.weight\", \"backbone.body.14.block.2.fc1.bias\", \"backbone.body.14.block.2.fc2.weight\", \"backbone.body.14.block.2.fc2.bias\", \"backbone.body.14.block.3.0.weight\", \"backbone.body.14.block.3.1.weight\", \"backbone.body.14.block.3.1.bias\", \"backbone.body.14.block.3.1.running_mean\", \"backbone.body.14.block.3.1.running_var\", \"backbone.body.15.block.0.0.weight\", \"backbone.body.15.block.0.1.weight\", \"backbone.body.15.block.0.1.bias\", \"backbone.body.15.block.0.1.running_mean\", \"backbone.body.15.block.0.1.running_var\", \"backbone.body.15.block.1.0.weight\", \"backbone.body.15.block.1.1.weight\", \"backbone.body.15.block.1.1.bias\", \"backbone.body.15.block.1.1.running_mean\", \"backbone.body.15.block.1.1.running_var\", \"backbone.body.15.block.2.fc1.weight\", \"backbone.body.15.block.2.fc1.bias\", \"backbone.body.15.block.2.fc2.weight\", \"backbone.body.15.block.2.fc2.bias\", \"backbone.body.15.block.3.0.weight\", \"backbone.body.15.block.3.1.weight\", \"backbone.body.15.block.3.1.bias\", \"backbone.body.15.block.3.1.running_mean\", \"backbone.body.15.block.3.1.running_var\", \"backbone.body.16.0.weight\", \"backbone.body.16.1.weight\", \"backbone.body.16.1.bias\", \"backbone.body.16.1.running_mean\", \"backbone.body.16.1.running_var\". \n\tUnexpected key(s) in state_dict: \"backbone.body.conv1.weight\", \"backbone.body.bn1.weight\", \"backbone.body.bn1.bias\", \"backbone.body.bn1.running_mean\", \"backbone.body.bn1.running_var\", \"backbone.body.layer1.0.conv1.weight\", \"backbone.body.layer1.0.bn1.weight\", \"backbone.body.layer1.0.bn1.bias\", \"backbone.body.layer1.0.bn1.running_mean\", \"backbone.body.layer1.0.bn1.running_var\", \"backbone.body.layer1.0.conv2.weight\", \"backbone.body.layer1.0.bn2.weight\", \"backbone.body.layer1.0.bn2.bias\", \"backbone.body.layer1.0.bn2.running_mean\", \"backbone.body.layer1.0.bn2.running_var\", \"backbone.body.layer1.0.conv3.weight\", \"backbone.body.layer1.0.bn3.weight\", \"backbone.body.layer1.0.bn3.bias\", \"backbone.body.layer1.0.bn3.running_mean\", \"backbone.body.layer1.0.bn3.running_var\", \"backbone.body.layer1.0.downsample.0.weight\", \"backbone.body.layer1.0.downsample.1.weight\", \"backbone.body.layer1.0.downsample.1.bias\", \"backbone.body.layer1.0.downsample.1.running_mean\", \"backbone.body.layer1.0.downsample.1.running_var\", \"backbone.body.layer1.1.conv1.weight\", \"backbone.body.layer1.1.bn1.weight\", \"backbone.body.layer1.1.bn1.bias\", \"backbone.body.layer1.1.bn1.running_mean\", \"backbone.body.layer1.1.bn1.running_var\", \"backbone.body.layer1.1.conv2.weight\", \"backbone.body.layer1.1.bn2.weight\", \"backbone.body.layer1.1.bn2.bias\", \"backbone.body.layer1.1.bn2.running_mean\", \"backbone.body.layer1.1.bn2.running_var\", \"backbone.body.layer1.1.conv3.weight\", \"backbone.body.layer1.1.bn3.weight\", \"backbone.body.layer1.1.bn3.bias\", \"backbone.body.layer1.1.bn3.running_mean\", \"backbone.body.layer1.1.bn3.running_var\", \"backbone.body.layer1.2.conv1.weight\", \"backbone.body.layer1.2.bn1.weight\", \"backbone.body.layer1.2.bn1.bias\", \"backbone.body.layer1.2.bn1.running_mean\", \"backbone.body.layer1.2.bn1.running_var\", \"backbone.body.layer1.2.conv2.weight\", \"backbone.body.layer1.2.bn2.weight\", \"backbone.body.layer1.2.bn2.bias\", \"backbone.body.layer1.2.bn2.running_mean\", \"backbone.body.layer1.2.bn2.running_var\", \"backbone.body.layer1.2.conv3.weight\", \"backbone.body.layer1.2.bn3.weight\", \"backbone.body.layer1.2.bn3.bias\", \"backbone.body.layer1.2.bn3.running_mean\", \"backbone.body.layer1.2.bn3.running_var\", \"backbone.body.layer2.0.conv1.weight\", \"backbone.body.layer2.0.bn1.weight\", \"backbone.body.layer2.0.bn1.bias\", \"backbone.body.layer2.0.bn1.running_mean\", \"backbone.body.layer2.0.bn1.running_var\", \"backbone.body.layer2.0.conv2.weight\", \"backbone.body.layer2.0.bn2.weight\", \"backbone.body.layer2.0.bn2.bias\", \"backbone.body.layer2.0.bn2.running_mean\", \"backbone.body.layer2.0.bn2.running_var\", \"backbone.body.layer2.0.conv3.weight\", \"backbone.body.layer2.0.bn3.weight\", \"backbone.body.layer2.0.bn3.bias\", \"backbone.body.layer2.0.bn3.running_mean\", \"backbone.body.layer2.0.bn3.running_var\", \"backbone.body.layer2.0.downsample.0.weight\", \"backbone.body.layer2.0.downsample.1.weight\", \"backbone.body.layer2.0.downsample.1.bias\", \"backbone.body.layer2.0.downsample.1.running_mean\", \"backbone.body.layer2.0.downsample.1.running_var\", \"backbone.body.layer2.1.conv1.weight\", \"backbone.body.layer2.1.bn1.weight\", \"backbone.body.layer2.1.bn1.bias\", \"backbone.body.layer2.1.bn1.running_mean\", \"backbone.body.layer2.1.bn1.running_var\", \"backbone.body.layer2.1.conv2.weight\", \"backbone.body.layer2.1.bn2.weight\", \"backbone.body.layer2.1.bn2.bias\", \"backbone.body.layer2.1.bn2.running_mean\", \"backbone.body.layer2.1.bn2.running_var\", \"backbone.body.layer2.1.conv3.weight\", \"backbone.body.layer2.1.bn3.weight\", \"backbone.body.layer2.1.bn3.bias\", \"backbone.body.layer2.1.bn3.running_mean\", \"backbone.body.layer2.1.bn3.running_var\", \"backbone.body.layer2.2.conv1.weight\", \"backbone.body.layer2.2.bn1.weight\", \"backbone.body.layer2.2.bn1.bias\", \"backbone.body.layer2.2.bn1.running_mean\", \"backbone.body.layer2.2.bn1.running_var\", \"backbone.body.layer2.2.conv2.weight\", \"backbone.body.layer2.2.bn2.weight\", \"backbone.body.layer2.2.bn2.bias\", \"backbone.body.layer2.2.bn2.running_mean\", \"backbone.body.layer2.2.bn2.running_var\", \"backbone.body.layer2.2.conv3.weight\", \"backbone.body.layer2.2.bn3.weight\", \"backbone.body.layer2.2.bn3.bias\", \"backbone.body.layer2.2.bn3.running_mean\", \"backbone.body.layer2.2.bn3.running_var\", \"backbone.body.layer2.3.conv1.weight\", \"backbone.body.layer2.3.bn1.weight\", \"backbone.body.layer2.3.bn1.bias\", \"backbone.body.layer2.3.bn1.running_mean\", \"backbone.body.layer2.3.bn1.running_var\", \"backbone.body.layer2.3.conv2.weight\", \"backbone.body.layer2.3.bn2.weight\", \"backbone.body.layer2.3.bn2.bias\", \"backbone.body.layer2.3.bn2.running_mean\", \"backbone.body.layer2.3.bn2.running_var\", \"backbone.body.layer2.3.conv3.weight\", \"backbone.body.layer2.3.bn3.weight\", \"backbone.body.layer2.3.bn3.bias\", \"backbone.body.layer2.3.bn3.running_mean\", \"backbone.body.layer2.3.bn3.running_var\", \"backbone.body.layer3.0.conv1.weight\", \"backbone.body.layer3.0.bn1.weight\", \"backbone.body.layer3.0.bn1.bias\", \"backbone.body.layer3.0.bn1.running_mean\", \"backbone.body.layer3.0.bn1.running_var\", \"backbone.body.layer3.0.conv2.weight\", \"backbone.body.layer3.0.bn2.weight\", \"backbone.body.layer3.0.bn2.bias\", \"backbone.body.layer3.0.bn2.running_mean\", \"backbone.body.layer3.0.bn2.running_var\", \"backbone.body.layer3.0.conv3.weight\", \"backbone.body.layer3.0.bn3.weight\", \"backbone.body.layer3.0.bn3.bias\", \"backbone.body.layer3.0.bn3.running_mean\", \"backbone.body.layer3.0.bn3.running_var\", \"backbone.body.layer3.0.downsample.0.weight\", \"backbone.body.layer3.0.downsample.1.weight\", \"backbone.body.layer3.0.downsample.1.bias\", \"backbone.body.layer3.0.downsample.1.running_mean\", \"backbone.body.layer3.0.downsample.1.running_var\", \"backbone.body.layer3.1.conv1.weight\", \"backbone.body.layer3.1.bn1.weight\", \"backbone.body.layer3.1.bn1.bias\", \"backbone.body.layer3.1.bn1.running_mean\", \"backbone.body.layer3.1.bn1.running_var\", \"backbone.body.layer3.1.conv2.weight\", \"backbone.body.layer3.1.bn2.weight\", \"backbone.body.layer3.1.bn2.bias\", \"backbone.body.layer3.1.bn2.running_mean\", \"backbone.body.layer3.1.bn2.running_var\", \"backbone.body.layer3.1.conv3.weight\", \"backbone.body.layer3.1.bn3.weight\", \"backbone.body.layer3.1.bn3.bias\", \"backbone.body.layer3.1.bn3.running_mean\", \"backbone.body.layer3.1.bn3.running_var\", \"backbone.body.layer3.2.conv1.weight\", \"backbone.body.layer3.2.bn1.weight\", \"backbone.body.layer3.2.bn1.bias\", \"backbone.body.layer3.2.bn1.running_mean\", \"backbone.body.layer3.2.bn1.running_var\", \"backbone.body.layer3.2.conv2.weight\", \"backbone.body.layer3.2.bn2.weight\", \"backbone.body.layer3.2.bn2.bias\", \"backbone.body.layer3.2.bn2.running_mean\", \"backbone.body.layer3.2.bn2.running_var\", \"backbone.body.layer3.2.conv3.weight\", \"backbone.body.layer3.2.bn3.weight\", \"backbone.body.layer3.2.bn3.bias\", \"backbone.body.layer3.2.bn3.running_mean\", \"backbone.body.layer3.2.bn3.running_var\", \"backbone.body.layer3.3.conv1.weight\", \"backbone.body.layer3.3.bn1.weight\", \"backbone.body.layer3.3.bn1.bias\", \"backbone.body.layer3.3.bn1.running_mean\", \"backbone.body.layer3.3.bn1.running_var\", \"backbone.body.layer3.3.conv2.weight\", \"backbone.body.layer3.3.bn2.weight\", \"backbone.body.layer3.3.bn2.bias\", \"backbone.body.layer3.3.bn2.running_mean\", \"backbone.body.layer3.3.bn2.running_var\", \"backbone.body.layer3.3.conv3.weight\", \"backbone.body.layer3.3.bn3.weight\", \"backbone.body.layer3.3.bn3.bias\", \"backbone.body.layer3.3.bn3.running_mean\", \"backbone.body.layer3.3.bn3.running_var\", \"backbone.body.layer3.4.conv1.weight\", \"backbone.body.layer3.4.bn1.weight\", \"backbone.body.layer3.4.bn1.bias\", \"backbone.body.layer3.4.bn1.running_mean\", \"backbone.body.layer3.4.bn1.running_var\", \"backbone.body.layer3.4.conv2.weight\", \"backbone.body.layer3.4.bn2.weight\", \"backbone.body.layer3.4.bn2.bias\", \"backbone.body.layer3.4.bn2.running_mean\", \"backbone.body.layer3.4.bn2.running_var\", \"backbone.body.layer3.4.conv3.weight\", \"backbone.body.layer3.4.bn3.weight\", \"backbone.body.layer3.4.bn3.bias\", \"backbone.body.layer3.4.bn3.running_mean\", \"backbone.body.layer3.4.bn3.running_var\", \"backbone.body.layer3.5.conv1.weight\", \"backbone.body.layer3.5.bn1.weight\", \"backbone.body.layer3.5.bn1.bias\", \"backbone.body.layer3.5.bn1.running_mean\", \"backbone.body.layer3.5.bn1.running_var\", \"backbone.body.layer3.5.conv2.weight\", \"backbone.body.layer3.5.bn2.weight\", \"backbone.body.layer3.5.bn2.bias\", \"backbone.body.layer3.5.bn2.running_mean\", \"backbone.body.layer3.5.bn2.running_var\", \"backbone.body.layer3.5.conv3.weight\", \"backbone.body.layer3.5.bn3.weight\", \"backbone.body.layer3.5.bn3.bias\", \"backbone.body.layer3.5.bn3.running_mean\", \"backbone.body.layer3.5.bn3.running_var\", \"backbone.body.layer4.0.conv1.weight\", \"backbone.body.layer4.0.bn1.weight\", \"backbone.body.layer4.0.bn1.bias\", \"backbone.body.layer4.0.bn1.running_mean\", \"backbone.body.layer4.0.bn1.running_var\", \"backbone.body.layer4.0.conv2.weight\", \"backbone.body.layer4.0.bn2.weight\", \"backbone.body.layer4.0.bn2.bias\", \"backbone.body.layer4.0.bn2.running_mean\", \"backbone.body.layer4.0.bn2.running_var\", \"backbone.body.layer4.0.conv3.weight\", \"backbone.body.layer4.0.bn3.weight\", \"backbone.body.layer4.0.bn3.bias\", \"backbone.body.layer4.0.bn3.running_mean\", \"backbone.body.layer4.0.bn3.running_var\", \"backbone.body.layer4.0.downsample.0.weight\", \"backbone.body.layer4.0.downsample.1.weight\", \"backbone.body.layer4.0.downsample.1.bias\", \"backbone.body.layer4.0.downsample.1.running_mean\", \"backbone.body.layer4.0.downsample.1.running_var\", \"backbone.body.layer4.1.conv1.weight\", \"backbone.body.layer4.1.bn1.weight\", \"backbone.body.layer4.1.bn1.bias\", \"backbone.body.layer4.1.bn1.running_mean\", \"backbone.body.layer4.1.bn1.running_var\", \"backbone.body.layer4.1.conv2.weight\", \"backbone.body.layer4.1.bn2.weight\", \"backbone.body.layer4.1.bn2.bias\", \"backbone.body.layer4.1.bn2.running_mean\", \"backbone.body.layer4.1.bn2.running_var\", \"backbone.body.layer4.1.conv3.weight\", \"backbone.body.layer4.1.bn3.weight\", \"backbone.body.layer4.1.bn3.bias\", \"backbone.body.layer4.1.bn3.running_mean\", \"backbone.body.layer4.1.bn3.running_var\", \"backbone.body.layer4.2.conv1.weight\", \"backbone.body.layer4.2.bn1.weight\", \"backbone.body.layer4.2.bn1.bias\", \"backbone.body.layer4.2.bn1.running_mean\", \"backbone.body.layer4.2.bn1.running_var\", \"backbone.body.layer4.2.conv2.weight\", \"backbone.body.layer4.2.bn2.weight\", \"backbone.body.layer4.2.bn2.bias\", \"backbone.body.layer4.2.bn2.running_mean\", \"backbone.body.layer4.2.bn2.running_var\", \"backbone.body.layer4.2.conv3.weight\", \"backbone.body.layer4.2.bn3.weight\", \"backbone.body.layer4.2.bn3.bias\", \"backbone.body.layer4.2.bn3.running_mean\", \"backbone.body.layer4.2.bn3.running_var\", \"backbone.fpn.inner_blocks.2.0.weight\", \"backbone.fpn.inner_blocks.2.0.bias\", \"backbone.fpn.inner_blocks.3.0.weight\", \"backbone.fpn.inner_blocks.3.0.bias\", \"backbone.fpn.layer_blocks.2.0.weight\", \"backbone.fpn.layer_blocks.2.0.bias\", \"backbone.fpn.layer_blocks.3.0.weight\", \"backbone.fpn.layer_blocks.3.0.bias\". \n\tsize mismatch for backbone.fpn.inner_blocks.0.0.weight: copying a param with shape torch.Size([256, 256, 1, 1]) from checkpoint, the shape in current model is torch.Size([256, 160, 1, 1]).\n\tsize mismatch for backbone.fpn.inner_blocks.1.0.weight: copying a param with shape torch.Size([256, 512, 1, 1]) from checkpoint, the shape in current model is torch.Size([256, 960, 1, 1]).\n\tsize mismatch for rpn.head.cls_logits.weight: copying a param with shape torch.Size([3, 256, 1, 1]) from checkpoint, the shape in current model is torch.Size([15, 256, 1, 1]).\n\tsize mismatch for rpn.head.cls_logits.bias: copying a param with shape torch.Size([3]) from checkpoint, the shape in current model is torch.Size([15]).\n\tsize mismatch for rpn.head.bbox_pred.weight: copying a param with shape torch.Size([12, 256, 1, 1]) from checkpoint, the shape in current model is torch.Size([60, 256, 1, 1]).\n\tsize mismatch for rpn.head.bbox_pred.bias: copying a param with shape torch.Size([12]) from checkpoint, the shape in current model is torch.Size([60]).",
     "output_type": "error",
     "traceback": [
      "\u001b[0;31m---------------------------------------------------------------------------\u001b[0m",
      "\u001b[0;31mRuntimeError\u001b[0m                              Traceback (most recent call last)",
      "Cell \u001b[0;32mIn[35], line 4\u001b[0m\n\u001b[1;32m      1\u001b[0m r_model \u001b[38;5;241m=\u001b[39m get_model(model\u001b[38;5;241m=\u001b[39mtorchvision\u001b[38;5;241m.\u001b[39mmodels\u001b[38;5;241m.\u001b[39mdetection\u001b[38;5;241m.\u001b[39mfasterrcnn_mobilenet_v3_large_320_fpn(weights\u001b[38;5;241m=\u001b[39mtorchvision\u001b[38;5;241m.\u001b[39mmodels\u001b[38;5;241m.\u001b[39mdetection\u001b[38;5;241m.\u001b[39mFasterRCNN_MobileNet_V3_Large_320_FPN_Weights\u001b[38;5;241m.\u001b[39mDEFAULT),\n\u001b[1;32m      2\u001b[0m                  num_classes\u001b[38;5;241m=\u001b[39m\u001b[38;5;241m2\u001b[39m,\n\u001b[1;32m      3\u001b[0m                  stats\u001b[38;5;241m=\u001b[39mstats)\n\u001b[0;32m----> 4\u001b[0m \u001b[43mr_model\u001b[49m\u001b[38;5;241;43m.\u001b[39;49m\u001b[43mload_state_dict\u001b[49m\u001b[43m(\u001b[49m\u001b[43mtc\u001b[49m\u001b[38;5;241;43m.\u001b[39;49m\u001b[43mload\u001b[49m\u001b[43m(\u001b[49m\u001b[43mmodel_save_path\u001b[49m\u001b[43m,\u001b[49m\u001b[43m \u001b[49m\u001b[43mmap_location\u001b[49m\u001b[38;5;241;43m=\u001b[39;49m\u001b[43mtc\u001b[49m\u001b[38;5;241;43m.\u001b[39;49m\u001b[43mdevice\u001b[49m\u001b[43m(\u001b[49m\u001b[38;5;124;43m'\u001b[39;49m\u001b[38;5;124;43mcpu\u001b[39;49m\u001b[38;5;124;43m'\u001b[39;49m\u001b[43m)\u001b[49m\u001b[43m)\u001b[49m\u001b[43m)\u001b[49m\n\u001b[1;32m      5\u001b[0m r_model \u001b[38;5;241m=\u001b[39m r_model\u001b[38;5;241m.\u001b[39mto(device)\n",
      "File \u001b[0;32m~/.conda/envs/cuda_1/lib/python3.10/site-packages/torch/nn/modules/module.py:2153\u001b[0m, in \u001b[0;36mModule.load_state_dict\u001b[0;34m(self, state_dict, strict, assign)\u001b[0m\n\u001b[1;32m   2148\u001b[0m         error_msgs\u001b[38;5;241m.\u001b[39minsert(\n\u001b[1;32m   2149\u001b[0m             \u001b[38;5;241m0\u001b[39m, \u001b[38;5;124m'\u001b[39m\u001b[38;5;124mMissing key(s) in state_dict: \u001b[39m\u001b[38;5;132;01m{}\u001b[39;00m\u001b[38;5;124m. \u001b[39m\u001b[38;5;124m'\u001b[39m\u001b[38;5;241m.\u001b[39mformat(\n\u001b[1;32m   2150\u001b[0m                 \u001b[38;5;124m'\u001b[39m\u001b[38;5;124m, \u001b[39m\u001b[38;5;124m'\u001b[39m\u001b[38;5;241m.\u001b[39mjoin(\u001b[38;5;124mf\u001b[39m\u001b[38;5;124m'\u001b[39m\u001b[38;5;124m\"\u001b[39m\u001b[38;5;132;01m{\u001b[39;00mk\u001b[38;5;132;01m}\u001b[39;00m\u001b[38;5;124m\"\u001b[39m\u001b[38;5;124m'\u001b[39m \u001b[38;5;28;01mfor\u001b[39;00m k \u001b[38;5;129;01min\u001b[39;00m missing_keys)))\n\u001b[1;32m   2152\u001b[0m \u001b[38;5;28;01mif\u001b[39;00m \u001b[38;5;28mlen\u001b[39m(error_msgs) \u001b[38;5;241m>\u001b[39m \u001b[38;5;241m0\u001b[39m:\n\u001b[0;32m-> 2153\u001b[0m     \u001b[38;5;28;01mraise\u001b[39;00m \u001b[38;5;167;01mRuntimeError\u001b[39;00m(\u001b[38;5;124m'\u001b[39m\u001b[38;5;124mError(s) in loading state_dict for \u001b[39m\u001b[38;5;132;01m{}\u001b[39;00m\u001b[38;5;124m:\u001b[39m\u001b[38;5;130;01m\\n\u001b[39;00m\u001b[38;5;130;01m\\t\u001b[39;00m\u001b[38;5;132;01m{}\u001b[39;00m\u001b[38;5;124m'\u001b[39m\u001b[38;5;241m.\u001b[39mformat(\n\u001b[1;32m   2154\u001b[0m                        \u001b[38;5;28mself\u001b[39m\u001b[38;5;241m.\u001b[39m\u001b[38;5;18m__class__\u001b[39m\u001b[38;5;241m.\u001b[39m\u001b[38;5;18m__name__\u001b[39m, \u001b[38;5;124m\"\u001b[39m\u001b[38;5;130;01m\\n\u001b[39;00m\u001b[38;5;130;01m\\t\u001b[39;00m\u001b[38;5;124m\"\u001b[39m\u001b[38;5;241m.\u001b[39mjoin(error_msgs)))\n\u001b[1;32m   2155\u001b[0m \u001b[38;5;28;01mreturn\u001b[39;00m _IncompatibleKeys(missing_keys, unexpected_keys)\n",
      "\u001b[0;31mRuntimeError\u001b[0m: Error(s) in loading state_dict for FasterRCNN:\n\tMissing key(s) in state_dict: \"backbone.body.0.0.weight\", \"backbone.body.0.1.weight\", \"backbone.body.0.1.bias\", \"backbone.body.0.1.running_mean\", \"backbone.body.0.1.running_var\", \"backbone.body.1.block.0.0.weight\", \"backbone.body.1.block.0.1.weight\", \"backbone.body.1.block.0.1.bias\", \"backbone.body.1.block.0.1.running_mean\", \"backbone.body.1.block.0.1.running_var\", \"backbone.body.1.block.1.0.weight\", \"backbone.body.1.block.1.1.weight\", \"backbone.body.1.block.1.1.bias\", \"backbone.body.1.block.1.1.running_mean\", \"backbone.body.1.block.1.1.running_var\", \"backbone.body.2.block.0.0.weight\", \"backbone.body.2.block.0.1.weight\", \"backbone.body.2.block.0.1.bias\", \"backbone.body.2.block.0.1.running_mean\", \"backbone.body.2.block.0.1.running_var\", \"backbone.body.2.block.1.0.weight\", \"backbone.body.2.block.1.1.weight\", \"backbone.body.2.block.1.1.bias\", \"backbone.body.2.block.1.1.running_mean\", \"backbone.body.2.block.1.1.running_var\", \"backbone.body.2.block.2.0.weight\", \"backbone.body.2.block.2.1.weight\", \"backbone.body.2.block.2.1.bias\", \"backbone.body.2.block.2.1.running_mean\", \"backbone.body.2.block.2.1.running_var\", \"backbone.body.3.block.0.0.weight\", \"backbone.body.3.block.0.1.weight\", \"backbone.body.3.block.0.1.bias\", \"backbone.body.3.block.0.1.running_mean\", \"backbone.body.3.block.0.1.running_var\", \"backbone.body.3.block.1.0.weight\", \"backbone.body.3.block.1.1.weight\", \"backbone.body.3.block.1.1.bias\", \"backbone.body.3.block.1.1.running_mean\", \"backbone.body.3.block.1.1.running_var\", \"backbone.body.3.block.2.0.weight\", \"backbone.body.3.block.2.1.weight\", \"backbone.body.3.block.2.1.bias\", \"backbone.body.3.block.2.1.running_mean\", \"backbone.body.3.block.2.1.running_var\", \"backbone.body.4.block.0.0.weight\", \"backbone.body.4.block.0.1.weight\", \"backbone.body.4.block.0.1.bias\", \"backbone.body.4.block.0.1.running_mean\", \"backbone.body.4.block.0.1.running_var\", \"backbone.body.4.block.1.0.weight\", \"backbone.body.4.block.1.1.weight\", \"backbone.body.4.block.1.1.bias\", \"backbone.body.4.block.1.1.running_mean\", \"backbone.body.4.block.1.1.running_var\", \"backbone.body.4.block.2.fc1.weight\", \"backbone.body.4.block.2.fc1.bias\", \"backbone.body.4.block.2.fc2.weight\", \"backbone.body.4.block.2.fc2.bias\", \"backbone.body.4.block.3.0.weight\", \"backbone.body.4.block.3.1.weight\", \"backbone.body.4.block.3.1.bias\", \"backbone.body.4.block.3.1.running_mean\", \"backbone.body.4.block.3.1.running_var\", \"backbone.body.5.block.0.0.weight\", \"backbone.body.5.block.0.1.weight\", \"backbone.body.5.block.0.1.bias\", \"backbone.body.5.block.0.1.running_mean\", \"backbone.body.5.block.0.1.running_var\", \"backbone.body.5.block.1.0.weight\", \"backbone.body.5.block.1.1.weight\", \"backbone.body.5.block.1.1.bias\", \"backbone.body.5.block.1.1.running_mean\", \"backbone.body.5.block.1.1.running_var\", \"backbone.body.5.block.2.fc1.weight\", \"backbone.body.5.block.2.fc1.bias\", \"backbone.body.5.block.2.fc2.weight\", \"backbone.body.5.block.2.fc2.bias\", \"backbone.body.5.block.3.0.weight\", \"backbone.body.5.block.3.1.weight\", \"backbone.body.5.block.3.1.bias\", \"backbone.body.5.block.3.1.running_mean\", \"backbone.body.5.block.3.1.running_var\", \"backbone.body.6.block.0.0.weight\", \"backbone.body.6.block.0.1.weight\", \"backbone.body.6.block.0.1.bias\", \"backbone.body.6.block.0.1.running_mean\", \"backbone.body.6.block.0.1.running_var\", \"backbone.body.6.block.1.0.weight\", \"backbone.body.6.block.1.1.weight\", \"backbone.body.6.block.1.1.bias\", \"backbone.body.6.block.1.1.running_mean\", \"backbone.body.6.block.1.1.running_var\", \"backbone.body.6.block.2.fc1.weight\", \"backbone.body.6.block.2.fc1.bias\", \"backbone.body.6.block.2.fc2.weight\", \"backbone.body.6.block.2.fc2.bias\", \"backbone.body.6.block.3.0.weight\", \"backbone.body.6.block.3.1.weight\", \"backbone.body.6.block.3.1.bias\", \"backbone.body.6.block.3.1.running_mean\", \"backbone.body.6.block.3.1.running_var\", \"backbone.body.7.block.0.0.weight\", \"backbone.body.7.block.0.1.weight\", \"backbone.body.7.block.0.1.bias\", \"backbone.body.7.block.0.1.running_mean\", \"backbone.body.7.block.0.1.running_var\", \"backbone.body.7.block.1.0.weight\", \"backbone.body.7.block.1.1.weight\", \"backbone.body.7.block.1.1.bias\", \"backbone.body.7.block.1.1.running_mean\", \"backbone.body.7.block.1.1.running_var\", \"backbone.body.7.block.2.0.weight\", \"backbone.body.7.block.2.1.weight\", \"backbone.body.7.block.2.1.bias\", \"backbone.body.7.block.2.1.running_mean\", \"backbone.body.7.block.2.1.running_var\", \"backbone.body.8.block.0.0.weight\", \"backbone.body.8.block.0.1.weight\", \"backbone.body.8.block.0.1.bias\", \"backbone.body.8.block.0.1.running_mean\", \"backbone.body.8.block.0.1.running_var\", \"backbone.body.8.block.1.0.weight\", \"backbone.body.8.block.1.1.weight\", \"backbone.body.8.block.1.1.bias\", \"backbone.body.8.block.1.1.running_mean\", \"backbone.body.8.block.1.1.running_var\", \"backbone.body.8.block.2.0.weight\", \"backbone.body.8.block.2.1.weight\", \"backbone.body.8.block.2.1.bias\", \"backbone.body.8.block.2.1.running_mean\", \"backbone.body.8.block.2.1.running_var\", \"backbone.body.9.block.0.0.weight\", \"backbone.body.9.block.0.1.weight\", \"backbone.body.9.block.0.1.bias\", \"backbone.body.9.block.0.1.running_mean\", \"backbone.body.9.block.0.1.running_var\", \"backbone.body.9.block.1.0.weight\", \"backbone.body.9.block.1.1.weight\", \"backbone.body.9.block.1.1.bias\", \"backbone.body.9.block.1.1.running_mean\", \"backbone.body.9.block.1.1.running_var\", \"backbone.body.9.block.2.0.weight\", \"backbone.body.9.block.2.1.weight\", \"backbone.body.9.block.2.1.bias\", \"backbone.body.9.block.2.1.running_mean\", \"backbone.body.9.block.2.1.running_var\", \"backbone.body.10.block.0.0.weight\", \"backbone.body.10.block.0.1.weight\", \"backbone.body.10.block.0.1.bias\", \"backbone.body.10.block.0.1.running_mean\", \"backbone.body.10.block.0.1.running_var\", \"backbone.body.10.block.1.0.weight\", \"backbone.body.10.block.1.1.weight\", \"backbone.body.10.block.1.1.bias\", \"backbone.body.10.block.1.1.running_mean\", \"backbone.body.10.block.1.1.running_var\", \"backbone.body.10.block.2.0.weight\", \"backbone.body.10.block.2.1.weight\", \"backbone.body.10.block.2.1.bias\", \"backbone.body.10.block.2.1.running_mean\", \"backbone.body.10.block.2.1.running_var\", \"backbone.body.11.block.0.0.weight\", \"backbone.body.11.block.0.1.weight\", \"backbone.body.11.block.0.1.bias\", \"backbone.body.11.block.0.1.running_mean\", \"backbone.body.11.block.0.1.running_var\", \"backbone.body.11.block.1.0.weight\", \"backbone.body.11.block.1.1.weight\", \"backbone.body.11.block.1.1.bias\", \"backbone.body.11.block.1.1.running_mean\", \"backbone.body.11.block.1.1.running_var\", \"backbone.body.11.block.2.fc1.weight\", \"backbone.body.11.block.2.fc1.bias\", \"backbone.body.11.block.2.fc2.weight\", \"backbone.body.11.block.2.fc2.bias\", \"backbone.body.11.block.3.0.weight\", \"backbone.body.11.block.3.1.weight\", \"backbone.body.11.block.3.1.bias\", \"backbone.body.11.block.3.1.running_mean\", \"backbone.body.11.block.3.1.running_var\", \"backbone.body.12.block.0.0.weight\", \"backbone.body.12.block.0.1.weight\", \"backbone.body.12.block.0.1.bias\", \"backbone.body.12.block.0.1.running_mean\", \"backbone.body.12.block.0.1.running_var\", \"backbone.body.12.block.1.0.weight\", \"backbone.body.12.block.1.1.weight\", \"backbone.body.12.block.1.1.bias\", \"backbone.body.12.block.1.1.running_mean\", \"backbone.body.12.block.1.1.running_var\", \"backbone.body.12.block.2.fc1.weight\", \"backbone.body.12.block.2.fc1.bias\", \"backbone.body.12.block.2.fc2.weight\", \"backbone.body.12.block.2.fc2.bias\", \"backbone.body.12.block.3.0.weight\", \"backbone.body.12.block.3.1.weight\", \"backbone.body.12.block.3.1.bias\", \"backbone.body.12.block.3.1.running_mean\", \"backbone.body.12.block.3.1.running_var\", \"backbone.body.13.block.0.0.weight\", \"backbone.body.13.block.0.1.weight\", \"backbone.body.13.block.0.1.bias\", \"backbone.body.13.block.0.1.running_mean\", \"backbone.body.13.block.0.1.running_var\", \"backbone.body.13.block.1.0.weight\", \"backbone.body.13.block.1.1.weight\", \"backbone.body.13.block.1.1.bias\", \"backbone.body.13.block.1.1.running_mean\", \"backbone.body.13.block.1.1.running_var\", \"backbone.body.13.block.2.fc1.weight\", \"backbone.body.13.block.2.fc1.bias\", \"backbone.body.13.block.2.fc2.weight\", \"backbone.body.13.block.2.fc2.bias\", \"backbone.body.13.block.3.0.weight\", \"backbone.body.13.block.3.1.weight\", \"backbone.body.13.block.3.1.bias\", \"backbone.body.13.block.3.1.running_mean\", \"backbone.body.13.block.3.1.running_var\", \"backbone.body.14.block.0.0.weight\", \"backbone.body.14.block.0.1.weight\", \"backbone.body.14.block.0.1.bias\", \"backbone.body.14.block.0.1.running_mean\", \"backbone.body.14.block.0.1.running_var\", \"backbone.body.14.block.1.0.weight\", \"backbone.body.14.block.1.1.weight\", \"backbone.body.14.block.1.1.bias\", \"backbone.body.14.block.1.1.running_mean\", \"backbone.body.14.block.1.1.running_var\", \"backbone.body.14.block.2.fc1.weight\", \"backbone.body.14.block.2.fc1.bias\", \"backbone.body.14.block.2.fc2.weight\", \"backbone.body.14.block.2.fc2.bias\", \"backbone.body.14.block.3.0.weight\", \"backbone.body.14.block.3.1.weight\", \"backbone.body.14.block.3.1.bias\", \"backbone.body.14.block.3.1.running_mean\", \"backbone.body.14.block.3.1.running_var\", \"backbone.body.15.block.0.0.weight\", \"backbone.body.15.block.0.1.weight\", \"backbone.body.15.block.0.1.bias\", \"backbone.body.15.block.0.1.running_mean\", \"backbone.body.15.block.0.1.running_var\", \"backbone.body.15.block.1.0.weight\", \"backbone.body.15.block.1.1.weight\", \"backbone.body.15.block.1.1.bias\", \"backbone.body.15.block.1.1.running_mean\", \"backbone.body.15.block.1.1.running_var\", \"backbone.body.15.block.2.fc1.weight\", \"backbone.body.15.block.2.fc1.bias\", \"backbone.body.15.block.2.fc2.weight\", \"backbone.body.15.block.2.fc2.bias\", \"backbone.body.15.block.3.0.weight\", \"backbone.body.15.block.3.1.weight\", \"backbone.body.15.block.3.1.bias\", \"backbone.body.15.block.3.1.running_mean\", \"backbone.body.15.block.3.1.running_var\", \"backbone.body.16.0.weight\", \"backbone.body.16.1.weight\", \"backbone.body.16.1.bias\", \"backbone.body.16.1.running_mean\", \"backbone.body.16.1.running_var\". \n\tUnexpected key(s) in state_dict: \"backbone.body.conv1.weight\", \"backbone.body.bn1.weight\", \"backbone.body.bn1.bias\", \"backbone.body.bn1.running_mean\", \"backbone.body.bn1.running_var\", \"backbone.body.layer1.0.conv1.weight\", \"backbone.body.layer1.0.bn1.weight\", \"backbone.body.layer1.0.bn1.bias\", \"backbone.body.layer1.0.bn1.running_mean\", \"backbone.body.layer1.0.bn1.running_var\", \"backbone.body.layer1.0.conv2.weight\", \"backbone.body.layer1.0.bn2.weight\", \"backbone.body.layer1.0.bn2.bias\", \"backbone.body.layer1.0.bn2.running_mean\", \"backbone.body.layer1.0.bn2.running_var\", \"backbone.body.layer1.0.conv3.weight\", \"backbone.body.layer1.0.bn3.weight\", \"backbone.body.layer1.0.bn3.bias\", \"backbone.body.layer1.0.bn3.running_mean\", \"backbone.body.layer1.0.bn3.running_var\", \"backbone.body.layer1.0.downsample.0.weight\", \"backbone.body.layer1.0.downsample.1.weight\", \"backbone.body.layer1.0.downsample.1.bias\", \"backbone.body.layer1.0.downsample.1.running_mean\", \"backbone.body.layer1.0.downsample.1.running_var\", \"backbone.body.layer1.1.conv1.weight\", \"backbone.body.layer1.1.bn1.weight\", \"backbone.body.layer1.1.bn1.bias\", \"backbone.body.layer1.1.bn1.running_mean\", \"backbone.body.layer1.1.bn1.running_var\", \"backbone.body.layer1.1.conv2.weight\", \"backbone.body.layer1.1.bn2.weight\", \"backbone.body.layer1.1.bn2.bias\", \"backbone.body.layer1.1.bn2.running_mean\", \"backbone.body.layer1.1.bn2.running_var\", \"backbone.body.layer1.1.conv3.weight\", \"backbone.body.layer1.1.bn3.weight\", \"backbone.body.layer1.1.bn3.bias\", \"backbone.body.layer1.1.bn3.running_mean\", \"backbone.body.layer1.1.bn3.running_var\", \"backbone.body.layer1.2.conv1.weight\", \"backbone.body.layer1.2.bn1.weight\", \"backbone.body.layer1.2.bn1.bias\", \"backbone.body.layer1.2.bn1.running_mean\", \"backbone.body.layer1.2.bn1.running_var\", \"backbone.body.layer1.2.conv2.weight\", \"backbone.body.layer1.2.bn2.weight\", \"backbone.body.layer1.2.bn2.bias\", \"backbone.body.layer1.2.bn2.running_mean\", \"backbone.body.layer1.2.bn2.running_var\", \"backbone.body.layer1.2.conv3.weight\", \"backbone.body.layer1.2.bn3.weight\", \"backbone.body.layer1.2.bn3.bias\", \"backbone.body.layer1.2.bn3.running_mean\", \"backbone.body.layer1.2.bn3.running_var\", \"backbone.body.layer2.0.conv1.weight\", \"backbone.body.layer2.0.bn1.weight\", \"backbone.body.layer2.0.bn1.bias\", \"backbone.body.layer2.0.bn1.running_mean\", \"backbone.body.layer2.0.bn1.running_var\", \"backbone.body.layer2.0.conv2.weight\", \"backbone.body.layer2.0.bn2.weight\", \"backbone.body.layer2.0.bn2.bias\", \"backbone.body.layer2.0.bn2.running_mean\", \"backbone.body.layer2.0.bn2.running_var\", \"backbone.body.layer2.0.conv3.weight\", \"backbone.body.layer2.0.bn3.weight\", \"backbone.body.layer2.0.bn3.bias\", \"backbone.body.layer2.0.bn3.running_mean\", \"backbone.body.layer2.0.bn3.running_var\", \"backbone.body.layer2.0.downsample.0.weight\", \"backbone.body.layer2.0.downsample.1.weight\", \"backbone.body.layer2.0.downsample.1.bias\", \"backbone.body.layer2.0.downsample.1.running_mean\", \"backbone.body.layer2.0.downsample.1.running_var\", \"backbone.body.layer2.1.conv1.weight\", \"backbone.body.layer2.1.bn1.weight\", \"backbone.body.layer2.1.bn1.bias\", \"backbone.body.layer2.1.bn1.running_mean\", \"backbone.body.layer2.1.bn1.running_var\", \"backbone.body.layer2.1.conv2.weight\", \"backbone.body.layer2.1.bn2.weight\", \"backbone.body.layer2.1.bn2.bias\", \"backbone.body.layer2.1.bn2.running_mean\", \"backbone.body.layer2.1.bn2.running_var\", \"backbone.body.layer2.1.conv3.weight\", \"backbone.body.layer2.1.bn3.weight\", \"backbone.body.layer2.1.bn3.bias\", \"backbone.body.layer2.1.bn3.running_mean\", \"backbone.body.layer2.1.bn3.running_var\", \"backbone.body.layer2.2.conv1.weight\", \"backbone.body.layer2.2.bn1.weight\", \"backbone.body.layer2.2.bn1.bias\", \"backbone.body.layer2.2.bn1.running_mean\", \"backbone.body.layer2.2.bn1.running_var\", \"backbone.body.layer2.2.conv2.weight\", \"backbone.body.layer2.2.bn2.weight\", \"backbone.body.layer2.2.bn2.bias\", \"backbone.body.layer2.2.bn2.running_mean\", \"backbone.body.layer2.2.bn2.running_var\", \"backbone.body.layer2.2.conv3.weight\", \"backbone.body.layer2.2.bn3.weight\", \"backbone.body.layer2.2.bn3.bias\", \"backbone.body.layer2.2.bn3.running_mean\", \"backbone.body.layer2.2.bn3.running_var\", \"backbone.body.layer2.3.conv1.weight\", \"backbone.body.layer2.3.bn1.weight\", \"backbone.body.layer2.3.bn1.bias\", \"backbone.body.layer2.3.bn1.running_mean\", \"backbone.body.layer2.3.bn1.running_var\", \"backbone.body.layer2.3.conv2.weight\", \"backbone.body.layer2.3.bn2.weight\", \"backbone.body.layer2.3.bn2.bias\", \"backbone.body.layer2.3.bn2.running_mean\", \"backbone.body.layer2.3.bn2.running_var\", \"backbone.body.layer2.3.conv3.weight\", \"backbone.body.layer2.3.bn3.weight\", \"backbone.body.layer2.3.bn3.bias\", \"backbone.body.layer2.3.bn3.running_mean\", \"backbone.body.layer2.3.bn3.running_var\", \"backbone.body.layer3.0.conv1.weight\", \"backbone.body.layer3.0.bn1.weight\", \"backbone.body.layer3.0.bn1.bias\", \"backbone.body.layer3.0.bn1.running_mean\", \"backbone.body.layer3.0.bn1.running_var\", \"backbone.body.layer3.0.conv2.weight\", \"backbone.body.layer3.0.bn2.weight\", \"backbone.body.layer3.0.bn2.bias\", \"backbone.body.layer3.0.bn2.running_mean\", \"backbone.body.layer3.0.bn2.running_var\", \"backbone.body.layer3.0.conv3.weight\", \"backbone.body.layer3.0.bn3.weight\", \"backbone.body.layer3.0.bn3.bias\", \"backbone.body.layer3.0.bn3.running_mean\", \"backbone.body.layer3.0.bn3.running_var\", \"backbone.body.layer3.0.downsample.0.weight\", \"backbone.body.layer3.0.downsample.1.weight\", \"backbone.body.layer3.0.downsample.1.bias\", \"backbone.body.layer3.0.downsample.1.running_mean\", \"backbone.body.layer3.0.downsample.1.running_var\", \"backbone.body.layer3.1.conv1.weight\", \"backbone.body.layer3.1.bn1.weight\", \"backbone.body.layer3.1.bn1.bias\", \"backbone.body.layer3.1.bn1.running_mean\", \"backbone.body.layer3.1.bn1.running_var\", \"backbone.body.layer3.1.conv2.weight\", \"backbone.body.layer3.1.bn2.weight\", \"backbone.body.layer3.1.bn2.bias\", \"backbone.body.layer3.1.bn2.running_mean\", \"backbone.body.layer3.1.bn2.running_var\", \"backbone.body.layer3.1.conv3.weight\", \"backbone.body.layer3.1.bn3.weight\", \"backbone.body.layer3.1.bn3.bias\", \"backbone.body.layer3.1.bn3.running_mean\", \"backbone.body.layer3.1.bn3.running_var\", \"backbone.body.layer3.2.conv1.weight\", \"backbone.body.layer3.2.bn1.weight\", \"backbone.body.layer3.2.bn1.bias\", \"backbone.body.layer3.2.bn1.running_mean\", \"backbone.body.layer3.2.bn1.running_var\", \"backbone.body.layer3.2.conv2.weight\", \"backbone.body.layer3.2.bn2.weight\", \"backbone.body.layer3.2.bn2.bias\", \"backbone.body.layer3.2.bn2.running_mean\", \"backbone.body.layer3.2.bn2.running_var\", \"backbone.body.layer3.2.conv3.weight\", \"backbone.body.layer3.2.bn3.weight\", \"backbone.body.layer3.2.bn3.bias\", \"backbone.body.layer3.2.bn3.running_mean\", \"backbone.body.layer3.2.bn3.running_var\", \"backbone.body.layer3.3.conv1.weight\", \"backbone.body.layer3.3.bn1.weight\", \"backbone.body.layer3.3.bn1.bias\", \"backbone.body.layer3.3.bn1.running_mean\", \"backbone.body.layer3.3.bn1.running_var\", \"backbone.body.layer3.3.conv2.weight\", \"backbone.body.layer3.3.bn2.weight\", \"backbone.body.layer3.3.bn2.bias\", \"backbone.body.layer3.3.bn2.running_mean\", \"backbone.body.layer3.3.bn2.running_var\", \"backbone.body.layer3.3.conv3.weight\", \"backbone.body.layer3.3.bn3.weight\", \"backbone.body.layer3.3.bn3.bias\", \"backbone.body.layer3.3.bn3.running_mean\", \"backbone.body.layer3.3.bn3.running_var\", \"backbone.body.layer3.4.conv1.weight\", \"backbone.body.layer3.4.bn1.weight\", \"backbone.body.layer3.4.bn1.bias\", \"backbone.body.layer3.4.bn1.running_mean\", \"backbone.body.layer3.4.bn1.running_var\", \"backbone.body.layer3.4.conv2.weight\", \"backbone.body.layer3.4.bn2.weight\", \"backbone.body.layer3.4.bn2.bias\", \"backbone.body.layer3.4.bn2.running_mean\", \"backbone.body.layer3.4.bn2.running_var\", \"backbone.body.layer3.4.conv3.weight\", \"backbone.body.layer3.4.bn3.weight\", \"backbone.body.layer3.4.bn3.bias\", \"backbone.body.layer3.4.bn3.running_mean\", \"backbone.body.layer3.4.bn3.running_var\", \"backbone.body.layer3.5.conv1.weight\", \"backbone.body.layer3.5.bn1.weight\", \"backbone.body.layer3.5.bn1.bias\", \"backbone.body.layer3.5.bn1.running_mean\", \"backbone.body.layer3.5.bn1.running_var\", \"backbone.body.layer3.5.conv2.weight\", \"backbone.body.layer3.5.bn2.weight\", \"backbone.body.layer3.5.bn2.bias\", \"backbone.body.layer3.5.bn2.running_mean\", \"backbone.body.layer3.5.bn2.running_var\", \"backbone.body.layer3.5.conv3.weight\", \"backbone.body.layer3.5.bn3.weight\", \"backbone.body.layer3.5.bn3.bias\", \"backbone.body.layer3.5.bn3.running_mean\", \"backbone.body.layer3.5.bn3.running_var\", \"backbone.body.layer4.0.conv1.weight\", \"backbone.body.layer4.0.bn1.weight\", \"backbone.body.layer4.0.bn1.bias\", \"backbone.body.layer4.0.bn1.running_mean\", \"backbone.body.layer4.0.bn1.running_var\", \"backbone.body.layer4.0.conv2.weight\", \"backbone.body.layer4.0.bn2.weight\", \"backbone.body.layer4.0.bn2.bias\", \"backbone.body.layer4.0.bn2.running_mean\", \"backbone.body.layer4.0.bn2.running_var\", \"backbone.body.layer4.0.conv3.weight\", \"backbone.body.layer4.0.bn3.weight\", \"backbone.body.layer4.0.bn3.bias\", \"backbone.body.layer4.0.bn3.running_mean\", \"backbone.body.layer4.0.bn3.running_var\", \"backbone.body.layer4.0.downsample.0.weight\", \"backbone.body.layer4.0.downsample.1.weight\", \"backbone.body.layer4.0.downsample.1.bias\", \"backbone.body.layer4.0.downsample.1.running_mean\", \"backbone.body.layer4.0.downsample.1.running_var\", \"backbone.body.layer4.1.conv1.weight\", \"backbone.body.layer4.1.bn1.weight\", \"backbone.body.layer4.1.bn1.bias\", \"backbone.body.layer4.1.bn1.running_mean\", \"backbone.body.layer4.1.bn1.running_var\", \"backbone.body.layer4.1.conv2.weight\", \"backbone.body.layer4.1.bn2.weight\", \"backbone.body.layer4.1.bn2.bias\", \"backbone.body.layer4.1.bn2.running_mean\", \"backbone.body.layer4.1.bn2.running_var\", \"backbone.body.layer4.1.conv3.weight\", \"backbone.body.layer4.1.bn3.weight\", \"backbone.body.layer4.1.bn3.bias\", \"backbone.body.layer4.1.bn3.running_mean\", \"backbone.body.layer4.1.bn3.running_var\", \"backbone.body.layer4.2.conv1.weight\", \"backbone.body.layer4.2.bn1.weight\", \"backbone.body.layer4.2.bn1.bias\", \"backbone.body.layer4.2.bn1.running_mean\", \"backbone.body.layer4.2.bn1.running_var\", \"backbone.body.layer4.2.conv2.weight\", \"backbone.body.layer4.2.bn2.weight\", \"backbone.body.layer4.2.bn2.bias\", \"backbone.body.layer4.2.bn2.running_mean\", \"backbone.body.layer4.2.bn2.running_var\", \"backbone.body.layer4.2.conv3.weight\", \"backbone.body.layer4.2.bn3.weight\", \"backbone.body.layer4.2.bn3.bias\", \"backbone.body.layer4.2.bn3.running_mean\", \"backbone.body.layer4.2.bn3.running_var\", \"backbone.fpn.inner_blocks.2.0.weight\", \"backbone.fpn.inner_blocks.2.0.bias\", \"backbone.fpn.inner_blocks.3.0.weight\", \"backbone.fpn.inner_blocks.3.0.bias\", \"backbone.fpn.layer_blocks.2.0.weight\", \"backbone.fpn.layer_blocks.2.0.bias\", \"backbone.fpn.layer_blocks.3.0.weight\", \"backbone.fpn.layer_blocks.3.0.bias\". \n\tsize mismatch for backbone.fpn.inner_blocks.0.0.weight: copying a param with shape torch.Size([256, 256, 1, 1]) from checkpoint, the shape in current model is torch.Size([256, 160, 1, 1]).\n\tsize mismatch for backbone.fpn.inner_blocks.1.0.weight: copying a param with shape torch.Size([256, 512, 1, 1]) from checkpoint, the shape in current model is torch.Size([256, 960, 1, 1]).\n\tsize mismatch for rpn.head.cls_logits.weight: copying a param with shape torch.Size([3, 256, 1, 1]) from checkpoint, the shape in current model is torch.Size([15, 256, 1, 1]).\n\tsize mismatch for rpn.head.cls_logits.bias: copying a param with shape torch.Size([3]) from checkpoint, the shape in current model is torch.Size([15]).\n\tsize mismatch for rpn.head.bbox_pred.weight: copying a param with shape torch.Size([12, 256, 1, 1]) from checkpoint, the shape in current model is torch.Size([60, 256, 1, 1]).\n\tsize mismatch for rpn.head.bbox_pred.bias: copying a param with shape torch.Size([12]) from checkpoint, the shape in current model is torch.Size([60])."
     ]
    }
   ],
   "source": [
    "r_model = get_model(model=torchvision.models.detection.fasterrcnn_mobilenet_v3_large_320_fpn(weights=torchvision.models.detection.FasterRCNN_MobileNet_V3_Large_320_FPN_Weights.DEFAULT),\n",
    "                 num_classes=2,\n",
    "                 stats=stats)\n",
    "r_model.load_state_dict(tc.load(model_save_path, map_location=tc.device('cpu')))\n",
    "r_model = r_model.to(device)"
   ]
  },
  {
   "cell_type": "code",
   "execution_count": null,
   "id": "fe2eda71-c235-4d18-b9a3-263f6a0f6811",
   "metadata": {
    "scrolled": true
   },
   "outputs": [],
   "source": [
    "img, target = dataset_test[100]\n",
    "r_model.eval()\n",
    "with tc.no_grad():\n",
    "    prediction = r_model([img.to(device)])[0]\n",
    "prediction"
   ]
  },
  {
   "cell_type": "code",
   "execution_count": null,
   "id": "40ae0dc9-51b9-4cbb-8eff-6a551cefa762",
   "metadata": {},
   "outputs": [],
   "source": [
    "nms_prediction = apply_nms(prediction, iou_thresh=0.2)\n",
    "nms_prediction"
   ]
  },
  {
   "cell_type": "code",
   "execution_count": null,
   "id": "5e784f96-91ee-4c7b-8815-25aa7fe1017f",
   "metadata": {},
   "outputs": [],
   "source": [
    "plot_bin(img[0,:,:], nms_prediction['boxes'].cpu(), 0)"
   ]
  },
  {
   "cell_type": "code",
   "execution_count": null,
   "id": "df8fe284-9e96-42f2-8492-5e49f509fba5",
   "metadata": {},
   "outputs": [],
   "source": [
    "r_model.eval()\n",
    "probe = 0\n",
    "for img, target in data_loader_test:\n",
    "    imgs = list(img)\n",
    "    targets = list(target)\n",
    "    with tc.no_grad():\n",
    "        for img, target in zip(imgs, targets):\n",
    "            prediction = r_model([img.to(device)])[0]\n",
    "            print(prediction)\n",
    "            nms_prediction = apply_nms(prediction, iou_thresh=0.001)\n",
    "            print(nms_prediction)\n",
    "            nms_prediction['boxes'] = nms_prediction['boxes'].cpu()\n",
    "            plot_bin_detections(img[0,:,:], target['boxes'], nms_prediction)\n",
    "            probe += 1\n",
    "\n",
    "    if probe >= 1:\n",
    "        break"
   ]
  }
 ],
 "metadata": {
  "kernelspec": {
   "display_name": "Python 3 (ipykernel)",
   "language": "python",
   "name": "python3"
  },
  "language_info": {
   "codemirror_mode": {
    "name": "ipython",
    "version": 3
   },
   "file_extension": ".py",
   "mimetype": "text/x-python",
   "name": "python",
   "nbconvert_exporter": "python",
   "pygments_lexer": "ipython3",
   "version": "3.10.13"
  }
 },
 "nbformat": 4,
 "nbformat_minor": 5
}
