{
 "cells": [
  {
   "cell_type": "code",
   "execution_count": 1,
   "id": "796120de-bf8b-42b5-ad27-16f7b74cec9f",
   "metadata": {
    "tags": []
   },
   "outputs": [],
   "source": [
    "# !pip install pycocotools --quiet\n",
    "# !git clone https://github.com/pytorch/vision.git\n",
    "# !git checkout v0.3.0\n",
    "\n",
    "# !cp vision/references/detection/utils.py ./\n",
    "# !cp vision/references/detection/transforms.py ./\n",
    "# !cp vision/references/detection/coco_eval.py ./\n",
    "# !cp vision/references/detection/engine.py ./\n",
    "# !cp vision/references/detection/coco_utils.py ./"
   ]
  },
  {
   "cell_type": "code",
   "execution_count": 2,
   "id": "4cbb0bcf-e67f-482e-b373-1875a420410b",
   "metadata": {
    "tags": []
   },
   "outputs": [],
   "source": [
    "import os\n",
    "import numpy as np\n",
    "import torch as tc\n",
    "import torchvision\n",
    "from torchvision import transforms\n",
    "import matplotlib.pyplot as plt\n",
    "import matplotlib.patches as patches\n",
    "from tqdm.notebook import tqdm, trange\n",
    "import pickle\n",
    "\n",
    "import albumentations as A\n",
    "from albumentations.pytorch.transforms import ToTensorV2\n",
    "\n",
    "# from torchvision import transforms as torchtrans  \n",
    "from torchvision.models.detection.faster_rcnn import FastRCNNPredictor\n",
    "\n",
    "# these are the helper libraries imported.\n",
    "from engine import train_one_epoch, evaluate\n",
    "import utils\n",
    "# import transforms as T\n",
    "#import cv2\n",
    "from WishDataSet import WishDataSet, get_transform\n",
    "from wish_utils import *"
   ]
  },
  {
   "cell_type": "code",
   "execution_count": 3,
   "id": "8977efa9-00f7-4515-9776-e8fec58d3bfa",
   "metadata": {
    "tags": []
   },
   "outputs": [
    {
     "data": {
      "text/plain": [
       "'2.2.1+cu118'"
      ]
     },
     "execution_count": 3,
     "metadata": {},
     "output_type": "execute_result"
    }
   ],
   "source": [
    "tc.__version__"
   ]
  },
  {
   "cell_type": "code",
   "execution_count": 4,
   "id": "68a29720-689f-4a3f-a716-383493c408a6",
   "metadata": {
    "tags": []
   },
   "outputs": [
    {
     "data": {
      "text/plain": [
       "(True, 2)"
      ]
     },
     "execution_count": 4,
     "metadata": {},
     "output_type": "execute_result"
    }
   ],
   "source": [
    "tc.cuda.is_available(), tc.cuda.device_count()"
   ]
  },
  {
   "cell_type": "code",
   "execution_count": 5,
   "id": "3b6f5234-04f0-43db-99cc-9d5a4aa17f89",
   "metadata": {
    "tags": []
   },
   "outputs": [
    {
     "name": "stdout",
     "output_type": "stream",
     "text": [
      "Wed Mar  6 12:01:09 2024       \n",
      "+-----------------------------------------------------------------------------------------+\n",
      "| NVIDIA-SMI 550.54.14              Driver Version: 550.54.14      CUDA Version: 12.4     |\n",
      "|-----------------------------------------+------------------------+----------------------+\n",
      "| GPU  Name                 Persistence-M | Bus-Id          Disp.A | Volatile Uncorr. ECC |\n",
      "| Fan  Temp   Perf          Pwr:Usage/Cap |           Memory-Usage | GPU-Util  Compute M. |\n",
      "|                                         |                        |               MIG M. |\n",
      "|=========================================+========================+======================|\n",
      "|   0  Quadro RTX 4000                Off |   00000000:00:05.0 Off |                  N/A |\n",
      "| 30%   27C    P8              2W /  125W |     253MiB /   8192MiB |     38%      Default |\n",
      "|                                         |                        |                  N/A |\n",
      "+-----------------------------------------+------------------------+----------------------+\n",
      "|   1  Quadro RTX 4000                Off |   00000000:00:06.0 Off |                  N/A |\n",
      "| 30%   30C    P8              8W /  125W |       4MiB /   8192MiB |      0%      Default |\n",
      "|                                         |                        |                  N/A |\n",
      "+-----------------------------------------+------------------------+----------------------+\n",
      "                                                                                         \n",
      "+-----------------------------------------------------------------------------------------+\n",
      "| Processes:                                                                              |\n",
      "|  GPU   GI   CI        PID   Type   Process name                              GPU Memory |\n",
      "|        ID   ID                                                               Usage      |\n",
      "|=========================================================================================|\n",
      "|    0   N/A  N/A     49476      G   /usr/libexec/Xorg                              89MiB |\n",
      "|    0   N/A  N/A     49583      G   /usr/bin/gnome-shell                            2MiB |\n",
      "|    0   N/A  N/A    216169      G   xfwm4                                           2MiB |\n",
      "|    0   N/A  N/A    216439      G   /usr/lib64/firefox/firefox                    151MiB |\n",
      "+-----------------------------------------------------------------------------------------+\n"
     ]
    }
   ],
   "source": [
    "!nvidia-smi"
   ]
  },
  {
   "cell_type": "code",
   "execution_count": 6,
   "id": "c79e2dfe-7ff5-4723-9488-c11ef781851c",
   "metadata": {
    "tags": []
   },
   "outputs": [
    {
     "data": {
      "text/plain": [
       "(0, <torch.cuda.device at 0x7f6b7fce45e0>, 'Quadro RTX 4000')"
      ]
     },
     "execution_count": 6,
     "metadata": {},
     "output_type": "execute_result"
    }
   ],
   "source": [
    "tc.cuda.current_device(), tc.cuda.device(0), tc.cuda.get_device_name()"
   ]
  },
  {
   "cell_type": "code",
   "execution_count": 7,
   "id": "230f63f8-12f7-4977-b24b-f3cb26b56941",
   "metadata": {},
   "outputs": [],
   "source": [
    "# f = \"/home/wj1132075/Desktop/CNN_Model_Data/Annotations/annot_56_25.pickle\"\n",
    "# with open(f, 'rb') as handle:\n",
    "#     annot_dict = pickle.load(handle)\n",
    "#     bin_data = np.load(annot_dict['nparr_path'])['arr_0']\n",
    "#     # img_res = np.tile(bin_data[:,:,None], 3)\n",
    "#     bin_data = cv2.normalize(bin_data, None, 0, 255, cv2.NORM_MINMAX, dtype=cv2.CV_8U)\n",
    "    \n",
    "#     # img_res = cv2.resize(img_res, (128, 128), cv2.INTER_AREA)"
   ]
  },
  {
   "cell_type": "code",
   "execution_count": 8,
   "id": "5d47522c-26ba-47e6-a8bf-c1db675e12ea",
   "metadata": {},
   "outputs": [],
   "source": [
    "# bin_data.shape"
   ]
  },
  {
   "cell_type": "code",
   "execution_count": 9,
   "id": "aa560669-9eec-44f7-ad76-49a4ed7525d3",
   "metadata": {},
   "outputs": [],
   "source": [
    "# np.max(bin_data), np.min(bin_data)"
   ]
  },
  {
   "cell_type": "code",
   "execution_count": 10,
   "id": "9d5904f7-16d0-46ef-a2d1-6d01a6aff692",
   "metadata": {},
   "outputs": [],
   "source": [
    "# cv2.imshow('let see', bin_data)\n",
    "# cv2.waitKey(0)\n",
    "# cv2.destroyAllWindoes()"
   ]
  },
  {
   "cell_type": "code",
   "execution_count": 11,
   "id": "09a03d76-e2c8-4743-83ef-63e8cea16bf9",
   "metadata": {},
   "outputs": [],
   "source": [
    "# img_res = cv2.resize(img_res, (128, 128), cv2.INTER_AREA)"
   ]
  },
  {
   "cell_type": "code",
   "execution_count": 12,
   "id": "67541ad8-3d03-4118-a20d-0779af1a344d",
   "metadata": {},
   "outputs": [
    {
     "data": {
      "text/plain": [
       "15376"
      ]
     },
     "execution_count": 12,
     "metadata": {},
     "output_type": "execute_result"
    }
   ],
   "source": [
    "annotations_dir = \"/home/wj1132075/Desktop/CNN_Model_Data/PeakDataInFullRange/Annotations/\"\n",
    "ds = WishDataSet(annotations_dir)\n",
    "len(ds)"
   ]
  },
  {
   "cell_type": "code",
   "execution_count": 13,
   "id": "373b461d-6254-4568-a948-ff5818e3dac7",
   "metadata": {},
   "outputs": [
    {
     "data": {
      "text/plain": [
       "(numpy.ndarray, dict)"
      ]
     },
     "execution_count": 13,
     "metadata": {},
     "output_type": "execute_result"
    }
   ],
   "source": [
    "im, tar = ds[0]\n",
    "type(im), type(tar)"
   ]
  },
  {
   "cell_type": "code",
   "execution_count": 14,
   "id": "a39610ba-d165-423f-970b-34c6f911ee76",
   "metadata": {
    "tags": []
   },
   "outputs": [
    {
     "data": {
      "text/plain": [
       "(1520, 128, 3)"
      ]
     },
     "execution_count": 14,
     "metadata": {},
     "output_type": "execute_result"
    }
   ],
   "source": [
    "im.shape"
   ]
  },
  {
   "cell_type": "code",
   "execution_count": 15,
   "id": "f9db6f8c-5aa2-4a72-ad4e-d3667ce27f39",
   "metadata": {
    "tags": []
   },
   "outputs": [
    {
     "data": {
      "text/plain": [
       "{'boxes': tensor([[ 0., 63.,  7., 67.]]),\n",
       " 'labels': tensor([1]),\n",
       " 'area': tensor([28.]),\n",
       " 'iscrowd': tensor([0]),\n",
       " 'image_id': 0}"
      ]
     },
     "execution_count": 15,
     "metadata": {},
     "output_type": "execute_result"
    }
   ],
   "source": [
    "tar"
   ]
  },
  {
   "cell_type": "code",
   "execution_count": 16,
   "id": "80edac62-1283-4443-9aa2-4208b8f25079",
   "metadata": {
    "tags": []
   },
   "outputs": [],
   "source": [
    "# t = A.Compose([\n",
    "#                A.augmentations.geometric.resize.Resize(128, 128, p=1),\n",
    "#                A.HorizontalFlip(0.5),\n",
    "#                ToTensorV2(p=1.0)], bbox_params={'format': 'pascal_voc', 'label_fields': ['labels']})"
   ]
  },
  {
   "cell_type": "code",
   "execution_count": 17,
   "id": "3b2f02f9-ef85-4ea8-a526-a93d75d9b5a6",
   "metadata": {
    "tags": []
   },
   "outputs": [],
   "source": [
    "# new = t(image = im, bboxes = tar['boxes'], labels = tar['labels'])\n",
    "# new"
   ]
  },
  {
   "cell_type": "code",
   "execution_count": 18,
   "id": "2c012a52-9408-44f8-bcc2-38a4cde37894",
   "metadata": {
    "tags": []
   },
   "outputs": [],
   "source": [
    "# new['image'].shape"
   ]
  },
  {
   "cell_type": "code",
   "execution_count": 19,
   "id": "087e40b8-2b9a-45c7-9ffe-44e9346d2295",
   "metadata": {
    "tags": []
   },
   "outputs": [],
   "source": [
    "# transform = A.Compose(\n",
    "#     [        \n",
    "#         A.augmentations.geometric.resize.Resize(128, 128, p=1),\n",
    "#         # A.VerticalFlip(p=0.5), \n",
    "#         ToTensorV2(p=1.0)\n",
    "#     ],\n",
    "#     bbox_params=A.BboxParams(format='pascal_voc', label_fields=['labels'])\n",
    "# )"
   ]
  },
  {
   "cell_type": "code",
   "execution_count": 20,
   "id": "2ef323f2-e7c0-431a-96fe-98a7ff39f9d3",
   "metadata": {
    "tags": []
   },
   "outputs": [],
   "source": [
    "# transform = A.Compose(\n",
    "#     [       \n",
    "#         A.VerticalFlip(0.5),\n",
    "#         A.augmentations.geometric.resize.Resize(128, 128, p=1),\n",
    "#         ToTensorV2(p=1.0)\n",
    "#     ], \n",
    "#     bbox_params={'format': 'pascal_voc', 'label_fields': ['labels']})\n",
    "\n",
    "# for i in trange(5):\n",
    "#     new = transform(image = im, bboxes = tar['boxes'], labels = tar['labels'])\n",
    "#     print(new['bboxes'])\n",
    "#     plot_bin(new['image'][0,...], new['bboxes'], 0)"
   ]
  },
  {
   "cell_type": "code",
   "execution_count": 21,
   "id": "a9475ecb-25f3-4e93-9ba2-f55416b74ee4",
   "metadata": {
    "tags": []
   },
   "outputs": [],
   "source": [
    "# plot_img_bbox(im, tar)"
   ]
  },
  {
   "cell_type": "markdown",
   "id": "b2afbd39-7be8-47a8-aa08-ab9e68c19a12",
   "metadata": {},
   "source": [
    "### See bins and boxes"
   ]
  },
  {
   "cell_type": "code",
   "execution_count": 22,
   "id": "4814da2b-e298-404e-b3fd-fdce6810922a",
   "metadata": {
    "tags": []
   },
   "outputs": [],
   "source": [
    "# i=0\n",
    "# for (im, tar) in ds:\n",
    "#     plot_bin(im[:,:,0], tar['boxes'], i)\n",
    "#     i+=1\n",
    "#     if i == 5:\n",
    "#         break"
   ]
  },
  {
   "cell_type": "markdown",
   "id": "6e37e91b-b2b6-4098-8bcf-ee2951df337c",
   "metadata": {},
   "source": [
    "### Calculate the stats"
   ]
  },
  {
   "cell_type": "code",
   "execution_count": 23,
   "id": "4794f632-5b49-4efd-a180-2dbf1c0ecdc6",
   "metadata": {
    "tags": []
   },
   "outputs": [],
   "source": [
    "# dl = tc.utils.data.DataLoader(ds, batch_size=100, shuffle=False, num_workers=2, collate_fn=utils.collate_fn)\n",
    "# stats = get_stats(dl)\n",
    "# stats"
   ]
  },
  {
   "cell_type": "code",
   "execution_count": 24,
   "id": "a81bffc0-91d8-46f9-93b2-a68496369e6f",
   "metadata": {
    "tags": []
   },
   "outputs": [],
   "source": [
    "# stats = (np.array([1.26653515, 1.26653515, 1.26653515]), np.array([4.59509826, 4.59509826, 4.59509826]))\n",
    "# stats"
   ]
  },
  {
   "cell_type": "markdown",
   "id": "63b9adf2-5ae3-4864-af50-49bc2105d5f3",
   "metadata": {},
   "source": [
    "### Training and test data sets"
   ]
  },
  {
   "cell_type": "code",
   "execution_count": 25,
   "id": "74c5888e-2e47-476e-a089-9cf9f4e34e4d",
   "metadata": {},
   "outputs": [],
   "source": [
    "# use our dataset and defined transformations\n",
    "stats=None\n",
    "dataset = WishDataSet(annotations_dir, transforms=get_transform(train=True, stats=stats))\n",
    "dataset_test = WishDataSet(annotations_dir, transforms=get_transform(train=False, stats=stats))"
   ]
  },
  {
   "cell_type": "code",
   "execution_count": 26,
   "id": "ad531d92-9b8c-4be2-bcfd-445d2f90d154",
   "metadata": {},
   "outputs": [],
   "source": [
    "# a,b=dataset[800]"
   ]
  },
  {
   "cell_type": "code",
   "execution_count": 27,
   "id": "3ce8884d-cd6c-4925-bb39-0c90d5d59cdc",
   "metadata": {},
   "outputs": [],
   "source": [
    "# a.shape"
   ]
  },
  {
   "cell_type": "code",
   "execution_count": 28,
   "id": "be018e0e-0d5a-41fa-99f3-02716947e498",
   "metadata": {},
   "outputs": [],
   "source": [
    "# b"
   ]
  },
  {
   "cell_type": "code",
   "execution_count": 29,
   "id": "e4aa0b98-d5c4-490f-a936-b69f86cfac1b",
   "metadata": {},
   "outputs": [],
   "source": [
    "# split the dataset in train and test set\n",
    "tc.manual_seed(1)\n",
    "indices = tc.randperm(len(dataset)).tolist()\n",
    "\n",
    "# train test split\n",
    "test_split = 0.2\n",
    "tsize = int(len(dataset)*test_split)\n",
    "dataset = tc.utils.data.Subset(dataset, indices[:-tsize])\n",
    "dataset_test = tc.utils.data.Subset(dataset_test, indices[-tsize:])\n",
    "\n",
    "# define training and validation data loaders\n",
    "data_loader = tc.utils.data.DataLoader(dataset, batch_size=8, shuffle=True, num_workers=2, collate_fn=utils.collate_fn)\n",
    "data_loader_test = tc.utils.data.DataLoader(dataset_test, batch_size=8, shuffle=False, num_workers=2, collate_fn=utils.collate_fn)"
   ]
  },
  {
   "cell_type": "markdown",
   "id": "4ff368c7-fdb7-4e56-b04a-0080683b8c92",
   "metadata": {},
   "source": [
    "### Model Training"
   ]
  },
  {
   "cell_type": "code",
   "execution_count": 30,
   "id": "d7340fda-14ec-44ff-8302-78f8c7e0e15c",
   "metadata": {},
   "outputs": [
    {
     "name": "stderr",
     "output_type": "stream",
     "text": [
      "/home/wj1132075/.conda/envs/cuda_1/lib/python3.10/site-packages/torchvision/models/_utils.py:208: UserWarning: The parameter 'pretrained' is deprecated since 0.13 and may be removed in the future, please use 'weights' instead.\n",
      "  warnings.warn(\n",
      "/home/wj1132075/.conda/envs/cuda_1/lib/python3.10/site-packages/torchvision/models/_utils.py:223: UserWarning: Arguments other than a weight enum or `None` for 'weights' are deprecated since 0.13 and may be removed in the future. The current behavior is equivalent to passing `weights=FasterRCNN_ResNet50_FPN_Weights.COCO_V1`. You can also use `weights=FasterRCNN_ResNet50_FPN_Weights.DEFAULT` to get the most up-to-date weights.\n",
      "  warnings.warn(msg)\n"
     ]
    }
   ],
   "source": [
    "# to train on gpu if selected.\n",
    "device = tc.device('cuda') if tc.cuda.is_available() else tc.device('cpu')\n",
    "\n",
    "num_classes = 2\n",
    "\n",
    "# get the model using our helper function\n",
    "model = get_object_detection_model(num_classes, pretrained=True)"
   ]
  },
  {
   "cell_type": "code",
   "execution_count": 31,
   "id": "916bc7ef-7e9d-4703-9a3f-504e13e322fb",
   "metadata": {
    "tags": []
   },
   "outputs": [],
   "source": [
    "# model"
   ]
  },
  {
   "cell_type": "code",
   "execution_count": 32,
   "id": "6e1dc8c0-44cf-42a7-a0a7-72f3f91a7360",
   "metadata": {
    "tags": []
   },
   "outputs": [
    {
     "data": {
      "text/plain": [
       "device(type='cuda')"
      ]
     },
     "execution_count": 32,
     "metadata": {},
     "output_type": "execute_result"
    }
   ],
   "source": [
    "device"
   ]
  },
  {
   "cell_type": "code",
   "execution_count": 33,
   "id": "195c068f-ea6e-4171-a4c5-0eb57ae8bb4a",
   "metadata": {},
   "outputs": [],
   "source": [
    "# move model to the right device\n",
    "model.to(device)\n",
    "\n",
    "# construct an optimizer\n",
    "params = [p for p in model.parameters() if p.requires_grad]\n",
    "optimizer = tc.optim.SGD(params, lr=0.005, momentum=0.9, weight_decay=0.0005)\n",
    "\n",
    "# and a learning rate scheduler which decreases the learning rate by\n",
    "# 10x every 3 epochs\n",
    "lr_scheduler = tc.optim.lr_scheduler.StepLR(optimizer, \n",
    "                                            step_size=3,\n",
    "                                            gamma=0.1)# to train on gpu if selected."
   ]
  },
  {
   "cell_type": "code",
   "execution_count": 34,
   "id": "0c6ed36f-3519-4d8c-88af-72cb952e6be7",
   "metadata": {},
   "outputs": [
    {
     "data": {
      "text/plain": [
       "72"
      ]
     },
     "execution_count": 34,
     "metadata": {},
     "output_type": "execute_result"
    }
   ],
   "source": [
    "len(params)"
   ]
  },
  {
   "cell_type": "code",
   "execution_count": 35,
   "id": "5a100df7-dfb8-4bc2-b6fd-3093452006dc",
   "metadata": {},
   "outputs": [
    {
     "data": {
      "text/plain": [
       "<torch.optim.lr_scheduler.StepLR at 0x7f6b7fcdf9a0>"
      ]
     },
     "execution_count": 35,
     "metadata": {},
     "output_type": "execute_result"
    }
   ],
   "source": [
    "lr_scheduler"
   ]
  },
  {
   "cell_type": "markdown",
   "id": "512cda76-948d-4a9e-a952-3212c10b8537",
   "metadata": {},
   "source": [
    "### Training "
   ]
  },
  {
   "cell_type": "code",
   "execution_count": 36,
   "id": "6eecf782-ae53-4191-aed1-fe844a052598",
   "metadata": {
    "tags": []
   },
   "outputs": [
    {
     "data": {
      "application/vnd.jupyter.widget-view+json": {
       "model_id": "d9b1cdf811ad4abf821bcd8e77c748ee",
       "version_major": 2,
       "version_minor": 0
      },
      "text/plain": [
       "  0%|          | 0/20 [00:00<?, ?it/s]"
      ]
     },
     "metadata": {},
     "output_type": "display_data"
    },
    {
     "name": "stdout",
     "output_type": "stream",
     "text": [
      "starting epoch 0\n",
      "Epoch: [0]  [   0/1538]  eta: 3:12:59  lr: 0.000010  loss: 22.9043 (22.9043)  loss_classifier: 1.8030 (1.8030)  loss_box_reg: 0.2004 (0.2004)  loss_objectness: 11.9505 (11.9505)  loss_rpn_box_reg: 8.9504 (8.9504)  time: 7.5290  data: 0.8404  max mem: 2127\n",
      "Epoch: [0]  [  50/1538]  eta: 0:13:29  lr: 0.000260  loss: 1.6764 (4.2686)  loss_classifier: 0.0265 (0.2281)  loss_box_reg: 0.0294 (0.0884)  loss_objectness: 0.3151 (1.1356)  loss_rpn_box_reg: 1.2412 (2.8164)  time: 0.3985  data: 0.0215  max mem: 2324\n",
      "Epoch: [0]  [ 100/1538]  eta: 0:11:20  lr: 0.000509  loss: 1.7424 (3.0108)  loss_classifier: 0.0056 (0.1202)  loss_box_reg: 0.0091 (0.0520)  loss_objectness: 0.3231 (0.7413)  loss_rpn_box_reg: 1.3733 (2.0974)  time: 0.4031  data: 0.0201  max mem: 2324\n",
      "Epoch: [0]  [ 150/1538]  eta: 0:11:24  lr: 0.000759  loss: 1.3418 (2.5098)  loss_classifier: 0.0057 (0.0829)  loss_box_reg: 0.0051 (0.0374)  loss_objectness: 0.2036 (0.5873)  loss_rpn_box_reg: 1.0940 (1.8022)  time: 0.4141  data: 0.0207  max mem: 2324\n",
      "Epoch: [0]  [ 200/1538]  eta: 0:10:34  lr: 0.001009  loss: 1.0373 (2.1806)  loss_classifier: 0.0075 (0.0647)  loss_box_reg: 0.0069 (0.0300)  loss_objectness: 0.0798 (0.4798)  loss_rpn_box_reg: 0.9297 (1.6062)  time: 0.4193  data: 0.0210  max mem: 2324\n",
      "Epoch: [0]  [ 250/1538]  eta: 0:09:55  lr: 0.001259  loss: 0.6375 (1.9068)  loss_classifier: 0.0157 (0.0546)  loss_box_reg: 0.0143 (0.0265)  loss_objectness: 0.0792 (0.4085)  loss_rpn_box_reg: 0.5150 (1.4173)  time: 0.4106  data: 0.0207  max mem: 2324\n",
      "Epoch: [0]  [ 300/1538]  eta: 0:09:23  lr: 0.001508  loss: 0.4754 (1.6836)  loss_classifier: 0.0171 (0.0483)  loss_box_reg: 0.0281 (0.0260)  loss_objectness: 0.0417 (0.3541)  loss_rpn_box_reg: 0.3686 (1.2552)  time: 0.4199  data: 0.0213  max mem: 2324\n",
      "Epoch: [0]  [ 350/1538]  eta: 0:08:54  lr: 0.001758  loss: 0.3439 (1.4952)  loss_classifier: 0.0191 (0.0444)  loss_box_reg: 0.0358 (0.0274)  loss_objectness: 0.0309 (0.3092)  loss_rpn_box_reg: 0.2386 (1.1142)  time: 0.4155  data: 0.0215  max mem: 2324\n",
      "Epoch: [0]  [ 400/1538]  eta: 0:08:27  lr: 0.002008  loss: 0.4080 (1.3577)  loss_classifier: 0.0229 (0.0416)  loss_box_reg: 0.0427 (0.0290)  loss_objectness: 0.0324 (0.2758)  loss_rpn_box_reg: 0.3064 (1.0113)  time: 0.4143  data: 0.0209  max mem: 2324\n",
      "Epoch: [0]  [ 450/1538]  eta: 0:08:01  lr: 0.002258  loss: 0.3054 (1.2444)  loss_classifier: 0.0217 (0.0395)  loss_box_reg: 0.0392 (0.0301)  loss_objectness: 0.0412 (0.2508)  loss_rpn_box_reg: 0.1733 (0.9241)  time: 0.4144  data: 0.0204  max mem: 2324\n",
      "Epoch: [0]  [ 500/1538]  eta: 0:07:36  lr: 0.002507  loss: 0.2631 (1.1478)  loss_classifier: 0.0202 (0.0378)  loss_box_reg: 0.0408 (0.0314)  loss_objectness: 0.0231 (0.2299)  loss_rpn_box_reg: 0.1659 (0.8487)  time: 0.4183  data: 0.0186  max mem: 2324\n",
      "Epoch: [0]  [ 550/1538]  eta: 0:07:11  lr: 0.002757  loss: 0.2228 (1.0679)  loss_classifier: 0.0247 (0.0363)  loss_box_reg: 0.0447 (0.0322)  loss_objectness: 0.0266 (0.2121)  loss_rpn_box_reg: 0.1311 (0.7873)  time: 0.4058  data: 0.0201  max mem: 2324\n",
      "Epoch: [0]  [ 600/1538]  eta: 0:06:47  lr: 0.003007  loss: 0.2445 (0.9996)  loss_classifier: 0.0238 (0.0353)  loss_box_reg: 0.0386 (0.0331)  loss_objectness: 0.0256 (0.1972)  loss_rpn_box_reg: 0.1274 (0.7340)  time: 0.4075  data: 0.0201  max mem: 2324\n",
      "Epoch: [0]  [ 650/1538]  eta: 0:06:25  lr: 0.003257  loss: 0.2250 (0.9415)  loss_classifier: 0.0205 (0.0340)  loss_box_reg: 0.0394 (0.0335)  loss_objectness: 0.0154 (0.1845)  loss_rpn_box_reg: 0.1419 (0.6894)  time: 0.4365  data: 0.0209  max mem: 2324\n",
      "Epoch: [0]  [ 700/1538]  eta: 0:06:04  lr: 0.003506  loss: 0.2053 (0.8907)  loss_classifier: 0.0176 (0.0330)  loss_box_reg: 0.0365 (0.0338)  loss_objectness: 0.0278 (0.1739)  loss_rpn_box_reg: 0.1137 (0.6500)  time: 0.4255  data: 0.0209  max mem: 2324\n",
      "Epoch: [0]  [ 750/1538]  eta: 0:05:41  lr: 0.003756  loss: 0.2035 (0.8463)  loss_classifier: 0.0217 (0.0323)  loss_box_reg: 0.0369 (0.0343)  loss_objectness: 0.0187 (0.1647)  loss_rpn_box_reg: 0.1221 (0.6150)  time: 0.4184  data: 0.0194  max mem: 2324\n",
      "Epoch: [0]  [ 800/1538]  eta: 0:05:19  lr: 0.004006  loss: 0.1877 (0.8066)  loss_classifier: 0.0184 (0.0316)  loss_box_reg: 0.0326 (0.0347)  loss_objectness: 0.0175 (0.1557)  loss_rpn_box_reg: 0.1176 (0.5847)  time: 0.4222  data: 0.0204  max mem: 2324\n",
      "Epoch: [0]  [ 850/1538]  eta: 0:04:57  lr: 0.004256  loss: 0.2729 (0.7752)  loss_classifier: 0.0177 (0.0308)  loss_box_reg: 0.0325 (0.0347)  loss_objectness: 0.0221 (0.1479)  loss_rpn_box_reg: 0.1814 (0.5617)  time: 0.4352  data: 0.0212  max mem: 2324\n",
      "Epoch: [0]  [ 900/1538]  eta: 0:04:35  lr: 0.004505  loss: 0.1819 (0.7455)  loss_classifier: 0.0199 (0.0303)  loss_box_reg: 0.0357 (0.0351)  loss_objectness: 0.0260 (0.1422)  loss_rpn_box_reg: 0.0934 (0.5379)  time: 0.4178  data: 0.0205  max mem: 2324\n",
      "Epoch: [0]  [ 950/1538]  eta: 0:04:13  lr: 0.004755  loss: 0.1814 (0.7156)  loss_classifier: 0.0214 (0.0298)  loss_box_reg: 0.0423 (0.0355)  loss_objectness: 0.0224 (0.1364)  loss_rpn_box_reg: 0.0647 (0.5139)  time: 0.4304  data: 0.0209  max mem: 2324\n",
      "Epoch: [0]  [1000/1538]  eta: 0:03:52  lr: 0.005000  loss: 0.4004 (0.6956)  loss_classifier: 0.0130 (0.0292)  loss_box_reg: 0.0229 (0.0352)  loss_objectness: 0.0434 (0.1323)  loss_rpn_box_reg: 0.3234 (0.4990)  time: 0.4156  data: 0.0203  max mem: 2324\n",
      "Epoch: [0]  [1050/1538]  eta: 0:03:30  lr: 0.005000  loss: 0.1859 (0.6744)  loss_classifier: 0.0157 (0.0286)  loss_box_reg: 0.0304 (0.0351)  loss_objectness: 0.0265 (0.1279)  loss_rpn_box_reg: 0.1010 (0.4829)  time: 0.4371  data: 0.0208  max mem: 2324\n",
      "Epoch: [0]  [1100/1538]  eta: 0:03:08  lr: 0.005000  loss: 0.2097 (0.6538)  loss_classifier: 0.0196 (0.0282)  loss_box_reg: 0.0432 (0.0354)  loss_objectness: 0.0216 (0.1237)  loss_rpn_box_reg: 0.1236 (0.4665)  time: 0.4322  data: 0.0209  max mem: 2324\n",
      "Epoch: [0]  [1150/1538]  eta: 0:02:47  lr: 0.005000  loss: 0.1806 (0.6329)  loss_classifier: 0.0203 (0.0278)  loss_box_reg: 0.0370 (0.0356)  loss_objectness: 0.0137 (0.1190)  loss_rpn_box_reg: 0.0960 (0.4505)  time: 0.4261  data: 0.0210  max mem: 2324\n",
      "Epoch: [0]  [1200/1538]  eta: 0:02:25  lr: 0.005000  loss: 0.1414 (0.6138)  loss_classifier: 0.0200 (0.0275)  loss_box_reg: 0.0403 (0.0358)  loss_objectness: 0.0183 (0.1157)  loss_rpn_box_reg: 0.0609 (0.4348)  time: 0.4200  data: 0.0208  max mem: 2324\n",
      "Epoch: [0]  [1250/1538]  eta: 0:02:03  lr: 0.005000  loss: 0.1343 (0.5945)  loss_classifier: 0.0196 (0.0272)  loss_box_reg: 0.0374 (0.0359)  loss_objectness: 0.0141 (0.1117)  loss_rpn_box_reg: 0.0577 (0.4197)  time: 0.4160  data: 0.0204  max mem: 2324\n",
      "Epoch: [0]  [1300/1538]  eta: 0:01:42  lr: 0.005000  loss: 0.1495 (0.5784)  loss_classifier: 0.0190 (0.0268)  loss_box_reg: 0.0395 (0.0360)  loss_objectness: 0.0174 (0.1088)  loss_rpn_box_reg: 0.0664 (0.4069)  time: 0.4201  data: 0.0211  max mem: 2324\n",
      "Epoch: [0]  [1350/1538]  eta: 0:01:20  lr: 0.005000  loss: 0.1514 (0.5626)  loss_classifier: 0.0190 (0.0266)  loss_box_reg: 0.0370 (0.0360)  loss_objectness: 0.0171 (0.1058)  loss_rpn_box_reg: 0.0677 (0.3942)  time: 0.4179  data: 0.0206  max mem: 2324\n",
      "Epoch: [0]  [1400/1538]  eta: 0:00:59  lr: 0.005000  loss: 0.1233 (0.5472)  loss_classifier: 0.0163 (0.0263)  loss_box_reg: 0.0329 (0.0359)  loss_objectness: 0.0154 (0.1029)  loss_rpn_box_reg: 0.0603 (0.3820)  time: 0.4292  data: 0.0210  max mem: 2324\n",
      "Epoch: [0]  [1450/1538]  eta: 0:00:37  lr: 0.005000  loss: 0.0812 (0.5318)  loss_classifier: 0.0128 (0.0259)  loss_box_reg: 0.0215 (0.0357)  loss_objectness: 0.0128 (0.1001)  loss_rpn_box_reg: 0.0280 (0.3701)  time: 0.4270  data: 0.0209  max mem: 2324\n",
      "Epoch: [0]  [1500/1538]  eta: 0:00:16  lr: 0.005000  loss: 0.1439 (0.5184)  loss_classifier: 0.0175 (0.0256)  loss_box_reg: 0.0346 (0.0356)  loss_objectness: 0.0286 (0.0978)  loss_rpn_box_reg: 0.0612 (0.3594)  time: 0.4242  data: 0.0199  max mem: 2324\n",
      "Epoch: [0]  [1537/1538]  eta: 0:00:00  lr: 0.005000  loss: 0.1345 (0.5093)  loss_classifier: 0.0174 (0.0255)  loss_box_reg: 0.0296 (0.0355)  loss_objectness: 0.0285 (0.0964)  loss_rpn_box_reg: 0.0505 (0.3519)  time: 0.4374  data: 0.0213  max mem: 2324\n",
      "Epoch: [0] Total time: 0:11:00 (0.4292 s / it)\n",
      "creating index...\n",
      "index created!\n",
      "Test:  [  0/385]  eta: 0:03:00  model_time: 0.2419 (0.2419)  evaluator_time: 0.0174 (0.0174)  time: 0.4688  data: 0.1861  max mem: 2324\n",
      "Test:  [100/385]  eta: 0:00:58  model_time: 0.1640 (0.1659)  evaluator_time: 0.0093 (0.0096)  time: 0.2013  data: 0.0205  max mem: 2324\n",
      "Test:  [200/385]  eta: 0:00:37  model_time: 0.1657 (0.1668)  evaluator_time: 0.0089 (0.0095)  time: 0.2028  data: 0.0203  max mem: 2324\n",
      "Test:  [300/385]  eta: 0:00:17  model_time: 0.1695 (0.1678)  evaluator_time: 0.0109 (0.0098)  time: 0.2093  data: 0.0223  max mem: 2324\n",
      "Test:  [384/385]  eta: 0:00:00  model_time: 0.1697 (0.1695)  evaluator_time: 0.0096 (0.0099)  time: 0.2047  data: 0.0217  max mem: 2324\n",
      "Test: Total time: 0:01:19 (0.2073 s / it)\n",
      "Averaged stats: model_time: 0.1697 (0.1695)  evaluator_time: 0.0096 (0.0099)\n",
      "Accumulating evaluation results...\n",
      "DONE (t=0.40s).\n",
      "IoU metric: bbox\n",
      " Average Precision  (AP) @[ IoU=0.50:0.95 | area=   all | maxDets=100 ] = 0.080\n",
      " Average Precision  (AP) @[ IoU=0.50      | area=   all | maxDets=100 ] = 0.285\n",
      " Average Precision  (AP) @[ IoU=0.75      | area=   all | maxDets=100 ] = 0.030\n",
      " Average Precision  (AP) @[ IoU=0.50:0.95 | area= small | maxDets=100 ] = 0.080\n",
      " Average Precision  (AP) @[ IoU=0.50:0.95 | area=medium | maxDets=100 ] = -1.000\n",
      " Average Precision  (AP) @[ IoU=0.50:0.95 | area= large | maxDets=100 ] = -1.000\n",
      " Average Recall     (AR) @[ IoU=0.50:0.95 | area=   all | maxDets=  1 ] = 0.074\n",
      " Average Recall     (AR) @[ IoU=0.50:0.95 | area=   all | maxDets= 10 ] = 0.370\n",
      " Average Recall     (AR) @[ IoU=0.50:0.95 | area=   all | maxDets=100 ] = 0.384\n",
      " Average Recall     (AR) @[ IoU=0.50:0.95 | area= small | maxDets=100 ] = 0.384\n",
      " Average Recall     (AR) @[ IoU=0.50:0.95 | area=medium | maxDets=100 ] = -1.000\n",
      " Average Recall     (AR) @[ IoU=0.50:0.95 | area= large | maxDets=100 ] = -1.000\n",
      "starting epoch 1\n",
      "Epoch: [1]  [   0/1538]  eta: 0:15:47  lr: 0.005000  loss: 0.0951 (0.0951)  loss_classifier: 0.0132 (0.0132)  loss_box_reg: 0.0278 (0.0278)  loss_objectness: 0.0186 (0.0186)  loss_rpn_box_reg: 0.0355 (0.0355)  time: 0.6158  data: 0.2174  max mem: 2324\n",
      "Epoch: [1]  [  50/1538]  eta: 0:10:31  lr: 0.005000  loss: 0.1038 (0.1150)  loss_classifier: 0.0161 (0.0178)  loss_box_reg: 0.0270 (0.0308)  loss_objectness: 0.0265 (0.0282)  loss_rpn_box_reg: 0.0338 (0.0382)  time: 0.4192  data: 0.0232  max mem: 2324\n",
      "Epoch: [1]  [ 100/1538]  eta: 0:10:05  lr: 0.005000  loss: 0.1396 (0.1215)  loss_classifier: 0.0144 (0.0173)  loss_box_reg: 0.0315 (0.0315)  loss_objectness: 0.0182 (0.0303)  loss_rpn_box_reg: 0.0592 (0.0425)  time: 0.4144  data: 0.0220  max mem: 2325\n",
      "Epoch: [1]  [ 150/1538]  eta: 0:09:47  lr: 0.005000  loss: 0.0921 (0.1185)  loss_classifier: 0.0162 (0.0173)  loss_box_reg: 0.0250 (0.0312)  loss_objectness: 0.0210 (0.0285)  loss_rpn_box_reg: 0.0332 (0.0416)  time: 0.4295  data: 0.0231  max mem: 2325\n",
      "Epoch: [1]  [ 200/1538]  eta: 0:09:25  lr: 0.005000  loss: 0.0782 (0.1101)  loss_classifier: 0.0157 (0.0170)  loss_box_reg: 0.0286 (0.0306)  loss_objectness: 0.0131 (0.0249)  loss_rpn_box_reg: 0.0230 (0.0376)  time: 0.4139  data: 0.0225  max mem: 2325\n",
      "Epoch: [1]  [ 250/1538]  eta: 0:09:04  lr: 0.005000  loss: 0.0905 (0.1110)  loss_classifier: 0.0162 (0.0171)  loss_box_reg: 0.0296 (0.0307)  loss_objectness: 0.0143 (0.0259)  loss_rpn_box_reg: 0.0339 (0.0373)  time: 0.4291  data: 0.0237  max mem: 2325\n",
      "Epoch: [1]  [ 300/1538]  eta: 0:08:43  lr: 0.005000  loss: 0.0831 (0.1077)  loss_classifier: 0.0171 (0.0171)  loss_box_reg: 0.0274 (0.0306)  loss_objectness: 0.0121 (0.0244)  loss_rpn_box_reg: 0.0262 (0.0357)  time: 0.4157  data: 0.0234  max mem: 2325\n",
      "Epoch: [1]  [ 350/1538]  eta: 0:08:21  lr: 0.005000  loss: 0.0842 (0.1065)  loss_classifier: 0.0162 (0.0170)  loss_box_reg: 0.0262 (0.0304)  loss_objectness: 0.0133 (0.0244)  loss_rpn_box_reg: 0.0282 (0.0347)  time: 0.4154  data: 0.0235  max mem: 2325\n",
      "Epoch: [1]  [ 400/1538]  eta: 0:07:59  lr: 0.005000  loss: 0.0807 (0.1040)  loss_classifier: 0.0136 (0.0167)  loss_box_reg: 0.0247 (0.0300)  loss_objectness: 0.0109 (0.0234)  loss_rpn_box_reg: 0.0243 (0.0338)  time: 0.4155  data: 0.0231  max mem: 2325\n",
      "Epoch: [1]  [ 450/1538]  eta: 0:07:38  lr: 0.005000  loss: 0.0808 (0.1020)  loss_classifier: 0.0168 (0.0167)  loss_box_reg: 0.0263 (0.0298)  loss_objectness: 0.0127 (0.0228)  loss_rpn_box_reg: 0.0206 (0.0328)  time: 0.4136  data: 0.0236  max mem: 2325\n",
      "Epoch: [1]  [ 500/1538]  eta: 0:07:16  lr: 0.005000  loss: 0.0818 (0.1012)  loss_classifier: 0.0169 (0.0168)  loss_box_reg: 0.0290 (0.0297)  loss_objectness: 0.0118 (0.0226)  loss_rpn_box_reg: 0.0218 (0.0321)  time: 0.4140  data: 0.0228  max mem: 2325\n",
      "Epoch: [1]  [ 550/1538]  eta: 0:06:54  lr: 0.005000  loss: 0.0839 (0.0997)  loss_classifier: 0.0155 (0.0168)  loss_box_reg: 0.0244 (0.0295)  loss_objectness: 0.0159 (0.0220)  loss_rpn_box_reg: 0.0209 (0.0313)  time: 0.4095  data: 0.0194  max mem: 2325\n",
      "Epoch: [1]  [ 600/1538]  eta: 0:06:33  lr: 0.005000  loss: 0.0751 (0.0988)  loss_classifier: 0.0148 (0.0167)  loss_box_reg: 0.0266 (0.0294)  loss_objectness: 0.0144 (0.0219)  loss_rpn_box_reg: 0.0208 (0.0307)  time: 0.4129  data: 0.0231  max mem: 2325\n",
      "Epoch: [1]  [ 650/1538]  eta: 0:06:11  lr: 0.005000  loss: 0.0917 (0.0990)  loss_classifier: 0.0160 (0.0167)  loss_box_reg: 0.0266 (0.0293)  loss_objectness: 0.0134 (0.0222)  loss_rpn_box_reg: 0.0277 (0.0308)  time: 0.4127  data: 0.0230  max mem: 2325\n",
      "Epoch: [1]  [ 700/1538]  eta: 0:05:50  lr: 0.005000  loss: 0.0826 (0.0991)  loss_classifier: 0.0159 (0.0167)  loss_box_reg: 0.0252 (0.0292)  loss_objectness: 0.0126 (0.0223)  loss_rpn_box_reg: 0.0233 (0.0309)  time: 0.4136  data: 0.0218  max mem: 2325\n",
      "Epoch: [1]  [ 750/1538]  eta: 0:05:29  lr: 0.005000  loss: 0.0914 (0.0985)  loss_classifier: 0.0191 (0.0167)  loss_box_reg: 0.0300 (0.0292)  loss_objectness: 0.0157 (0.0221)  loss_rpn_box_reg: 0.0214 (0.0305)  time: 0.4139  data: 0.0237  max mem: 2325\n",
      "Epoch: [1]  [ 800/1538]  eta: 0:05:08  lr: 0.005000  loss: 0.0801 (0.0979)  loss_classifier: 0.0166 (0.0168)  loss_box_reg: 0.0277 (0.0291)  loss_objectness: 0.0147 (0.0219)  loss_rpn_box_reg: 0.0234 (0.0301)  time: 0.4139  data: 0.0229  max mem: 2325\n",
      "Epoch: [1]  [ 850/1538]  eta: 0:04:47  lr: 0.005000  loss: 0.0747 (0.0977)  loss_classifier: 0.0146 (0.0168)  loss_box_reg: 0.0245 (0.0290)  loss_objectness: 0.0115 (0.0221)  loss_rpn_box_reg: 0.0247 (0.0298)  time: 0.4143  data: 0.0227  max mem: 2325\n",
      "Epoch: [1]  [ 900/1538]  eta: 0:04:26  lr: 0.005000  loss: 0.0793 (0.0973)  loss_classifier: 0.0159 (0.0168)  loss_box_reg: 0.0249 (0.0289)  loss_objectness: 0.0163 (0.0221)  loss_rpn_box_reg: 0.0267 (0.0295)  time: 0.4129  data: 0.0236  max mem: 2325\n",
      "Epoch: [1]  [ 950/1538]  eta: 0:04:05  lr: 0.005000  loss: 0.0719 (0.0965)  loss_classifier: 0.0161 (0.0168)  loss_box_reg: 0.0270 (0.0289)  loss_objectness: 0.0097 (0.0216)  loss_rpn_box_reg: 0.0194 (0.0292)  time: 0.4117  data: 0.0228  max mem: 2325\n",
      "Epoch: [1]  [1000/1538]  eta: 0:03:44  lr: 0.005000  loss: 0.0679 (0.0956)  loss_classifier: 0.0150 (0.0168)  loss_box_reg: 0.0244 (0.0287)  loss_objectness: 0.0134 (0.0214)  loss_rpn_box_reg: 0.0160 (0.0287)  time: 0.4122  data: 0.0228  max mem: 2325\n",
      "Epoch: [1]  [1050/1538]  eta: 0:03:23  lr: 0.005000  loss: 0.0666 (0.0950)  loss_classifier: 0.0144 (0.0167)  loss_box_reg: 0.0243 (0.0286)  loss_objectness: 0.0129 (0.0214)  loss_rpn_box_reg: 0.0182 (0.0283)  time: 0.4123  data: 0.0228  max mem: 2325\n",
      "Epoch: [1]  [1100/1538]  eta: 0:03:02  lr: 0.005000  loss: 0.0870 (0.0945)  loss_classifier: 0.0182 (0.0167)  loss_box_reg: 0.0244 (0.0285)  loss_objectness: 0.0169 (0.0213)  loss_rpn_box_reg: 0.0206 (0.0280)  time: 0.4134  data: 0.0234  max mem: 2325\n",
      "Epoch: [1]  [1150/1538]  eta: 0:02:41  lr: 0.005000  loss: 0.0748 (0.0943)  loss_classifier: 0.0139 (0.0167)  loss_box_reg: 0.0280 (0.0285)  loss_objectness: 0.0095 (0.0214)  loss_rpn_box_reg: 0.0199 (0.0277)  time: 0.4182  data: 0.0224  max mem: 2325\n",
      "Epoch: [1]  [1200/1538]  eta: 0:02:21  lr: 0.005000  loss: 0.0733 (0.0940)  loss_classifier: 0.0169 (0.0167)  loss_box_reg: 0.0237 (0.0284)  loss_objectness: 0.0179 (0.0215)  loss_rpn_box_reg: 0.0174 (0.0274)  time: 0.4209  data: 0.0223  max mem: 2325\n",
      "Epoch: [1]  [1250/1538]  eta: 0:02:00  lr: 0.005000  loss: 0.0594 (0.0933)  loss_classifier: 0.0136 (0.0166)  loss_box_reg: 0.0209 (0.0282)  loss_objectness: 0.0108 (0.0214)  loss_rpn_box_reg: 0.0139 (0.0271)  time: 0.4104  data: 0.0227  max mem: 2325\n",
      "Epoch: [1]  [1300/1538]  eta: 0:01:39  lr: 0.005000  loss: 0.0660 (0.0924)  loss_classifier: 0.0136 (0.0166)  loss_box_reg: 0.0220 (0.0280)  loss_objectness: 0.0096 (0.0212)  loss_rpn_box_reg: 0.0141 (0.0266)  time: 0.4106  data: 0.0227  max mem: 2325\n",
      "Epoch: [1]  [1350/1538]  eta: 0:01:18  lr: 0.005000  loss: 0.0660 (0.0918)  loss_classifier: 0.0146 (0.0165)  loss_box_reg: 0.0238 (0.0279)  loss_objectness: 0.0126 (0.0211)  loss_rpn_box_reg: 0.0163 (0.0263)  time: 0.4123  data: 0.0221  max mem: 2325\n",
      "Epoch: [1]  [1400/1538]  eta: 0:00:57  lr: 0.005000  loss: 0.0644 (0.0913)  loss_classifier: 0.0133 (0.0165)  loss_box_reg: 0.0211 (0.0278)  loss_objectness: 0.0137 (0.0211)  loss_rpn_box_reg: 0.0130 (0.0259)  time: 0.4135  data: 0.0228  max mem: 2325\n",
      "Epoch: [1]  [1450/1538]  eta: 0:00:36  lr: 0.005000  loss: 0.0608 (0.0904)  loss_classifier: 0.0142 (0.0164)  loss_box_reg: 0.0230 (0.0276)  loss_objectness: 0.0105 (0.0208)  loss_rpn_box_reg: 0.0126 (0.0255)  time: 0.4147  data: 0.0213  max mem: 2325\n",
      "Epoch: [1]  [1500/1538]  eta: 0:00:15  lr: 0.005000  loss: 0.0659 (0.0901)  loss_classifier: 0.0155 (0.0164)  loss_box_reg: 0.0217 (0.0275)  loss_objectness: 0.0115 (0.0210)  loss_rpn_box_reg: 0.0137 (0.0252)  time: 0.4178  data: 0.0238  max mem: 2325\n",
      "Epoch: [1]  [1537/1538]  eta: 0:00:00  lr: 0.005000  loss: 0.0626 (0.0896)  loss_classifier: 0.0144 (0.0164)  loss_box_reg: 0.0229 (0.0273)  loss_objectness: 0.0145 (0.0210)  loss_rpn_box_reg: 0.0124 (0.0250)  time: 0.4083  data: 0.0229  max mem: 2325\n",
      "Epoch: [1] Total time: 0:10:41 (0.4170 s / it)\n",
      "creating index...\n",
      "index created!\n",
      "Test:  [  0/385]  eta: 0:03:06  model_time: 0.2465 (0.2465)  evaluator_time: 0.0201 (0.0201)  time: 0.4846  data: 0.1964  max mem: 2325\n",
      "Test:  [100/385]  eta: 0:00:58  model_time: 0.1668 (0.1671)  evaluator_time: 0.0090 (0.0093)  time: 0.2026  data: 0.0220  max mem: 2325\n",
      "Test:  [200/385]  eta: 0:00:37  model_time: 0.1690 (0.1683)  evaluator_time: 0.0091 (0.0092)  time: 0.2097  data: 0.0221  max mem: 2325\n",
      "Test:  [300/385]  eta: 0:00:17  model_time: 0.1698 (0.1690)  evaluator_time: 0.0089 (0.0091)  time: 0.2069  data: 0.0223  max mem: 2325\n",
      "Test:  [384/385]  eta: 0:00:00  model_time: 0.1716 (0.1696)  evaluator_time: 0.0087 (0.0091)  time: 0.2030  data: 0.0216  max mem: 2325\n",
      "Test: Total time: 0:01:19 (0.2058 s / it)\n",
      "Averaged stats: model_time: 0.1716 (0.1696)  evaluator_time: 0.0087 (0.0091)\n",
      "Accumulating evaluation results...\n",
      "DONE (t=0.33s).\n",
      "IoU metric: bbox\n",
      " Average Precision  (AP) @[ IoU=0.50:0.95 | area=   all | maxDets=100 ] = 0.105\n",
      " Average Precision  (AP) @[ IoU=0.50      | area=   all | maxDets=100 ] = 0.419\n",
      " Average Precision  (AP) @[ IoU=0.75      | area=   all | maxDets=100 ] = 0.025\n",
      " Average Precision  (AP) @[ IoU=0.50:0.95 | area= small | maxDets=100 ] = 0.105\n",
      " Average Precision  (AP) @[ IoU=0.50:0.95 | area=medium | maxDets=100 ] = -1.000\n",
      " Average Precision  (AP) @[ IoU=0.50:0.95 | area= large | maxDets=100 ] = -1.000\n",
      " Average Recall     (AR) @[ IoU=0.50:0.95 | area=   all | maxDets=  1 ] = 0.115\n",
      " Average Recall     (AR) @[ IoU=0.50:0.95 | area=   all | maxDets= 10 ] = 0.325\n",
      " Average Recall     (AR) @[ IoU=0.50:0.95 | area=   all | maxDets=100 ] = 0.327\n",
      " Average Recall     (AR) @[ IoU=0.50:0.95 | area= small | maxDets=100 ] = 0.327\n",
      " Average Recall     (AR) @[ IoU=0.50:0.95 | area=medium | maxDets=100 ] = -1.000\n",
      " Average Recall     (AR) @[ IoU=0.50:0.95 | area= large | maxDets=100 ] = -1.000\n",
      "starting epoch 2\n",
      "Epoch: [2]  [   0/1538]  eta: 0:15:40  lr: 0.005000  loss: 0.0610 (0.0610)  loss_classifier: 0.0166 (0.0166)  loss_box_reg: 0.0198 (0.0198)  loss_objectness: 0.0123 (0.0123)  loss_rpn_box_reg: 0.0122 (0.0122)  time: 0.6116  data: 0.2117  max mem: 2325\n",
      "Epoch: [2]  [  50/1538]  eta: 0:10:20  lr: 0.005000  loss: 0.0680 (0.0749)  loss_classifier: 0.0139 (0.0162)  loss_box_reg: 0.0251 (0.0244)  loss_objectness: 0.0107 (0.0170)  loss_rpn_box_reg: 0.0164 (0.0173)  time: 0.4114  data: 0.0233  max mem: 2325\n",
      "Epoch: [2]  [ 100/1538]  eta: 0:09:56  lr: 0.005000  loss: 0.0725 (0.0740)  loss_classifier: 0.0166 (0.0156)  loss_box_reg: 0.0240 (0.0245)  loss_objectness: 0.0151 (0.0166)  loss_rpn_box_reg: 0.0189 (0.0173)  time: 0.4141  data: 0.0230  max mem: 2325\n",
      "Epoch: [2]  [ 150/1538]  eta: 0:09:34  lr: 0.005000  loss: 0.0678 (0.0736)  loss_classifier: 0.0146 (0.0154)  loss_box_reg: 0.0245 (0.0246)  loss_objectness: 0.0089 (0.0167)  loss_rpn_box_reg: 0.0164 (0.0170)  time: 0.4124  data: 0.0230  max mem: 2325\n",
      "Epoch: [2]  [ 200/1538]  eta: 0:09:13  lr: 0.005000  loss: 0.0685 (0.0753)  loss_classifier: 0.0138 (0.0154)  loss_box_reg: 0.0219 (0.0244)  loss_objectness: 0.0107 (0.0171)  loss_rpn_box_reg: 0.0186 (0.0185)  time: 0.4108  data: 0.0228  max mem: 2325\n",
      "Epoch: [2]  [ 250/1538]  eta: 0:08:52  lr: 0.005000  loss: 0.0611 (0.0756)  loss_classifier: 0.0149 (0.0154)  loss_box_reg: 0.0205 (0.0241)  loss_objectness: 0.0117 (0.0183)  loss_rpn_box_reg: 0.0132 (0.0178)  time: 0.4133  data: 0.0226  max mem: 2325\n",
      "Epoch: [2]  [ 300/1538]  eta: 0:08:31  lr: 0.005000  loss: 0.0645 (0.0749)  loss_classifier: 0.0144 (0.0154)  loss_box_reg: 0.0216 (0.0240)  loss_objectness: 0.0111 (0.0180)  loss_rpn_box_reg: 0.0143 (0.0174)  time: 0.4122  data: 0.0225  max mem: 2325\n",
      "Epoch: [2]  [ 350/1538]  eta: 0:08:11  lr: 0.005000  loss: 0.0685 (0.0746)  loss_classifier: 0.0147 (0.0155)  loss_box_reg: 0.0252 (0.0241)  loss_objectness: 0.0134 (0.0177)  loss_rpn_box_reg: 0.0151 (0.0173)  time: 0.4115  data: 0.0230  max mem: 2325\n",
      "Epoch: [2]  [ 400/1538]  eta: 0:07:50  lr: 0.005000  loss: 0.0618 (0.0750)  loss_classifier: 0.0147 (0.0155)  loss_box_reg: 0.0215 (0.0241)  loss_objectness: 0.0118 (0.0184)  loss_rpn_box_reg: 0.0113 (0.0170)  time: 0.4129  data: 0.0227  max mem: 2325\n",
      "Epoch: [2]  [ 450/1538]  eta: 0:07:29  lr: 0.005000  loss: 0.0609 (0.0744)  loss_classifier: 0.0143 (0.0154)  loss_box_reg: 0.0230 (0.0240)  loss_objectness: 0.0101 (0.0182)  loss_rpn_box_reg: 0.0123 (0.0168)  time: 0.4114  data: 0.0230  max mem: 2325\n",
      "Epoch: [2]  [ 500/1538]  eta: 0:07:08  lr: 0.005000  loss: 0.0689 (0.0744)  loss_classifier: 0.0143 (0.0154)  loss_box_reg: 0.0235 (0.0239)  loss_objectness: 0.0160 (0.0187)  loss_rpn_box_reg: 0.0141 (0.0165)  time: 0.4132  data: 0.0228  max mem: 2325\n",
      "Epoch: [2]  [ 550/1538]  eta: 0:06:48  lr: 0.005000  loss: 0.0733 (0.0743)  loss_classifier: 0.0149 (0.0154)  loss_box_reg: 0.0218 (0.0240)  loss_objectness: 0.0151 (0.0185)  loss_rpn_box_reg: 0.0171 (0.0164)  time: 0.4116  data: 0.0228  max mem: 2325\n",
      "Epoch: [2]  [ 600/1538]  eta: 0:06:27  lr: 0.005000  loss: 0.0608 (0.0741)  loss_classifier: 0.0142 (0.0155)  loss_box_reg: 0.0241 (0.0241)  loss_objectness: 0.0115 (0.0183)  loss_rpn_box_reg: 0.0139 (0.0162)  time: 0.4119  data: 0.0227  max mem: 2325\n",
      "Epoch: [2]  [ 650/1538]  eta: 0:06:06  lr: 0.005000  loss: 0.0626 (0.0740)  loss_classifier: 0.0124 (0.0154)  loss_box_reg: 0.0246 (0.0242)  loss_objectness: 0.0106 (0.0181)  loss_rpn_box_reg: 0.0155 (0.0164)  time: 0.4147  data: 0.0231  max mem: 2325\n",
      "Epoch: [2]  [ 700/1538]  eta: 0:05:46  lr: 0.005000  loss: 0.0610 (0.0734)  loss_classifier: 0.0146 (0.0154)  loss_box_reg: 0.0212 (0.0241)  loss_objectness: 0.0117 (0.0178)  loss_rpn_box_reg: 0.0145 (0.0162)  time: 0.4129  data: 0.0228  max mem: 2325\n",
      "Epoch: [2]  [ 750/1538]  eta: 0:05:25  lr: 0.005000  loss: 0.0599 (0.0728)  loss_classifier: 0.0152 (0.0154)  loss_box_reg: 0.0216 (0.0240)  loss_objectness: 0.0076 (0.0174)  loss_rpn_box_reg: 0.0113 (0.0159)  time: 0.4147  data: 0.0226  max mem: 2325\n",
      "Epoch: [2]  [ 800/1538]  eta: 0:05:05  lr: 0.005000  loss: 0.0831 (0.0727)  loss_classifier: 0.0170 (0.0154)  loss_box_reg: 0.0273 (0.0240)  loss_objectness: 0.0209 (0.0175)  loss_rpn_box_reg: 0.0200 (0.0158)  time: 0.4118  data: 0.0229  max mem: 2325\n",
      "Epoch: [2]  [ 850/1538]  eta: 0:04:44  lr: 0.005000  loss: 0.0676 (0.0728)  loss_classifier: 0.0145 (0.0153)  loss_box_reg: 0.0224 (0.0240)  loss_objectness: 0.0125 (0.0174)  loss_rpn_box_reg: 0.0143 (0.0160)  time: 0.4121  data: 0.0231  max mem: 2325\n",
      "Epoch: [2]  [ 900/1538]  eta: 0:04:23  lr: 0.005000  loss: 0.0575 (0.0726)  loss_classifier: 0.0139 (0.0153)  loss_box_reg: 0.0219 (0.0239)  loss_objectness: 0.0132 (0.0175)  loss_rpn_box_reg: 0.0133 (0.0159)  time: 0.4132  data: 0.0230  max mem: 2325\n",
      "Epoch: [2]  [ 950/1538]  eta: 0:04:03  lr: 0.005000  loss: 0.0569 (0.0723)  loss_classifier: 0.0144 (0.0153)  loss_box_reg: 0.0222 (0.0238)  loss_objectness: 0.0113 (0.0175)  loss_rpn_box_reg: 0.0119 (0.0157)  time: 0.4109  data: 0.0229  max mem: 2325\n",
      "Epoch: [2]  [1000/1538]  eta: 0:03:42  lr: 0.005000  loss: 0.0590 (0.0722)  loss_classifier: 0.0149 (0.0153)  loss_box_reg: 0.0208 (0.0237)  loss_objectness: 0.0107 (0.0176)  loss_rpn_box_reg: 0.0115 (0.0156)  time: 0.4153  data: 0.0229  max mem: 2325\n",
      "Epoch: [2]  [1050/1538]  eta: 0:03:21  lr: 0.005000  loss: 0.0585 (0.0717)  loss_classifier: 0.0148 (0.0152)  loss_box_reg: 0.0233 (0.0236)  loss_objectness: 0.0095 (0.0174)  loss_rpn_box_reg: 0.0106 (0.0154)  time: 0.4114  data: 0.0225  max mem: 2325\n",
      "Epoch: [2]  [1100/1538]  eta: 0:03:01  lr: 0.005000  loss: 0.0584 (0.0711)  loss_classifier: 0.0142 (0.0152)  loss_box_reg: 0.0221 (0.0235)  loss_objectness: 0.0097 (0.0171)  loss_rpn_box_reg: 0.0116 (0.0153)  time: 0.4112  data: 0.0223  max mem: 2325\n",
      "Epoch: [2]  [1150/1538]  eta: 0:02:40  lr: 0.005000  loss: 0.0575 (0.0707)  loss_classifier: 0.0135 (0.0152)  loss_box_reg: 0.0208 (0.0235)  loss_objectness: 0.0106 (0.0169)  loss_rpn_box_reg: 0.0099 (0.0152)  time: 0.4129  data: 0.0224  max mem: 2325\n",
      "Epoch: [2]  [1200/1538]  eta: 0:02:19  lr: 0.005000  loss: 0.0527 (0.0701)  loss_classifier: 0.0119 (0.0151)  loss_box_reg: 0.0206 (0.0234)  loss_objectness: 0.0079 (0.0166)  loss_rpn_box_reg: 0.0103 (0.0150)  time: 0.4141  data: 0.0230  max mem: 2325\n",
      "Epoch: [2]  [1250/1538]  eta: 0:01:59  lr: 0.005000  loss: 0.0604 (0.0698)  loss_classifier: 0.0139 (0.0151)  loss_box_reg: 0.0234 (0.0234)  loss_objectness: 0.0119 (0.0165)  loss_rpn_box_reg: 0.0108 (0.0149)  time: 0.4145  data: 0.0233  max mem: 2325\n",
      "Epoch: [2]  [1300/1538]  eta: 0:01:38  lr: 0.005000  loss: 0.0575 (0.0694)  loss_classifier: 0.0141 (0.0150)  loss_box_reg: 0.0214 (0.0233)  loss_objectness: 0.0105 (0.0164)  loss_rpn_box_reg: 0.0098 (0.0147)  time: 0.4130  data: 0.0222  max mem: 2325\n",
      "Epoch: [2]  [1350/1538]  eta: 0:01:17  lr: 0.005000  loss: 0.0604 (0.0694)  loss_classifier: 0.0134 (0.0150)  loss_box_reg: 0.0206 (0.0232)  loss_objectness: 0.0129 (0.0165)  loss_rpn_box_reg: 0.0125 (0.0147)  time: 0.4165  data: 0.0232  max mem: 2325\n",
      "Epoch: [2]  [1400/1538]  eta: 0:00:57  lr: 0.005000  loss: 0.0595 (0.0693)  loss_classifier: 0.0138 (0.0150)  loss_box_reg: 0.0201 (0.0232)  loss_objectness: 0.0125 (0.0165)  loss_rpn_box_reg: 0.0110 (0.0146)  time: 0.4134  data: 0.0230  max mem: 2325\n",
      "Epoch: [2]  [1450/1538]  eta: 0:00:36  lr: 0.005000  loss: 0.0642 (0.0691)  loss_classifier: 0.0148 (0.0150)  loss_box_reg: 0.0225 (0.0231)  loss_objectness: 0.0147 (0.0165)  loss_rpn_box_reg: 0.0122 (0.0145)  time: 0.4124  data: 0.0228  max mem: 2325\n",
      "Epoch: [2]  [1500/1538]  eta: 0:00:15  lr: 0.005000  loss: 0.0541 (0.0691)  loss_classifier: 0.0127 (0.0150)  loss_box_reg: 0.0191 (0.0231)  loss_objectness: 0.0096 (0.0164)  loss_rpn_box_reg: 0.0105 (0.0146)  time: 0.4127  data: 0.0228  max mem: 2325\n",
      "Epoch: [2]  [1537/1538]  eta: 0:00:00  lr: 0.005000  loss: 0.0553 (0.0687)  loss_classifier: 0.0130 (0.0150)  loss_box_reg: 0.0184 (0.0231)  loss_objectness: 0.0080 (0.0162)  loss_rpn_box_reg: 0.0094 (0.0145)  time: 0.4054  data: 0.0228  max mem: 2325\n",
      "Epoch: [2] Total time: 0:10:35 (0.4134 s / it)\n",
      "creating index...\n",
      "index created!\n",
      "Test:  [  0/385]  eta: 0:03:05  model_time: 0.2174 (0.2174)  evaluator_time: 0.0211 (0.0211)  time: 0.4812  data: 0.2223  max mem: 2325\n",
      "Test:  [100/385]  eta: 0:00:58  model_time: 0.1666 (0.1679)  evaluator_time: 0.0093 (0.0105)  time: 0.2034  data: 0.0213  max mem: 2325\n",
      "Test:  [200/385]  eta: 0:00:37  model_time: 0.1696 (0.1689)  evaluator_time: 0.0091 (0.0099)  time: 0.2091  data: 0.0215  max mem: 2325\n",
      "Test:  [300/385]  eta: 0:00:17  model_time: 0.1704 (0.1696)  evaluator_time: 0.0089 (0.0096)  time: 0.2059  data: 0.0213  max mem: 2325\n",
      "Test:  [384/385]  eta: 0:00:00  model_time: 0.1737 (0.1702)  evaluator_time: 0.0092 (0.0095)  time: 0.2084  data: 0.0210  max mem: 2325\n",
      "Test: Total time: 0:01:19 (0.2060 s / it)\n",
      "Averaged stats: model_time: 0.1737 (0.1702)  evaluator_time: 0.0092 (0.0095)\n",
      "Accumulating evaluation results...\n",
      "DONE (t=0.36s).\n",
      "IoU metric: bbox\n",
      " Average Precision  (AP) @[ IoU=0.50:0.95 | area=   all | maxDets=100 ] = 0.112\n",
      " Average Precision  (AP) @[ IoU=0.50      | area=   all | maxDets=100 ] = 0.456\n",
      " Average Precision  (AP) @[ IoU=0.75      | area=   all | maxDets=100 ] = 0.022\n",
      " Average Precision  (AP) @[ IoU=0.50:0.95 | area= small | maxDets=100 ] = 0.112\n",
      " Average Precision  (AP) @[ IoU=0.50:0.95 | area=medium | maxDets=100 ] = -1.000\n",
      " Average Precision  (AP) @[ IoU=0.50:0.95 | area= large | maxDets=100 ] = -1.000\n",
      " Average Recall     (AR) @[ IoU=0.50:0.95 | area=   all | maxDets=  1 ] = 0.124\n",
      " Average Recall     (AR) @[ IoU=0.50:0.95 | area=   all | maxDets= 10 ] = 0.306\n",
      " Average Recall     (AR) @[ IoU=0.50:0.95 | area=   all | maxDets=100 ] = 0.307\n",
      " Average Recall     (AR) @[ IoU=0.50:0.95 | area= small | maxDets=100 ] = 0.307\n",
      " Average Recall     (AR) @[ IoU=0.50:0.95 | area=medium | maxDets=100 ] = -1.000\n",
      " Average Recall     (AR) @[ IoU=0.50:0.95 | area= large | maxDets=100 ] = -1.000\n",
      "starting epoch 3\n",
      "Epoch: [3]  [   0/1538]  eta: 0:16:31  lr: 0.000500  loss: 0.0539 (0.0539)  loss_classifier: 0.0144 (0.0144)  loss_box_reg: 0.0217 (0.0217)  loss_objectness: 0.0129 (0.0129)  loss_rpn_box_reg: 0.0050 (0.0050)  time: 0.6445  data: 0.2363  max mem: 2325\n",
      "Epoch: [3]  [  50/1538]  eta: 0:10:40  lr: 0.000500  loss: 0.0473 (0.0518)  loss_classifier: 0.0135 (0.0135)  loss_box_reg: 0.0192 (0.0206)  loss_objectness: 0.0088 (0.0093)  loss_rpn_box_reg: 0.0072 (0.0083)  time: 0.4235  data: 0.0203  max mem: 2325\n",
      "Epoch: [3]  [ 100/1538]  eta: 0:10:15  lr: 0.000500  loss: 0.0524 (0.0551)  loss_classifier: 0.0116 (0.0134)  loss_box_reg: 0.0190 (0.0203)  loss_objectness: 0.0082 (0.0129)  loss_rpn_box_reg: 0.0091 (0.0085)  time: 0.4190  data: 0.0223  max mem: 2326\n",
      "Epoch: [3]  [ 150/1538]  eta: 0:09:50  lr: 0.000500  loss: 0.0448 (0.0534)  loss_classifier: 0.0111 (0.0132)  loss_box_reg: 0.0192 (0.0202)  loss_objectness: 0.0076 (0.0119)  loss_rpn_box_reg: 0.0064 (0.0082)  time: 0.4140  data: 0.0229  max mem: 2326\n",
      "Epoch: [3]  [ 200/1538]  eta: 0:09:29  lr: 0.000500  loss: 0.0503 (0.0530)  loss_classifier: 0.0127 (0.0132)  loss_box_reg: 0.0190 (0.0202)  loss_objectness: 0.0092 (0.0112)  loss_rpn_box_reg: 0.0089 (0.0084)  time: 0.4313  data: 0.0225  max mem: 2326\n",
      "Epoch: [3]  [ 250/1538]  eta: 0:09:08  lr: 0.000500  loss: 0.0497 (0.0520)  loss_classifier: 0.0135 (0.0131)  loss_box_reg: 0.0176 (0.0199)  loss_objectness: 0.0100 (0.0107)  loss_rpn_box_reg: 0.0071 (0.0082)  time: 0.4142  data: 0.0230  max mem: 2326\n",
      "Epoch: [3]  [ 300/1538]  eta: 0:08:44  lr: 0.000500  loss: 0.0524 (0.0525)  loss_classifier: 0.0140 (0.0132)  loss_box_reg: 0.0208 (0.0201)  loss_objectness: 0.0086 (0.0110)  loss_rpn_box_reg: 0.0076 (0.0083)  time: 0.4105  data: 0.0228  max mem: 2326\n",
      "Epoch: [3]  [ 350/1538]  eta: 0:08:21  lr: 0.000500  loss: 0.0521 (0.0536)  loss_classifier: 0.0131 (0.0133)  loss_box_reg: 0.0181 (0.0200)  loss_objectness: 0.0086 (0.0120)  loss_rpn_box_reg: 0.0083 (0.0083)  time: 0.4118  data: 0.0228  max mem: 2326\n",
      "Epoch: [3]  [ 400/1538]  eta: 0:07:59  lr: 0.000500  loss: 0.0455 (0.0532)  loss_classifier: 0.0111 (0.0132)  loss_box_reg: 0.0175 (0.0199)  loss_objectness: 0.0081 (0.0118)  loss_rpn_box_reg: 0.0075 (0.0083)  time: 0.4131  data: 0.0232  max mem: 2326\n",
      "Epoch: [3]  [ 450/1538]  eta: 0:07:37  lr: 0.000500  loss: 0.0539 (0.0535)  loss_classifier: 0.0139 (0.0133)  loss_box_reg: 0.0201 (0.0200)  loss_objectness: 0.0129 (0.0119)  loss_rpn_box_reg: 0.0078 (0.0083)  time: 0.4125  data: 0.0233  max mem: 2326\n",
      "Epoch: [3]  [ 500/1538]  eta: 0:07:15  lr: 0.000500  loss: 0.0520 (0.0533)  loss_classifier: 0.0120 (0.0133)  loss_box_reg: 0.0193 (0.0199)  loss_objectness: 0.0083 (0.0118)  loss_rpn_box_reg: 0.0081 (0.0083)  time: 0.4135  data: 0.0229  max mem: 2326\n",
      "Epoch: [3]  [ 550/1538]  eta: 0:06:54  lr: 0.000500  loss: 0.0442 (0.0531)  loss_classifier: 0.0141 (0.0133)  loss_box_reg: 0.0183 (0.0199)  loss_objectness: 0.0086 (0.0117)  loss_rpn_box_reg: 0.0075 (0.0083)  time: 0.4130  data: 0.0233  max mem: 2326\n",
      "Epoch: [3]  [ 600/1538]  eta: 0:06:32  lr: 0.000500  loss: 0.0529 (0.0531)  loss_classifier: 0.0125 (0.0133)  loss_box_reg: 0.0192 (0.0198)  loss_objectness: 0.0092 (0.0118)  loss_rpn_box_reg: 0.0070 (0.0083)  time: 0.4116  data: 0.0229  max mem: 2326\n",
      "Epoch: [3]  [ 650/1538]  eta: 0:06:11  lr: 0.000500  loss: 0.0469 (0.0528)  loss_classifier: 0.0128 (0.0133)  loss_box_reg: 0.0174 (0.0197)  loss_objectness: 0.0082 (0.0115)  loss_rpn_box_reg: 0.0066 (0.0082)  time: 0.4133  data: 0.0236  max mem: 2326\n",
      "Epoch: [3]  [ 700/1538]  eta: 0:05:50  lr: 0.000500  loss: 0.0435 (0.0524)  loss_classifier: 0.0108 (0.0132)  loss_box_reg: 0.0184 (0.0197)  loss_objectness: 0.0078 (0.0114)  loss_rpn_box_reg: 0.0058 (0.0082)  time: 0.4100  data: 0.0227  max mem: 2326\n",
      "Epoch: [3]  [ 750/1538]  eta: 0:05:28  lr: 0.000500  loss: 0.0518 (0.0525)  loss_classifier: 0.0131 (0.0133)  loss_box_reg: 0.0191 (0.0197)  loss_objectness: 0.0074 (0.0113)  loss_rpn_box_reg: 0.0068 (0.0082)  time: 0.4103  data: 0.0224  max mem: 2326\n",
      "Epoch: [3]  [ 800/1538]  eta: 0:05:07  lr: 0.000500  loss: 0.0437 (0.0522)  loss_classifier: 0.0121 (0.0132)  loss_box_reg: 0.0175 (0.0196)  loss_objectness: 0.0061 (0.0112)  loss_rpn_box_reg: 0.0058 (0.0081)  time: 0.4091  data: 0.0222  max mem: 2326\n",
      "Epoch: [3]  [ 850/1538]  eta: 0:04:46  lr: 0.000500  loss: 0.0456 (0.0522)  loss_classifier: 0.0114 (0.0132)  loss_box_reg: 0.0191 (0.0196)  loss_objectness: 0.0072 (0.0113)  loss_rpn_box_reg: 0.0075 (0.0081)  time: 0.4094  data: 0.0222  max mem: 2326\n",
      "Epoch: [3]  [ 900/1538]  eta: 0:04:25  lr: 0.000500  loss: 0.0480 (0.0521)  loss_classifier: 0.0118 (0.0132)  loss_box_reg: 0.0193 (0.0196)  loss_objectness: 0.0094 (0.0113)  loss_rpn_box_reg: 0.0068 (0.0081)  time: 0.4097  data: 0.0221  max mem: 2326\n",
      "Epoch: [3]  [ 950/1538]  eta: 0:04:04  lr: 0.000500  loss: 0.0505 (0.0522)  loss_classifier: 0.0127 (0.0132)  loss_box_reg: 0.0191 (0.0196)  loss_objectness: 0.0084 (0.0112)  loss_rpn_box_reg: 0.0076 (0.0081)  time: 0.4183  data: 0.0229  max mem: 2326\n",
      "Epoch: [3]  [1000/1538]  eta: 0:03:43  lr: 0.000500  loss: 0.0477 (0.0519)  loss_classifier: 0.0123 (0.0132)  loss_box_reg: 0.0180 (0.0196)  loss_objectness: 0.0072 (0.0111)  loss_rpn_box_reg: 0.0058 (0.0081)  time: 0.4094  data: 0.0226  max mem: 2326\n",
      "Epoch: [3]  [1050/1538]  eta: 0:03:22  lr: 0.000500  loss: 0.0483 (0.0518)  loss_classifier: 0.0121 (0.0132)  loss_box_reg: 0.0175 (0.0196)  loss_objectness: 0.0086 (0.0111)  loss_rpn_box_reg: 0.0083 (0.0081)  time: 0.4090  data: 0.0221  max mem: 2326\n",
      "Epoch: [3]  [1100/1538]  eta: 0:03:02  lr: 0.000500  loss: 0.0534 (0.0523)  loss_classifier: 0.0118 (0.0132)  loss_box_reg: 0.0180 (0.0196)  loss_objectness: 0.0117 (0.0114)  loss_rpn_box_reg: 0.0055 (0.0081)  time: 0.4107  data: 0.0224  max mem: 2326\n",
      "Epoch: [3]  [1150/1538]  eta: 0:02:41  lr: 0.000500  loss: 0.0446 (0.0523)  loss_classifier: 0.0126 (0.0132)  loss_box_reg: 0.0183 (0.0196)  loss_objectness: 0.0082 (0.0114)  loss_rpn_box_reg: 0.0081 (0.0081)  time: 0.4120  data: 0.0228  max mem: 2326\n",
      "Epoch: [3]  [1200/1538]  eta: 0:02:20  lr: 0.000500  loss: 0.0466 (0.0522)  loss_classifier: 0.0123 (0.0132)  loss_box_reg: 0.0191 (0.0196)  loss_objectness: 0.0084 (0.0114)  loss_rpn_box_reg: 0.0067 (0.0080)  time: 0.4101  data: 0.0223  max mem: 2326\n",
      "Epoch: [3]  [1250/1538]  eta: 0:01:59  lr: 0.000500  loss: 0.0483 (0.0521)  loss_classifier: 0.0123 (0.0132)  loss_box_reg: 0.0188 (0.0196)  loss_objectness: 0.0080 (0.0113)  loss_rpn_box_reg: 0.0080 (0.0080)  time: 0.4095  data: 0.0223  max mem: 2326\n",
      "Epoch: [3]  [1300/1538]  eta: 0:01:38  lr: 0.000500  loss: 0.0530 (0.0523)  loss_classifier: 0.0126 (0.0132)  loss_box_reg: 0.0192 (0.0196)  loss_objectness: 0.0110 (0.0114)  loss_rpn_box_reg: 0.0086 (0.0081)  time: 0.4117  data: 0.0226  max mem: 2326\n",
      "Epoch: [3]  [1350/1538]  eta: 0:01:18  lr: 0.000500  loss: 0.0494 (0.0523)  loss_classifier: 0.0110 (0.0132)  loss_box_reg: 0.0193 (0.0196)  loss_objectness: 0.0089 (0.0114)  loss_rpn_box_reg: 0.0084 (0.0081)  time: 0.4097  data: 0.0225  max mem: 2326\n",
      "Epoch: [3]  [1400/1538]  eta: 0:00:57  lr: 0.000500  loss: 0.0488 (0.0522)  loss_classifier: 0.0127 (0.0132)  loss_box_reg: 0.0186 (0.0195)  loss_objectness: 0.0125 (0.0114)  loss_rpn_box_reg: 0.0074 (0.0081)  time: 0.4098  data: 0.0224  max mem: 2326\n",
      "Epoch: [3]  [1450/1538]  eta: 0:00:36  lr: 0.000500  loss: 0.0473 (0.0522)  loss_classifier: 0.0112 (0.0132)  loss_box_reg: 0.0193 (0.0195)  loss_objectness: 0.0092 (0.0114)  loss_rpn_box_reg: 0.0073 (0.0081)  time: 0.4118  data: 0.0230  max mem: 2326\n",
      "Epoch: [3]  [1500/1538]  eta: 0:00:15  lr: 0.000500  loss: 0.0472 (0.0520)  loss_classifier: 0.0124 (0.0131)  loss_box_reg: 0.0191 (0.0195)  loss_objectness: 0.0089 (0.0114)  loss_rpn_box_reg: 0.0065 (0.0080)  time: 0.4102  data: 0.0226  max mem: 2326\n",
      "Epoch: [3]  [1537/1538]  eta: 0:00:00  lr: 0.000500  loss: 0.0481 (0.0519)  loss_classifier: 0.0134 (0.0131)  loss_box_reg: 0.0183 (0.0195)  loss_objectness: 0.0091 (0.0113)  loss_rpn_box_reg: 0.0064 (0.0080)  time: 0.4037  data: 0.0223  max mem: 2326\n",
      "Epoch: [3] Total time: 0:10:37 (0.4147 s / it)\n",
      "creating index...\n",
      "index created!\n",
      "Test:  [  0/385]  eta: 0:03:03  model_time: 0.2498 (0.2498)  evaluator_time: 0.0199 (0.0199)  time: 0.4759  data: 0.1831  max mem: 2326\n",
      "Test:  [100/385]  eta: 0:01:00  model_time: 0.1679 (0.1743)  evaluator_time: 0.0093 (0.0097)  time: 0.2080  data: 0.0189  max mem: 2326\n",
      "Test:  [200/385]  eta: 0:00:38  model_time: 0.1682 (0.1742)  evaluator_time: 0.0088 (0.0095)  time: 0.2058  data: 0.0221  max mem: 2326\n",
      "Test:  [300/385]  eta: 0:00:17  model_time: 0.1701 (0.1733)  evaluator_time: 0.0088 (0.0093)  time: 0.2018  data: 0.0167  max mem: 2326\n",
      "Test:  [384/385]  eta: 0:00:00  model_time: 0.1703 (0.1728)  evaluator_time: 0.0084 (0.0091)  time: 0.2002  data: 0.0210  max mem: 2326\n",
      "Test: Total time: 0:01:20 (0.2084 s / it)\n",
      "Averaged stats: model_time: 0.1703 (0.1728)  evaluator_time: 0.0084 (0.0091)\n",
      "Accumulating evaluation results...\n",
      "DONE (t=0.32s).\n",
      "IoU metric: bbox\n",
      " Average Precision  (AP) @[ IoU=0.50:0.95 | area=   all | maxDets=100 ] = 0.139\n",
      " Average Precision  (AP) @[ IoU=0.50      | area=   all | maxDets=100 ] = 0.547\n",
      " Average Precision  (AP) @[ IoU=0.75      | area=   all | maxDets=100 ] = 0.031\n",
      " Average Precision  (AP) @[ IoU=0.50:0.95 | area= small | maxDets=100 ] = 0.139\n",
      " Average Precision  (AP) @[ IoU=0.50:0.95 | area=medium | maxDets=100 ] = -1.000\n",
      " Average Precision  (AP) @[ IoU=0.50:0.95 | area= large | maxDets=100 ] = -1.000\n",
      " Average Recall     (AR) @[ IoU=0.50:0.95 | area=   all | maxDets=  1 ] = 0.150\n",
      " Average Recall     (AR) @[ IoU=0.50:0.95 | area=   all | maxDets= 10 ] = 0.321\n",
      " Average Recall     (AR) @[ IoU=0.50:0.95 | area=   all | maxDets=100 ] = 0.321\n",
      " Average Recall     (AR) @[ IoU=0.50:0.95 | area= small | maxDets=100 ] = 0.321\n",
      " Average Recall     (AR) @[ IoU=0.50:0.95 | area=medium | maxDets=100 ] = -1.000\n",
      " Average Recall     (AR) @[ IoU=0.50:0.95 | area= large | maxDets=100 ] = -1.000\n",
      "starting epoch 4\n",
      "Epoch: [4]  [   0/1538]  eta: 0:16:17  lr: 0.000500  loss: 0.0919 (0.0919)  loss_classifier: 0.0118 (0.0118)  loss_box_reg: 0.0166 (0.0166)  loss_objectness: 0.0521 (0.0521)  loss_rpn_box_reg: 0.0114 (0.0114)  time: 0.6355  data: 0.2326  max mem: 2326\n",
      "Epoch: [4]  [  50/1538]  eta: 0:10:15  lr: 0.000500  loss: 0.0508 (0.0510)  loss_classifier: 0.0109 (0.0127)  loss_box_reg: 0.0179 (0.0185)  loss_objectness: 0.0098 (0.0119)  loss_rpn_box_reg: 0.0075 (0.0080)  time: 0.4085  data: 0.0224  max mem: 2326\n",
      "Epoch: [4]  [ 100/1538]  eta: 0:09:52  lr: 0.000500  loss: 0.0432 (0.0502)  loss_classifier: 0.0107 (0.0128)  loss_box_reg: 0.0165 (0.0187)  loss_objectness: 0.0077 (0.0109)  loss_rpn_box_reg: 0.0069 (0.0078)  time: 0.4088  data: 0.0222  max mem: 2326\n",
      "Epoch: [4]  [ 150/1538]  eta: 0:09:35  lr: 0.000500  loss: 0.0424 (0.0495)  loss_classifier: 0.0106 (0.0127)  loss_box_reg: 0.0183 (0.0188)  loss_objectness: 0.0085 (0.0103)  loss_rpn_box_reg: 0.0069 (0.0077)  time: 0.4161  data: 0.0202  max mem: 2326\n",
      "Epoch: [4]  [ 200/1538]  eta: 0:09:15  lr: 0.000500  loss: 0.0513 (0.0497)  loss_classifier: 0.0129 (0.0128)  loss_box_reg: 0.0196 (0.0189)  loss_objectness: 0.0093 (0.0101)  loss_rpn_box_reg: 0.0072 (0.0079)  time: 0.4098  data: 0.0220  max mem: 2326\n",
      "Epoch: [4]  [ 250/1538]  eta: 0:08:55  lr: 0.000500  loss: 0.0478 (0.0500)  loss_classifier: 0.0125 (0.0127)  loss_box_reg: 0.0191 (0.0189)  loss_objectness: 0.0100 (0.0106)  loss_rpn_box_reg: 0.0071 (0.0078)  time: 0.4233  data: 0.0223  max mem: 2326\n",
      "Epoch: [4]  [ 300/1538]  eta: 0:08:34  lr: 0.000500  loss: 0.0516 (0.0502)  loss_classifier: 0.0133 (0.0128)  loss_box_reg: 0.0211 (0.0191)  loss_objectness: 0.0078 (0.0106)  loss_rpn_box_reg: 0.0083 (0.0077)  time: 0.4111  data: 0.0224  max mem: 2326\n",
      "Epoch: [4]  [ 350/1538]  eta: 0:08:13  lr: 0.000500  loss: 0.0459 (0.0504)  loss_classifier: 0.0121 (0.0128)  loss_box_reg: 0.0194 (0.0192)  loss_objectness: 0.0073 (0.0105)  loss_rpn_box_reg: 0.0069 (0.0079)  time: 0.4144  data: 0.0228  max mem: 2326\n",
      "Epoch: [4]  [ 400/1538]  eta: 0:07:53  lr: 0.000500  loss: 0.0484 (0.0501)  loss_classifier: 0.0120 (0.0128)  loss_box_reg: 0.0197 (0.0193)  loss_objectness: 0.0068 (0.0102)  loss_rpn_box_reg: 0.0054 (0.0078)  time: 0.4215  data: 0.0226  max mem: 2326\n",
      "Epoch: [4]  [ 450/1538]  eta: 0:07:34  lr: 0.000500  loss: 0.0555 (0.0502)  loss_classifier: 0.0134 (0.0128)  loss_box_reg: 0.0183 (0.0192)  loss_objectness: 0.0099 (0.0105)  loss_rpn_box_reg: 0.0079 (0.0078)  time: 0.4199  data: 0.0225  max mem: 2326\n",
      "Epoch: [4]  [ 500/1538]  eta: 0:07:16  lr: 0.000500  loss: 0.0453 (0.0502)  loss_classifier: 0.0116 (0.0128)  loss_box_reg: 0.0188 (0.0193)  loss_objectness: 0.0077 (0.0103)  loss_rpn_box_reg: 0.0066 (0.0078)  time: 0.4533  data: 0.0237  max mem: 2326\n",
      "Epoch: [4]  [ 550/1538]  eta: 0:06:56  lr: 0.000500  loss: 0.0454 (0.0502)  loss_classifier: 0.0127 (0.0128)  loss_box_reg: 0.0192 (0.0193)  loss_objectness: 0.0085 (0.0103)  loss_rpn_box_reg: 0.0058 (0.0077)  time: 0.4266  data: 0.0239  max mem: 2326\n",
      "Epoch: [4]  [ 600/1538]  eta: 0:06:35  lr: 0.000500  loss: 0.0423 (0.0500)  loss_classifier: 0.0105 (0.0128)  loss_box_reg: 0.0173 (0.0193)  loss_objectness: 0.0072 (0.0102)  loss_rpn_box_reg: 0.0056 (0.0077)  time: 0.4407  data: 0.0240  max mem: 2326\n",
      "Epoch: [4]  [ 650/1538]  eta: 0:06:15  lr: 0.000500  loss: 0.0468 (0.0501)  loss_classifier: 0.0122 (0.0128)  loss_box_reg: 0.0194 (0.0194)  loss_objectness: 0.0076 (0.0102)  loss_rpn_box_reg: 0.0080 (0.0077)  time: 0.4262  data: 0.0237  max mem: 2326\n",
      "Epoch: [4]  [ 700/1538]  eta: 0:05:54  lr: 0.000500  loss: 0.0454 (0.0499)  loss_classifier: 0.0126 (0.0128)  loss_box_reg: 0.0171 (0.0193)  loss_objectness: 0.0077 (0.0101)  loss_rpn_box_reg: 0.0054 (0.0077)  time: 0.4272  data: 0.0234  max mem: 2326\n",
      "Epoch: [4]  [ 750/1538]  eta: 0:05:33  lr: 0.000500  loss: 0.0474 (0.0498)  loss_classifier: 0.0118 (0.0128)  loss_box_reg: 0.0175 (0.0193)  loss_objectness: 0.0066 (0.0100)  loss_rpn_box_reg: 0.0072 (0.0077)  time: 0.4217  data: 0.0233  max mem: 2326\n",
      "Epoch: [4]  [ 800/1538]  eta: 0:05:11  lr: 0.000500  loss: 0.0519 (0.0501)  loss_classifier: 0.0128 (0.0128)  loss_box_reg: 0.0183 (0.0193)  loss_objectness: 0.0095 (0.0102)  loss_rpn_box_reg: 0.0069 (0.0077)  time: 0.4137  data: 0.0230  max mem: 2326\n",
      "Epoch: [4]  [ 850/1538]  eta: 0:04:50  lr: 0.000500  loss: 0.0526 (0.0503)  loss_classifier: 0.0135 (0.0129)  loss_box_reg: 0.0189 (0.0193)  loss_objectness: 0.0097 (0.0104)  loss_rpn_box_reg: 0.0083 (0.0077)  time: 0.4261  data: 0.0231  max mem: 2326\n",
      "Epoch: [4]  [ 900/1538]  eta: 0:04:29  lr: 0.000500  loss: 0.0494 (0.0502)  loss_classifier: 0.0127 (0.0128)  loss_box_reg: 0.0202 (0.0193)  loss_objectness: 0.0075 (0.0104)  loss_rpn_box_reg: 0.0083 (0.0077)  time: 0.4344  data: 0.0236  max mem: 2326\n",
      "Epoch: [4]  [ 950/1538]  eta: 0:04:08  lr: 0.000500  loss: 0.0470 (0.0503)  loss_classifier: 0.0119 (0.0128)  loss_box_reg: 0.0183 (0.0192)  loss_objectness: 0.0095 (0.0105)  loss_rpn_box_reg: 0.0065 (0.0077)  time: 0.4184  data: 0.0230  max mem: 2326\n",
      "Epoch: [4]  [1000/1538]  eta: 0:03:47  lr: 0.000500  loss: 0.0503 (0.0502)  loss_classifier: 0.0132 (0.0128)  loss_box_reg: 0.0183 (0.0192)  loss_objectness: 0.0093 (0.0105)  loss_rpn_box_reg: 0.0080 (0.0077)  time: 0.4098  data: 0.0224  max mem: 2326\n",
      "Epoch: [4]  [1050/1538]  eta: 0:03:25  lr: 0.000500  loss: 0.0456 (0.0501)  loss_classifier: 0.0124 (0.0128)  loss_box_reg: 0.0179 (0.0192)  loss_objectness: 0.0108 (0.0105)  loss_rpn_box_reg: 0.0058 (0.0077)  time: 0.4104  data: 0.0226  max mem: 2326\n",
      "Epoch: [4]  [1100/1538]  eta: 0:03:04  lr: 0.000500  loss: 0.0501 (0.0501)  loss_classifier: 0.0124 (0.0128)  loss_box_reg: 0.0183 (0.0192)  loss_objectness: 0.0076 (0.0104)  loss_rpn_box_reg: 0.0075 (0.0077)  time: 0.4101  data: 0.0225  max mem: 2326\n",
      "Epoch: [4]  [1150/1538]  eta: 0:02:43  lr: 0.000500  loss: 0.0439 (0.0501)  loss_classifier: 0.0113 (0.0128)  loss_box_reg: 0.0181 (0.0192)  loss_objectness: 0.0068 (0.0104)  loss_rpn_box_reg: 0.0066 (0.0077)  time: 0.4341  data: 0.0229  max mem: 2326\n",
      "Epoch: [4]  [1200/1538]  eta: 0:02:22  lr: 0.000500  loss: 0.0477 (0.0500)  loss_classifier: 0.0127 (0.0128)  loss_box_reg: 0.0179 (0.0192)  loss_objectness: 0.0079 (0.0104)  loss_rpn_box_reg: 0.0065 (0.0076)  time: 0.4237  data: 0.0229  max mem: 2326\n",
      "Epoch: [4]  [1250/1538]  eta: 0:02:01  lr: 0.000500  loss: 0.0452 (0.0500)  loss_classifier: 0.0116 (0.0128)  loss_box_reg: 0.0165 (0.0191)  loss_objectness: 0.0097 (0.0104)  loss_rpn_box_reg: 0.0064 (0.0076)  time: 0.4430  data: 0.0235  max mem: 2326\n",
      "Epoch: [4]  [1300/1538]  eta: 0:01:40  lr: 0.000500  loss: 0.0499 (0.0499)  loss_classifier: 0.0114 (0.0128)  loss_box_reg: 0.0173 (0.0192)  loss_objectness: 0.0081 (0.0103)  loss_rpn_box_reg: 0.0084 (0.0076)  time: 0.4312  data: 0.0236  max mem: 2326\n",
      "Epoch: [4]  [1350/1538]  eta: 0:01:19  lr: 0.000500  loss: 0.0427 (0.0498)  loss_classifier: 0.0102 (0.0128)  loss_box_reg: 0.0180 (0.0191)  loss_objectness: 0.0073 (0.0103)  loss_rpn_box_reg: 0.0064 (0.0076)  time: 0.4344  data: 0.0225  max mem: 2326\n",
      "Epoch: [4]  [1400/1538]  eta: 0:00:58  lr: 0.000500  loss: 0.0471 (0.0498)  loss_classifier: 0.0121 (0.0128)  loss_box_reg: 0.0195 (0.0192)  loss_objectness: 0.0070 (0.0103)  loss_rpn_box_reg: 0.0076 (0.0076)  time: 0.4244  data: 0.0227  max mem: 2326\n",
      "Epoch: [4]  [1450/1538]  eta: 0:00:37  lr: 0.000500  loss: 0.0477 (0.0499)  loss_classifier: 0.0118 (0.0128)  loss_box_reg: 0.0182 (0.0192)  loss_objectness: 0.0081 (0.0103)  loss_rpn_box_reg: 0.0064 (0.0076)  time: 0.4227  data: 0.0227  max mem: 2326\n"
     ]
    },
    {
     "ename": "KeyboardInterrupt",
     "evalue": "",
     "output_type": "error",
     "traceback": [
      "\u001b[0;31m---------------------------------------------------------------------------\u001b[0m",
      "\u001b[0;31mKeyboardInterrupt\u001b[0m                         Traceback (most recent call last)",
      "Cell \u001b[0;32mIn[36], line 6\u001b[0m\n\u001b[1;32m      3\u001b[0m \u001b[38;5;28;01mfor\u001b[39;00m epoch \u001b[38;5;129;01min\u001b[39;00m trange(num_epochs):\n\u001b[1;32m      4\u001b[0m     \u001b[38;5;66;03m# training for one epoch\u001b[39;00m\n\u001b[1;32m      5\u001b[0m     \u001b[38;5;28mprint\u001b[39m(\u001b[38;5;124mf\u001b[39m\u001b[38;5;124m\"\u001b[39m\u001b[38;5;124mstarting epoch \u001b[39m\u001b[38;5;132;01m{\u001b[39;00mepoch\u001b[38;5;132;01m}\u001b[39;00m\u001b[38;5;124m\"\u001b[39m)\n\u001b[0;32m----> 6\u001b[0m     \u001b[43mtrain_one_epoch\u001b[49m\u001b[43m(\u001b[49m\u001b[43mmodel\u001b[49m\u001b[43m,\u001b[49m\u001b[43m \u001b[49m\u001b[43moptimizer\u001b[49m\u001b[43m,\u001b[49m\u001b[43m \u001b[49m\u001b[43mdata_loader\u001b[49m\u001b[43m,\u001b[49m\u001b[43m \u001b[49m\u001b[43mdevice\u001b[49m\u001b[43m,\u001b[49m\u001b[43m \u001b[49m\u001b[43mepoch\u001b[49m\u001b[43m,\u001b[49m\u001b[43m \u001b[49m\u001b[43mprint_freq\u001b[49m\u001b[38;5;241;43m=\u001b[39;49m\u001b[38;5;241;43m50\u001b[39;49m\u001b[43m)\u001b[49m\n\u001b[1;32m      7\u001b[0m     \u001b[38;5;66;03m# update the learning rate\u001b[39;00m\n\u001b[1;32m      8\u001b[0m     lr_scheduler\u001b[38;5;241m.\u001b[39mstep()\n",
      "File \u001b[0;32m/mnt/ceph/home/wj1132075/Desktop/CNN_Model_Data/engine.py:31\u001b[0m, in \u001b[0;36mtrain_one_epoch\u001b[0;34m(model, optimizer, data_loader, device, epoch, print_freq, scaler)\u001b[0m\n\u001b[1;32m     29\u001b[0m targets \u001b[38;5;241m=\u001b[39m [{k: v\u001b[38;5;241m.\u001b[39mto(device) \u001b[38;5;28;01mif\u001b[39;00m \u001b[38;5;28misinstance\u001b[39m(v, torch\u001b[38;5;241m.\u001b[39mTensor) \u001b[38;5;28;01melse\u001b[39;00m v \u001b[38;5;28;01mfor\u001b[39;00m k, v \u001b[38;5;129;01min\u001b[39;00m t\u001b[38;5;241m.\u001b[39mitems()} \u001b[38;5;28;01mfor\u001b[39;00m t \u001b[38;5;129;01min\u001b[39;00m targets]\n\u001b[1;32m     30\u001b[0m \u001b[38;5;28;01mwith\u001b[39;00m torch\u001b[38;5;241m.\u001b[39mcuda\u001b[38;5;241m.\u001b[39mamp\u001b[38;5;241m.\u001b[39mautocast(enabled\u001b[38;5;241m=\u001b[39mscaler \u001b[38;5;129;01mis\u001b[39;00m \u001b[38;5;129;01mnot\u001b[39;00m \u001b[38;5;28;01mNone\u001b[39;00m):\n\u001b[0;32m---> 31\u001b[0m     loss_dict \u001b[38;5;241m=\u001b[39m \u001b[43mmodel\u001b[49m\u001b[43m(\u001b[49m\u001b[43mimages\u001b[49m\u001b[43m,\u001b[49m\u001b[43m \u001b[49m\u001b[43mtargets\u001b[49m\u001b[43m)\u001b[49m\n\u001b[1;32m     32\u001b[0m     losses \u001b[38;5;241m=\u001b[39m \u001b[38;5;28msum\u001b[39m(loss \u001b[38;5;28;01mfor\u001b[39;00m loss \u001b[38;5;129;01min\u001b[39;00m loss_dict\u001b[38;5;241m.\u001b[39mvalues())\n\u001b[1;32m     34\u001b[0m \u001b[38;5;66;03m# reduce losses over all GPUs for logging purposes\u001b[39;00m\n",
      "File \u001b[0;32m~/.conda/envs/cuda_1/lib/python3.10/site-packages/torch/nn/modules/module.py:1511\u001b[0m, in \u001b[0;36mModule._wrapped_call_impl\u001b[0;34m(self, *args, **kwargs)\u001b[0m\n\u001b[1;32m   1509\u001b[0m     \u001b[38;5;28;01mreturn\u001b[39;00m \u001b[38;5;28mself\u001b[39m\u001b[38;5;241m.\u001b[39m_compiled_call_impl(\u001b[38;5;241m*\u001b[39margs, \u001b[38;5;241m*\u001b[39m\u001b[38;5;241m*\u001b[39mkwargs)  \u001b[38;5;66;03m# type: ignore[misc]\u001b[39;00m\n\u001b[1;32m   1510\u001b[0m \u001b[38;5;28;01melse\u001b[39;00m:\n\u001b[0;32m-> 1511\u001b[0m     \u001b[38;5;28;01mreturn\u001b[39;00m \u001b[38;5;28;43mself\u001b[39;49m\u001b[38;5;241;43m.\u001b[39;49m\u001b[43m_call_impl\u001b[49m\u001b[43m(\u001b[49m\u001b[38;5;241;43m*\u001b[39;49m\u001b[43margs\u001b[49m\u001b[43m,\u001b[49m\u001b[43m \u001b[49m\u001b[38;5;241;43m*\u001b[39;49m\u001b[38;5;241;43m*\u001b[39;49m\u001b[43mkwargs\u001b[49m\u001b[43m)\u001b[49m\n",
      "File \u001b[0;32m~/.conda/envs/cuda_1/lib/python3.10/site-packages/torch/nn/modules/module.py:1520\u001b[0m, in \u001b[0;36mModule._call_impl\u001b[0;34m(self, *args, **kwargs)\u001b[0m\n\u001b[1;32m   1515\u001b[0m \u001b[38;5;66;03m# If we don't have any hooks, we want to skip the rest of the logic in\u001b[39;00m\n\u001b[1;32m   1516\u001b[0m \u001b[38;5;66;03m# this function, and just call forward.\u001b[39;00m\n\u001b[1;32m   1517\u001b[0m \u001b[38;5;28;01mif\u001b[39;00m \u001b[38;5;129;01mnot\u001b[39;00m (\u001b[38;5;28mself\u001b[39m\u001b[38;5;241m.\u001b[39m_backward_hooks \u001b[38;5;129;01mor\u001b[39;00m \u001b[38;5;28mself\u001b[39m\u001b[38;5;241m.\u001b[39m_backward_pre_hooks \u001b[38;5;129;01mor\u001b[39;00m \u001b[38;5;28mself\u001b[39m\u001b[38;5;241m.\u001b[39m_forward_hooks \u001b[38;5;129;01mor\u001b[39;00m \u001b[38;5;28mself\u001b[39m\u001b[38;5;241m.\u001b[39m_forward_pre_hooks\n\u001b[1;32m   1518\u001b[0m         \u001b[38;5;129;01mor\u001b[39;00m _global_backward_pre_hooks \u001b[38;5;129;01mor\u001b[39;00m _global_backward_hooks\n\u001b[1;32m   1519\u001b[0m         \u001b[38;5;129;01mor\u001b[39;00m _global_forward_hooks \u001b[38;5;129;01mor\u001b[39;00m _global_forward_pre_hooks):\n\u001b[0;32m-> 1520\u001b[0m     \u001b[38;5;28;01mreturn\u001b[39;00m \u001b[43mforward_call\u001b[49m\u001b[43m(\u001b[49m\u001b[38;5;241;43m*\u001b[39;49m\u001b[43margs\u001b[49m\u001b[43m,\u001b[49m\u001b[43m \u001b[49m\u001b[38;5;241;43m*\u001b[39;49m\u001b[38;5;241;43m*\u001b[39;49m\u001b[43mkwargs\u001b[49m\u001b[43m)\u001b[49m\n\u001b[1;32m   1522\u001b[0m \u001b[38;5;28;01mtry\u001b[39;00m:\n\u001b[1;32m   1523\u001b[0m     result \u001b[38;5;241m=\u001b[39m \u001b[38;5;28;01mNone\u001b[39;00m\n",
      "File \u001b[0;32m~/.conda/envs/cuda_1/lib/python3.10/site-packages/torchvision/models/detection/generalized_rcnn.py:104\u001b[0m, in \u001b[0;36mGeneralizedRCNN.forward\u001b[0;34m(self, images, targets)\u001b[0m\n\u001b[1;32m    102\u001b[0m \u001b[38;5;28;01mif\u001b[39;00m \u001b[38;5;28misinstance\u001b[39m(features, torch\u001b[38;5;241m.\u001b[39mTensor):\n\u001b[1;32m    103\u001b[0m     features \u001b[38;5;241m=\u001b[39m OrderedDict([(\u001b[38;5;124m\"\u001b[39m\u001b[38;5;124m0\u001b[39m\u001b[38;5;124m\"\u001b[39m, features)])\n\u001b[0;32m--> 104\u001b[0m proposals, proposal_losses \u001b[38;5;241m=\u001b[39m \u001b[38;5;28;43mself\u001b[39;49m\u001b[38;5;241;43m.\u001b[39;49m\u001b[43mrpn\u001b[49m\u001b[43m(\u001b[49m\u001b[43mimages\u001b[49m\u001b[43m,\u001b[49m\u001b[43m \u001b[49m\u001b[43mfeatures\u001b[49m\u001b[43m,\u001b[49m\u001b[43m \u001b[49m\u001b[43mtargets\u001b[49m\u001b[43m)\u001b[49m\n\u001b[1;32m    105\u001b[0m detections, detector_losses \u001b[38;5;241m=\u001b[39m \u001b[38;5;28mself\u001b[39m\u001b[38;5;241m.\u001b[39mroi_heads(features, proposals, images\u001b[38;5;241m.\u001b[39mimage_sizes, targets)\n\u001b[1;32m    106\u001b[0m detections \u001b[38;5;241m=\u001b[39m \u001b[38;5;28mself\u001b[39m\u001b[38;5;241m.\u001b[39mtransform\u001b[38;5;241m.\u001b[39mpostprocess(detections, images\u001b[38;5;241m.\u001b[39mimage_sizes, original_image_sizes)  \u001b[38;5;66;03m# type: ignore[operator]\u001b[39;00m\n",
      "File \u001b[0;32m~/.conda/envs/cuda_1/lib/python3.10/site-packages/torch/nn/modules/module.py:1511\u001b[0m, in \u001b[0;36mModule._wrapped_call_impl\u001b[0;34m(self, *args, **kwargs)\u001b[0m\n\u001b[1;32m   1509\u001b[0m     \u001b[38;5;28;01mreturn\u001b[39;00m \u001b[38;5;28mself\u001b[39m\u001b[38;5;241m.\u001b[39m_compiled_call_impl(\u001b[38;5;241m*\u001b[39margs, \u001b[38;5;241m*\u001b[39m\u001b[38;5;241m*\u001b[39mkwargs)  \u001b[38;5;66;03m# type: ignore[misc]\u001b[39;00m\n\u001b[1;32m   1510\u001b[0m \u001b[38;5;28;01melse\u001b[39;00m:\n\u001b[0;32m-> 1511\u001b[0m     \u001b[38;5;28;01mreturn\u001b[39;00m \u001b[38;5;28;43mself\u001b[39;49m\u001b[38;5;241;43m.\u001b[39;49m\u001b[43m_call_impl\u001b[49m\u001b[43m(\u001b[49m\u001b[38;5;241;43m*\u001b[39;49m\u001b[43margs\u001b[49m\u001b[43m,\u001b[49m\u001b[43m \u001b[49m\u001b[38;5;241;43m*\u001b[39;49m\u001b[38;5;241;43m*\u001b[39;49m\u001b[43mkwargs\u001b[49m\u001b[43m)\u001b[49m\n",
      "File \u001b[0;32m~/.conda/envs/cuda_1/lib/python3.10/site-packages/torch/nn/modules/module.py:1520\u001b[0m, in \u001b[0;36mModule._call_impl\u001b[0;34m(self, *args, **kwargs)\u001b[0m\n\u001b[1;32m   1515\u001b[0m \u001b[38;5;66;03m# If we don't have any hooks, we want to skip the rest of the logic in\u001b[39;00m\n\u001b[1;32m   1516\u001b[0m \u001b[38;5;66;03m# this function, and just call forward.\u001b[39;00m\n\u001b[1;32m   1517\u001b[0m \u001b[38;5;28;01mif\u001b[39;00m \u001b[38;5;129;01mnot\u001b[39;00m (\u001b[38;5;28mself\u001b[39m\u001b[38;5;241m.\u001b[39m_backward_hooks \u001b[38;5;129;01mor\u001b[39;00m \u001b[38;5;28mself\u001b[39m\u001b[38;5;241m.\u001b[39m_backward_pre_hooks \u001b[38;5;129;01mor\u001b[39;00m \u001b[38;5;28mself\u001b[39m\u001b[38;5;241m.\u001b[39m_forward_hooks \u001b[38;5;129;01mor\u001b[39;00m \u001b[38;5;28mself\u001b[39m\u001b[38;5;241m.\u001b[39m_forward_pre_hooks\n\u001b[1;32m   1518\u001b[0m         \u001b[38;5;129;01mor\u001b[39;00m _global_backward_pre_hooks \u001b[38;5;129;01mor\u001b[39;00m _global_backward_hooks\n\u001b[1;32m   1519\u001b[0m         \u001b[38;5;129;01mor\u001b[39;00m _global_forward_hooks \u001b[38;5;129;01mor\u001b[39;00m _global_forward_pre_hooks):\n\u001b[0;32m-> 1520\u001b[0m     \u001b[38;5;28;01mreturn\u001b[39;00m \u001b[43mforward_call\u001b[49m\u001b[43m(\u001b[49m\u001b[38;5;241;43m*\u001b[39;49m\u001b[43margs\u001b[49m\u001b[43m,\u001b[49m\u001b[43m \u001b[49m\u001b[38;5;241;43m*\u001b[39;49m\u001b[38;5;241;43m*\u001b[39;49m\u001b[43mkwargs\u001b[49m\u001b[43m)\u001b[49m\n\u001b[1;32m   1522\u001b[0m \u001b[38;5;28;01mtry\u001b[39;00m:\n\u001b[1;32m   1523\u001b[0m     result \u001b[38;5;241m=\u001b[39m \u001b[38;5;28;01mNone\u001b[39;00m\n",
      "File \u001b[0;32m~/.conda/envs/cuda_1/lib/python3.10/site-packages/torchvision/models/detection/rpn.py:361\u001b[0m, in \u001b[0;36mRegionProposalNetwork.forward\u001b[0;34m(self, images, features, targets)\u001b[0m\n\u001b[1;32m    359\u001b[0m features \u001b[38;5;241m=\u001b[39m \u001b[38;5;28mlist\u001b[39m(features\u001b[38;5;241m.\u001b[39mvalues())\n\u001b[1;32m    360\u001b[0m objectness, pred_bbox_deltas \u001b[38;5;241m=\u001b[39m \u001b[38;5;28mself\u001b[39m\u001b[38;5;241m.\u001b[39mhead(features)\n\u001b[0;32m--> 361\u001b[0m anchors \u001b[38;5;241m=\u001b[39m \u001b[38;5;28;43mself\u001b[39;49m\u001b[38;5;241;43m.\u001b[39;49m\u001b[43manchor_generator\u001b[49m\u001b[43m(\u001b[49m\u001b[43mimages\u001b[49m\u001b[43m,\u001b[49m\u001b[43m \u001b[49m\u001b[43mfeatures\u001b[49m\u001b[43m)\u001b[49m\n\u001b[1;32m    363\u001b[0m num_images \u001b[38;5;241m=\u001b[39m \u001b[38;5;28mlen\u001b[39m(anchors)\n\u001b[1;32m    364\u001b[0m num_anchors_per_level_shape_tensors \u001b[38;5;241m=\u001b[39m [o[\u001b[38;5;241m0\u001b[39m]\u001b[38;5;241m.\u001b[39mshape \u001b[38;5;28;01mfor\u001b[39;00m o \u001b[38;5;129;01min\u001b[39;00m objectness]\n",
      "File \u001b[0;32m~/.conda/envs/cuda_1/lib/python3.10/site-packages/torch/nn/modules/module.py:1511\u001b[0m, in \u001b[0;36mModule._wrapped_call_impl\u001b[0;34m(self, *args, **kwargs)\u001b[0m\n\u001b[1;32m   1509\u001b[0m     \u001b[38;5;28;01mreturn\u001b[39;00m \u001b[38;5;28mself\u001b[39m\u001b[38;5;241m.\u001b[39m_compiled_call_impl(\u001b[38;5;241m*\u001b[39margs, \u001b[38;5;241m*\u001b[39m\u001b[38;5;241m*\u001b[39mkwargs)  \u001b[38;5;66;03m# type: ignore[misc]\u001b[39;00m\n\u001b[1;32m   1510\u001b[0m \u001b[38;5;28;01melse\u001b[39;00m:\n\u001b[0;32m-> 1511\u001b[0m     \u001b[38;5;28;01mreturn\u001b[39;00m \u001b[38;5;28;43mself\u001b[39;49m\u001b[38;5;241;43m.\u001b[39;49m\u001b[43m_call_impl\u001b[49m\u001b[43m(\u001b[49m\u001b[38;5;241;43m*\u001b[39;49m\u001b[43margs\u001b[49m\u001b[43m,\u001b[49m\u001b[43m \u001b[49m\u001b[38;5;241;43m*\u001b[39;49m\u001b[38;5;241;43m*\u001b[39;49m\u001b[43mkwargs\u001b[49m\u001b[43m)\u001b[49m\n",
      "File \u001b[0;32m~/.conda/envs/cuda_1/lib/python3.10/site-packages/torch/nn/modules/module.py:1520\u001b[0m, in \u001b[0;36mModule._call_impl\u001b[0;34m(self, *args, **kwargs)\u001b[0m\n\u001b[1;32m   1515\u001b[0m \u001b[38;5;66;03m# If we don't have any hooks, we want to skip the rest of the logic in\u001b[39;00m\n\u001b[1;32m   1516\u001b[0m \u001b[38;5;66;03m# this function, and just call forward.\u001b[39;00m\n\u001b[1;32m   1517\u001b[0m \u001b[38;5;28;01mif\u001b[39;00m \u001b[38;5;129;01mnot\u001b[39;00m (\u001b[38;5;28mself\u001b[39m\u001b[38;5;241m.\u001b[39m_backward_hooks \u001b[38;5;129;01mor\u001b[39;00m \u001b[38;5;28mself\u001b[39m\u001b[38;5;241m.\u001b[39m_backward_pre_hooks \u001b[38;5;129;01mor\u001b[39;00m \u001b[38;5;28mself\u001b[39m\u001b[38;5;241m.\u001b[39m_forward_hooks \u001b[38;5;129;01mor\u001b[39;00m \u001b[38;5;28mself\u001b[39m\u001b[38;5;241m.\u001b[39m_forward_pre_hooks\n\u001b[1;32m   1518\u001b[0m         \u001b[38;5;129;01mor\u001b[39;00m _global_backward_pre_hooks \u001b[38;5;129;01mor\u001b[39;00m _global_backward_hooks\n\u001b[1;32m   1519\u001b[0m         \u001b[38;5;129;01mor\u001b[39;00m _global_forward_hooks \u001b[38;5;129;01mor\u001b[39;00m _global_forward_pre_hooks):\n\u001b[0;32m-> 1520\u001b[0m     \u001b[38;5;28;01mreturn\u001b[39;00m \u001b[43mforward_call\u001b[49m\u001b[43m(\u001b[49m\u001b[38;5;241;43m*\u001b[39;49m\u001b[43margs\u001b[49m\u001b[43m,\u001b[49m\u001b[43m \u001b[49m\u001b[38;5;241;43m*\u001b[39;49m\u001b[38;5;241;43m*\u001b[39;49m\u001b[43mkwargs\u001b[49m\u001b[43m)\u001b[49m\n\u001b[1;32m   1522\u001b[0m \u001b[38;5;28;01mtry\u001b[39;00m:\n\u001b[1;32m   1523\u001b[0m     result \u001b[38;5;241m=\u001b[39m \u001b[38;5;28;01mNone\u001b[39;00m\n",
      "File \u001b[0;32m~/.conda/envs/cuda_1/lib/python3.10/site-packages/torchvision/models/detection/anchor_utils.py:127\u001b[0m, in \u001b[0;36mAnchorGenerator.forward\u001b[0;34m(self, image_list, feature_maps)\u001b[0m\n\u001b[1;32m    119\u001b[0m strides \u001b[38;5;241m=\u001b[39m [\n\u001b[1;32m    120\u001b[0m     [\n\u001b[1;32m    121\u001b[0m         torch\u001b[38;5;241m.\u001b[39mempty((), dtype\u001b[38;5;241m=\u001b[39mtorch\u001b[38;5;241m.\u001b[39mint64, device\u001b[38;5;241m=\u001b[39mdevice)\u001b[38;5;241m.\u001b[39mfill_(image_size[\u001b[38;5;241m0\u001b[39m] \u001b[38;5;241m/\u001b[39m\u001b[38;5;241m/\u001b[39m g[\u001b[38;5;241m0\u001b[39m]),\n\u001b[0;32m   (...)\u001b[0m\n\u001b[1;32m    124\u001b[0m     \u001b[38;5;28;01mfor\u001b[39;00m g \u001b[38;5;129;01min\u001b[39;00m grid_sizes\n\u001b[1;32m    125\u001b[0m ]\n\u001b[1;32m    126\u001b[0m \u001b[38;5;28mself\u001b[39m\u001b[38;5;241m.\u001b[39mset_cell_anchors(dtype, device)\n\u001b[0;32m--> 127\u001b[0m anchors_over_all_feature_maps \u001b[38;5;241m=\u001b[39m \u001b[38;5;28;43mself\u001b[39;49m\u001b[38;5;241;43m.\u001b[39;49m\u001b[43mgrid_anchors\u001b[49m\u001b[43m(\u001b[49m\u001b[43mgrid_sizes\u001b[49m\u001b[43m,\u001b[49m\u001b[43m \u001b[49m\u001b[43mstrides\u001b[49m\u001b[43m)\u001b[49m\n\u001b[1;32m    128\u001b[0m anchors: List[List[torch\u001b[38;5;241m.\u001b[39mTensor]] \u001b[38;5;241m=\u001b[39m []\n\u001b[1;32m    129\u001b[0m \u001b[38;5;28;01mfor\u001b[39;00m _ \u001b[38;5;129;01min\u001b[39;00m \u001b[38;5;28mrange\u001b[39m(\u001b[38;5;28mlen\u001b[39m(image_list\u001b[38;5;241m.\u001b[39mimage_sizes)):\n",
      "File \u001b[0;32m~/.conda/envs/cuda_1/lib/python3.10/site-packages/torchvision/models/detection/anchor_utils.py:106\u001b[0m, in \u001b[0;36mAnchorGenerator.grid_anchors\u001b[0;34m(self, grid_sizes, strides)\u001b[0m\n\u001b[1;32m    104\u001b[0m shift_y, shift_x \u001b[38;5;241m=\u001b[39m torch\u001b[38;5;241m.\u001b[39mmeshgrid(shifts_y, shifts_x, indexing\u001b[38;5;241m=\u001b[39m\u001b[38;5;124m\"\u001b[39m\u001b[38;5;124mij\u001b[39m\u001b[38;5;124m\"\u001b[39m)\n\u001b[1;32m    105\u001b[0m shift_x \u001b[38;5;241m=\u001b[39m shift_x\u001b[38;5;241m.\u001b[39mreshape(\u001b[38;5;241m-\u001b[39m\u001b[38;5;241m1\u001b[39m)\n\u001b[0;32m--> 106\u001b[0m shift_y \u001b[38;5;241m=\u001b[39m \u001b[43mshift_y\u001b[49m\u001b[38;5;241;43m.\u001b[39;49m\u001b[43mreshape\u001b[49m\u001b[43m(\u001b[49m\u001b[38;5;241;43m-\u001b[39;49m\u001b[38;5;241;43m1\u001b[39;49m\u001b[43m)\u001b[49m\n\u001b[1;32m    107\u001b[0m shifts \u001b[38;5;241m=\u001b[39m torch\u001b[38;5;241m.\u001b[39mstack((shift_x, shift_y, shift_x, shift_y), dim\u001b[38;5;241m=\u001b[39m\u001b[38;5;241m1\u001b[39m)\n\u001b[1;32m    109\u001b[0m \u001b[38;5;66;03m# For every (base anchor, output anchor) pair,\u001b[39;00m\n\u001b[1;32m    110\u001b[0m \u001b[38;5;66;03m# offset each zero-centered base anchor by the center of the output anchor.\u001b[39;00m\n",
      "\u001b[0;31mKeyboardInterrupt\u001b[0m: "
     ]
    }
   ],
   "source": [
    "num_epochs = 20\n",
    "\n",
    "for epoch in trange(num_epochs):\n",
    "    # training for one epoch\n",
    "    print(f\"starting epoch {epoch}\")\n",
    "    train_one_epoch(model, optimizer, data_loader, device, epoch, print_freq=50)\n",
    "    # update the learning rate\n",
    "    lr_scheduler.step()\n",
    "    # evaluate on the test dataset\n",
    "    evaluate(model, data_loader_test, device=device)"
   ]
  },
  {
   "cell_type": "markdown",
   "id": "f4f61c30-a2f6-46b3-9ebd-e1ddc6d4054d",
   "metadata": {},
   "source": [
    "#### Save the trained model"
   ]
  },
  {
   "cell_type": "code",
   "execution_count": null,
   "id": "55436fd2-bcf4-451d-a1ba-82e0cd65ee5b",
   "metadata": {},
   "outputs": [],
   "source": [
    "model_save_path = '/mnt/ceph/home/wj1132075/Desktop/CNN_Model_Data/fasterrcnn_resnet50_fpn_20_epochs.pt'"
   ]
  },
  {
   "cell_type": "code",
   "execution_count": null,
   "id": "b0e76d5e-0a9a-4137-951f-e7bd493866f5",
   "metadata": {},
   "outputs": [],
   "source": [
    "model_save_path = '/mnt/ceph/home/wj1132075/Desktop/CNN_Model_Data/fasterrcnn_resnet50_fpn_20_epochs.pt'\n",
    "tc.save(model.state_dict(), model_save_path)"
   ]
  },
  {
   "cell_type": "code",
   "execution_count": null,
   "id": "a149ae2c-dd27-494a-8371-682cfd774e23",
   "metadata": {},
   "outputs": [],
   "source": [
    "# pick one image from the test set\n",
    "img, target = dataset_test[5]\n",
    "# put the model in evaluation mode\n",
    "model.eval()\n",
    "with tc.no_grad():\n",
    "    prediction = model([img.to(device)])[0]\n",
    "    \n",
    "print('predicted #boxes: ', len(prediction['labels']))\n",
    "print('real #boxes: ', len(target['labels']))"
   ]
  },
  {
   "cell_type": "code",
   "execution_count": null,
   "id": "2108cabc-3774-4fd1-be37-5c9a2281bf77",
   "metadata": {},
   "outputs": [],
   "source": [
    "prediction"
   ]
  },
  {
   "cell_type": "code",
   "execution_count": null,
   "id": "9f5f0515-c301-4b23-9a89-2194606e3e58",
   "metadata": {},
   "outputs": [],
   "source": [
    "target"
   ]
  },
  {
   "cell_type": "code",
   "execution_count": null,
   "id": "eba50a49-7b7b-4dbb-b810-c64d62f10d42",
   "metadata": {},
   "outputs": [],
   "source": [
    "nms_prediction = apply_nms(prediction, iou_thresh=0.2)\n",
    "nms_prediction"
   ]
  },
  {
   "cell_type": "code",
   "execution_count": null,
   "id": "6edfbc53-54bc-49f6-91d2-59992da8cf2b",
   "metadata": {},
   "outputs": [],
   "source": [
    "img.shape"
   ]
  },
  {
   "cell_type": "code",
   "execution_count": null,
   "id": "e4af5bf9-b57d-4e25-b72d-7b1708e30d49",
   "metadata": {},
   "outputs": [],
   "source": [
    "plot_bin(img[0,:,:], target['boxes'], 0)"
   ]
  },
  {
   "cell_type": "code",
   "execution_count": null,
   "id": "71026d88-3a7b-4b4e-a824-c2b2dc21e153",
   "metadata": {},
   "outputs": [],
   "source": [
    "plot_bin(img[0,:,:], nms_prediction['boxes'].cpu(), 0)"
   ]
  },
  {
   "cell_type": "markdown",
   "id": "65c9ac42-4cc9-460f-a102-31785fb8af4a",
   "metadata": {},
   "source": [
    "### Load the model from disk"
   ]
  },
  {
   "cell_type": "code",
   "execution_count": null,
   "id": "64fd5ac7-4dfa-4197-8cfa-13211f367396",
   "metadata": {},
   "outputs": [],
   "source": [
    "r_model = get_object_detection_model(num_classes)\n",
    "# r_model.load_state_dict(tc.load(model_save_path))\n",
    "r_model.load_state_dict(tc.load(model_save_path, map_location=tc.device('cpu')))\n",
    "r_model = r_model.to(device)"
   ]
  },
  {
   "cell_type": "code",
   "execution_count": null,
   "id": "fe2eda71-c235-4d18-b9a3-263f6a0f6811",
   "metadata": {
    "scrolled": true
   },
   "outputs": [],
   "source": [
    "img, target = dataset_test[100]\n",
    "r_model.eval()\n",
    "with tc.no_grad():\n",
    "    prediction = r_model([img.to(device)])[0]\n",
    "prediction"
   ]
  },
  {
   "cell_type": "code",
   "execution_count": null,
   "id": "40ae0dc9-51b9-4cbb-8eff-6a551cefa762",
   "metadata": {},
   "outputs": [],
   "source": [
    "nms_prediction = apply_nms(prediction, iou_thresh=0.2)\n",
    "nms_prediction"
   ]
  },
  {
   "cell_type": "code",
   "execution_count": null,
   "id": "5e784f96-91ee-4c7b-8815-25aa7fe1017f",
   "metadata": {},
   "outputs": [],
   "source": [
    "plot_bin(img[0,:,:], nms_prediction['boxes'].cpu(), 0)"
   ]
  },
  {
   "cell_type": "code",
   "execution_count": null,
   "id": "df8fe284-9e96-42f2-8492-5e49f509fba5",
   "metadata": {
    "scrolled": true
   },
   "outputs": [],
   "source": [
    "r_model.eval()\n",
    "probe = 0\n",
    "for img, target in data_loader_test:\n",
    "    imgs = list(img)\n",
    "    targets = list(target)\n",
    "    with tc.no_grad():\n",
    "        for img, target in zip(imgs, targets):\n",
    "            prediction = r_model([img.to(device)])[0]\n",
    "            print(prediction)\n",
    "            nms_prediction = apply_nms(prediction, iou_thresh=0.001)\n",
    "            print(nms_prediction)\n",
    "            plot_bin_detections(img[0,:,:], target['boxes'], nms_prediction['boxes'].cpu())\n",
    "            probe += 1\n",
    "\n",
    "    if probe == 20:\n",
    "        break"
   ]
  }
 ],
 "metadata": {
  "kernelspec": {
   "display_name": "Python 3 (ipykernel)",
   "language": "python",
   "name": "python3"
  },
  "language_info": {
   "codemirror_mode": {
    "name": "ipython",
    "version": 3
   },
   "file_extension": ".py",
   "mimetype": "text/x-python",
   "name": "python",
   "nbconvert_exporter": "python",
   "pygments_lexer": "ipython3",
   "version": "3.10.13"
  }
 },
 "nbformat": 4,
 "nbformat_minor": 5
}
